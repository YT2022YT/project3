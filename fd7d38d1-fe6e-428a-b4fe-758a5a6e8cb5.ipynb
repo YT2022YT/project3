{
 "cells": [
  {
   "cell_type": "markdown",
   "metadata": {},
   "source": [
    "# 1. Introdaction: Project description & work plan\n",
    "\n",
    "I work as an analyst for the telecom operator Megaline. The company offers its clients two prepaid plans, Surf and Ultimate. The commercial department wants to know which of the plans brings in more revenue in order to adjust the advertising budget.\n",
    "I am going to carry out a preliminary analysis of the plans based on a relatively small client selection. I will have the data on 500 Megaline clients: who the clients are, where they're from, which plan they use, and the number of calls they made and text messages they sent in 2018. my job is to analyze clients' behavior and determine which prepaid plan brings in more revenue."
   ]
  },
  {
   "cell_type": "markdown",
   "metadata": {},
   "source": [
    "# 1.1 Description of the plans\n",
    "\n",
    "\n",
    "1. **Surf:**\n",
    "    1. Monthly charge 20 dollars.\n",
    "    2. 500 monthly minutes, 50 texts, and 15 GB of data.\n",
    "    3. After exceeding the package limits:\n",
    "        1. 1 minute: 3 cents\n",
    "        2. 1 text message: 3 cents\n",
    "        3. 1 GB of data: $10\n",
    "        \n",
    "2. **Ultimate:**\n",
    "    1. Monthly charge: 70 dollars. \n",
    "    2. 3000 monthly minutes, 1000 text messages, and 30 GB of data\n",
    "    3. After exceeding the package limits:\n",
    "    4. 1 minute: 1 cent\n",
    "    5. 1 text message: 1 cent\n",
    "    6. 1 GB of data: $7"
   ]
  },
  {
   "cell_type": "markdown",
   "metadata": {},
   "source": [
    "# 1.2 Work plan to completing the project\n",
    "1. **Step 1: Open the data file and study the general information\n",
    "File path:**\n",
    "\n",
    "    1. /datasets/megaline_calls.csv Download dataset\n",
    "    2. /datasets/megaline_internet.csv Download dataset\n",
    "    3. /datasets/megaline_messages.csv Download dataset\n",
    "    4. /datasets/megaline_plans.csv Download dataset\n",
    "    5. /datasets/megaline_users.csv Download dataset\n",
    "2. **Step 2. Prepare the data:**\n",
    "    1. Convert the data to the necessary types\n",
    "    2. Find and eliminate errors in the data\n",
    "    3. Explain what errors I found and how I removed them. \n",
    "    4. For each user, find:\n",
    "        1. The number of calls made and minutes used per month\n",
    "        2. The number of text messages sent per month\n",
    "        3. The volume of data per month\n",
    "        4. The monthly revenue from each user\n",
    "3. **Step 3. Analyze the data:**\n",
    "    1. Describe the customers' behavior. Find the minutes, texts, and volume of data the users of each plan require per month.\n",
    "    2. Calculate the mean, dispersion, and standard deviation. Plot histograms. Describe the distributions.\n",
    "4. **Step 4. Test the hypotheses:**\n",
    "    1. The average revenue from users of Ultimate and Surf calling plans differs.\n",
    "    2. The average revenue from users in NY-NJ area is different from that of the users from other regions.\n",
    "    3. You decide what alpha value to use.\n",
    "        1. Explain:\n",
    "        2. How you formulated the null and alternative hypotheses.\n",
    "        3. What criterion you used to test the hypotheses and why.\n",
    "5. **Step 5. Write an overall conclusion**"
   ]
  },
  {
   "cell_type": "markdown",
   "metadata": {},
   "source": [
    "# 1.3 Description of the data\n",
    "\n",
    "1. **The users table (data on users):**\n",
    "    1. user_id — unique user identifier\n",
    "    2. first_name — user's name\n",
    "    3. last_name — user's last name\n",
    "    4. age — user's age (years)\n",
    "    5. reg_date — subscription date (dd, mm, yy)\n",
    "    6. churn_date — the date the user stopped using the service (if the value is missing, the calling plan was being used when this data was retrieved)\n",
    "    7. city — user's city of residence\n",
    "    8. plan — calling plan name\n",
    "2. **The calls table (data on calls):**\n",
    "    1. id — unique call identifier\n",
    "    2. call_date — call date\n",
    "    3. duration — call duration (in minutes)\n",
    "    4. user_id — the identifier of the user making the call\n",
    "3. **The messages table (data on texts):**\n",
    "    1. id — unique text message identifier\n",
    "    2. message_date — text message date\n",
    "    3. user_id — the identifier of the user sending the text\n",
    "3. **The internet table (data on web sessions):**\n",
    "    1. id — unique session identifier\n",
    "    2. mb_used — the volume of data spent during the session (in megabytes)\n",
    "    3. session_date — web session date\n",
    "    4. user_id — user identifier\n",
    "4. **The plans table (data on the plans):**\n",
    "    1. plan_name — calling plan name\n",
    "    2. usd_monthly_fee — monthly charge in US dollars\n",
    "    3. minutes_included — monthly minute allowance\n",
    "    4. messages_included — monthly text allowance\n",
    "    5. mb_per_month_included — data volume allowance (in megabytes)\n",
    "    6. usd_per_minute — price per minute after exceeding the package limits (e.g., if the package includes 100 minutes, the 101st minute will be charged)\n",
    "    7. usd_per_message — price per text after exceeding the package limits\n",
    "    8. usd_per_gb — price per extra gigabyte of data after exceeding the package limits (1 GB = 1024 megabytes)"
   ]
  },
  {
   "cell_type": "markdown",
   "metadata": {},
   "source": [
    "# 2. STEP 1 - Open the data files and study the general information"
   ]
  },
  {
   "cell_type": "code",
   "execution_count": 1,
   "metadata": {},
   "outputs": [],
   "source": [
    "import pandas as pd\n",
    "import math\n",
    "from datetime import datetime\n",
    "import numpy as np\n",
    "from scipy import stats as st\n",
    "import matplotlib.pyplot as plt\n",
    "%matplotlib inline\n",
    "import seaborn as sns"
   ]
  },
  {
   "cell_type": "code",
   "execution_count": 2,
   "metadata": {},
   "outputs": [],
   "source": [
    "calls    = pd.read_csv('https://code.s3.yandex.net/datasets/megaline_calls.csv')\n",
    "internet = pd.read_csv('https://code.s3.yandex.net/datasets/megaline_internet.csv')\n",
    "message  = pd.read_csv('https://code.s3.yandex.net/datasets/megaline_messages.csv')\n",
    "plans    = pd.read_csv('https://code.s3.yandex.net/datasets/megaline_plans.csv')\n",
    "users    = pd.read_csv('https://code.s3.yandex.net/datasets/megaline_users.csv')"
   ]
  },
  {
   "cell_type": "code",
   "execution_count": 3,
   "metadata": {
    "scrolled": false
   },
   "outputs": [
    {
     "name": "stdout",
     "output_type": "stream",
     "text": [
      "Information about the **calls** table\n",
      "\n",
      "<class 'pandas.core.frame.DataFrame'>\n",
      "RangeIndex: 137735 entries, 0 to 137734\n",
      "Data columns (total 4 columns):\n",
      "id           137735 non-null object\n",
      "user_id      137735 non-null int64\n",
      "call_date    137735 non-null object\n",
      "duration     137735 non-null float64\n",
      "dtypes: float64(1), int64(1), object(2)\n",
      "memory usage: 4.2+ MB\n"
     ]
    },
    {
     "data": {
      "text/html": [
       "<div>\n",
       "<style scoped>\n",
       "    .dataframe tbody tr th:only-of-type {\n",
       "        vertical-align: middle;\n",
       "    }\n",
       "\n",
       "    .dataframe tbody tr th {\n",
       "        vertical-align: top;\n",
       "    }\n",
       "\n",
       "    .dataframe thead th {\n",
       "        text-align: right;\n",
       "    }\n",
       "</style>\n",
       "<table border=\"1\" class=\"dataframe\">\n",
       "  <thead>\n",
       "    <tr style=\"text-align: right;\">\n",
       "      <th></th>\n",
       "      <th>id</th>\n",
       "      <th>user_id</th>\n",
       "      <th>call_date</th>\n",
       "      <th>duration</th>\n",
       "    </tr>\n",
       "  </thead>\n",
       "  <tbody>\n",
       "    <tr>\n",
       "      <td>0</td>\n",
       "      <td>1000_93</td>\n",
       "      <td>1000</td>\n",
       "      <td>2018-12-27</td>\n",
       "      <td>8.52</td>\n",
       "    </tr>\n",
       "    <tr>\n",
       "      <td>1</td>\n",
       "      <td>1000_145</td>\n",
       "      <td>1000</td>\n",
       "      <td>2018-12-27</td>\n",
       "      <td>13.66</td>\n",
       "    </tr>\n",
       "    <tr>\n",
       "      <td>2</td>\n",
       "      <td>1000_247</td>\n",
       "      <td>1000</td>\n",
       "      <td>2018-12-27</td>\n",
       "      <td>14.48</td>\n",
       "    </tr>\n",
       "    <tr>\n",
       "      <td>3</td>\n",
       "      <td>1000_309</td>\n",
       "      <td>1000</td>\n",
       "      <td>2018-12-28</td>\n",
       "      <td>5.76</td>\n",
       "    </tr>\n",
       "    <tr>\n",
       "      <td>4</td>\n",
       "      <td>1000_380</td>\n",
       "      <td>1000</td>\n",
       "      <td>2018-12-30</td>\n",
       "      <td>4.22</td>\n",
       "    </tr>\n",
       "  </tbody>\n",
       "</table>\n",
       "</div>"
      ],
      "text/plain": [
       "         id  user_id   call_date  duration\n",
       "0   1000_93     1000  2018-12-27      8.52\n",
       "1  1000_145     1000  2018-12-27     13.66\n",
       "2  1000_247     1000  2018-12-27     14.48\n",
       "3  1000_309     1000  2018-12-28      5.76\n",
       "4  1000_380     1000  2018-12-30      4.22"
      ]
     },
     "metadata": {},
     "output_type": "display_data"
    },
    {
     "data": {
      "text/html": [
       "<div>\n",
       "<style scoped>\n",
       "    .dataframe tbody tr th:only-of-type {\n",
       "        vertical-align: middle;\n",
       "    }\n",
       "\n",
       "    .dataframe tbody tr th {\n",
       "        vertical-align: top;\n",
       "    }\n",
       "\n",
       "    .dataframe thead th {\n",
       "        text-align: right;\n",
       "    }\n",
       "</style>\n",
       "<table border=\"1\" class=\"dataframe\">\n",
       "  <thead>\n",
       "    <tr style=\"text-align: right;\">\n",
       "      <th></th>\n",
       "      <th>id</th>\n",
       "      <th>user_id</th>\n",
       "      <th>call_date</th>\n",
       "      <th>duration</th>\n",
       "    </tr>\n",
       "  </thead>\n",
       "  <tbody>\n",
       "    <tr>\n",
       "      <td>137730</td>\n",
       "      <td>1499_199</td>\n",
       "      <td>1499</td>\n",
       "      <td>2018-11-21</td>\n",
       "      <td>8.72</td>\n",
       "    </tr>\n",
       "    <tr>\n",
       "      <td>137731</td>\n",
       "      <td>1499_200</td>\n",
       "      <td>1499</td>\n",
       "      <td>2018-10-20</td>\n",
       "      <td>10.89</td>\n",
       "    </tr>\n",
       "    <tr>\n",
       "      <td>137732</td>\n",
       "      <td>1499_201</td>\n",
       "      <td>1499</td>\n",
       "      <td>2018-09-21</td>\n",
       "      <td>8.12</td>\n",
       "    </tr>\n",
       "    <tr>\n",
       "      <td>137733</td>\n",
       "      <td>1499_202</td>\n",
       "      <td>1499</td>\n",
       "      <td>2018-10-10</td>\n",
       "      <td>0.37</td>\n",
       "    </tr>\n",
       "    <tr>\n",
       "      <td>137734</td>\n",
       "      <td>1499_203</td>\n",
       "      <td>1499</td>\n",
       "      <td>2018-12-29</td>\n",
       "      <td>13.86</td>\n",
       "    </tr>\n",
       "  </tbody>\n",
       "</table>\n",
       "</div>"
      ],
      "text/plain": [
       "              id  user_id   call_date  duration\n",
       "137730  1499_199     1499  2018-11-21      8.72\n",
       "137731  1499_200     1499  2018-10-20     10.89\n",
       "137732  1499_201     1499  2018-09-21      8.12\n",
       "137733  1499_202     1499  2018-10-10      0.37\n",
       "137734  1499_203     1499  2018-12-29     13.86"
      ]
     },
     "metadata": {},
     "output_type": "display_data"
    },
    {
     "data": {
      "text/html": [
       "<div>\n",
       "<style scoped>\n",
       "    .dataframe tbody tr th:only-of-type {\n",
       "        vertical-align: middle;\n",
       "    }\n",
       "\n",
       "    .dataframe tbody tr th {\n",
       "        vertical-align: top;\n",
       "    }\n",
       "\n",
       "    .dataframe thead th {\n",
       "        text-align: right;\n",
       "    }\n",
       "</style>\n",
       "<table border=\"1\" class=\"dataframe\">\n",
       "  <thead>\n",
       "    <tr style=\"text-align: right;\">\n",
       "      <th></th>\n",
       "      <th>user_id</th>\n",
       "      <th>duration</th>\n",
       "    </tr>\n",
       "  </thead>\n",
       "  <tbody>\n",
       "    <tr>\n",
       "      <td>count</td>\n",
       "      <td>137735.000000</td>\n",
       "      <td>137735.000000</td>\n",
       "    </tr>\n",
       "    <tr>\n",
       "      <td>mean</td>\n",
       "      <td>1247.658046</td>\n",
       "      <td>6.745927</td>\n",
       "    </tr>\n",
       "    <tr>\n",
       "      <td>std</td>\n",
       "      <td>139.416268</td>\n",
       "      <td>5.839241</td>\n",
       "    </tr>\n",
       "    <tr>\n",
       "      <td>min</td>\n",
       "      <td>1000.000000</td>\n",
       "      <td>0.000000</td>\n",
       "    </tr>\n",
       "    <tr>\n",
       "      <td>25%</td>\n",
       "      <td>1128.000000</td>\n",
       "      <td>1.290000</td>\n",
       "    </tr>\n",
       "    <tr>\n",
       "      <td>50%</td>\n",
       "      <td>1247.000000</td>\n",
       "      <td>5.980000</td>\n",
       "    </tr>\n",
       "    <tr>\n",
       "      <td>75%</td>\n",
       "      <td>1365.000000</td>\n",
       "      <td>10.690000</td>\n",
       "    </tr>\n",
       "    <tr>\n",
       "      <td>max</td>\n",
       "      <td>1499.000000</td>\n",
       "      <td>37.600000</td>\n",
       "    </tr>\n",
       "  </tbody>\n",
       "</table>\n",
       "</div>"
      ],
      "text/plain": [
       "             user_id       duration\n",
       "count  137735.000000  137735.000000\n",
       "mean     1247.658046       6.745927\n",
       "std       139.416268       5.839241\n",
       "min      1000.000000       0.000000\n",
       "25%      1128.000000       1.290000\n",
       "50%      1247.000000       5.980000\n",
       "75%      1365.000000      10.690000\n",
       "max      1499.000000      37.600000"
      ]
     },
     "metadata": {},
     "output_type": "display_data"
    },
    {
     "name": "stdout",
     "output_type": "stream",
     "text": [
      "\n",
      "****************************************************************************************************\n"
     ]
    }
   ],
   "source": [
    "for i in [calls]:\n",
    "    print('Information about the **calls** table')\n",
    "    print()\n",
    "    i.info()\n",
    "    display(i.head(5))\n",
    "    display(i.tail(5))\n",
    "    display(i.describe())\n",
    "    print()\n",
    "    print('*'*100)"
   ]
  },
  {
   "cell_type": "code",
   "execution_count": 4,
   "metadata": {},
   "outputs": [
    {
     "name": "stdout",
     "output_type": "stream",
     "text": [
      "Information about the **internet** table\n",
      "\n",
      "<class 'pandas.core.frame.DataFrame'>\n",
      "RangeIndex: 104825 entries, 0 to 104824\n",
      "Data columns (total 4 columns):\n",
      "id              104825 non-null object\n",
      "user_id         104825 non-null int64\n",
      "session_date    104825 non-null object\n",
      "mb_used         104825 non-null float64\n",
      "dtypes: float64(1), int64(1), object(2)\n",
      "memory usage: 3.2+ MB\n"
     ]
    },
    {
     "data": {
      "text/html": [
       "<div>\n",
       "<style scoped>\n",
       "    .dataframe tbody tr th:only-of-type {\n",
       "        vertical-align: middle;\n",
       "    }\n",
       "\n",
       "    .dataframe tbody tr th {\n",
       "        vertical-align: top;\n",
       "    }\n",
       "\n",
       "    .dataframe thead th {\n",
       "        text-align: right;\n",
       "    }\n",
       "</style>\n",
       "<table border=\"1\" class=\"dataframe\">\n",
       "  <thead>\n",
       "    <tr style=\"text-align: right;\">\n",
       "      <th></th>\n",
       "      <th>id</th>\n",
       "      <th>user_id</th>\n",
       "      <th>session_date</th>\n",
       "      <th>mb_used</th>\n",
       "    </tr>\n",
       "  </thead>\n",
       "  <tbody>\n",
       "    <tr>\n",
       "      <td>0</td>\n",
       "      <td>1000_13</td>\n",
       "      <td>1000</td>\n",
       "      <td>2018-12-29</td>\n",
       "      <td>89.86</td>\n",
       "    </tr>\n",
       "    <tr>\n",
       "      <td>1</td>\n",
       "      <td>1000_204</td>\n",
       "      <td>1000</td>\n",
       "      <td>2018-12-31</td>\n",
       "      <td>0.00</td>\n",
       "    </tr>\n",
       "    <tr>\n",
       "      <td>2</td>\n",
       "      <td>1000_379</td>\n",
       "      <td>1000</td>\n",
       "      <td>2018-12-28</td>\n",
       "      <td>660.40</td>\n",
       "    </tr>\n",
       "    <tr>\n",
       "      <td>3</td>\n",
       "      <td>1000_413</td>\n",
       "      <td>1000</td>\n",
       "      <td>2018-12-26</td>\n",
       "      <td>270.99</td>\n",
       "    </tr>\n",
       "    <tr>\n",
       "      <td>4</td>\n",
       "      <td>1000_442</td>\n",
       "      <td>1000</td>\n",
       "      <td>2018-12-27</td>\n",
       "      <td>880.22</td>\n",
       "    </tr>\n",
       "  </tbody>\n",
       "</table>\n",
       "</div>"
      ],
      "text/plain": [
       "         id  user_id session_date  mb_used\n",
       "0   1000_13     1000   2018-12-29    89.86\n",
       "1  1000_204     1000   2018-12-31     0.00\n",
       "2  1000_379     1000   2018-12-28   660.40\n",
       "3  1000_413     1000   2018-12-26   270.99\n",
       "4  1000_442     1000   2018-12-27   880.22"
      ]
     },
     "metadata": {},
     "output_type": "display_data"
    },
    {
     "data": {
      "text/html": [
       "<div>\n",
       "<style scoped>\n",
       "    .dataframe tbody tr th:only-of-type {\n",
       "        vertical-align: middle;\n",
       "    }\n",
       "\n",
       "    .dataframe tbody tr th {\n",
       "        vertical-align: top;\n",
       "    }\n",
       "\n",
       "    .dataframe thead th {\n",
       "        text-align: right;\n",
       "    }\n",
       "</style>\n",
       "<table border=\"1\" class=\"dataframe\">\n",
       "  <thead>\n",
       "    <tr style=\"text-align: right;\">\n",
       "      <th></th>\n",
       "      <th>id</th>\n",
       "      <th>user_id</th>\n",
       "      <th>session_date</th>\n",
       "      <th>mb_used</th>\n",
       "    </tr>\n",
       "  </thead>\n",
       "  <tbody>\n",
       "    <tr>\n",
       "      <td>104820</td>\n",
       "      <td>1499_215</td>\n",
       "      <td>1499</td>\n",
       "      <td>2018-10-20</td>\n",
       "      <td>218.06</td>\n",
       "    </tr>\n",
       "    <tr>\n",
       "      <td>104821</td>\n",
       "      <td>1499_216</td>\n",
       "      <td>1499</td>\n",
       "      <td>2018-12-30</td>\n",
       "      <td>304.72</td>\n",
       "    </tr>\n",
       "    <tr>\n",
       "      <td>104822</td>\n",
       "      <td>1499_217</td>\n",
       "      <td>1499</td>\n",
       "      <td>2018-09-22</td>\n",
       "      <td>292.75</td>\n",
       "    </tr>\n",
       "    <tr>\n",
       "      <td>104823</td>\n",
       "      <td>1499_218</td>\n",
       "      <td>1499</td>\n",
       "      <td>2018-12-07</td>\n",
       "      <td>0.00</td>\n",
       "    </tr>\n",
       "    <tr>\n",
       "      <td>104824</td>\n",
       "      <td>1499_219</td>\n",
       "      <td>1499</td>\n",
       "      <td>2018-12-24</td>\n",
       "      <td>758.31</td>\n",
       "    </tr>\n",
       "  </tbody>\n",
       "</table>\n",
       "</div>"
      ],
      "text/plain": [
       "              id  user_id session_date  mb_used\n",
       "104820  1499_215     1499   2018-10-20   218.06\n",
       "104821  1499_216     1499   2018-12-30   304.72\n",
       "104822  1499_217     1499   2018-09-22   292.75\n",
       "104823  1499_218     1499   2018-12-07     0.00\n",
       "104824  1499_219     1499   2018-12-24   758.31"
      ]
     },
     "metadata": {},
     "output_type": "display_data"
    },
    {
     "data": {
      "text/html": [
       "<div>\n",
       "<style scoped>\n",
       "    .dataframe tbody tr th:only-of-type {\n",
       "        vertical-align: middle;\n",
       "    }\n",
       "\n",
       "    .dataframe tbody tr th {\n",
       "        vertical-align: top;\n",
       "    }\n",
       "\n",
       "    .dataframe thead th {\n",
       "        text-align: right;\n",
       "    }\n",
       "</style>\n",
       "<table border=\"1\" class=\"dataframe\">\n",
       "  <thead>\n",
       "    <tr style=\"text-align: right;\">\n",
       "      <th></th>\n",
       "      <th>user_id</th>\n",
       "      <th>mb_used</th>\n",
       "    </tr>\n",
       "  </thead>\n",
       "  <tbody>\n",
       "    <tr>\n",
       "      <td>count</td>\n",
       "      <td>104825.000000</td>\n",
       "      <td>104825.000000</td>\n",
       "    </tr>\n",
       "    <tr>\n",
       "      <td>mean</td>\n",
       "      <td>1242.496361</td>\n",
       "      <td>366.713701</td>\n",
       "    </tr>\n",
       "    <tr>\n",
       "      <td>std</td>\n",
       "      <td>142.053913</td>\n",
       "      <td>277.170542</td>\n",
       "    </tr>\n",
       "    <tr>\n",
       "      <td>min</td>\n",
       "      <td>1000.000000</td>\n",
       "      <td>0.000000</td>\n",
       "    </tr>\n",
       "    <tr>\n",
       "      <td>25%</td>\n",
       "      <td>1122.000000</td>\n",
       "      <td>136.080000</td>\n",
       "    </tr>\n",
       "    <tr>\n",
       "      <td>50%</td>\n",
       "      <td>1236.000000</td>\n",
       "      <td>343.980000</td>\n",
       "    </tr>\n",
       "    <tr>\n",
       "      <td>75%</td>\n",
       "      <td>1367.000000</td>\n",
       "      <td>554.610000</td>\n",
       "    </tr>\n",
       "    <tr>\n",
       "      <td>max</td>\n",
       "      <td>1499.000000</td>\n",
       "      <td>1693.470000</td>\n",
       "    </tr>\n",
       "  </tbody>\n",
       "</table>\n",
       "</div>"
      ],
      "text/plain": [
       "             user_id        mb_used\n",
       "count  104825.000000  104825.000000\n",
       "mean     1242.496361     366.713701\n",
       "std       142.053913     277.170542\n",
       "min      1000.000000       0.000000\n",
       "25%      1122.000000     136.080000\n",
       "50%      1236.000000     343.980000\n",
       "75%      1367.000000     554.610000\n",
       "max      1499.000000    1693.470000"
      ]
     },
     "metadata": {},
     "output_type": "display_data"
    },
    {
     "name": "stdout",
     "output_type": "stream",
     "text": [
      "\n",
      "****************************************************************************************************\n"
     ]
    }
   ],
   "source": [
    "for i in [internet]:\n",
    "    print('Information about the **internet** table')\n",
    "    print()\n",
    "    i.info()\n",
    "    display(i.head(5))\n",
    "    display(i.tail(5))\n",
    "    display(i.describe())\n",
    "    print()\n",
    "    print('*'*100)"
   ]
  },
  {
   "cell_type": "code",
   "execution_count": 5,
   "metadata": {},
   "outputs": [
    {
     "name": "stdout",
     "output_type": "stream",
     "text": [
      "Information about the **message** table\n",
      "\n",
      "<class 'pandas.core.frame.DataFrame'>\n",
      "RangeIndex: 76051 entries, 0 to 76050\n",
      "Data columns (total 3 columns):\n",
      "id              76051 non-null object\n",
      "user_id         76051 non-null int64\n",
      "message_date    76051 non-null object\n",
      "dtypes: int64(1), object(2)\n",
      "memory usage: 1.7+ MB\n"
     ]
    },
    {
     "data": {
      "text/html": [
       "<div>\n",
       "<style scoped>\n",
       "    .dataframe tbody tr th:only-of-type {\n",
       "        vertical-align: middle;\n",
       "    }\n",
       "\n",
       "    .dataframe tbody tr th {\n",
       "        vertical-align: top;\n",
       "    }\n",
       "\n",
       "    .dataframe thead th {\n",
       "        text-align: right;\n",
       "    }\n",
       "</style>\n",
       "<table border=\"1\" class=\"dataframe\">\n",
       "  <thead>\n",
       "    <tr style=\"text-align: right;\">\n",
       "      <th></th>\n",
       "      <th>id</th>\n",
       "      <th>user_id</th>\n",
       "      <th>message_date</th>\n",
       "    </tr>\n",
       "  </thead>\n",
       "  <tbody>\n",
       "    <tr>\n",
       "      <td>0</td>\n",
       "      <td>1000_125</td>\n",
       "      <td>1000</td>\n",
       "      <td>2018-12-27</td>\n",
       "    </tr>\n",
       "    <tr>\n",
       "      <td>1</td>\n",
       "      <td>1000_160</td>\n",
       "      <td>1000</td>\n",
       "      <td>2018-12-31</td>\n",
       "    </tr>\n",
       "    <tr>\n",
       "      <td>2</td>\n",
       "      <td>1000_223</td>\n",
       "      <td>1000</td>\n",
       "      <td>2018-12-31</td>\n",
       "    </tr>\n",
       "    <tr>\n",
       "      <td>3</td>\n",
       "      <td>1000_251</td>\n",
       "      <td>1000</td>\n",
       "      <td>2018-12-27</td>\n",
       "    </tr>\n",
       "    <tr>\n",
       "      <td>4</td>\n",
       "      <td>1000_255</td>\n",
       "      <td>1000</td>\n",
       "      <td>2018-12-26</td>\n",
       "    </tr>\n",
       "  </tbody>\n",
       "</table>\n",
       "</div>"
      ],
      "text/plain": [
       "         id  user_id message_date\n",
       "0  1000_125     1000   2018-12-27\n",
       "1  1000_160     1000   2018-12-31\n",
       "2  1000_223     1000   2018-12-31\n",
       "3  1000_251     1000   2018-12-27\n",
       "4  1000_255     1000   2018-12-26"
      ]
     },
     "metadata": {},
     "output_type": "display_data"
    },
    {
     "data": {
      "text/html": [
       "<div>\n",
       "<style scoped>\n",
       "    .dataframe tbody tr th:only-of-type {\n",
       "        vertical-align: middle;\n",
       "    }\n",
       "\n",
       "    .dataframe tbody tr th {\n",
       "        vertical-align: top;\n",
       "    }\n",
       "\n",
       "    .dataframe thead th {\n",
       "        text-align: right;\n",
       "    }\n",
       "</style>\n",
       "<table border=\"1\" class=\"dataframe\">\n",
       "  <thead>\n",
       "    <tr style=\"text-align: right;\">\n",
       "      <th></th>\n",
       "      <th>id</th>\n",
       "      <th>user_id</th>\n",
       "      <th>message_date</th>\n",
       "    </tr>\n",
       "  </thead>\n",
       "  <tbody>\n",
       "    <tr>\n",
       "      <td>76046</td>\n",
       "      <td>1497_526</td>\n",
       "      <td>1497</td>\n",
       "      <td>2018-12-24</td>\n",
       "    </tr>\n",
       "    <tr>\n",
       "      <td>76047</td>\n",
       "      <td>1497_536</td>\n",
       "      <td>1497</td>\n",
       "      <td>2018-12-24</td>\n",
       "    </tr>\n",
       "    <tr>\n",
       "      <td>76048</td>\n",
       "      <td>1497_547</td>\n",
       "      <td>1497</td>\n",
       "      <td>2018-12-31</td>\n",
       "    </tr>\n",
       "    <tr>\n",
       "      <td>76049</td>\n",
       "      <td>1497_558</td>\n",
       "      <td>1497</td>\n",
       "      <td>2018-12-24</td>\n",
       "    </tr>\n",
       "    <tr>\n",
       "      <td>76050</td>\n",
       "      <td>1497_613</td>\n",
       "      <td>1497</td>\n",
       "      <td>2018-12-23</td>\n",
       "    </tr>\n",
       "  </tbody>\n",
       "</table>\n",
       "</div>"
      ],
      "text/plain": [
       "             id  user_id message_date\n",
       "76046  1497_526     1497   2018-12-24\n",
       "76047  1497_536     1497   2018-12-24\n",
       "76048  1497_547     1497   2018-12-31\n",
       "76049  1497_558     1497   2018-12-24\n",
       "76050  1497_613     1497   2018-12-23"
      ]
     },
     "metadata": {},
     "output_type": "display_data"
    },
    {
     "data": {
      "text/html": [
       "<div>\n",
       "<style scoped>\n",
       "    .dataframe tbody tr th:only-of-type {\n",
       "        vertical-align: middle;\n",
       "    }\n",
       "\n",
       "    .dataframe tbody tr th {\n",
       "        vertical-align: top;\n",
       "    }\n",
       "\n",
       "    .dataframe thead th {\n",
       "        text-align: right;\n",
       "    }\n",
       "</style>\n",
       "<table border=\"1\" class=\"dataframe\">\n",
       "  <thead>\n",
       "    <tr style=\"text-align: right;\">\n",
       "      <th></th>\n",
       "      <th>user_id</th>\n",
       "    </tr>\n",
       "  </thead>\n",
       "  <tbody>\n",
       "    <tr>\n",
       "      <td>count</td>\n",
       "      <td>76051.000000</td>\n",
       "    </tr>\n",
       "    <tr>\n",
       "      <td>mean</td>\n",
       "      <td>1245.972768</td>\n",
       "    </tr>\n",
       "    <tr>\n",
       "      <td>std</td>\n",
       "      <td>139.843635</td>\n",
       "    </tr>\n",
       "    <tr>\n",
       "      <td>min</td>\n",
       "      <td>1000.000000</td>\n",
       "    </tr>\n",
       "    <tr>\n",
       "      <td>25%</td>\n",
       "      <td>1123.000000</td>\n",
       "    </tr>\n",
       "    <tr>\n",
       "      <td>50%</td>\n",
       "      <td>1251.000000</td>\n",
       "    </tr>\n",
       "    <tr>\n",
       "      <td>75%</td>\n",
       "      <td>1362.000000</td>\n",
       "    </tr>\n",
       "    <tr>\n",
       "      <td>max</td>\n",
       "      <td>1497.000000</td>\n",
       "    </tr>\n",
       "  </tbody>\n",
       "</table>\n",
       "</div>"
      ],
      "text/plain": [
       "            user_id\n",
       "count  76051.000000\n",
       "mean    1245.972768\n",
       "std      139.843635\n",
       "min     1000.000000\n",
       "25%     1123.000000\n",
       "50%     1251.000000\n",
       "75%     1362.000000\n",
       "max     1497.000000"
      ]
     },
     "metadata": {},
     "output_type": "display_data"
    },
    {
     "name": "stdout",
     "output_type": "stream",
     "text": [
      "\n",
      "****************************************************************************************************\n"
     ]
    }
   ],
   "source": [
    "for i in [message]:\n",
    "    print('Information about the **message** table')\n",
    "    print()\n",
    "    i.info()\n",
    "    display(i.head(5))\n",
    "    display(i.tail(5))\n",
    "    display(i.describe())\n",
    "    print()\n",
    "    print('*'*100)"
   ]
  },
  {
   "cell_type": "code",
   "execution_count": 6,
   "metadata": {
    "scrolled": false
   },
   "outputs": [
    {
     "name": "stdout",
     "output_type": "stream",
     "text": [
      "Information about the **plans** table\n",
      "\n",
      "<class 'pandas.core.frame.DataFrame'>\n",
      "RangeIndex: 2 entries, 0 to 1\n",
      "Data columns (total 8 columns):\n",
      "messages_included        2 non-null int64\n",
      "mb_per_month_included    2 non-null int64\n",
      "minutes_included         2 non-null int64\n",
      "usd_monthly_pay          2 non-null int64\n",
      "usd_per_gb               2 non-null int64\n",
      "usd_per_message          2 non-null float64\n",
      "usd_per_minute           2 non-null float64\n",
      "plan_name                2 non-null object\n",
      "dtypes: float64(2), int64(5), object(1)\n",
      "memory usage: 256.0+ bytes\n"
     ]
    },
    {
     "data": {
      "text/html": [
       "<div>\n",
       "<style scoped>\n",
       "    .dataframe tbody tr th:only-of-type {\n",
       "        vertical-align: middle;\n",
       "    }\n",
       "\n",
       "    .dataframe tbody tr th {\n",
       "        vertical-align: top;\n",
       "    }\n",
       "\n",
       "    .dataframe thead th {\n",
       "        text-align: right;\n",
       "    }\n",
       "</style>\n",
       "<table border=\"1\" class=\"dataframe\">\n",
       "  <thead>\n",
       "    <tr style=\"text-align: right;\">\n",
       "      <th></th>\n",
       "      <th>messages_included</th>\n",
       "      <th>mb_per_month_included</th>\n",
       "      <th>minutes_included</th>\n",
       "      <th>usd_monthly_pay</th>\n",
       "      <th>usd_per_gb</th>\n",
       "      <th>usd_per_message</th>\n",
       "      <th>usd_per_minute</th>\n",
       "      <th>plan_name</th>\n",
       "    </tr>\n",
       "  </thead>\n",
       "  <tbody>\n",
       "    <tr>\n",
       "      <td>0</td>\n",
       "      <td>50</td>\n",
       "      <td>15360</td>\n",
       "      <td>500</td>\n",
       "      <td>20</td>\n",
       "      <td>10</td>\n",
       "      <td>0.03</td>\n",
       "      <td>0.03</td>\n",
       "      <td>surf</td>\n",
       "    </tr>\n",
       "    <tr>\n",
       "      <td>1</td>\n",
       "      <td>1000</td>\n",
       "      <td>30720</td>\n",
       "      <td>3000</td>\n",
       "      <td>70</td>\n",
       "      <td>7</td>\n",
       "      <td>0.01</td>\n",
       "      <td>0.01</td>\n",
       "      <td>ultimate</td>\n",
       "    </tr>\n",
       "  </tbody>\n",
       "</table>\n",
       "</div>"
      ],
      "text/plain": [
       "   messages_included  mb_per_month_included  minutes_included  \\\n",
       "0                 50                  15360               500   \n",
       "1               1000                  30720              3000   \n",
       "\n",
       "   usd_monthly_pay  usd_per_gb  usd_per_message  usd_per_minute plan_name  \n",
       "0               20          10             0.03            0.03      surf  \n",
       "1               70           7             0.01            0.01  ultimate  "
      ]
     },
     "metadata": {},
     "output_type": "display_data"
    },
    {
     "data": {
      "text/html": [
       "<div>\n",
       "<style scoped>\n",
       "    .dataframe tbody tr th:only-of-type {\n",
       "        vertical-align: middle;\n",
       "    }\n",
       "\n",
       "    .dataframe tbody tr th {\n",
       "        vertical-align: top;\n",
       "    }\n",
       "\n",
       "    .dataframe thead th {\n",
       "        text-align: right;\n",
       "    }\n",
       "</style>\n",
       "<table border=\"1\" class=\"dataframe\">\n",
       "  <thead>\n",
       "    <tr style=\"text-align: right;\">\n",
       "      <th></th>\n",
       "      <th>messages_included</th>\n",
       "      <th>mb_per_month_included</th>\n",
       "      <th>minutes_included</th>\n",
       "      <th>usd_monthly_pay</th>\n",
       "      <th>usd_per_gb</th>\n",
       "      <th>usd_per_message</th>\n",
       "      <th>usd_per_minute</th>\n",
       "      <th>plan_name</th>\n",
       "    </tr>\n",
       "  </thead>\n",
       "  <tbody>\n",
       "    <tr>\n",
       "      <td>0</td>\n",
       "      <td>50</td>\n",
       "      <td>15360</td>\n",
       "      <td>500</td>\n",
       "      <td>20</td>\n",
       "      <td>10</td>\n",
       "      <td>0.03</td>\n",
       "      <td>0.03</td>\n",
       "      <td>surf</td>\n",
       "    </tr>\n",
       "    <tr>\n",
       "      <td>1</td>\n",
       "      <td>1000</td>\n",
       "      <td>30720</td>\n",
       "      <td>3000</td>\n",
       "      <td>70</td>\n",
       "      <td>7</td>\n",
       "      <td>0.01</td>\n",
       "      <td>0.01</td>\n",
       "      <td>ultimate</td>\n",
       "    </tr>\n",
       "  </tbody>\n",
       "</table>\n",
       "</div>"
      ],
      "text/plain": [
       "   messages_included  mb_per_month_included  minutes_included  \\\n",
       "0                 50                  15360               500   \n",
       "1               1000                  30720              3000   \n",
       "\n",
       "   usd_monthly_pay  usd_per_gb  usd_per_message  usd_per_minute plan_name  \n",
       "0               20          10             0.03            0.03      surf  \n",
       "1               70           7             0.01            0.01  ultimate  "
      ]
     },
     "metadata": {},
     "output_type": "display_data"
    },
    {
     "data": {
      "text/html": [
       "<div>\n",
       "<style scoped>\n",
       "    .dataframe tbody tr th:only-of-type {\n",
       "        vertical-align: middle;\n",
       "    }\n",
       "\n",
       "    .dataframe tbody tr th {\n",
       "        vertical-align: top;\n",
       "    }\n",
       "\n",
       "    .dataframe thead th {\n",
       "        text-align: right;\n",
       "    }\n",
       "</style>\n",
       "<table border=\"1\" class=\"dataframe\">\n",
       "  <thead>\n",
       "    <tr style=\"text-align: right;\">\n",
       "      <th></th>\n",
       "      <th>messages_included</th>\n",
       "      <th>mb_per_month_included</th>\n",
       "      <th>minutes_included</th>\n",
       "      <th>usd_monthly_pay</th>\n",
       "      <th>usd_per_gb</th>\n",
       "      <th>usd_per_message</th>\n",
       "      <th>usd_per_minute</th>\n",
       "    </tr>\n",
       "  </thead>\n",
       "  <tbody>\n",
       "    <tr>\n",
       "      <td>count</td>\n",
       "      <td>2.000000</td>\n",
       "      <td>2.000000</td>\n",
       "      <td>2.000000</td>\n",
       "      <td>2.000000</td>\n",
       "      <td>2.00000</td>\n",
       "      <td>2.000000</td>\n",
       "      <td>2.000000</td>\n",
       "    </tr>\n",
       "    <tr>\n",
       "      <td>mean</td>\n",
       "      <td>525.000000</td>\n",
       "      <td>23040.000000</td>\n",
       "      <td>1750.000000</td>\n",
       "      <td>45.000000</td>\n",
       "      <td>8.50000</td>\n",
       "      <td>0.020000</td>\n",
       "      <td>0.020000</td>\n",
       "    </tr>\n",
       "    <tr>\n",
       "      <td>std</td>\n",
       "      <td>671.751442</td>\n",
       "      <td>10861.160159</td>\n",
       "      <td>1767.766953</td>\n",
       "      <td>35.355339</td>\n",
       "      <td>2.12132</td>\n",
       "      <td>0.014142</td>\n",
       "      <td>0.014142</td>\n",
       "    </tr>\n",
       "    <tr>\n",
       "      <td>min</td>\n",
       "      <td>50.000000</td>\n",
       "      <td>15360.000000</td>\n",
       "      <td>500.000000</td>\n",
       "      <td>20.000000</td>\n",
       "      <td>7.00000</td>\n",
       "      <td>0.010000</td>\n",
       "      <td>0.010000</td>\n",
       "    </tr>\n",
       "    <tr>\n",
       "      <td>25%</td>\n",
       "      <td>287.500000</td>\n",
       "      <td>19200.000000</td>\n",
       "      <td>1125.000000</td>\n",
       "      <td>32.500000</td>\n",
       "      <td>7.75000</td>\n",
       "      <td>0.015000</td>\n",
       "      <td>0.015000</td>\n",
       "    </tr>\n",
       "    <tr>\n",
       "      <td>50%</td>\n",
       "      <td>525.000000</td>\n",
       "      <td>23040.000000</td>\n",
       "      <td>1750.000000</td>\n",
       "      <td>45.000000</td>\n",
       "      <td>8.50000</td>\n",
       "      <td>0.020000</td>\n",
       "      <td>0.020000</td>\n",
       "    </tr>\n",
       "    <tr>\n",
       "      <td>75%</td>\n",
       "      <td>762.500000</td>\n",
       "      <td>26880.000000</td>\n",
       "      <td>2375.000000</td>\n",
       "      <td>57.500000</td>\n",
       "      <td>9.25000</td>\n",
       "      <td>0.025000</td>\n",
       "      <td>0.025000</td>\n",
       "    </tr>\n",
       "    <tr>\n",
       "      <td>max</td>\n",
       "      <td>1000.000000</td>\n",
       "      <td>30720.000000</td>\n",
       "      <td>3000.000000</td>\n",
       "      <td>70.000000</td>\n",
       "      <td>10.00000</td>\n",
       "      <td>0.030000</td>\n",
       "      <td>0.030000</td>\n",
       "    </tr>\n",
       "  </tbody>\n",
       "</table>\n",
       "</div>"
      ],
      "text/plain": [
       "       messages_included  mb_per_month_included  minutes_included  \\\n",
       "count           2.000000               2.000000          2.000000   \n",
       "mean          525.000000           23040.000000       1750.000000   \n",
       "std           671.751442           10861.160159       1767.766953   \n",
       "min            50.000000           15360.000000        500.000000   \n",
       "25%           287.500000           19200.000000       1125.000000   \n",
       "50%           525.000000           23040.000000       1750.000000   \n",
       "75%           762.500000           26880.000000       2375.000000   \n",
       "max          1000.000000           30720.000000       3000.000000   \n",
       "\n",
       "       usd_monthly_pay  usd_per_gb  usd_per_message  usd_per_minute  \n",
       "count         2.000000     2.00000         2.000000        2.000000  \n",
       "mean         45.000000     8.50000         0.020000        0.020000  \n",
       "std          35.355339     2.12132         0.014142        0.014142  \n",
       "min          20.000000     7.00000         0.010000        0.010000  \n",
       "25%          32.500000     7.75000         0.015000        0.015000  \n",
       "50%          45.000000     8.50000         0.020000        0.020000  \n",
       "75%          57.500000     9.25000         0.025000        0.025000  \n",
       "max          70.000000    10.00000         0.030000        0.030000  "
      ]
     },
     "metadata": {},
     "output_type": "display_data"
    },
    {
     "name": "stdout",
     "output_type": "stream",
     "text": [
      "\n",
      "****************************************************************************************************\n"
     ]
    }
   ],
   "source": [
    "for i in [plans]:\n",
    "    print('Information about the **plans** table')\n",
    "    print()\n",
    "    i.info()\n",
    "    display(i.head(5))\n",
    "    display(i.tail(5))\n",
    "    display(i.describe())\n",
    "    print()\n",
    "    print('*'*100)"
   ]
  },
  {
   "cell_type": "code",
   "execution_count": 7,
   "metadata": {},
   "outputs": [
    {
     "name": "stdout",
     "output_type": "stream",
     "text": [
      "Information about the **users** table\n",
      "\n",
      "<class 'pandas.core.frame.DataFrame'>\n",
      "RangeIndex: 500 entries, 0 to 499\n",
      "Data columns (total 8 columns):\n",
      "user_id       500 non-null int64\n",
      "first_name    500 non-null object\n",
      "last_name     500 non-null object\n",
      "age           500 non-null int64\n",
      "city          500 non-null object\n",
      "reg_date      500 non-null object\n",
      "plan          500 non-null object\n",
      "churn_date    34 non-null object\n",
      "dtypes: int64(2), object(6)\n",
      "memory usage: 31.4+ KB\n"
     ]
    },
    {
     "data": {
      "text/html": [
       "<div>\n",
       "<style scoped>\n",
       "    .dataframe tbody tr th:only-of-type {\n",
       "        vertical-align: middle;\n",
       "    }\n",
       "\n",
       "    .dataframe tbody tr th {\n",
       "        vertical-align: top;\n",
       "    }\n",
       "\n",
       "    .dataframe thead th {\n",
       "        text-align: right;\n",
       "    }\n",
       "</style>\n",
       "<table border=\"1\" class=\"dataframe\">\n",
       "  <thead>\n",
       "    <tr style=\"text-align: right;\">\n",
       "      <th></th>\n",
       "      <th>user_id</th>\n",
       "      <th>first_name</th>\n",
       "      <th>last_name</th>\n",
       "      <th>age</th>\n",
       "      <th>city</th>\n",
       "      <th>reg_date</th>\n",
       "      <th>plan</th>\n",
       "      <th>churn_date</th>\n",
       "    </tr>\n",
       "  </thead>\n",
       "  <tbody>\n",
       "    <tr>\n",
       "      <td>0</td>\n",
       "      <td>1000</td>\n",
       "      <td>Anamaria</td>\n",
       "      <td>Bauer</td>\n",
       "      <td>45</td>\n",
       "      <td>Atlanta-Sandy Springs-Roswell, GA MSA</td>\n",
       "      <td>2018-12-24</td>\n",
       "      <td>ultimate</td>\n",
       "      <td>NaN</td>\n",
       "    </tr>\n",
       "    <tr>\n",
       "      <td>1</td>\n",
       "      <td>1001</td>\n",
       "      <td>Mickey</td>\n",
       "      <td>Wilkerson</td>\n",
       "      <td>28</td>\n",
       "      <td>Seattle-Tacoma-Bellevue, WA MSA</td>\n",
       "      <td>2018-08-13</td>\n",
       "      <td>surf</td>\n",
       "      <td>NaN</td>\n",
       "    </tr>\n",
       "    <tr>\n",
       "      <td>2</td>\n",
       "      <td>1002</td>\n",
       "      <td>Carlee</td>\n",
       "      <td>Hoffman</td>\n",
       "      <td>36</td>\n",
       "      <td>Las Vegas-Henderson-Paradise, NV MSA</td>\n",
       "      <td>2018-10-21</td>\n",
       "      <td>surf</td>\n",
       "      <td>NaN</td>\n",
       "    </tr>\n",
       "    <tr>\n",
       "      <td>3</td>\n",
       "      <td>1003</td>\n",
       "      <td>Reynaldo</td>\n",
       "      <td>Jenkins</td>\n",
       "      <td>52</td>\n",
       "      <td>Tulsa, OK MSA</td>\n",
       "      <td>2018-01-28</td>\n",
       "      <td>surf</td>\n",
       "      <td>NaN</td>\n",
       "    </tr>\n",
       "    <tr>\n",
       "      <td>4</td>\n",
       "      <td>1004</td>\n",
       "      <td>Leonila</td>\n",
       "      <td>Thompson</td>\n",
       "      <td>40</td>\n",
       "      <td>Seattle-Tacoma-Bellevue, WA MSA</td>\n",
       "      <td>2018-05-23</td>\n",
       "      <td>surf</td>\n",
       "      <td>NaN</td>\n",
       "    </tr>\n",
       "  </tbody>\n",
       "</table>\n",
       "</div>"
      ],
      "text/plain": [
       "   user_id first_name  last_name  age                                   city  \\\n",
       "0     1000   Anamaria      Bauer   45  Atlanta-Sandy Springs-Roswell, GA MSA   \n",
       "1     1001     Mickey  Wilkerson   28        Seattle-Tacoma-Bellevue, WA MSA   \n",
       "2     1002     Carlee    Hoffman   36   Las Vegas-Henderson-Paradise, NV MSA   \n",
       "3     1003   Reynaldo    Jenkins   52                          Tulsa, OK MSA   \n",
       "4     1004    Leonila   Thompson   40        Seattle-Tacoma-Bellevue, WA MSA   \n",
       "\n",
       "     reg_date      plan churn_date  \n",
       "0  2018-12-24  ultimate        NaN  \n",
       "1  2018-08-13      surf        NaN  \n",
       "2  2018-10-21      surf        NaN  \n",
       "3  2018-01-28      surf        NaN  \n",
       "4  2018-05-23      surf        NaN  "
      ]
     },
     "metadata": {},
     "output_type": "display_data"
    },
    {
     "data": {
      "text/html": [
       "<div>\n",
       "<style scoped>\n",
       "    .dataframe tbody tr th:only-of-type {\n",
       "        vertical-align: middle;\n",
       "    }\n",
       "\n",
       "    .dataframe tbody tr th {\n",
       "        vertical-align: top;\n",
       "    }\n",
       "\n",
       "    .dataframe thead th {\n",
       "        text-align: right;\n",
       "    }\n",
       "</style>\n",
       "<table border=\"1\" class=\"dataframe\">\n",
       "  <thead>\n",
       "    <tr style=\"text-align: right;\">\n",
       "      <th></th>\n",
       "      <th>user_id</th>\n",
       "      <th>first_name</th>\n",
       "      <th>last_name</th>\n",
       "      <th>age</th>\n",
       "      <th>city</th>\n",
       "      <th>reg_date</th>\n",
       "      <th>plan</th>\n",
       "      <th>churn_date</th>\n",
       "    </tr>\n",
       "  </thead>\n",
       "  <tbody>\n",
       "    <tr>\n",
       "      <td>495</td>\n",
       "      <td>1495</td>\n",
       "      <td>Fidel</td>\n",
       "      <td>Sharpe</td>\n",
       "      <td>67</td>\n",
       "      <td>New York-Newark-Jersey City, NY-NJ-PA MSA</td>\n",
       "      <td>2018-09-04</td>\n",
       "      <td>surf</td>\n",
       "      <td>NaN</td>\n",
       "    </tr>\n",
       "    <tr>\n",
       "      <td>496</td>\n",
       "      <td>1496</td>\n",
       "      <td>Ariel</td>\n",
       "      <td>Shepherd</td>\n",
       "      <td>49</td>\n",
       "      <td>New Orleans-Metairie, LA MSA</td>\n",
       "      <td>2018-02-20</td>\n",
       "      <td>surf</td>\n",
       "      <td>NaN</td>\n",
       "    </tr>\n",
       "    <tr>\n",
       "      <td>497</td>\n",
       "      <td>1497</td>\n",
       "      <td>Donte</td>\n",
       "      <td>Barrera</td>\n",
       "      <td>49</td>\n",
       "      <td>Los Angeles-Long Beach-Anaheim, CA MSA</td>\n",
       "      <td>2018-12-10</td>\n",
       "      <td>ultimate</td>\n",
       "      <td>NaN</td>\n",
       "    </tr>\n",
       "    <tr>\n",
       "      <td>498</td>\n",
       "      <td>1498</td>\n",
       "      <td>Scot</td>\n",
       "      <td>Williamson</td>\n",
       "      <td>51</td>\n",
       "      <td>New York-Newark-Jersey City, NY-NJ-PA MSA</td>\n",
       "      <td>2018-02-04</td>\n",
       "      <td>surf</td>\n",
       "      <td>NaN</td>\n",
       "    </tr>\n",
       "    <tr>\n",
       "      <td>499</td>\n",
       "      <td>1499</td>\n",
       "      <td>Shena</td>\n",
       "      <td>Dickson</td>\n",
       "      <td>37</td>\n",
       "      <td>Orlando-Kissimmee-Sanford, FL MSA</td>\n",
       "      <td>2018-05-06</td>\n",
       "      <td>surf</td>\n",
       "      <td>NaN</td>\n",
       "    </tr>\n",
       "  </tbody>\n",
       "</table>\n",
       "</div>"
      ],
      "text/plain": [
       "     user_id first_name   last_name  age  \\\n",
       "495     1495      Fidel      Sharpe   67   \n",
       "496     1496      Ariel    Shepherd   49   \n",
       "497     1497      Donte     Barrera   49   \n",
       "498     1498       Scot  Williamson   51   \n",
       "499     1499      Shena     Dickson   37   \n",
       "\n",
       "                                          city    reg_date      plan  \\\n",
       "495  New York-Newark-Jersey City, NY-NJ-PA MSA  2018-09-04      surf   \n",
       "496               New Orleans-Metairie, LA MSA  2018-02-20      surf   \n",
       "497     Los Angeles-Long Beach-Anaheim, CA MSA  2018-12-10  ultimate   \n",
       "498  New York-Newark-Jersey City, NY-NJ-PA MSA  2018-02-04      surf   \n",
       "499          Orlando-Kissimmee-Sanford, FL MSA  2018-05-06      surf   \n",
       "\n",
       "    churn_date  \n",
       "495        NaN  \n",
       "496        NaN  \n",
       "497        NaN  \n",
       "498        NaN  \n",
       "499        NaN  "
      ]
     },
     "metadata": {},
     "output_type": "display_data"
    },
    {
     "data": {
      "text/html": [
       "<div>\n",
       "<style scoped>\n",
       "    .dataframe tbody tr th:only-of-type {\n",
       "        vertical-align: middle;\n",
       "    }\n",
       "\n",
       "    .dataframe tbody tr th {\n",
       "        vertical-align: top;\n",
       "    }\n",
       "\n",
       "    .dataframe thead th {\n",
       "        text-align: right;\n",
       "    }\n",
       "</style>\n",
       "<table border=\"1\" class=\"dataframe\">\n",
       "  <thead>\n",
       "    <tr style=\"text-align: right;\">\n",
       "      <th></th>\n",
       "      <th>user_id</th>\n",
       "      <th>age</th>\n",
       "    </tr>\n",
       "  </thead>\n",
       "  <tbody>\n",
       "    <tr>\n",
       "      <td>count</td>\n",
       "      <td>500.000000</td>\n",
       "      <td>500.000000</td>\n",
       "    </tr>\n",
       "    <tr>\n",
       "      <td>mean</td>\n",
       "      <td>1249.500000</td>\n",
       "      <td>45.486000</td>\n",
       "    </tr>\n",
       "    <tr>\n",
       "      <td>std</td>\n",
       "      <td>144.481833</td>\n",
       "      <td>16.972269</td>\n",
       "    </tr>\n",
       "    <tr>\n",
       "      <td>min</td>\n",
       "      <td>1000.000000</td>\n",
       "      <td>18.000000</td>\n",
       "    </tr>\n",
       "    <tr>\n",
       "      <td>25%</td>\n",
       "      <td>1124.750000</td>\n",
       "      <td>30.000000</td>\n",
       "    </tr>\n",
       "    <tr>\n",
       "      <td>50%</td>\n",
       "      <td>1249.500000</td>\n",
       "      <td>46.000000</td>\n",
       "    </tr>\n",
       "    <tr>\n",
       "      <td>75%</td>\n",
       "      <td>1374.250000</td>\n",
       "      <td>61.000000</td>\n",
       "    </tr>\n",
       "    <tr>\n",
       "      <td>max</td>\n",
       "      <td>1499.000000</td>\n",
       "      <td>75.000000</td>\n",
       "    </tr>\n",
       "  </tbody>\n",
       "</table>\n",
       "</div>"
      ],
      "text/plain": [
       "           user_id         age\n",
       "count   500.000000  500.000000\n",
       "mean   1249.500000   45.486000\n",
       "std     144.481833   16.972269\n",
       "min    1000.000000   18.000000\n",
       "25%    1124.750000   30.000000\n",
       "50%    1249.500000   46.000000\n",
       "75%    1374.250000   61.000000\n",
       "max    1499.000000   75.000000"
      ]
     },
     "metadata": {},
     "output_type": "display_data"
    },
    {
     "name": "stdout",
     "output_type": "stream",
     "text": [
      "\n",
      "****************************************************************************************************\n"
     ]
    }
   ],
   "source": [
    "for i in [users]:\n",
    "    print('Information about the **users** table')\n",
    "    print()\n",
    "    i.info()\n",
    "    display(i.head(5))\n",
    "    display(i.tail(5))\n",
    "    display(i.describe())\n",
    "    print()\n",
    "    print('*'*100)"
   ]
  },
  {
   "cell_type": "markdown",
   "metadata": {},
   "source": [
    "<div class=\"alert alert-block alert-success\">\n",
    "<b>Reviewer's comment v1</b>\n",
    " \n",
    "Great start! Now we got a first look at the data and good that you determined next steps."
   ]
  },
  {
   "cell_type": "markdown",
   "metadata": {},
   "source": [
    "# 2.1 STEP 1 - SubConclusion about the general information\n",
    "\n",
    "1. I imported all the required libraries, and loaded all the csv files.\n",
    "2. I am working with 5 tables:\n",
    "    1. **calls** - 137735 entries, 4 columns. \n",
    "    2. **internet** - 104825 entries, 4 columns.\n",
    "    3. **message** - 76051 entries, 3 columns.\n",
    "    4. **plans** - 2 entries, 8 columns.\n",
    "    5. **users** - 500 entries, 8 columns.\n",
    "3. I can notice that only the **'churn_date'** column have missing values.\n",
    "4. I can notice that there is a few columns **all related to date** that the date is object and I need to change the Dtype to daytime so it will be easier to work on."
   ]
  },
  {
   "cell_type": "markdown",
   "metadata": {},
   "source": [
    "# 2.2 STEP 2 - Prepare the data:\n",
    "\n",
    "1. Convert the data to the necessary types\n",
    "    2. Find and eliminate errors in the data\n",
    "    3. Explain what errors I found and how I removed them. Note: many calls have a duration of 0.0 minutes. These might be missed calls. Whether or not to preprocess these values is up to you; assess how much their absence would affect the results of your analysis.\n",
    "    4. For each user, find:\n",
    "        1. The number of calls made and minutes used per month\n",
    "        2. The number of text messages sent per month\n",
    "        3. The volume of data per month\n",
    "        4. The monthly revenue from each user"
   ]
  },
  {
   "cell_type": "markdown",
   "metadata": {},
   "source": [
    "**2.2.1 Changing Dtaypes**"
   ]
  },
  {
   "cell_type": "code",
   "execution_count": 8,
   "metadata": {},
   "outputs": [],
   "source": [
    "calls['call_date'] = pd.to_datetime(calls['call_date'], format='%Y-%m-%d', errors='coerce')\n",
    "internet['session_date'] = pd.to_datetime(internet['session_date'], format='%Y-%m-%d', errors='coerce')\n",
    "message['message_date'] = pd.to_datetime(message['message_date'], format='%Y-%m-%d', errors='coerce')\n",
    "users['reg_date'] = pd.to_datetime(users['reg_date'], format='%Y-%m-%d', errors='coerce')\n",
    "users['churn_date'] = pd.to_datetime(users['churn_date'], format='%Y-%m-%d', errors='coerce')"
   ]
  },
  {
   "cell_type": "markdown",
   "metadata": {},
   "source": [
    "**2.2.2 Adding column [month] to the tables**"
   ]
  },
  {
   "cell_type": "code",
   "execution_count": 9,
   "metadata": {},
   "outputs": [],
   "source": [
    "calls['month'] = calls['call_date'].dt.month\n",
    "internet['month'] = internet['session_date'].dt.month\n",
    "message['month'] = message['message_date'].dt.month\n",
    "users['month'] = users['reg_date'].dt.month\n",
    "users['churn_month'] = users['churn_date'].dt.month"
   ]
  },
  {
   "cell_type": "code",
   "execution_count": 10,
   "metadata": {},
   "outputs": [
    {
     "name": "stdout",
     "output_type": "stream",
     "text": [
      "1\n",
      "1\n",
      "1\n",
      "1\n",
      "7.0\n"
     ]
    }
   ],
   "source": [
    "print (calls['month'].min().max())\n",
    "print (internet['month'].min().max())\n",
    "print (message['month'].min().max())\n",
    "print (users['month'].min().max())\n",
    "print (users['churn_month'].min().max())"
   ]
  },
  {
   "cell_type": "markdown",
   "metadata": {},
   "source": [
    "**2.2.3 Rounding data in nessesary [columns] to the tables**"
   ]
  },
  {
   "cell_type": "code",
   "execution_count": 11,
   "metadata": {},
   "outputs": [],
   "source": [
    "calls['duration'] = np.ceil(calls['duration'])"
   ]
  },
  {
   "cell_type": "markdown",
   "metadata": {},
   "source": [
    "**2.2.4 Cheacking for duplicates**"
   ]
  },
  {
   "cell_type": "code",
   "execution_count": 12,
   "metadata": {},
   "outputs": [
    {
     "data": {
      "text/plain": [
       "0"
      ]
     },
     "execution_count": 12,
     "metadata": {},
     "output_type": "execute_result"
    }
   ],
   "source": [
    "calls.duplicated().sum()"
   ]
  },
  {
   "cell_type": "code",
   "execution_count": 13,
   "metadata": {},
   "outputs": [
    {
     "data": {
      "text/plain": [
       "0"
      ]
     },
     "execution_count": 13,
     "metadata": {},
     "output_type": "execute_result"
    }
   ],
   "source": [
    "internet.duplicated().sum()"
   ]
  },
  {
   "cell_type": "code",
   "execution_count": 14,
   "metadata": {},
   "outputs": [
    {
     "data": {
      "text/plain": [
       "0"
      ]
     },
     "execution_count": 14,
     "metadata": {},
     "output_type": "execute_result"
    }
   ],
   "source": [
    "message.duplicated().sum()"
   ]
  },
  {
   "cell_type": "code",
   "execution_count": 15,
   "metadata": {},
   "outputs": [
    {
     "data": {
      "text/plain": [
       "0"
      ]
     },
     "execution_count": 15,
     "metadata": {},
     "output_type": "execute_result"
    }
   ],
   "source": [
    "users.duplicated().sum()"
   ]
  },
  {
   "cell_type": "markdown",
   "metadata": {},
   "source": [
    "**2.2.4 Cheacking for missing values**"
   ]
  },
  {
   "cell_type": "code",
   "execution_count": 16,
   "metadata": {},
   "outputs": [
    {
     "data": {
      "text/plain": [
       "id           0\n",
       "user_id      0\n",
       "call_date    0\n",
       "duration     0\n",
       "month        0\n",
       "dtype: int64"
      ]
     },
     "execution_count": 16,
     "metadata": {},
     "output_type": "execute_result"
    }
   ],
   "source": [
    "calls.isna().sum()"
   ]
  },
  {
   "cell_type": "code",
   "execution_count": 17,
   "metadata": {},
   "outputs": [
    {
     "data": {
      "text/plain": [
       "id              0\n",
       "user_id         0\n",
       "session_date    0\n",
       "mb_used         0\n",
       "month           0\n",
       "dtype: int64"
      ]
     },
     "execution_count": 17,
     "metadata": {},
     "output_type": "execute_result"
    }
   ],
   "source": [
    "internet.isna().sum()"
   ]
  },
  {
   "cell_type": "code",
   "execution_count": 18,
   "metadata": {},
   "outputs": [
    {
     "data": {
      "text/plain": [
       "id              0\n",
       "user_id         0\n",
       "message_date    0\n",
       "month           0\n",
       "dtype: int64"
      ]
     },
     "execution_count": 18,
     "metadata": {},
     "output_type": "execute_result"
    }
   ],
   "source": [
    "message.isna().sum()"
   ]
  },
  {
   "cell_type": "code",
   "execution_count": 19,
   "metadata": {},
   "outputs": [
    {
     "data": {
      "text/plain": [
       "user_id          0\n",
       "first_name       0\n",
       "last_name        0\n",
       "age              0\n",
       "city             0\n",
       "reg_date         0\n",
       "plan             0\n",
       "churn_date     466\n",
       "month            0\n",
       "churn_month    466\n",
       "dtype: int64"
      ]
     },
     "execution_count": 19,
     "metadata": {},
     "output_type": "execute_result"
    }
   ],
   "source": [
    "users.isna().sum()"
   ]
  },
  {
   "cell_type": "markdown",
   "metadata": {},
   "source": [
    "**When reciving the project I already been told that if there is a Nan in the churn_month column (466 Nan values), its meen that this was the last day of 2018. this is the only Nan value across the tables, and i will fill it with 31-12-2018**"
   ]
  },
  {
   "cell_type": "code",
   "execution_count": 20,
   "metadata": {},
   "outputs": [],
   "source": [
    "users['churn_date']=users['churn_date'].fillna(pd.to_datetime('2018-12-31'))"
   ]
  },
  {
   "cell_type": "code",
   "execution_count": 21,
   "metadata": {},
   "outputs": [
    {
     "data": {
      "text/plain": [
       "0"
      ]
     },
     "execution_count": 21,
     "metadata": {},
     "output_type": "execute_result"
    }
   ],
   "source": [
    "users.churn_date.isna().sum()"
   ]
  },
  {
   "cell_type": "markdown",
   "metadata": {},
   "source": [
    "**2.2.5 Cheacking & fixing errors in the data**"
   ]
  },
  {
   "cell_type": "code",
   "execution_count": null,
   "metadata": {},
   "outputs": [],
   "source": [
    "print('Calls error, duration == 0:',calls[calls['duration'] == 0].shape[0])\n",
    "print('Percentage of rows with Calls error:',\\\n",
    "      round(len(calls[calls['duration']==0])/len(calls)*100, 2),'%')"
   ]
  },
  {
   "cell_type": "code",
   "execution_count": null,
   "metadata": {},
   "outputs": [],
   "source": [
    "print('mb_used error, megabit == 0:',internet[internet['mb_used'] == 0].shape[0])\n",
    "print('Percentage of rows with mb_used error:',\\\n",
    "      round(len(internet[internet['mb_used']==0])/len(calls)*100, 2),'%')"
   ]
  },
  {
   "cell_type": "code",
   "execution_count": null,
   "metadata": {},
   "outputs": [],
   "source": [
    "calls.drop(calls[calls['duration'] == 0].index,inplace=True)"
   ]
  },
  {
   "cell_type": "code",
   "execution_count": null,
   "metadata": {},
   "outputs": [],
   "source": [
    "internet.drop(internet[internet['mb_used'] == 0].index,inplace=True)"
   ]
  },
  {
   "cell_type": "markdown",
   "metadata": {},
   "source": [
    "**2.2.5.1 Cheacking the data after the changes**"
   ]
  },
  {
   "cell_type": "code",
   "execution_count": null,
   "metadata": {},
   "outputs": [],
   "source": [
    "calls.info()\n",
    "print('*'*100)\n",
    "internet.info()\n",
    "print('*'*100)\n",
    "message.info()\n",
    "print('*'*100)\n",
    "plans.info()\n",
    "print('*'*100)\n",
    "users.info()"
   ]
  },
  {
   "cell_type": "markdown",
   "metadata": {},
   "source": [
    "**2.2.6 The number of calls made and minutes used per month, per user**"
   ]
  },
  {
   "cell_type": "code",
   "execution_count": null,
   "metadata": {
    "scrolled": false
   },
   "outputs": [],
   "source": [
    "calls_data = calls.groupby(['user_id', 'month']).duration.agg(['count', 'sum'])\n",
    "calls_data.columns = ['calls_count', 'calls_duration']\n",
    "print (calls_data.head(10))\n",
    "print ()\n",
    "print (calls_data.describe())"
   ]
  },
  {
   "cell_type": "markdown",
   "metadata": {},
   "source": [
    "**2.2.7 The number of text messages sent per month**"
   ]
  },
  {
   "cell_type": "code",
   "execution_count": null,
   "metadata": {},
   "outputs": [],
   "source": [
    "message_data = message.groupby(['user_id', 'month'])[['id']].count()\n",
    "message_data.columns = ['number_of_sms']\n",
    "print (message_data.head(10))\n",
    "print ()\n",
    "print (message_data.describe())"
   ]
  },
  {
   "cell_type": "markdown",
   "metadata": {},
   "source": [
    "**2.2.8 The volume of data per month**"
   ]
  },
  {
   "cell_type": "code",
   "execution_count": null,
   "metadata": {
    "scrolled": false
   },
   "outputs": [],
   "source": [
    "internet_use = internet.groupby(['user_id', 'month'])[['mb_used']].sum()\n",
    "internet_use.columns = ['total_mb_month']\n",
    "print (internet_use.head(10))\n",
    "print ()\n",
    "print (internet_use.describe())"
   ]
  },
  {
   "cell_type": "markdown",
   "metadata": {},
   "source": [
    "**2.2.8.1 Changing MB per month to GB per month & drop MB column**"
   ]
  },
  {
   "cell_type": "code",
   "execution_count": null,
   "metadata": {},
   "outputs": [],
   "source": [
    "internet_use['total_gb_month'] = (internet_use['total_mb_month'] / 1024).apply(np.ceil)"
   ]
  },
  {
   "cell_type": "code",
   "execution_count": null,
   "metadata": {},
   "outputs": [],
   "source": [
    "internet_use.drop('total_mb_month', axis=1, inplace=True)"
   ]
  },
  {
   "cell_type": "code",
   "execution_count": null,
   "metadata": {},
   "outputs": [],
   "source": [
    "print (internet_use.head(10))\n",
    "print ()\n",
    "print (internet_use.describe())"
   ]
  },
  {
   "cell_type": "markdown",
   "metadata": {},
   "source": [
    "**2.2.9 The monthly plan for each user**"
   ]
  },
  {
   "cell_type": "code",
   "execution_count": null,
   "metadata": {
    "scrolled": false
   },
   "outputs": [],
   "source": [
    "data_plan = users[['user_id', 'plan']]\n",
    "print (data_plan.head(10))\n",
    "print ()\n",
    "print (data_plan.describe())"
   ]
  },
  {
   "cell_type": "markdown",
   "metadata": {},
   "source": [
    "**2.2.10 The monthly revenue from each user (work plan):**\n",
    "1. merge the data from the privious steps to 1 data set.\n",
    "2. subtract the free package limit from the total number of:\n",
    "    1. calls.\n",
    "    2. text messages.\n",
    "    3. data.\n",
    "3. multiply the result by the calling plan value.\n",
    "4. add the monthly charge depending on the calling plan."
   ]
  },
  {
   "cell_type": "markdown",
   "metadata": {},
   "source": [
    "**2.2.10.1 Merge the data from [calls_data, message_data, internet_use] for working on 1 dataset in my search for the monthly revenue**"
   ]
  },
  {
   "cell_type": "code",
   "execution_count": null,
   "metadata": {
    "scrolled": false
   },
   "outputs": [],
   "source": [
    "data_users_revenue = pd.concat([calls_data,message_data,internet_use],axis=1).reset_index().merge(data_plan,on='user_id')\n",
    "data_users_revenue.columns = ['user_id','month','total_calls','minutes','text_msg','data_used','plan']\n",
    "print(data_users_revenue.head(10))\n",
    "print('*'*100)\n",
    "print (data_users_revenue.info())\n",
    "print('*'*100)\n",
    "print (data_users_revenue.describe())"
   ]
  },
  {
   "cell_type": "markdown",
   "metadata": {},
   "source": [
    "**2.2.10.2 Looking for missing values and fill with 0 - a user may use only text in one month and no calls**"
   ]
  },
  {
   "cell_type": "code",
   "execution_count": null,
   "metadata": {},
   "outputs": [],
   "source": [
    "data_users_revenue.isnull().sum()"
   ]
  },
  {
   "cell_type": "code",
   "execution_count": null,
   "metadata": {},
   "outputs": [],
   "source": [
    "data_users_revenue.fillna(0, inplace=True)"
   ]
  },
  {
   "cell_type": "markdown",
   "metadata": {},
   "source": [
    "**2.2.10.3 Looking for duplicates in the new table**"
   ]
  },
  {
   "cell_type": "code",
   "execution_count": null,
   "metadata": {},
   "outputs": [],
   "source": [
    "print('data_users_revenue duplicates =', data_users_revenue.duplicated().sum())"
   ]
  },
  {
   "cell_type": "markdown",
   "metadata": {},
   "source": [
    "**2.2.11 Looking for the values in the plans, before adding a function to extract the exeeded values**"
   ]
  },
  {
   "cell_type": "code",
   "execution_count": null,
   "metadata": {
    "scrolled": false
   },
   "outputs": [],
   "source": [
    "plans.head(10)"
   ]
  },
  {
   "cell_type": "markdown",
   "metadata": {},
   "source": [
    "**2.2.12 Function for surf & ultimate plan excess fees**"
   ]
  },
  {
   "cell_type": "code",
   "execution_count": null,
   "metadata": {},
   "outputs": [],
   "source": [
    "def excess_fee(data):\n",
    "    excess_calls_fee=0\n",
    "    excess_message_fee=0\n",
    "    excess_gb_fee=0\n",
    "    \n",
    "    if data['plan'] == 'surf':\n",
    "        excess_calls = 500 - data['minutes']\n",
    "        if excess_calls < 0:\n",
    "            excess_calls_fee = (-1 * excess_calls *0.03)  \n",
    "        excess_message = 50 - data['text_msg']\n",
    "        if excess_message < 0:\n",
    "            excess_message_fee = (-1 * excess_message *0.03)  \n",
    "        excess_gb = 15 - data['data_used']\n",
    "        if excess_gb < 0:\n",
    "            excess_gb_fee = (-1 * excess_gb * 10)\n",
    "        return (excess_calls_fee + excess_message_fee + excess_gb_fee + 20)\n",
    "    \n",
    "    else:\n",
    "        excess_calls = 3000 - data['minutes']\n",
    "        if excess_calls < 0:\n",
    "            excess_calls_fee = (-1 * excess_calls *0.01)\n",
    "        excess_message = 1000 - data['text_msg']\n",
    "        if excess_message < 0:\n",
    "            excess_message_fee = (-1 * excess_message *0.01)   \n",
    "        excess_gb = 30 - data['data_used']\n",
    "        if excess_gb < 0:\n",
    "            excess_gb_fee = (-1 * excess_gb * 7)\n",
    "        return (excess_calls_fee + excess_message_fee + excess_gb_fee + 70)"
   ]
  },
  {
   "cell_type": "markdown",
   "metadata": {},
   "source": [
    "**2.2.12.1 Apply the Function to the merged dataset & rename the new dataset**"
   ]
  },
  {
   "cell_type": "code",
   "execution_count": null,
   "metadata": {},
   "outputs": [],
   "source": [
    "data_users_revenue['total_fee'] = data_users_revenue.apply(excess_fee, axis=1)"
   ]
  },
  {
   "cell_type": "code",
   "execution_count": null,
   "metadata": {},
   "outputs": [],
   "source": [
    "data_plans_fees = data_users_revenue.sort_values(['user_id', 'month'])"
   ]
  },
  {
   "cell_type": "code",
   "execution_count": null,
   "metadata": {
    "scrolled": false
   },
   "outputs": [],
   "source": [
    "print(data_plans_fees.head(10))\n",
    "print('*'*100)\n",
    "print (data_plans_fees.info())\n",
    "print('*'*100)\n",
    "print (data_plans_fees.describe())"
   ]
  },
  {
   "cell_type": "markdown",
   "metadata": {},
   "source": [
    "**2.2.12.2 Apply plots to the new dataset & research the results**"
   ]
  },
  {
   "cell_type": "code",
   "execution_count": null,
   "metadata": {},
   "outputs": [],
   "source": [
    "fig, ax= plt.subplots(3, figsize=(14,15))\n",
    "\n",
    "#number of users per plan monthly\n",
    "user_data=data_plans_fees.groupby(['month','plan'])['user_id'].count().reset_index()\n",
    "sns.barplot(data=user_data, x='month', y='user_id', hue='plan', palette='bright', ax=ax[0])\n",
    "ax[0].legend(frameon=True, shadow=True, fontsize=12)\n",
    "ax[0].set_title('Number of users in each plan', fontsize=14, color='red')\n",
    "\n",
    "#total revenue from users per plan monthly\n",
    "sum_data=data_plans_fees.groupby(['month','plan'])['total_fee'].sum().reset_index()\n",
    "sns.barplot(data=sum_data, x='month', y='total_fee', hue='plan', palette='bright', ax=ax[1])\n",
    "ax[1].legend(frameon=True, shadow=True, fontsize=12)\n",
    "ax[1].set_title('Monthly total revenue from users of each plan', fontsize=14, color='red')\n",
    "\n",
    "# avg revenue from users per plan monthly\n",
    "mean_data=data_plans_fees.groupby(['month','plan'])['total_fee'].mean().reset_index()\n",
    "sns.barplot(data=mean_data, x='month', y='total_fee', hue='plan', palette='bright' , ax=ax[2])\n",
    "ax[2].legend(frameon=True, shadow=True, fontsize=12)\n",
    "ax[2].set_title('Average monthly revenue from users of each plan', fontsize=14, color='red')\n",
    "\n",
    "plt.show()"
   ]
  },
  {
   "cell_type": "markdown",
   "metadata": {},
   "source": [
    "# 2.2.3 STEP 2 - SubConclusion Data preprocessing"
   ]
  },
  {
   "cell_type": "markdown",
   "metadata": {},
   "source": [
    "1. I changed Dtype where nececssery - **all columns where there is date change to date time to remove error and make the data more usfull for the resarch process.**\n",
    "2. I checked for duplicates - **there was no duplicates in the data before merge of the tables.**\n",
    "3. I checked for missing values, values equel to 0 & fix them - there where missing values that I found and probably where miss calls and date related issues.\n",
    "4. I round the time in nececssery columns.\n",
    "5. I had column **[month]** to the tables.\n",
    "6. I checked and fix errors in the data.\n",
    "7. In the new dataset, I checked again for duplicates and missing values and fix them where necessery.\n",
    "8. In the **[churn]** column I fill the missing values with the last day of 2018 to avoid deleating almost the entire column.\n",
    "9. I assum that the missing data in calls and internet where related to **miss calls** and non internet use, I deleted those rows.\n",
    "10. After dealing with the data in its original datasets, **I merge the 3 new tables in to 1 dataset so I can Analyze the data, Unnecessary columns were dropped.**\n",
    "11. **I add a function to run trow all the relevent data and add the call,internet use and sms message for each user per month so I can answer the questions on the plan profit.**\n",
    "12. I used plots to compere the data of each plan according to the user on a monthly bases.\n",
    "13. observation on the compere data - before complete data analysis:\n",
    "    1. It was observed that the user number of both plans **increased and in the last month.**\n",
    "    2. The number of customers who uses the **'surf'** plan was two times more than the number of users who uses the **'ultimate'** plan.\n",
    "    3. **Even though, 'surf' users pay three times less basic fee per month, the monthly total revenue from the 'surf' plan was almost two times more than 'ultimate'.**\n",
    "    4. Users of the 'surf' plan more often going over their monthly limit and paying extra money.\n",
    "        1. This can be clear from the monthly average revenue per user plot.\n",
    "        2. For example, in the last month, the average revenue from 'surf' plan users was almost equal to 'ultimate' plan users.\n",
    "\n"
   ]
  },
  {
   "cell_type": "markdown",
   "metadata": {},
   "source": [
    "# 2.3 STEP 3 - Data analysis:"
   ]
  },
  {
   "cell_type": "markdown",
   "metadata": {},
   "source": [
    "**2.3.1 Describe the customers' behavior:**"
   ]
  },
  {
   "cell_type": "markdown",
   "metadata": {},
   "source": [
    "**2.3.1.1 Find the minutes, the users of each plan require per month:**"
   ]
  },
  {
   "cell_type": "markdown",
   "metadata": {},
   "source": [
    "**2.3.1.1.1 surf:**"
   ]
  },
  {
   "cell_type": "code",
   "execution_count": null,
   "metadata": {
    "scrolled": false
   },
   "outputs": [],
   "source": [
    "plan_surf = data_plans_fees.query('plan == \"surf\"')['user_id']\n",
    "calls_p_plan_surf = data_users_revenue.query('user_id in @plan_surf')\n",
    "calls_p_plan_surf.info()\n",
    "calls_p_plan_surf.describe()"
   ]
  },
  {
   "cell_type": "markdown",
   "metadata": {},
   "source": [
    "**2.3.1.1.2 ultimate:**"
   ]
  },
  {
   "cell_type": "code",
   "execution_count": null,
   "metadata": {},
   "outputs": [],
   "source": [
    "plan_ultimate = data_plans_fees.query('plan == \"ultimate\"')['user_id']\n",
    "calls_p_ultimate = data_users_revenue.query('user_id in @plan_ultimate')\n",
    "calls_p_ultimate.info()\n",
    "calls_p_ultimate.describe()"
   ]
  },
  {
   "cell_type": "markdown",
   "metadata": {},
   "source": [
    "**2.3.1.1.3 finding outliers:**"
   ]
  },
  {
   "cell_type": "code",
   "execution_count": null,
   "metadata": {},
   "outputs": [],
   "source": [
    "def outliers_lower_upper(name_df,column):\n",
    "    q1 = name_df[column].quantile(0.25)\n",
    "    q3 = name_df[column].quantile(0.75)\n",
    "    iqr = q3 - q1\n",
    "    if q1 - iqr*1.5 < 0:\n",
    "        return (0, q3 + iqr*1.5)\n",
    "    else:\n",
    "        return (q1 - iqr*1.5, q3 + iqr*1.5)  "
   ]
  },
  {
   "cell_type": "code",
   "execution_count": null,
   "metadata": {},
   "outputs": [],
   "source": [
    "surf_minutes_outliers      = outliers_lower_upper(calls_p_plan_surf,'minutes')\n",
    "ultimate_minutes_outliers  = outliers_lower_upper(calls_p_ultimate,'minutes')\n",
    "print('Outliers limit - plan surf     ',surf_minutes_outliers)\n",
    "print('Outliers limit - plan ultimate ',ultimate_minutes_outliers)"
   ]
  },
  {
   "cell_type": "code",
   "execution_count": null,
   "metadata": {},
   "outputs": [],
   "source": [
    "len(surf_minutes_outliers)"
   ]
  },
  {
   "cell_type": "code",
   "execution_count": null,
   "metadata": {},
   "outputs": [],
   "source": [
    "len(ultimate_minutes_outliers)"
   ]
  },
  {
   "cell_type": "markdown",
   "metadata": {},
   "source": [
    "**2.3.1.1.3.1 removing outliers & check the result:**"
   ]
  },
  {
   "cell_type": "code",
   "execution_count": null,
   "metadata": {},
   "outputs": [],
   "source": [
    "surf_minutes_filtered = (calls_p_plan_surf.query('minutes < @surf_minutes_outliers[1]'))\n",
    "surf_minutes_filtered.info()\n",
    "surf_minutes_filtered.describe()"
   ]
  },
  {
   "cell_type": "code",
   "execution_count": null,
   "metadata": {
    "scrolled": false
   },
   "outputs": [],
   "source": [
    "ultimate_minutes_filtered = (calls_p_ultimate.query('minutes < @ultimate_minutes_outliers[1]'))\n",
    "ultimate_minutes_filtered.info()\n",
    "ultimate_minutes_filtered.describe()"
   ]
  },
  {
   "cell_type": "markdown",
   "metadata": {},
   "source": [
    "**2.3.1.1.3.2 showing result trow plots:**"
   ]
  },
  {
   "cell_type": "code",
   "execution_count": null,
   "metadata": {
    "scrolled": false
   },
   "outputs": [],
   "source": [
    "surf_minutes_filtered['minutes'].hist(density=True, bins=40, figsize = (15, 6))\n",
    "ultimate_minutes_filtered['minutes'].hist(density=True, bins=40, alpha=0.4)\n",
    "plt.title('minutes for Surf / ultimate plan users')\n",
    "labels= [\"surf\", \"ultimate\"]\n",
    "plt.legend(labels)\n",
    "plt.xlabel('minutes')\n",
    "plt.ylabel('volume of users')\n",
    "plt.show()"
   ]
  },
  {
   "cell_type": "code",
   "execution_count": null,
   "metadata": {},
   "outputs": [],
   "source": [
    "surf_minutes_filtered['minutes'].plot(\n",
    "    kind     = 'hist'\n",
    "    ,title   = 'minutes used for surf plan users'\n",
    "    ,figsize = (15, 4)\n",
    ")\n",
    "plt.xlabel('minutes')\n",
    "plt.ylabel('volume of users')\n",
    "plt.show()"
   ]
  },
  {
   "cell_type": "code",
   "execution_count": null,
   "metadata": {
    "scrolled": false
   },
   "outputs": [],
   "source": [
    "ultimate_minutes_filtered['minutes'].plot(\n",
    "    kind     = 'hist'\n",
    "    ,title   = 'minutes used for ultimate plan users'\n",
    "    ,figsize = (15, 4)\n",
    ")\n",
    "plt.xlabel('minutes')\n",
    "plt.ylabel('volume of users')\n",
    "plt.show()"
   ]
  },
  {
   "cell_type": "markdown",
   "metadata": {},
   "source": [
    "**2.3.1.2 Find the texts, the users of each plan require per month.**"
   ]
  },
  {
   "cell_type": "markdown",
   "metadata": {},
   "source": [
    "**2.3.1.2.1 finding outliers:**"
   ]
  },
  {
   "cell_type": "code",
   "execution_count": null,
   "metadata": {},
   "outputs": [],
   "source": [
    "surf_text_outliers      = outliers_lower_upper(calls_p_plan_surf,'text_msg')\n",
    "ultimate_text_outliers  = outliers_lower_upper(calls_p_ultimate,'text_msg')\n",
    "print('Outliers limit for plan surf     ',surf_text_outliers)\n",
    "print('Outliers limit for plan ultimate ',ultimate_text_outliers)"
   ]
  },
  {
   "cell_type": "code",
   "execution_count": null,
   "metadata": {},
   "outputs": [],
   "source": [
    "len(surf_text_outliers )"
   ]
  },
  {
   "cell_type": "code",
   "execution_count": null,
   "metadata": {},
   "outputs": [],
   "source": [
    "len(ultimate_text_outliers)"
   ]
  },
  {
   "cell_type": "markdown",
   "metadata": {},
   "source": [
    "**2.3.1.2.2 remove outliers & check the result:**"
   ]
  },
  {
   "cell_type": "code",
   "execution_count": null,
   "metadata": {},
   "outputs": [],
   "source": [
    "surf_text_filtered = (calls_p_plan_surf.query('text_msg < @surf_text_outliers[1]'))\n",
    "surf_text_filtered.info()\n",
    "surf_text_filtered.describe()"
   ]
  },
  {
   "cell_type": "code",
   "execution_count": null,
   "metadata": {
    "scrolled": false
   },
   "outputs": [],
   "source": [
    "ultimate_text_filtered = (calls_p_ultimate.query('text_msg < @ultimate_text_outliers[1]'))\n",
    "ultimate_text_filtered.info()\n",
    "ultimate_text_filtered.describe()"
   ]
  },
  {
   "cell_type": "markdown",
   "metadata": {},
   "source": [
    "**2.3.1.2.3 showing result trow plots:**"
   ]
  },
  {
   "cell_type": "code",
   "execution_count": null,
   "metadata": {
    "scrolled": false
   },
   "outputs": [],
   "source": [
    "surf_text_filtered['text_msg'].hist(density=True, bins=20, figsize = (10, 8))\n",
    "ultimate_text_filtered['text_msg'].hist(density=True, bins=40, alpha=0.4)\n",
    "plt.title('text for Surf / ultimate plan users')\n",
    "labels= [\"surf\", \"ultimate\"]\n",
    "plt.legend(labels)\n",
    "plt.xlabel('text messeges')\n",
    "plt.ylabel('volume of users')\n",
    "plt.show()"
   ]
  },
  {
   "cell_type": "code",
   "execution_count": null,
   "metadata": {},
   "outputs": [],
   "source": [
    "surf_text_filtered['text_msg'].plot(\n",
    "    kind     = 'hist'\n",
    "    ,title   = 'text used for surf plan users'\n",
    "    ,figsize = (15, 4)\n",
    ")\n",
    "plt.xlabel('text messeges')\n",
    "plt.ylabel('volume of users')\n",
    "plt.show()"
   ]
  },
  {
   "cell_type": "code",
   "execution_count": null,
   "metadata": {},
   "outputs": [],
   "source": [
    "ultimate_text_filtered['text_msg'].plot(\n",
    "    kind     = 'hist'\n",
    "    ,title   = 'text used for ultimate plan users'\n",
    "    ,figsize = (15, 4)\n",
    ")\n",
    "plt.xlabel('text messeges')\n",
    "plt.ylabel('volume of users')\n",
    "plt.show()"
   ]
  },
  {
   "cell_type": "markdown",
   "metadata": {},
   "source": [
    "**2.3.1.3 Find the volume of data, the users of each plan require per month.** "
   ]
  },
  {
   "cell_type": "markdown",
   "metadata": {},
   "source": [
    "**2.3.1.3.1 finding outliers:**"
   ]
  },
  {
   "cell_type": "code",
   "execution_count": null,
   "metadata": {},
   "outputs": [],
   "source": [
    "surf_internet_outliers      = outliers_lower_upper(calls_p_plan_surf,'data_used')\n",
    "ultimate_internet_outliers  = outliers_lower_upper(calls_p_ultimate,'data_used')\n",
    "print('Outliers limit for plan surf     ',surf_internet_outliers)\n",
    "print('Outliers limit for plan ultimate ',ultimate_internet_outliers)"
   ]
  },
  {
   "cell_type": "code",
   "execution_count": null,
   "metadata": {},
   "outputs": [],
   "source": [
    "len(surf_internet_outliers)"
   ]
  },
  {
   "cell_type": "code",
   "execution_count": null,
   "metadata": {},
   "outputs": [],
   "source": [
    "len(ultimate_internet_outliers)"
   ]
  },
  {
   "cell_type": "markdown",
   "metadata": {},
   "source": [
    "**2.3.1.3.2 remove outliers & check the result:**"
   ]
  },
  {
   "cell_type": "code",
   "execution_count": null,
   "metadata": {},
   "outputs": [],
   "source": [
    "surf_internet_filtered = (calls_p_plan_surf.query('data_used < @surf_internet_outliers[1] and data_used > @surf_internet_outliers[0]'))\n",
    "surf_internet_filtered.info()\n",
    "surf_internet_filtered.describe()"
   ]
  },
  {
   "cell_type": "code",
   "execution_count": null,
   "metadata": {
    "scrolled": false
   },
   "outputs": [],
   "source": [
    "ultimate_internet_filtered = (calls_p_ultimate.query('data_used < @ultimate_internet_outliers[1] & data_used > @ultimate_internet_outliers[0]'))\n",
    "ultimate_internet_filtered.info()\n",
    "ultimate_internet_filtered.describe()"
   ]
  },
  {
   "cell_type": "markdown",
   "metadata": {},
   "source": [
    "**2.3.1.3.3 showing result trow plots:**"
   ]
  },
  {
   "cell_type": "code",
   "execution_count": null,
   "metadata": {
    "scrolled": false
   },
   "outputs": [],
   "source": [
    "surf_internet_filtered['data_used'].hist(density=True, bins=40, figsize = (15, 6))\n",
    "ultimate_internet_filtered['data_used'].hist(density=True, bins=40, alpha=0.4)\n",
    "plt.title('data for Surf / ultimate plan users')\n",
    "labels= [\"surf\", \"ultimate\"]\n",
    "plt.legend(labels)\n",
    "plt.xlabel('data usege')\n",
    "plt.ylabel('volume of users')\n",
    "plt.show()"
   ]
  },
  {
   "cell_type": "code",
   "execution_count": null,
   "metadata": {},
   "outputs": [],
   "source": [
    "surf_internet_filtered['data_used'].plot(\n",
    "    kind     = 'hist'\n",
    "    ,title   = 'internet used for surf plan users'\n",
    "    ,figsize = (15, 4)\n",
    ")\n",
    "plt.xlabel('data usege')\n",
    "plt.ylabel('volume of users')\n",
    "plt.show()"
   ]
  },
  {
   "cell_type": "code",
   "execution_count": null,
   "metadata": {
    "scrolled": false
   },
   "outputs": [],
   "source": [
    "ultimate_internet_filtered['data_used'].plot(\n",
    "    kind     = 'hist'\n",
    "    ,title   = 'internet used for ultimate plan users'\n",
    "    ,figsize = (15, 4)\n",
    ")\n",
    "plt.xlabel('data usege')\n",
    "plt.ylabel('volume of users')\n",
    "plt.show()"
   ]
  },
  {
   "cell_type": "markdown",
   "metadata": {},
   "source": [
    "**2.3.1.4 Calculate data values [mean, dispersion, and standard deviation] & Describe the distributions:**"
   ]
  },
  {
   "cell_type": "code",
   "execution_count": null,
   "metadata": {
    "scrolled": true
   },
   "outputs": [],
   "source": [
    "def two_plan(type,first,second,column):\n",
    "    data = (\n",
    "        pd.DataFrame([[type,'surf',\n",
    "                       first[column].mean(),\n",
    "                       np.std(first[column]),\n",
    "                       np.var(first[column])\n",
    "                      ],\n",
    "                      [type,'ultimate',\n",
    "                       second[column].mean(),\n",
    "                       np.std(second[column]),\n",
    "                       np.var(second[column])\n",
    "                      ]], columns = ['type','plan','mean','std','var']))    \n",
    "    return data   \n",
    "\n",
    "subject = two_plan('call -  minutes',\n",
    "                                      surf_minutes_filtered,\n",
    "                                      ultimate_minutes_filtered,\n",
    "                                      'minutes')\n",
    "messages = two_plan('text messege',\n",
    "                                   surf_text_filtered,\n",
    "                                   ultimate_text_filtered,\n",
    "                                   'text_msg')\n",
    "internet = two_plan('data gb',\n",
    "                                   surf_internet_filtered,\n",
    "                                   ultimate_internet_filtered,\n",
    "                                   'data_used')\n",
    "\n",
    "subject = subject.append(messages, ignore_index=True)\n",
    "subject = subject.append(internet, ignore_index=True)\n",
    "subject = subject.pivot_table(index = ['type','plan'])\n",
    "subject"
   ]
  },
  {
   "cell_type": "markdown",
   "metadata": {},
   "source": [
    "**2.3.1.4.1 Calculate data values to help with up coming tasks:**"
   ]
  },
  {
   "cell_type": "code",
   "execution_count": null,
   "metadata": {
    "scrolled": false
   },
   "outputs": [],
   "source": [
    "data_plans_fees['plan'].value_counts(normalize=True) * 100"
   ]
  },
  {
   "cell_type": "code",
   "execution_count": null,
   "metadata": {
    "scrolled": false
   },
   "outputs": [],
   "source": [
    "behavior = data_plans_fees.groupby(['plan','month']).agg({'minutes':'sum','text_msg':'sum','data_used':'sum','total_fee':'sum'})\n",
    "behavior"
   ]
  },
  {
   "cell_type": "markdown",
   "metadata": {},
   "source": [
    "**2.3.1.4.2 showing and describe the result trow plots:**"
   ]
  },
  {
   "cell_type": "code",
   "execution_count": null,
   "metadata": {
    "scrolled": false
   },
   "outputs": [],
   "source": [
    "fig, ax= plt.subplots(4, figsize=(19,20))\n",
    "                                                                                                     \n",
    "#minutes per plan monthly\n",
    "minutes_used=data_plans_fees.groupby(['month','plan'])['minutes'].count().reset_index()\n",
    "sns.barplot(data=minutes_used, x='month', y='minutes', hue='plan', palette= \"mako\", ax=ax[0])\n",
    "ax[0].legend(frameon=True, shadow=True, fontsize=12)\n",
    "ax[0].set_title('Minutes used per plan every month', fontsize=14, color='blue')\n",
    "\n",
    "#text messege per plan monthly\n",
    "text_messege=data_plans_fees.groupby(['month','plan'])['text_msg'].sum().reset_index()\n",
    "sns.barplot(data=text_messege, x='month', y='text_msg', hue='plan', palette=\"mako\", ax=ax[1])\n",
    "ax[1].legend(frameon=True, shadow=True, fontsize=12)\n",
    "ax[1].set_title('Text messege used per plan every month', fontsize=14, color='blue')\n",
    "\n",
    "#internet used per plan monthly\n",
    "internet_used=data_plans_fees.groupby(['month','plan'])['data_used'].mean().reset_index()\n",
    "sns.barplot(data=internet_used, x='month', y='data_used', hue='plan', palette=\"mako\" , ax=ax[2])\n",
    "ax[2].legend(frameon=True, shadow=True, fontsize=12)\n",
    "ax[2].set_title('Internet used per plan every month', fontsize=14, color='blue')\n",
    "\n",
    "#total revenue per plan monthly\n",
    "internet_used=data_plans_fees.groupby(['month','plan'])['total_fee'].mean().reset_index()\n",
    "sns.barplot(data=internet_used, x='month', y='total_fee', hue='plan', palette=\"mako\" , ax=ax[3])\n",
    "ax[3].legend(frameon=True, shadow=True, fontsize=12)\n",
    "ax[3].set_title('Revenue per plan every month', fontsize=14, color='blue')\n",
    "plt.show()"
   ]
  },
  {
   "cell_type": "markdown",
   "metadata": {},
   "source": [
    "# 2.3.1 STEP 3 - SubConclusion Data analysis:"
   ]
  },
  {
   "cell_type": "markdown",
   "metadata": {},
   "source": [
    "1. **The ratio of users of “Surf” and “Ultimate” plans is 70% to 30%.**\n",
    "2. Users of both plans **spend on average the same number of minutes** , despite the fact that the “Ultimate” plan includes 3000 minutes of calls.\n",
    "3. Users of the “Surf” plan in average keep within **500 minutes per month**.\n",
    "4. Surf and Ultimate users send 27 and 36 text messages per month:\n",
    "    1. Users of the “Surf” plan use **half** all messages included in the plan.\n",
    "    2. Users of the “Ultimate” plan use less then **5%** of the number of messages included in the plan.\n",
    "5. On average, users use the same amount of Internet **16 gb:**\n",
    "    1. Users of the “Surf” plan additionally purchase 1 GB per month.\n",
    "    2. Users of the “Ultimate” plan, have 30 GB of Internet, but use on average only **half** of the GB whitin the plan.\n",
    "6. Distribution:\n",
    "    1. \"Calls\" and \"Internet\" histograms have **\"Normal Distribution\"** type.\n",
    "    2. \"Message\" histograms have **\"Right Skewed Distribution\"** type.\n",
    "7. The histogram almost have **similar distribution between surf and ultimate.**\n",
    "8. Surf plan brings **more** total revenue than ultimate plan since surf have **more users than ultimate.**\n",
    "9. Not all users have 12 active months.\n",
    "10. Users most often exceed the limits of packages for the service **\"internet\".**"
   ]
  },
  {
   "cell_type": "markdown",
   "metadata": {},
   "source": [
    "# Answer to Reviewer's comment v1:\n",
    "1. **I most defenatly will had recomendations and improve all the first 3 projects base on the new learnings/studying and reviewers recomendations. I plan on doing all the improvments in between moduls when we have our break in the studying. After that I will have nice 3 projects to had to my projects file. thank you for spending the time to give me more tips on how to improve my work.**"
   ]
  },
  {
   "cell_type": "markdown",
   "metadata": {},
   "source": [
    "# 2.4 STEP 4 - Test the hypotheses:"
   ]
  },
  {
   "cell_type": "markdown",
   "metadata": {},
   "source": [
    "1. The average revenue from users of Ultimate and Surf calling plans differs.\n",
    "2. The average revenue from users in NY-NJ area is different from that of the users from other regions.\n",
    "    1. You decide what alpha value to use.\n",
    "3. Explain:\n",
    "    1. How you formulated the null and alternative hypotheses.\n",
    "    2. What criterion you used to test the hypotheses and why."
   ]
  },
  {
   "cell_type": "markdown",
   "metadata": {},
   "source": [
    "**2.4.1 Test hypotheses no 1 -  The average revenue from users of Ultimate and Surf calling plans differs:**\n",
    "1. **[null hypothesis and an alternative hypothesis]:**\n",
    "    1. **H0: The average profit of Ultimate == the average profit of Surf.**\n",
    "    2. **H1: The average profit of Ultimate and Surf calling plans == not equel.**"
   ]
  },
  {
   "cell_type": "code",
   "execution_count": null,
   "metadata": {},
   "outputs": [],
   "source": [
    "filter_profit = st.zscore(data_plans_fees['total_fee'])\n",
    "abs_filter_profit = np.abs(filter_profit)\n",
    "filtered_entries = (abs_filter_profit < 3)\n",
    "data_plans_fees = data_plans_fees[filtered_entries]\n",
    "\n",
    "\n",
    "# surf users\n",
    "surfplan = data_plans_fees.query('plan == \"surf\"')\n",
    "surf_plan_Average_Profit = surfplan['total_fee'].mean().round(decimals=2)\n",
    "print('The average monthly profit from SURF users is: $' + str(surf_plan_Average_Profit))\n",
    "\n",
    "# ultimate users\n",
    "ultimateplan = data_plans_fees.query('plan == \"ultimate\"')\n",
    "ultimate_plan_Average_Profit = ultimateplan['total_fee'].mean().round(decimals=2)\n",
    "print('The average monthly profit from ULTIMATE users is: $' + str(ultimate_plan_Average_Profit))\n",
    "\n",
    "#  t-test\n",
    "results = st.ttest_ind(surfplan['total_fee'], ultimateplan['total_fee'], equal_var=False)\n",
    "p_value = results.pvalue\n",
    "alpha = 0.05\n",
    "\n",
    "print ('p_value =',p_value)\n",
    "\n",
    "if p_value < alpha:\n",
    "    print('Reject H0')\n",
    "else:\n",
    "    print('Cannot reject H0')"
   ]
  },
  {
   "cell_type": "markdown",
   "metadata": {},
   "source": [
    "**2.4.2 Test hypotheses no 2 - The average revenue from users in NY-NJ area is different from that of the users from other regions.**\n",
    "1. **[null hypothesis and an alternative hypothesis]:**\n",
    "    1. **H0: The average profit in NY-NJ area == the average profit in other regions.**\n",
    "    2. **H1: The average profit from the users in NY-NJ area is different from that of the users from other regions.**"
   ]
  },
  {
   "cell_type": "code",
   "execution_count": null,
   "metadata": {},
   "outputs": [],
   "source": [
    "# users in NY-NJ area\n",
    "NY_NJ = users[users['city'].str.contains('NY-NJ')]\n",
    "users_from_nynj = NY_NJ['user_id']\n",
    "NYNJ_Average = data_plans_fees.query('user_id in @users_from_nynj')\n",
    "NYNJ_Average_Profit = NYNJ_Average['total_fee'].mean().round(decimals=2)\n",
    "print('The average monthly profit IN NY-NJ area is: $' + str(NYNJ_Average_Profit))\n",
    "\n",
    "# users not in NY-NJ area\n",
    "ex_NYNJ= users[~users['city'].str.contains('NY-NJ')]\n",
    "users_not_from_nynj = ex_NYNJ['user_id']\n",
    "Not_NYNJ_Average = data_plans_fees.query('user_id in @users_not_from_nynj')\n",
    "Not_NYNJ_Average_Profit = Not_NYNJ_Average['total_fee'].mean().round(decimals=2)\n",
    "print('The average monthly profit NOT in NY-NJ area is: $' + str(Not_NYNJ_Average_Profit))\n",
    "#  t-test\n",
    "results = st.ttest_ind(NYNJ_Average['total_fee'], Not_NYNJ_Average['total_fee'], equal_var=False)\n",
    "\n",
    "p_value = results.pvalue\n",
    "\n",
    "alpha = 0.05\n",
    "\n",
    "print ('p_value =',p_value)\n",
    "\n",
    "if p_value < alpha:\n",
    "    print('Reject H0')\n",
    "else:\n",
    "    print('Cannot reject H0')"
   ]
  },
  {
   "cell_type": "markdown",
   "metadata": {},
   "source": [
    "# 2.4 STEP 4 - SubConclusion hypotheses:"
   ]
  },
  {
   "cell_type": "markdown",
   "metadata": {},
   "source": [
    "1. Hypotheses no 1 - The average revenue from users of Ultimate and Surf calling plans differs:\n",
    "    * **The revenues from each plan are different, so I reject the Hypotheses.**\n",
    "    * I used 0.05 as alpha, that give me 95% confidence that revenue coming from each plan is not equal.\n",
    "    * The average monthly profit from SURF users is: (USD54.76).\n",
    "    * The average monthly profit from ULTIMATE users is: (USD72.33).\n",
    "    * As I learn in the privious tasks, The ratio of users of Surf and Ultimate plans is 70% to 30%.\n",
    "2. Hypotheses no 2 - The average revenue from users in NY-NJ area is different from that of the users from other regions:\n",
    "    1. **The revenues from diffrent area & NY-NJ are not significantly different, so I can't reject the Hypotheses.**\n",
    "    2. I used 0.05 as alpha, that give me 95% confidence that revenue coming from each area is not diffrent.\n",
    "    2. The average monthly profit IN NY-NJ area is: (USD57.22).\n",
    "    3. The average monthly profit NOT in NY-NJ area is: (USD61.01).\n",
    "    "
   ]
  },
  {
   "cell_type": "markdown",
   "metadata": {},
   "source": [
    "# 2.5 STEP 5 - overall conclusion:"
   ]
  },
  {
   "cell_type": "markdown",
   "metadata": {},
   "source": [
    "1. **Step 1+2 conclusion:**\n",
    "    1. **I recived 5 datasets:**\n",
    "        1. **Calls** - Store the data of every call.\n",
    "        2. **Internet** - Store the data of internet session.\n",
    "        3. **Messages** -  Store the data of messages\n",
    "        4. **Users** -  Store the data of each user\n",
    "        5. **Plan** - Store the data of the plan being used.\n",
    "    2. **There where servel errors & values needed attention in the data:**\n",
    "        1. I converted date in the data sets from object type to datetime data type.\n",
    "        2. The missing values in the churn_date column were filled with the last day of the data - 2018-12-31.\n",
    "        3. Around 20% of individual call durations and 10% of internet sessions (mb_used) hava a value of 0, These zero values were droped.\n",
    "        4. I rounded up values where necessery.\n",
    "        5. I merge the 3 new tables in to 1 dataset so I can Analyze the data, Unnecessary columns were dropped.\n",
    "2. **Step 3 conclusion:**\n",
    "    1. Several plots were made to get an insight into revenue from each plan and users.\n",
    "    2. It was observed that the user number of both plans increased and in the last month.\n",
    "    3. The ratio of users of Surf and Ultimate plans is **70% to 30%.**\n",
    "    4. 'surf' users pay three times less basic fee per month.\n",
    "    5. The monthly total revenue from the **'surf'** plan was almost two times more than **'ultimate'.**\n",
    "    6. Users who use the 'surf' plan more often by going over their monthly limit and paying extra money.\n",
    "    7. In order to analyze customer behavior, average minutes, messages, internet and fee for users of each plan obtained.\n",
    "    8. Several plots & Histograms were made to get an insight into the data:\n",
    "        1.**\"Calls\" and \"Internet\" histograms have \"Normal Distribution\" type.**\n",
    "        2. **\"Message\" histograms have \"Right Skewed Distribution\" type.**\n",
    "3. **Step 4 conclusion:**\n",
    "    1. **Test hypotheses no 1:**\n",
    "        1. I set the alpha - the critical statistical significance level, at 0.05 (5%).\n",
    "        2. I assumed that the null hypothesis would be rejected, alpha equal to 5% would have sufficed.\n",
    "        3. I could use lower alpha to avoid a type 1 error and getting false positive results, but I decide to go first on the safe way and check the results, the result go as plan and the 5% was used.\n",
    "        4. data_plans_fees, which contains average minutes, fee each user paid during analysis period, was used to test the hypothesis.\n",
    "        5. With **95% confidence,** it was observed that revenue coming from each plan is **not equal.** More precisely, on average surf plan, users pay **USD 54.76 per month,** while ultimate plan users pay **USD72.33 per month.** However, the number of ultimate plan users are almost two times **less** than surf plan users.\n",
    "        6. As we can see, even though there is a difference between average revenue generated by the users of each plan, **the p-value is lower than the alpha.** \n",
    "        7. **The null hypotesis was rejected.**\n",
    "    2.  **Test hypotheses no 2:**\n",
    "        1. I set the alpha - the critical statistical significance level, at 0.05 (5%).\n",
    "        2. This means that the p-value (the probability value) is the probability of getting a result that the null hypothesis is correct - i.e., that there is a difference between the average revenue generated by the users in each group of regions - has to be greater than the alpha for us not to reject the said null hypothesis, and vice versa.\n",
    "        3. \"users\" which contains the city, & fee each user paid during analysis period, was used to test the hypothesis.\n",
    "        4. As we can see, even though there is little difference between average revenue generated by the users of each group of region, **the p-value is higher than the alpha.**\n",
    "        5. **The null hypotesis can not be rejected**\n",
    "4. **Bottom line conclusion:**\n",
    "    1. **The company should invest more into an advertisement of the ultimate plan and attract more customers for the more profitable plan.**\n",
    "    2. **The revenue coming from users in NY-NJ was not significantly different from other regions, For now, it is not important to focus on customers from NY-NJ, specifically.**\n"
   ]
  },
  {
   "cell_type": "markdown",
   "metadata": {},
   "source": [
    "**THANK YOU FOR TAKING THE TIME TO REVIEW MY PROJECT and give me comments, point view and tips on how to improve my work. - Y.T**"
   ]
  }
 ],
 "metadata": {
  "ExecuteTimeLog": [
   {
    "duration": 85,
    "start_time": "2022-02-05T06:54:55.773Z"
   },
   {
    "duration": 1037,
    "start_time": "2022-02-05T08:03:44.127Z"
   },
   {
    "duration": 3,
    "start_time": "2022-02-05T08:04:48.946Z"
   },
   {
    "duration": 938,
    "start_time": "2022-02-05T08:12:19.532Z"
   },
   {
    "duration": 81,
    "start_time": "2022-02-05T08:18:12.924Z"
   },
   {
    "duration": 291,
    "start_time": "2022-02-05T08:20:21.890Z"
   },
   {
    "duration": 1105,
    "start_time": "2022-02-05T08:20:40.736Z"
   },
   {
    "duration": 713,
    "start_time": "2022-02-05T08:20:41.843Z"
   },
   {
    "duration": 323,
    "start_time": "2022-02-05T08:20:42.558Z"
   },
   {
    "duration": 208,
    "start_time": "2022-02-05T08:21:19.677Z"
   },
   {
    "duration": 206,
    "start_time": "2022-02-05T08:23:23.071Z"
   },
   {
    "duration": 205,
    "start_time": "2022-02-05T08:31:17.104Z"
   },
   {
    "duration": 926,
    "start_time": "2022-02-05T08:31:47.608Z"
   },
   {
    "duration": 214,
    "start_time": "2022-02-05T08:32:07.511Z"
   },
   {
    "duration": 207,
    "start_time": "2022-02-05T08:32:24.920Z"
   },
   {
    "duration": 195,
    "start_time": "2022-02-05T08:32:36.921Z"
   },
   {
    "duration": 209,
    "start_time": "2022-02-05T08:33:32.112Z"
   },
   {
    "duration": 45,
    "start_time": "2022-02-05T08:33:57.352Z"
   },
   {
    "duration": 46,
    "start_time": "2022-02-05T08:35:21.613Z"
   },
   {
    "duration": 46,
    "start_time": "2022-02-05T08:35:36.293Z"
   },
   {
    "duration": 41,
    "start_time": "2022-02-05T08:37:41.915Z"
   },
   {
    "duration": 31,
    "start_time": "2022-02-05T08:38:14.606Z"
   },
   {
    "duration": 42,
    "start_time": "2022-02-05T08:38:39.949Z"
   },
   {
    "duration": 36,
    "start_time": "2022-02-05T08:39:27.800Z"
   },
   {
    "duration": 1093,
    "start_time": "2022-02-05T08:40:28.364Z"
   },
   {
    "duration": 747,
    "start_time": "2022-02-05T08:40:29.459Z"
   },
   {
    "duration": 55,
    "start_time": "2022-02-05T08:40:30.208Z"
   },
   {
    "duration": 68,
    "start_time": "2022-02-05T08:40:30.265Z"
   },
   {
    "duration": 32,
    "start_time": "2022-02-05T08:40:30.335Z"
   },
   {
    "duration": 75,
    "start_time": "2022-02-05T08:40:30.369Z"
   },
   {
    "duration": 33,
    "start_time": "2022-02-05T08:40:30.446Z"
   },
   {
    "duration": 1106,
    "start_time": "2022-02-05T08:52:31.185Z"
   },
   {
    "duration": 799,
    "start_time": "2022-02-05T08:52:32.293Z"
   },
   {
    "duration": 49,
    "start_time": "2022-02-05T08:52:33.093Z"
   },
   {
    "duration": 38,
    "start_time": "2022-02-05T08:52:33.144Z"
   },
   {
    "duration": 68,
    "start_time": "2022-02-05T08:52:33.184Z"
   },
   {
    "duration": 60,
    "start_time": "2022-02-05T08:52:33.254Z"
   },
   {
    "duration": 43,
    "start_time": "2022-02-05T08:52:53.063Z"
   },
   {
    "duration": 31,
    "start_time": "2022-02-05T08:53:37.672Z"
   },
   {
    "duration": 1078,
    "start_time": "2022-02-05T08:54:07.548Z"
   },
   {
    "duration": 781,
    "start_time": "2022-02-05T08:54:08.628Z"
   },
   {
    "duration": 48,
    "start_time": "2022-02-05T08:54:09.411Z"
   },
   {
    "duration": 64,
    "start_time": "2022-02-05T08:54:09.461Z"
   },
   {
    "duration": 28,
    "start_time": "2022-02-05T08:54:09.526Z"
   },
   {
    "duration": 67,
    "start_time": "2022-02-05T08:54:09.555Z"
   },
   {
    "duration": 32,
    "start_time": "2022-02-05T08:54:09.624Z"
   },
   {
    "duration": 1131,
    "start_time": "2022-02-05T10:49:32.931Z"
   },
   {
    "duration": 817,
    "start_time": "2022-02-05T10:49:34.063Z"
   },
   {
    "duration": 51,
    "start_time": "2022-02-05T10:49:34.882Z"
   },
   {
    "duration": 39,
    "start_time": "2022-02-05T10:49:34.935Z"
   },
   {
    "duration": 54,
    "start_time": "2022-02-05T10:49:34.976Z"
   },
   {
    "duration": 47,
    "start_time": "2022-02-05T10:49:35.032Z"
   },
   {
    "duration": 60,
    "start_time": "2022-02-05T10:49:35.081Z"
   },
   {
    "duration": 1037,
    "start_time": "2022-02-05T14:18:32.430Z"
   },
   {
    "duration": 2824,
    "start_time": "2022-02-05T14:18:33.469Z"
   },
   {
    "duration": 48,
    "start_time": "2022-02-05T14:18:36.295Z"
   },
   {
    "duration": 46,
    "start_time": "2022-02-05T14:18:36.345Z"
   },
   {
    "duration": 29,
    "start_time": "2022-02-05T14:18:36.393Z"
   },
   {
    "duration": 73,
    "start_time": "2022-02-05T14:18:36.423Z"
   },
   {
    "duration": 29,
    "start_time": "2022-02-05T14:18:36.498Z"
   },
   {
    "duration": 456,
    "start_time": "2022-02-05T14:18:36.528Z"
   },
   {
    "duration": 21,
    "start_time": "2022-02-05T14:20:23.241Z"
   },
   {
    "duration": 1160,
    "start_time": "2022-02-05T14:23:17.069Z"
   },
   {
    "duration": 878,
    "start_time": "2022-02-05T14:23:18.232Z"
   },
   {
    "duration": 46,
    "start_time": "2022-02-05T14:23:19.113Z"
   },
   {
    "duration": 38,
    "start_time": "2022-02-05T14:23:19.160Z"
   },
   {
    "duration": 28,
    "start_time": "2022-02-05T14:23:19.200Z"
   },
   {
    "duration": 66,
    "start_time": "2022-02-05T14:23:19.229Z"
   },
   {
    "duration": 26,
    "start_time": "2022-02-05T14:23:19.296Z"
   },
   {
    "duration": 68,
    "start_time": "2022-02-05T14:23:19.324Z"
   },
   {
    "duration": 506,
    "start_time": "2022-02-05T14:26:32.162Z"
   },
   {
    "duration": 35,
    "start_time": "2022-02-05T14:26:41.042Z"
   },
   {
    "duration": 6,
    "start_time": "2022-02-05T14:29:12.671Z"
   },
   {
    "duration": 30,
    "start_time": "2022-02-05T14:43:45.539Z"
   },
   {
    "duration": 302,
    "start_time": "2022-02-05T14:43:47.892Z"
   },
   {
    "duration": 37,
    "start_time": "2022-02-05T14:44:00.399Z"
   },
   {
    "duration": 313,
    "start_time": "2022-02-05T14:44:01.464Z"
   },
   {
    "duration": 17,
    "start_time": "2022-02-05T14:44:07.932Z"
   },
   {
    "duration": 8,
    "start_time": "2022-02-05T14:44:10.425Z"
   },
   {
    "duration": 12,
    "start_time": "2022-02-05T14:49:11.558Z"
   },
   {
    "duration": 11,
    "start_time": "2022-02-05T14:49:12.625Z"
   },
   {
    "duration": 10,
    "start_time": "2022-02-05T14:49:13.608Z"
   },
   {
    "duration": 8,
    "start_time": "2022-02-05T14:49:14.480Z"
   },
   {
    "duration": 4,
    "start_time": "2022-02-05T14:56:01.133Z"
   },
   {
    "duration": 4,
    "start_time": "2022-02-05T14:56:06.790Z"
   },
   {
    "duration": 33,
    "start_time": "2022-02-05T14:58:39.479Z"
   },
   {
    "duration": 4,
    "start_time": "2022-02-05T14:58:45.212Z"
   },
   {
    "duration": 30,
    "start_time": "2022-02-05T14:58:48.067Z"
   },
   {
    "duration": 32,
    "start_time": "2022-02-05T14:58:48.535Z"
   },
   {
    "duration": 16,
    "start_time": "2022-02-05T14:58:48.975Z"
   },
   {
    "duration": 6,
    "start_time": "2022-02-05T14:58:49.384Z"
   },
   {
    "duration": 11,
    "start_time": "2022-02-05T14:58:54.482Z"
   },
   {
    "duration": 10,
    "start_time": "2022-02-05T14:58:55.898Z"
   },
   {
    "duration": 8,
    "start_time": "2022-02-05T14:58:56.219Z"
   },
   {
    "duration": 5,
    "start_time": "2022-02-05T14:58:56.651Z"
   },
   {
    "duration": 4,
    "start_time": "2022-02-05T14:58:58.554Z"
   },
   {
    "duration": 4,
    "start_time": "2022-02-05T14:58:59.415Z"
   },
   {
    "duration": 10,
    "start_time": "2022-02-05T15:04:24.545Z"
   },
   {
    "duration": 4,
    "start_time": "2022-02-05T15:07:16.000Z"
   },
   {
    "duration": 12,
    "start_time": "2022-02-05T15:07:17.793Z"
   },
   {
    "duration": 11,
    "start_time": "2022-02-05T15:08:10.661Z"
   },
   {
    "duration": 28,
    "start_time": "2022-02-05T15:08:11.496Z"
   },
   {
    "duration": 6,
    "start_time": "2022-02-05T15:08:33.340Z"
   },
   {
    "duration": 5,
    "start_time": "2022-02-05T15:08:40.581Z"
   },
   {
    "duration": 20,
    "start_time": "2022-02-05T15:08:48.154Z"
   },
   {
    "duration": 14,
    "start_time": "2022-02-05T15:08:52.207Z"
   },
   {
    "duration": 5,
    "start_time": "2022-02-05T15:09:48.646Z"
   },
   {
    "duration": 5,
    "start_time": "2022-02-05T15:09:50.136Z"
   },
   {
    "duration": 7,
    "start_time": "2022-02-05T15:10:21.771Z"
   },
   {
    "duration": 3,
    "start_time": "2022-02-05T15:10:25.672Z"
   },
   {
    "duration": 4,
    "start_time": "2022-02-05T15:10:26.180Z"
   },
   {
    "duration": 7,
    "start_time": "2022-02-05T15:10:27.632Z"
   },
   {
    "duration": 1079,
    "start_time": "2022-02-05T15:10:32.786Z"
   },
   {
    "duration": 1159,
    "start_time": "2022-02-05T15:10:33.867Z"
   },
   {
    "duration": 45,
    "start_time": "2022-02-05T15:10:35.027Z"
   },
   {
    "duration": 36,
    "start_time": "2022-02-05T15:10:35.074Z"
   },
   {
    "duration": 29,
    "start_time": "2022-02-05T15:10:35.111Z"
   },
   {
    "duration": 65,
    "start_time": "2022-02-05T15:10:35.141Z"
   },
   {
    "duration": 27,
    "start_time": "2022-02-05T15:10:35.208Z"
   },
   {
    "duration": 68,
    "start_time": "2022-02-05T15:10:35.236Z"
   },
   {
    "duration": 32,
    "start_time": "2022-02-05T15:10:35.307Z"
   },
   {
    "duration": 4,
    "start_time": "2022-02-05T15:10:35.341Z"
   },
   {
    "duration": 42,
    "start_time": "2022-02-05T15:10:35.347Z"
   },
   {
    "duration": 34,
    "start_time": "2022-02-05T15:10:35.391Z"
   },
   {
    "duration": 15,
    "start_time": "2022-02-05T15:10:35.427Z"
   },
   {
    "duration": 31,
    "start_time": "2022-02-05T15:10:35.443Z"
   },
   {
    "duration": 11,
    "start_time": "2022-02-05T15:10:35.475Z"
   },
   {
    "duration": 10,
    "start_time": "2022-02-05T15:10:35.487Z"
   },
   {
    "duration": 8,
    "start_time": "2022-02-05T15:10:35.498Z"
   },
   {
    "duration": 4,
    "start_time": "2022-02-05T15:10:35.507Z"
   },
   {
    "duration": 7,
    "start_time": "2022-02-05T15:10:35.513Z"
   },
   {
    "duration": 5,
    "start_time": "2022-02-05T15:10:35.522Z"
   },
   {
    "duration": 10,
    "start_time": "2022-02-05T15:10:35.528Z"
   },
   {
    "duration": 47,
    "start_time": "2022-02-05T15:10:35.540Z"
   },
   {
    "duration": 13,
    "start_time": "2022-02-05T15:10:35.588Z"
   },
   {
    "duration": 5,
    "start_time": "2022-02-05T15:10:50.295Z"
   },
   {
    "duration": 5,
    "start_time": "2022-02-05T15:10:50.783Z"
   },
   {
    "duration": 5,
    "start_time": "2022-02-05T15:10:52.285Z"
   },
   {
    "duration": 5,
    "start_time": "2022-02-05T15:10:53.265Z"
   },
   {
    "duration": 1078,
    "start_time": "2022-02-05T15:11:00.211Z"
   },
   {
    "duration": 786,
    "start_time": "2022-02-05T15:11:01.290Z"
   },
   {
    "duration": 44,
    "start_time": "2022-02-05T15:11:02.078Z"
   },
   {
    "duration": 58,
    "start_time": "2022-02-05T15:11:02.124Z"
   },
   {
    "duration": 28,
    "start_time": "2022-02-05T15:11:02.184Z"
   },
   {
    "duration": 73,
    "start_time": "2022-02-05T15:11:02.214Z"
   },
   {
    "duration": 29,
    "start_time": "2022-02-05T15:11:02.289Z"
   },
   {
    "duration": 59,
    "start_time": "2022-02-05T15:11:02.320Z"
   },
   {
    "duration": 32,
    "start_time": "2022-02-05T15:11:02.381Z"
   },
   {
    "duration": 4,
    "start_time": "2022-02-05T15:11:02.415Z"
   },
   {
    "duration": 33,
    "start_time": "2022-02-05T15:11:02.420Z"
   },
   {
    "duration": 54,
    "start_time": "2022-02-05T15:11:02.454Z"
   },
   {
    "duration": 16,
    "start_time": "2022-02-05T15:11:02.509Z"
   },
   {
    "duration": 7,
    "start_time": "2022-02-05T15:11:02.526Z"
   },
   {
    "duration": 11,
    "start_time": "2022-02-05T15:11:02.534Z"
   },
   {
    "duration": 10,
    "start_time": "2022-02-05T15:11:02.571Z"
   },
   {
    "duration": 8,
    "start_time": "2022-02-05T15:11:02.582Z"
   },
   {
    "duration": 5,
    "start_time": "2022-02-05T15:11:02.591Z"
   },
   {
    "duration": 3,
    "start_time": "2022-02-05T15:11:02.597Z"
   },
   {
    "duration": 5,
    "start_time": "2022-02-05T15:11:02.602Z"
   },
   {
    "duration": 8,
    "start_time": "2022-02-05T15:11:02.609Z"
   },
   {
    "duration": 7,
    "start_time": "2022-02-05T15:11:02.618Z"
   },
   {
    "duration": 52,
    "start_time": "2022-02-05T15:11:02.628Z"
   },
   {
    "duration": 12,
    "start_time": "2022-02-05T15:11:02.682Z"
   },
   {
    "duration": 28,
    "start_time": "2022-02-05T15:20:02.615Z"
   },
   {
    "duration": 106,
    "start_time": "2022-02-05T15:20:42.399Z"
   },
   {
    "duration": 27,
    "start_time": "2022-02-05T15:22:23.226Z"
   },
   {
    "duration": 1078,
    "start_time": "2022-02-05T15:22:45.794Z"
   },
   {
    "duration": 1247,
    "start_time": "2022-02-05T15:22:46.873Z"
   },
   {
    "duration": 43,
    "start_time": "2022-02-05T15:22:48.122Z"
   },
   {
    "duration": 37,
    "start_time": "2022-02-05T15:22:48.166Z"
   },
   {
    "duration": 27,
    "start_time": "2022-02-05T15:22:48.205Z"
   },
   {
    "duration": 62,
    "start_time": "2022-02-05T15:22:48.233Z"
   },
   {
    "duration": 28,
    "start_time": "2022-02-05T15:22:48.297Z"
   },
   {
    "duration": 72,
    "start_time": "2022-02-05T15:22:48.327Z"
   },
   {
    "duration": 31,
    "start_time": "2022-02-05T15:22:48.401Z"
   },
   {
    "duration": 3,
    "start_time": "2022-02-05T15:22:48.434Z"
   },
   {
    "duration": 45,
    "start_time": "2022-02-05T15:22:48.439Z"
   },
   {
    "duration": 35,
    "start_time": "2022-02-05T15:22:48.485Z"
   },
   {
    "duration": 15,
    "start_time": "2022-02-05T15:22:48.521Z"
   },
   {
    "duration": 6,
    "start_time": "2022-02-05T15:22:48.538Z"
   },
   {
    "duration": 35,
    "start_time": "2022-02-05T15:22:48.546Z"
   },
   {
    "duration": 10,
    "start_time": "2022-02-05T15:22:48.582Z"
   },
   {
    "duration": 8,
    "start_time": "2022-02-05T15:22:48.594Z"
   },
   {
    "duration": 5,
    "start_time": "2022-02-05T15:22:48.603Z"
   },
   {
    "duration": 4,
    "start_time": "2022-02-05T15:22:48.610Z"
   },
   {
    "duration": 6,
    "start_time": "2022-02-05T15:22:48.615Z"
   },
   {
    "duration": 10,
    "start_time": "2022-02-05T15:22:48.622Z"
   },
   {
    "duration": 38,
    "start_time": "2022-02-05T15:22:48.633Z"
   },
   {
    "duration": 19,
    "start_time": "2022-02-05T15:22:48.674Z"
   },
   {
    "duration": 12,
    "start_time": "2022-02-05T15:22:48.695Z"
   },
   {
    "duration": 25,
    "start_time": "2022-02-05T15:22:48.709Z"
   },
   {
    "duration": 25,
    "start_time": "2022-02-05T15:39:04.030Z"
   },
   {
    "duration": 31,
    "start_time": "2022-02-05T15:39:27.613Z"
   },
   {
    "duration": 28,
    "start_time": "2022-02-05T15:39:42.782Z"
   },
   {
    "duration": 6,
    "start_time": "2022-02-05T15:42:02.522Z"
   },
   {
    "duration": 3,
    "start_time": "2022-02-05T15:42:12.460Z"
   },
   {
    "duration": 6,
    "start_time": "2022-02-05T15:42:13.970Z"
   },
   {
    "duration": 1081,
    "start_time": "2022-02-05T15:42:20.010Z"
   },
   {
    "duration": 1062,
    "start_time": "2022-02-05T15:42:21.093Z"
   },
   {
    "duration": 44,
    "start_time": "2022-02-05T15:42:22.157Z"
   },
   {
    "duration": 45,
    "start_time": "2022-02-05T15:42:22.202Z"
   },
   {
    "duration": 49,
    "start_time": "2022-02-05T15:42:22.249Z"
   },
   {
    "duration": 39,
    "start_time": "2022-02-05T15:42:22.299Z"
   },
   {
    "duration": 27,
    "start_time": "2022-02-05T15:42:22.372Z"
   },
   {
    "duration": 40,
    "start_time": "2022-02-05T15:42:22.402Z"
   },
   {
    "duration": 55,
    "start_time": "2022-02-05T15:42:22.444Z"
   },
   {
    "duration": 4,
    "start_time": "2022-02-05T15:42:22.500Z"
   },
   {
    "duration": 32,
    "start_time": "2022-02-05T15:42:22.506Z"
   },
   {
    "duration": 56,
    "start_time": "2022-02-05T15:42:22.539Z"
   },
   {
    "duration": 16,
    "start_time": "2022-02-05T15:42:22.596Z"
   },
   {
    "duration": 7,
    "start_time": "2022-02-05T15:42:22.613Z"
   },
   {
    "duration": 11,
    "start_time": "2022-02-05T15:42:22.621Z"
   },
   {
    "duration": 42,
    "start_time": "2022-02-05T15:42:22.634Z"
   },
   {
    "duration": 9,
    "start_time": "2022-02-05T15:42:22.678Z"
   },
   {
    "duration": 6,
    "start_time": "2022-02-05T15:42:22.688Z"
   },
   {
    "duration": 5,
    "start_time": "2022-02-05T15:42:22.695Z"
   },
   {
    "duration": 7,
    "start_time": "2022-02-05T15:42:22.701Z"
   },
   {
    "duration": 8,
    "start_time": "2022-02-05T15:42:22.710Z"
   },
   {
    "duration": 7,
    "start_time": "2022-02-05T15:42:22.720Z"
   },
   {
    "duration": 65,
    "start_time": "2022-02-05T15:42:22.731Z"
   },
   {
    "duration": 20,
    "start_time": "2022-02-05T15:42:22.798Z"
   },
   {
    "duration": 32,
    "start_time": "2022-02-05T15:42:22.820Z"
   },
   {
    "duration": 4,
    "start_time": "2022-02-05T15:44:43.073Z"
   },
   {
    "duration": 4,
    "start_time": "2022-02-05T15:50:10.668Z"
   },
   {
    "duration": 26,
    "start_time": "2022-02-05T15:50:24.470Z"
   },
   {
    "duration": 1194,
    "start_time": "2022-02-05T15:51:30.909Z"
   },
   {
    "duration": 878,
    "start_time": "2022-02-05T15:51:32.105Z"
   },
   {
    "duration": 67,
    "start_time": "2022-02-05T15:51:32.985Z"
   },
   {
    "duration": 54,
    "start_time": "2022-02-05T15:51:33.054Z"
   },
   {
    "duration": 28,
    "start_time": "2022-02-05T15:51:33.110Z"
   },
   {
    "duration": 63,
    "start_time": "2022-02-05T15:51:33.141Z"
   },
   {
    "duration": 27,
    "start_time": "2022-02-05T15:51:33.206Z"
   },
   {
    "duration": 63,
    "start_time": "2022-02-05T15:51:33.234Z"
   },
   {
    "duration": 31,
    "start_time": "2022-02-05T15:51:33.299Z"
   },
   {
    "duration": 4,
    "start_time": "2022-02-05T15:51:33.332Z"
   },
   {
    "duration": 50,
    "start_time": "2022-02-05T15:51:33.337Z"
   },
   {
    "duration": 34,
    "start_time": "2022-02-05T15:51:33.389Z"
   },
   {
    "duration": 14,
    "start_time": "2022-02-05T15:51:33.424Z"
   },
   {
    "duration": 6,
    "start_time": "2022-02-05T15:51:33.440Z"
   },
   {
    "duration": 29,
    "start_time": "2022-02-05T15:51:33.448Z"
   },
   {
    "duration": 10,
    "start_time": "2022-02-05T15:51:33.478Z"
   },
   {
    "duration": 19,
    "start_time": "2022-02-05T15:51:33.489Z"
   },
   {
    "duration": 18,
    "start_time": "2022-02-05T15:51:33.509Z"
   },
   {
    "duration": 19,
    "start_time": "2022-02-05T15:51:33.529Z"
   },
   {
    "duration": 11,
    "start_time": "2022-02-05T15:51:33.550Z"
   },
   {
    "duration": 17,
    "start_time": "2022-02-05T15:51:33.563Z"
   },
   {
    "duration": 14,
    "start_time": "2022-02-05T15:51:33.581Z"
   },
   {
    "duration": 25,
    "start_time": "2022-02-05T15:51:33.596Z"
   },
   {
    "duration": 28,
    "start_time": "2022-02-05T15:51:33.622Z"
   },
   {
    "duration": 35,
    "start_time": "2022-02-05T15:51:33.651Z"
   },
   {
    "duration": 6,
    "start_time": "2022-02-05T16:08:00.949Z"
   },
   {
    "duration": 102,
    "start_time": "2022-02-05T16:08:02.606Z"
   },
   {
    "duration": 7,
    "start_time": "2022-02-05T16:08:27.229Z"
   },
   {
    "duration": 6,
    "start_time": "2022-02-05T16:08:38.221Z"
   },
   {
    "duration": 1061,
    "start_time": "2022-02-05T16:08:43.115Z"
   },
   {
    "duration": 1214,
    "start_time": "2022-02-05T16:08:44.178Z"
   },
   {
    "duration": 43,
    "start_time": "2022-02-05T16:08:45.394Z"
   },
   {
    "duration": 39,
    "start_time": "2022-02-05T16:08:45.439Z"
   },
   {
    "duration": 34,
    "start_time": "2022-02-05T16:08:45.480Z"
   },
   {
    "duration": 67,
    "start_time": "2022-02-05T16:08:45.516Z"
   },
   {
    "duration": 28,
    "start_time": "2022-02-05T16:08:45.585Z"
   },
   {
    "duration": 70,
    "start_time": "2022-02-05T16:08:45.615Z"
   },
   {
    "duration": 33,
    "start_time": "2022-02-05T16:08:45.688Z"
   },
   {
    "duration": 4,
    "start_time": "2022-02-05T16:08:45.723Z"
   },
   {
    "duration": 46,
    "start_time": "2022-02-05T16:08:45.728Z"
   },
   {
    "duration": 39,
    "start_time": "2022-02-05T16:08:45.776Z"
   },
   {
    "duration": 19,
    "start_time": "2022-02-05T16:08:45.816Z"
   },
   {
    "duration": 36,
    "start_time": "2022-02-05T16:08:45.837Z"
   },
   {
    "duration": 12,
    "start_time": "2022-02-05T16:08:45.875Z"
   },
   {
    "duration": 11,
    "start_time": "2022-02-05T16:08:45.889Z"
   },
   {
    "duration": 9,
    "start_time": "2022-02-05T16:08:45.902Z"
   },
   {
    "duration": 5,
    "start_time": "2022-02-05T16:08:45.913Z"
   },
   {
    "duration": 4,
    "start_time": "2022-02-05T16:08:45.920Z"
   },
   {
    "duration": 5,
    "start_time": "2022-02-05T16:08:45.926Z"
   },
   {
    "duration": 48,
    "start_time": "2022-02-05T16:08:45.933Z"
   },
   {
    "duration": 8,
    "start_time": "2022-02-05T16:08:45.983Z"
   },
   {
    "duration": 19,
    "start_time": "2022-02-05T16:08:45.993Z"
   },
   {
    "duration": 17,
    "start_time": "2022-02-05T16:08:46.014Z"
   },
   {
    "duration": 61,
    "start_time": "2022-02-05T16:08:46.033Z"
   },
   {
    "duration": 1060,
    "start_time": "2022-02-05T16:25:40.016Z"
   },
   {
    "duration": 1039,
    "start_time": "2022-02-05T16:25:41.077Z"
   },
   {
    "duration": 43,
    "start_time": "2022-02-05T16:25:42.118Z"
   },
   {
    "duration": 35,
    "start_time": "2022-02-05T16:25:42.163Z"
   },
   {
    "duration": 26,
    "start_time": "2022-02-05T16:25:42.199Z"
   },
   {
    "duration": 63,
    "start_time": "2022-02-05T16:25:42.226Z"
   },
   {
    "duration": 29,
    "start_time": "2022-02-05T16:25:42.290Z"
   },
   {
    "duration": 62,
    "start_time": "2022-02-05T16:25:42.322Z"
   },
   {
    "duration": 32,
    "start_time": "2022-02-05T16:25:42.386Z"
   },
   {
    "duration": 4,
    "start_time": "2022-02-05T16:25:42.420Z"
   },
   {
    "duration": 47,
    "start_time": "2022-02-05T16:25:42.425Z"
   },
   {
    "duration": 36,
    "start_time": "2022-02-05T16:25:42.474Z"
   },
   {
    "duration": 16,
    "start_time": "2022-02-05T16:25:42.512Z"
   },
   {
    "duration": 6,
    "start_time": "2022-02-05T16:25:42.529Z"
   },
   {
    "duration": 36,
    "start_time": "2022-02-05T16:25:42.536Z"
   },
   {
    "duration": 10,
    "start_time": "2022-02-05T16:25:42.574Z"
   },
   {
    "duration": 16,
    "start_time": "2022-02-05T16:25:42.585Z"
   },
   {
    "duration": 18,
    "start_time": "2022-02-05T16:25:42.603Z"
   },
   {
    "duration": 7,
    "start_time": "2022-02-05T16:25:42.623Z"
   },
   {
    "duration": 21,
    "start_time": "2022-02-05T16:25:42.631Z"
   },
   {
    "duration": 17,
    "start_time": "2022-02-05T16:25:42.654Z"
   },
   {
    "duration": 18,
    "start_time": "2022-02-05T16:25:42.672Z"
   },
   {
    "duration": 29,
    "start_time": "2022-02-05T16:25:42.693Z"
   },
   {
    "duration": 15,
    "start_time": "2022-02-05T16:25:42.723Z"
   },
   {
    "duration": 32,
    "start_time": "2022-02-05T16:25:42.740Z"
   },
   {
    "duration": 484,
    "start_time": "2022-02-05T16:36:25.053Z"
   },
   {
    "duration": 14,
    "start_time": "2022-02-05T16:36:35.686Z"
   },
   {
    "duration": 16,
    "start_time": "2022-02-05T16:37:09.410Z"
   },
   {
    "duration": 112,
    "start_time": "2022-02-05T16:37:20.282Z"
   },
   {
    "duration": 13,
    "start_time": "2022-02-05T16:37:29.989Z"
   },
   {
    "duration": 13,
    "start_time": "2022-02-05T16:38:10.221Z"
   },
   {
    "duration": 19,
    "start_time": "2022-02-05T16:38:33.292Z"
   },
   {
    "duration": 20,
    "start_time": "2022-02-05T16:38:57.090Z"
   },
   {
    "duration": 358,
    "start_time": "2022-02-05T16:41:09.729Z"
   },
   {
    "duration": 344,
    "start_time": "2022-02-05T16:41:23.309Z"
   },
   {
    "duration": 17,
    "start_time": "2022-02-05T16:42:43.990Z"
   },
   {
    "duration": 20,
    "start_time": "2022-02-05T16:43:09.088Z"
   },
   {
    "duration": 19,
    "start_time": "2022-02-05T16:43:12.560Z"
   },
   {
    "duration": 20,
    "start_time": "2022-02-05T16:43:28.098Z"
   },
   {
    "duration": 21,
    "start_time": "2022-02-05T16:44:01.487Z"
   },
   {
    "duration": 15,
    "start_time": "2022-02-05T16:47:40.915Z"
   },
   {
    "duration": 17,
    "start_time": "2022-02-05T16:48:08.488Z"
   },
   {
    "duration": 17,
    "start_time": "2022-02-05T16:48:11.381Z"
   },
   {
    "duration": 16,
    "start_time": "2022-02-05T16:48:17.895Z"
   },
   {
    "duration": 1127,
    "start_time": "2022-02-05T16:49:03.354Z"
   },
   {
    "duration": 2589,
    "start_time": "2022-02-05T16:49:04.483Z"
   },
   {
    "duration": 44,
    "start_time": "2022-02-05T16:49:07.074Z"
   },
   {
    "duration": 36,
    "start_time": "2022-02-05T16:49:07.119Z"
   },
   {
    "duration": 26,
    "start_time": "2022-02-05T16:49:07.172Z"
   },
   {
    "duration": 38,
    "start_time": "2022-02-05T16:49:07.199Z"
   },
   {
    "duration": 64,
    "start_time": "2022-02-05T16:49:07.238Z"
   },
   {
    "duration": 43,
    "start_time": "2022-02-05T16:49:07.304Z"
   },
   {
    "duration": 48,
    "start_time": "2022-02-05T16:49:07.350Z"
   },
   {
    "duration": 4,
    "start_time": "2022-02-05T16:49:07.400Z"
   },
   {
    "duration": 34,
    "start_time": "2022-02-05T16:49:07.405Z"
   },
   {
    "duration": 54,
    "start_time": "2022-02-05T16:49:07.441Z"
   },
   {
    "duration": 16,
    "start_time": "2022-02-05T16:49:07.496Z"
   },
   {
    "duration": 6,
    "start_time": "2022-02-05T16:49:07.514Z"
   },
   {
    "duration": 11,
    "start_time": "2022-02-05T16:49:07.521Z"
   },
   {
    "duration": 11,
    "start_time": "2022-02-05T16:49:07.534Z"
   },
   {
    "duration": 10,
    "start_time": "2022-02-05T16:49:07.571Z"
   },
   {
    "duration": 6,
    "start_time": "2022-02-05T16:49:07.583Z"
   },
   {
    "duration": 3,
    "start_time": "2022-02-05T16:49:07.591Z"
   },
   {
    "duration": 6,
    "start_time": "2022-02-05T16:49:07.596Z"
   },
   {
    "duration": 12,
    "start_time": "2022-02-05T16:49:07.603Z"
   },
   {
    "duration": 10,
    "start_time": "2022-02-05T16:49:07.616Z"
   },
   {
    "duration": 58,
    "start_time": "2022-02-05T16:49:07.628Z"
   },
   {
    "duration": 14,
    "start_time": "2022-02-05T16:49:07.688Z"
   },
   {
    "duration": 27,
    "start_time": "2022-02-05T16:49:07.704Z"
   },
   {
    "duration": 49,
    "start_time": "2022-02-05T16:49:07.732Z"
   },
   {
    "duration": 19,
    "start_time": "2022-02-05T16:49:07.784Z"
   },
   {
    "duration": 15,
    "start_time": "2022-02-05T16:49:07.805Z"
   },
   {
    "duration": 10,
    "start_time": "2022-02-05T16:49:37.687Z"
   },
   {
    "duration": 20,
    "start_time": "2022-02-05T16:50:04.856Z"
   },
   {
    "duration": 114,
    "start_time": "2022-02-05T16:52:05.050Z"
   },
   {
    "duration": 406,
    "start_time": "2022-02-05T16:52:17.192Z"
   },
   {
    "duration": 322,
    "start_time": "2022-02-05T16:52:29.180Z"
   },
   {
    "duration": 12,
    "start_time": "2022-02-05T16:56:14.972Z"
   },
   {
    "duration": 1235,
    "start_time": "2022-02-05T16:58:33.771Z"
   },
   {
    "duration": 857,
    "start_time": "2022-02-05T16:58:35.008Z"
   },
   {
    "duration": 47,
    "start_time": "2022-02-05T16:58:35.866Z"
   },
   {
    "duration": 58,
    "start_time": "2022-02-05T16:58:35.915Z"
   },
   {
    "duration": 33,
    "start_time": "2022-02-05T16:58:35.975Z"
   },
   {
    "duration": 70,
    "start_time": "2022-02-05T16:58:36.010Z"
   },
   {
    "duration": 29,
    "start_time": "2022-02-05T16:58:36.082Z"
   },
   {
    "duration": 70,
    "start_time": "2022-02-05T16:58:36.112Z"
   },
   {
    "duration": 32,
    "start_time": "2022-02-05T16:58:36.185Z"
   },
   {
    "duration": 4,
    "start_time": "2022-02-05T16:58:36.219Z"
   },
   {
    "duration": 49,
    "start_time": "2022-02-05T16:58:36.225Z"
   },
   {
    "duration": 42,
    "start_time": "2022-02-05T16:58:36.276Z"
   },
   {
    "duration": 16,
    "start_time": "2022-02-05T16:58:36.319Z"
   },
   {
    "duration": 6,
    "start_time": "2022-02-05T16:58:36.337Z"
   },
   {
    "duration": 38,
    "start_time": "2022-02-05T16:58:36.344Z"
   },
   {
    "duration": 11,
    "start_time": "2022-02-05T16:58:36.383Z"
   },
   {
    "duration": 9,
    "start_time": "2022-02-05T16:58:36.395Z"
   },
   {
    "duration": 7,
    "start_time": "2022-02-05T16:58:36.406Z"
   },
   {
    "duration": 4,
    "start_time": "2022-02-05T16:58:36.415Z"
   },
   {
    "duration": 6,
    "start_time": "2022-02-05T16:58:36.420Z"
   },
   {
    "duration": 49,
    "start_time": "2022-02-05T16:58:36.428Z"
   },
   {
    "duration": 9,
    "start_time": "2022-02-05T16:58:36.479Z"
   },
   {
    "duration": 21,
    "start_time": "2022-02-05T16:58:36.489Z"
   },
   {
    "duration": 13,
    "start_time": "2022-02-05T16:58:36.512Z"
   },
   {
    "duration": 51,
    "start_time": "2022-02-05T16:58:36.527Z"
   },
   {
    "duration": 23,
    "start_time": "2022-02-05T16:58:36.580Z"
   },
   {
    "duration": 19,
    "start_time": "2022-02-05T16:58:36.607Z"
   },
   {
    "duration": 17,
    "start_time": "2022-02-05T16:58:36.627Z"
   },
   {
    "duration": 35,
    "start_time": "2022-02-05T16:58:36.645Z"
   },
   {
    "duration": 8044,
    "start_time": "2022-02-05T17:37:40.432Z"
   },
   {
    "duration": 8075,
    "start_time": "2022-02-05T17:37:58.881Z"
   },
   {
    "duration": 1100,
    "start_time": "2022-02-05T17:38:09.472Z"
   },
   {
    "duration": 1077,
    "start_time": "2022-02-05T17:38:10.574Z"
   },
   {
    "duration": 44,
    "start_time": "2022-02-05T17:38:11.653Z"
   },
   {
    "duration": 36,
    "start_time": "2022-02-05T17:38:11.698Z"
   },
   {
    "duration": 50,
    "start_time": "2022-02-05T17:38:11.735Z"
   },
   {
    "duration": 37,
    "start_time": "2022-02-05T17:38:11.786Z"
   },
   {
    "duration": 54,
    "start_time": "2022-02-05T17:38:11.825Z"
   },
   {
    "duration": 41,
    "start_time": "2022-02-05T17:38:11.880Z"
   },
   {
    "duration": 49,
    "start_time": "2022-02-05T17:38:11.923Z"
   },
   {
    "duration": 5,
    "start_time": "2022-02-05T17:38:11.975Z"
   },
   {
    "duration": 36,
    "start_time": "2022-02-05T17:38:11.982Z"
   },
   {
    "duration": 56,
    "start_time": "2022-02-05T17:38:12.020Z"
   },
   {
    "duration": 16,
    "start_time": "2022-02-05T17:38:12.077Z"
   },
   {
    "duration": 7,
    "start_time": "2022-02-05T17:38:12.095Z"
   },
   {
    "duration": 12,
    "start_time": "2022-02-05T17:38:12.104Z"
   },
   {
    "duration": 10,
    "start_time": "2022-02-05T17:38:12.118Z"
   },
   {
    "duration": 42,
    "start_time": "2022-02-05T17:38:12.130Z"
   },
   {
    "duration": 7,
    "start_time": "2022-02-05T17:38:12.174Z"
   },
   {
    "duration": 5,
    "start_time": "2022-02-05T17:38:12.183Z"
   },
   {
    "duration": 5,
    "start_time": "2022-02-05T17:38:12.189Z"
   },
   {
    "duration": 12,
    "start_time": "2022-02-05T17:38:12.196Z"
   },
   {
    "duration": 9,
    "start_time": "2022-02-05T17:38:12.210Z"
   },
   {
    "duration": 56,
    "start_time": "2022-02-05T17:38:12.221Z"
   },
   {
    "duration": 13,
    "start_time": "2022-02-05T17:38:12.279Z"
   },
   {
    "duration": 27,
    "start_time": "2022-02-05T17:38:12.294Z"
   },
   {
    "duration": 8226,
    "start_time": "2022-02-05T17:38:12.322Z"
   },
   {
    "duration": -582,
    "start_time": "2022-02-05T17:38:21.132Z"
   },
   {
    "duration": -584,
    "start_time": "2022-02-05T17:38:21.135Z"
   },
   {
    "duration": -603,
    "start_time": "2022-02-05T17:38:21.155Z"
   },
   {
    "duration": 448,
    "start_time": "2022-02-05T17:38:54.856Z"
   },
   {
    "duration": 384,
    "start_time": "2022-02-05T17:39:16.753Z"
   },
   {
    "duration": 21,
    "start_time": "2022-02-05T17:40:33.459Z"
   },
   {
    "duration": 8278,
    "start_time": "2022-02-05T17:41:36.046Z"
   },
   {
    "duration": 29,
    "start_time": "2022-02-05T17:41:46.467Z"
   },
   {
    "duration": 22,
    "start_time": "2022-02-05T17:41:51.236Z"
   },
   {
    "duration": 468,
    "start_time": "2022-02-05T17:43:14.436Z"
   },
   {
    "duration": 311,
    "start_time": "2022-02-05T17:47:31.741Z"
   },
   {
    "duration": 8117,
    "start_time": "2022-02-05T17:48:13.154Z"
   },
   {
    "duration": 314,
    "start_time": "2022-02-05T17:48:39.707Z"
   },
   {
    "duration": 409,
    "start_time": "2022-02-05T17:48:51.703Z"
   },
   {
    "duration": 379,
    "start_time": "2022-02-05T17:49:05.799Z"
   },
   {
    "duration": 378,
    "start_time": "2022-02-05T17:49:48.369Z"
   },
   {
    "duration": 570,
    "start_time": "2022-02-05T17:49:57.294Z"
   },
   {
    "duration": 323,
    "start_time": "2022-02-05T17:50:15.787Z"
   },
   {
    "duration": 380,
    "start_time": "2022-02-05T17:50:30.708Z"
   },
   {
    "duration": 22,
    "start_time": "2022-02-05T17:51:16.439Z"
   },
   {
    "duration": 362,
    "start_time": "2022-02-05T17:51:48.760Z"
   },
   {
    "duration": 18,
    "start_time": "2022-02-05T17:51:58.986Z"
   },
   {
    "duration": 272,
    "start_time": "2022-02-05T17:52:54.088Z"
   },
   {
    "duration": 12,
    "start_time": "2022-02-05T17:53:34.255Z"
   },
   {
    "duration": 288,
    "start_time": "2022-02-05T17:54:26.348Z"
   },
   {
    "duration": 345,
    "start_time": "2022-02-06T07:52:11.823Z"
   },
   {
    "duration": 322,
    "start_time": "2022-02-06T07:52:19.632Z"
   },
   {
    "duration": 1451,
    "start_time": "2022-02-06T07:52:35.225Z"
   },
   {
    "duration": 1174,
    "start_time": "2022-02-06T07:52:36.678Z"
   },
   {
    "duration": 68,
    "start_time": "2022-02-06T07:52:37.855Z"
   },
   {
    "duration": 56,
    "start_time": "2022-02-06T07:52:37.926Z"
   },
   {
    "duration": 64,
    "start_time": "2022-02-06T07:52:37.985Z"
   },
   {
    "duration": 93,
    "start_time": "2022-02-06T07:52:38.052Z"
   },
   {
    "duration": 80,
    "start_time": "2022-02-06T07:52:38.147Z"
   },
   {
    "duration": 65,
    "start_time": "2022-02-06T07:52:38.231Z"
   },
   {
    "duration": 59,
    "start_time": "2022-02-06T07:52:38.299Z"
   },
   {
    "duration": 5,
    "start_time": "2022-02-06T07:52:38.361Z"
   },
   {
    "duration": 72,
    "start_time": "2022-02-06T07:52:38.368Z"
   },
   {
    "duration": 53,
    "start_time": "2022-02-06T07:52:38.443Z"
   },
   {
    "duration": 42,
    "start_time": "2022-02-06T07:52:38.498Z"
   },
   {
    "duration": 11,
    "start_time": "2022-02-06T07:52:38.543Z"
   },
   {
    "duration": 17,
    "start_time": "2022-02-06T07:52:38.556Z"
   },
   {
    "duration": 54,
    "start_time": "2022-02-06T07:52:38.575Z"
   },
   {
    "duration": 13,
    "start_time": "2022-02-06T07:52:38.631Z"
   },
   {
    "duration": 8,
    "start_time": "2022-02-06T07:52:38.647Z"
   },
   {
    "duration": 5,
    "start_time": "2022-02-06T07:52:38.658Z"
   },
   {
    "duration": 10,
    "start_time": "2022-02-06T07:52:38.665Z"
   },
   {
    "duration": 48,
    "start_time": "2022-02-06T07:52:38.677Z"
   },
   {
    "duration": 12,
    "start_time": "2022-02-06T07:52:38.727Z"
   },
   {
    "duration": 26,
    "start_time": "2022-02-06T07:52:38.744Z"
   },
   {
    "duration": 58,
    "start_time": "2022-02-06T07:52:38.773Z"
   },
   {
    "duration": 42,
    "start_time": "2022-02-06T07:52:38.833Z"
   },
   {
    "duration": 70,
    "start_time": "2022-02-06T07:52:38.879Z"
   },
   {
    "duration": 28,
    "start_time": "2022-02-06T07:52:38.952Z"
   },
   {
    "duration": 52,
    "start_time": "2022-02-06T07:52:38.982Z"
   },
   {
    "duration": 17,
    "start_time": "2022-02-06T07:52:39.036Z"
   },
   {
    "duration": 63,
    "start_time": "2022-02-06T07:53:23.048Z"
   },
   {
    "duration": 432,
    "start_time": "2022-02-06T07:55:08.722Z"
   },
   {
    "duration": 321,
    "start_time": "2022-02-06T07:58:31.629Z"
   },
   {
    "duration": 301,
    "start_time": "2022-02-06T07:58:49.372Z"
   },
   {
    "duration": 296,
    "start_time": "2022-02-06T07:59:07.067Z"
   },
   {
    "duration": 283,
    "start_time": "2022-02-06T07:59:16.849Z"
   },
   {
    "duration": 381,
    "start_time": "2022-02-06T07:59:34.151Z"
   },
   {
    "duration": 19,
    "start_time": "2022-02-06T08:02:18.721Z"
   },
   {
    "duration": 68,
    "start_time": "2022-02-06T08:30:05.095Z"
   },
   {
    "duration": 77,
    "start_time": "2022-02-06T08:30:18.192Z"
   },
   {
    "duration": 1217,
    "start_time": "2022-02-06T10:33:46.784Z"
   },
   {
    "duration": 49,
    "start_time": "2022-02-06T10:35:17.601Z"
   },
   {
    "duration": 43,
    "start_time": "2022-02-06T10:37:28.005Z"
   },
   {
    "duration": 43,
    "start_time": "2022-02-06T10:38:14.026Z"
   },
   {
    "duration": 49,
    "start_time": "2022-02-06T10:47:34.442Z"
   },
   {
    "duration": 9,
    "start_time": "2022-02-06T10:48:15.960Z"
   },
   {
    "duration": 5,
    "start_time": "2022-02-06T10:48:42.925Z"
   },
   {
    "duration": 10,
    "start_time": "2022-02-06T10:49:32.470Z"
   },
   {
    "duration": 102,
    "start_time": "2022-02-06T10:51:01.993Z"
   },
   {
    "duration": 88,
    "start_time": "2022-02-06T11:03:18.342Z"
   },
   {
    "duration": 66,
    "start_time": "2022-02-06T11:03:50.637Z"
   },
   {
    "duration": 114,
    "start_time": "2022-02-06T11:09:57.788Z"
   },
   {
    "duration": 7,
    "start_time": "2022-02-06T11:10:04.714Z"
   },
   {
    "duration": 5,
    "start_time": "2022-02-06T11:10:06.010Z"
   },
   {
    "duration": 9,
    "start_time": "2022-02-06T11:10:10.426Z"
   },
   {
    "duration": 7530,
    "start_time": "2022-02-06T11:52:23.993Z"
   },
   {
    "duration": 299,
    "start_time": "2022-02-06T11:52:59.578Z"
   },
   {
    "duration": 331,
    "start_time": "2022-02-06T11:53:38.832Z"
   },
   {
    "duration": 16,
    "start_time": "2022-02-06T11:54:01.559Z"
   },
   {
    "duration": 18,
    "start_time": "2022-02-06T11:54:41.373Z"
   },
   {
    "duration": 8614,
    "start_time": "2022-02-06T11:55:27.037Z"
   },
   {
    "duration": -1464,
    "start_time": "2022-02-06T11:55:37.117Z"
   },
   {
    "duration": 26,
    "start_time": "2022-02-06T11:56:20.396Z"
   },
   {
    "duration": 5,
    "start_time": "2022-02-06T11:56:21.796Z"
   },
   {
    "duration": 19,
    "start_time": "2022-02-06T11:56:25.138Z"
   },
   {
    "duration": 6,
    "start_time": "2022-02-06T12:00:13.219Z"
   },
   {
    "duration": 23,
    "start_time": "2022-02-06T12:00:15.642Z"
   },
   {
    "duration": 6,
    "start_time": "2022-02-06T12:00:25.443Z"
   },
   {
    "duration": 22,
    "start_time": "2022-02-06T12:00:26.255Z"
   },
   {
    "duration": 27,
    "start_time": "2022-02-06T12:00:50.620Z"
   },
   {
    "duration": 5,
    "start_time": "2022-02-06T12:00:52.028Z"
   },
   {
    "duration": 27,
    "start_time": "2022-02-06T12:00:54.513Z"
   },
   {
    "duration": 27,
    "start_time": "2022-02-06T12:03:32.027Z"
   },
   {
    "duration": 5,
    "start_time": "2022-02-06T12:03:38.777Z"
   },
   {
    "duration": 6,
    "start_time": "2022-02-06T12:03:40.221Z"
   },
   {
    "duration": 19,
    "start_time": "2022-02-06T12:03:41.773Z"
   },
   {
    "duration": 1441,
    "start_time": "2022-02-06T12:04:19.237Z"
   },
   {
    "duration": 935,
    "start_time": "2022-02-06T12:04:20.680Z"
   },
   {
    "duration": 66,
    "start_time": "2022-02-06T12:04:21.618Z"
   },
   {
    "duration": 74,
    "start_time": "2022-02-06T12:04:21.687Z"
   },
   {
    "duration": 73,
    "start_time": "2022-02-06T12:04:21.764Z"
   },
   {
    "duration": 89,
    "start_time": "2022-02-06T12:04:21.840Z"
   },
   {
    "duration": 53,
    "start_time": "2022-02-06T12:04:21.931Z"
   },
   {
    "duration": 65,
    "start_time": "2022-02-06T12:04:22.024Z"
   },
   {
    "duration": 68,
    "start_time": "2022-02-06T12:04:22.093Z"
   },
   {
    "duration": 8,
    "start_time": "2022-02-06T12:04:22.164Z"
   },
   {
    "duration": 79,
    "start_time": "2022-02-06T12:04:22.175Z"
   },
   {
    "duration": 73,
    "start_time": "2022-02-06T12:04:22.257Z"
   },
   {
    "duration": 27,
    "start_time": "2022-02-06T12:04:22.332Z"
   },
   {
    "duration": 10,
    "start_time": "2022-02-06T12:04:22.362Z"
   },
   {
    "duration": 50,
    "start_time": "2022-02-06T12:04:22.374Z"
   },
   {
    "duration": 15,
    "start_time": "2022-02-06T12:04:22.427Z"
   },
   {
    "duration": 13,
    "start_time": "2022-02-06T12:04:22.445Z"
   },
   {
    "duration": 14,
    "start_time": "2022-02-06T12:04:22.460Z"
   },
   {
    "duration": 9,
    "start_time": "2022-02-06T12:04:22.477Z"
   },
   {
    "duration": 38,
    "start_time": "2022-02-06T12:04:22.488Z"
   },
   {
    "duration": 25,
    "start_time": "2022-02-06T12:04:22.528Z"
   },
   {
    "duration": 12,
    "start_time": "2022-02-06T12:04:22.556Z"
   },
   {
    "duration": 50,
    "start_time": "2022-02-06T12:04:22.573Z"
   },
   {
    "duration": 19,
    "start_time": "2022-02-06T12:04:22.626Z"
   },
   {
    "duration": 41,
    "start_time": "2022-02-06T12:04:22.648Z"
   },
   {
    "duration": 70,
    "start_time": "2022-02-06T12:04:22.691Z"
   },
   {
    "duration": 28,
    "start_time": "2022-02-06T12:04:22.763Z"
   },
   {
    "duration": 46,
    "start_time": "2022-02-06T12:04:22.793Z"
   },
   {
    "duration": 11,
    "start_time": "2022-02-06T12:04:22.842Z"
   },
   {
    "duration": 5,
    "start_time": "2022-02-06T12:04:22.856Z"
   },
   {
    "duration": 19,
    "start_time": "2022-02-06T12:04:22.863Z"
   },
   {
    "duration": 53,
    "start_time": "2022-02-06T12:04:22.884Z"
   },
   {
    "duration": 91,
    "start_time": "2022-02-06T12:04:22.940Z"
   },
   {
    "duration": 8,
    "start_time": "2022-02-06T12:04:23.034Z"
   },
   {
    "duration": 7,
    "start_time": "2022-02-06T12:04:23.044Z"
   },
   {
    "duration": 9,
    "start_time": "2022-02-06T12:04:23.053Z"
   },
   {
    "duration": 13,
    "start_time": "2022-02-06T12:13:37.563Z"
   },
   {
    "duration": 68,
    "start_time": "2022-02-06T12:17:05.495Z"
   },
   {
    "duration": 1387,
    "start_time": "2022-02-06T12:17:13.097Z"
   },
   {
    "duration": 1334,
    "start_time": "2022-02-06T12:17:14.487Z"
   },
   {
    "duration": 68,
    "start_time": "2022-02-06T12:17:15.825Z"
   },
   {
    "duration": 82,
    "start_time": "2022-02-06T12:17:15.896Z"
   },
   {
    "duration": 71,
    "start_time": "2022-02-06T12:17:15.980Z"
   },
   {
    "duration": 107,
    "start_time": "2022-02-06T12:17:16.054Z"
   },
   {
    "duration": 93,
    "start_time": "2022-02-06T12:17:16.164Z"
   },
   {
    "duration": 86,
    "start_time": "2022-02-06T12:17:16.261Z"
   },
   {
    "duration": 52,
    "start_time": "2022-02-06T12:17:16.350Z"
   },
   {
    "duration": 21,
    "start_time": "2022-02-06T12:17:16.405Z"
   },
   {
    "duration": 57,
    "start_time": "2022-02-06T12:17:16.429Z"
   },
   {
    "duration": 77,
    "start_time": "2022-02-06T12:17:16.489Z"
   },
   {
    "duration": 27,
    "start_time": "2022-02-06T12:17:16.569Z"
   },
   {
    "duration": 27,
    "start_time": "2022-02-06T12:17:16.599Z"
   },
   {
    "duration": 18,
    "start_time": "2022-02-06T12:17:16.628Z"
   },
   {
    "duration": 17,
    "start_time": "2022-02-06T12:17:16.648Z"
   },
   {
    "duration": 13,
    "start_time": "2022-02-06T12:17:16.668Z"
   },
   {
    "duration": 10,
    "start_time": "2022-02-06T12:17:16.724Z"
   },
   {
    "duration": 8,
    "start_time": "2022-02-06T12:17:16.736Z"
   },
   {
    "duration": 8,
    "start_time": "2022-02-06T12:17:16.746Z"
   },
   {
    "duration": 18,
    "start_time": "2022-02-06T12:17:16.757Z"
   },
   {
    "duration": 55,
    "start_time": "2022-02-06T12:17:16.777Z"
   },
   {
    "duration": 27,
    "start_time": "2022-02-06T12:17:16.836Z"
   },
   {
    "duration": 18,
    "start_time": "2022-02-06T12:17:16.866Z"
   },
   {
    "duration": 69,
    "start_time": "2022-02-06T12:17:16.887Z"
   },
   {
    "duration": 64,
    "start_time": "2022-02-06T12:17:16.959Z"
   },
   {
    "duration": 30,
    "start_time": "2022-02-06T12:17:17.027Z"
   },
   {
    "duration": 27,
    "start_time": "2022-02-06T12:17:17.060Z"
   },
   {
    "duration": 44,
    "start_time": "2022-02-06T12:17:17.090Z"
   },
   {
    "duration": 5,
    "start_time": "2022-02-06T12:17:17.136Z"
   },
   {
    "duration": 17,
    "start_time": "2022-02-06T12:17:17.144Z"
   },
   {
    "duration": 20,
    "start_time": "2022-02-06T12:17:17.163Z"
   },
   {
    "duration": 102,
    "start_time": "2022-02-06T12:17:17.185Z"
   },
   {
    "duration": 7,
    "start_time": "2022-02-06T12:17:17.289Z"
   },
   {
    "duration": 26,
    "start_time": "2022-02-06T12:17:17.298Z"
   },
   {
    "duration": 9,
    "start_time": "2022-02-06T12:17:17.326Z"
   },
   {
    "duration": 13,
    "start_time": "2022-02-06T12:17:17.337Z"
   },
   {
    "duration": 1719,
    "start_time": "2022-02-06T13:11:08.222Z"
   },
   {
    "duration": 1069,
    "start_time": "2022-02-06T13:11:09.944Z"
   },
   {
    "duration": 73,
    "start_time": "2022-02-06T13:11:11.016Z"
   },
   {
    "duration": 86,
    "start_time": "2022-02-06T13:11:11.093Z"
   },
   {
    "duration": 71,
    "start_time": "2022-02-06T13:11:11.181Z"
   },
   {
    "duration": 99,
    "start_time": "2022-02-06T13:11:11.255Z"
   },
   {
    "duration": 86,
    "start_time": "2022-02-06T13:11:11.357Z"
   },
   {
    "duration": 82,
    "start_time": "2022-02-06T13:11:11.446Z"
   },
   {
    "duration": 49,
    "start_time": "2022-02-06T13:11:11.533Z"
   },
   {
    "duration": 6,
    "start_time": "2022-02-06T13:11:11.585Z"
   },
   {
    "duration": 79,
    "start_time": "2022-02-06T13:11:11.593Z"
   },
   {
    "duration": 69,
    "start_time": "2022-02-06T13:11:11.675Z"
   },
   {
    "duration": 26,
    "start_time": "2022-02-06T13:11:11.747Z"
   },
   {
    "duration": 10,
    "start_time": "2022-02-06T13:11:11.776Z"
   },
   {
    "duration": 47,
    "start_time": "2022-02-06T13:11:11.788Z"
   },
   {
    "duration": 16,
    "start_time": "2022-02-06T13:11:11.837Z"
   },
   {
    "duration": 12,
    "start_time": "2022-02-06T13:11:11.855Z"
   },
   {
    "duration": 7,
    "start_time": "2022-02-06T13:11:11.869Z"
   },
   {
    "duration": 6,
    "start_time": "2022-02-06T13:11:11.878Z"
   },
   {
    "duration": 40,
    "start_time": "2022-02-06T13:11:11.886Z"
   },
   {
    "duration": 16,
    "start_time": "2022-02-06T13:11:11.929Z"
   },
   {
    "duration": 12,
    "start_time": "2022-02-06T13:11:11.947Z"
   },
   {
    "duration": 62,
    "start_time": "2022-02-06T13:11:11.962Z"
   },
   {
    "duration": 19,
    "start_time": "2022-02-06T13:11:12.027Z"
   },
   {
    "duration": 40,
    "start_time": "2022-02-06T13:11:12.049Z"
   },
   {
    "duration": 68,
    "start_time": "2022-02-06T13:11:12.092Z"
   },
   {
    "duration": 28,
    "start_time": "2022-02-06T13:11:12.165Z"
   },
   {
    "duration": 51,
    "start_time": "2022-02-06T13:11:12.196Z"
   },
   {
    "duration": 51,
    "start_time": "2022-02-06T13:11:12.249Z"
   },
   {
    "duration": 5,
    "start_time": "2022-02-06T13:11:12.303Z"
   },
   {
    "duration": 34,
    "start_time": "2022-02-06T13:11:12.310Z"
   },
   {
    "duration": 19,
    "start_time": "2022-02-06T13:11:12.346Z"
   },
   {
    "duration": 79,
    "start_time": "2022-02-06T13:11:12.368Z"
   },
   {
    "duration": 7,
    "start_time": "2022-02-06T13:11:12.450Z"
   },
   {
    "duration": 4,
    "start_time": "2022-02-06T13:11:12.460Z"
   },
   {
    "duration": 11,
    "start_time": "2022-02-06T13:11:12.467Z"
   },
   {
    "duration": 44,
    "start_time": "2022-02-06T13:11:12.481Z"
   },
   {
    "duration": 1298,
    "start_time": "2022-02-06T16:32:33.674Z"
   },
   {
    "duration": 2688,
    "start_time": "2022-02-06T16:32:34.974Z"
   },
   {
    "duration": 56,
    "start_time": "2022-02-06T16:32:37.664Z"
   },
   {
    "duration": 44,
    "start_time": "2022-02-06T16:32:37.722Z"
   },
   {
    "duration": 53,
    "start_time": "2022-02-06T16:32:37.768Z"
   },
   {
    "duration": 77,
    "start_time": "2022-02-06T16:32:37.823Z"
   },
   {
    "duration": 36,
    "start_time": "2022-02-06T16:32:37.902Z"
   },
   {
    "duration": 77,
    "start_time": "2022-02-06T16:32:37.941Z"
   },
   {
    "duration": 41,
    "start_time": "2022-02-06T16:32:38.021Z"
   },
   {
    "duration": 5,
    "start_time": "2022-02-06T16:32:38.064Z"
   },
   {
    "duration": 59,
    "start_time": "2022-02-06T16:32:38.071Z"
   },
   {
    "duration": 50,
    "start_time": "2022-02-06T16:32:38.131Z"
   },
   {
    "duration": 35,
    "start_time": "2022-02-06T16:32:38.182Z"
   },
   {
    "duration": 8,
    "start_time": "2022-02-06T16:32:38.219Z"
   },
   {
    "duration": 17,
    "start_time": "2022-02-06T16:32:38.228Z"
   },
   {
    "duration": 13,
    "start_time": "2022-02-06T16:32:38.246Z"
   },
   {
    "duration": 44,
    "start_time": "2022-02-06T16:32:38.261Z"
   },
   {
    "duration": 7,
    "start_time": "2022-02-06T16:32:38.307Z"
   },
   {
    "duration": 12,
    "start_time": "2022-02-06T16:32:38.315Z"
   },
   {
    "duration": 10,
    "start_time": "2022-02-06T16:32:38.329Z"
   },
   {
    "duration": 20,
    "start_time": "2022-02-06T16:32:38.340Z"
   },
   {
    "duration": 11,
    "start_time": "2022-02-06T16:32:38.362Z"
   },
   {
    "duration": 25,
    "start_time": "2022-02-06T16:32:38.401Z"
   },
   {
    "duration": 17,
    "start_time": "2022-02-06T16:32:38.428Z"
   },
   {
    "duration": 56,
    "start_time": "2022-02-06T16:32:38.447Z"
   },
   {
    "duration": 30,
    "start_time": "2022-02-06T16:32:38.505Z"
   },
   {
    "duration": 24,
    "start_time": "2022-02-06T16:32:38.537Z"
   },
   {
    "duration": 51,
    "start_time": "2022-02-06T16:32:38.562Z"
   },
   {
    "duration": 6,
    "start_time": "2022-02-06T16:32:38.614Z"
   },
   {
    "duration": 14,
    "start_time": "2022-02-06T16:32:38.621Z"
   },
   {
    "duration": 31,
    "start_time": "2022-02-06T16:32:38.637Z"
   },
   {
    "duration": 28,
    "start_time": "2022-02-06T16:32:38.669Z"
   },
   {
    "duration": 74,
    "start_time": "2022-02-06T16:32:38.699Z"
   },
   {
    "duration": 6,
    "start_time": "2022-02-06T16:32:38.774Z"
   },
   {
    "duration": 16,
    "start_time": "2022-02-06T16:32:38.782Z"
   },
   {
    "duration": 10,
    "start_time": "2022-02-06T16:32:38.800Z"
   },
   {
    "duration": 22,
    "start_time": "2022-02-06T16:32:38.812Z"
   },
   {
    "duration": 21,
    "start_time": "2022-02-06T16:32:38.837Z"
   },
   {
    "duration": 1219,
    "start_time": "2022-02-06T16:43:25.206Z"
   },
   {
    "duration": 913,
    "start_time": "2022-02-06T16:43:26.427Z"
   },
   {
    "duration": 59,
    "start_time": "2022-02-06T16:43:27.342Z"
   },
   {
    "duration": 49,
    "start_time": "2022-02-06T16:43:27.403Z"
   },
   {
    "duration": 60,
    "start_time": "2022-02-06T16:43:27.454Z"
   },
   {
    "duration": 50,
    "start_time": "2022-02-06T16:43:27.515Z"
   },
   {
    "duration": 77,
    "start_time": "2022-02-06T16:43:27.567Z"
   },
   {
    "duration": 74,
    "start_time": "2022-02-06T16:43:27.646Z"
   },
   {
    "duration": 40,
    "start_time": "2022-02-06T16:43:27.723Z"
   },
   {
    "duration": 6,
    "start_time": "2022-02-06T16:43:27.765Z"
   },
   {
    "duration": 57,
    "start_time": "2022-02-06T16:43:27.772Z"
   },
   {
    "duration": 48,
    "start_time": "2022-02-06T16:43:27.831Z"
   },
   {
    "duration": 34,
    "start_time": "2022-02-06T16:43:27.881Z"
   },
   {
    "duration": 8,
    "start_time": "2022-02-06T16:43:27.916Z"
   },
   {
    "duration": 14,
    "start_time": "2022-02-06T16:43:27.926Z"
   },
   {
    "duration": 12,
    "start_time": "2022-02-06T16:43:27.942Z"
   },
   {
    "duration": 44,
    "start_time": "2022-02-06T16:43:27.956Z"
   },
   {
    "duration": 7,
    "start_time": "2022-02-06T16:43:28.002Z"
   },
   {
    "duration": 8,
    "start_time": "2022-02-06T16:43:28.010Z"
   },
   {
    "duration": 7,
    "start_time": "2022-02-06T16:43:28.020Z"
   },
   {
    "duration": 17,
    "start_time": "2022-02-06T16:43:28.029Z"
   },
   {
    "duration": 11,
    "start_time": "2022-02-06T16:43:28.047Z"
   },
   {
    "duration": 60,
    "start_time": "2022-02-06T16:43:28.060Z"
   },
   {
    "duration": 18,
    "start_time": "2022-02-06T16:43:28.122Z"
   },
   {
    "duration": 34,
    "start_time": "2022-02-06T16:43:28.142Z"
   },
   {
    "duration": 32,
    "start_time": "2022-02-06T16:43:28.198Z"
   },
   {
    "duration": 23,
    "start_time": "2022-02-06T16:43:28.235Z"
   },
   {
    "duration": 52,
    "start_time": "2022-02-06T16:43:28.261Z"
   },
   {
    "duration": 6,
    "start_time": "2022-02-06T16:43:28.315Z"
   },
   {
    "duration": 24,
    "start_time": "2022-02-06T16:43:28.322Z"
   },
   {
    "duration": 35,
    "start_time": "2022-02-06T16:43:28.348Z"
   },
   {
    "duration": 37,
    "start_time": "2022-02-06T16:43:28.385Z"
   },
   {
    "duration": 79,
    "start_time": "2022-02-06T16:43:28.424Z"
   },
   {
    "duration": 7,
    "start_time": "2022-02-06T16:43:28.505Z"
   },
   {
    "duration": 23,
    "start_time": "2022-02-06T16:43:28.513Z"
   },
   {
    "duration": 24,
    "start_time": "2022-02-06T16:43:28.538Z"
   },
   {
    "duration": 18,
    "start_time": "2022-02-06T16:43:28.564Z"
   },
   {
    "duration": 9,
    "start_time": "2022-02-06T16:43:28.583Z"
   },
   {
    "duration": 10,
    "start_time": "2022-02-06T16:46:13.475Z"
   },
   {
    "duration": 6,
    "start_time": "2022-02-06T16:46:15.013Z"
   },
   {
    "duration": 611,
    "start_time": "2022-02-06T16:46:15.672Z"
   },
   {
    "duration": 7,
    "start_time": "2022-02-06T16:49:09.489Z"
   },
   {
    "duration": 6,
    "start_time": "2022-02-06T16:49:14.208Z"
   },
   {
    "duration": 78,
    "start_time": "2022-02-06T16:49:17.461Z"
   },
   {
    "duration": 14,
    "start_time": "2022-02-06T16:49:24.129Z"
   },
   {
    "duration": 80,
    "start_time": "2022-02-06T16:52:01.685Z"
   },
   {
    "duration": 6,
    "start_time": "2022-02-06T16:52:35.559Z"
   },
   {
    "duration": 6,
    "start_time": "2022-02-06T16:53:23.466Z"
   },
   {
    "duration": 34,
    "start_time": "2022-02-06T16:53:40.281Z"
   },
   {
    "duration": 1176,
    "start_time": "2022-02-06T17:01:20.947Z"
   },
   {
    "duration": 1118,
    "start_time": "2022-02-06T17:02:15.291Z"
   },
   {
    "duration": 1076,
    "start_time": "2022-02-06T17:04:12.749Z"
   },
   {
    "duration": 1060,
    "start_time": "2022-02-06T17:06:20.292Z"
   },
   {
    "duration": 1220,
    "start_time": "2022-02-06T17:06:34.254Z"
   },
   {
    "duration": 1204,
    "start_time": "2022-02-06T17:10:43.866Z"
   },
   {
    "duration": 900,
    "start_time": "2022-02-06T17:10:45.072Z"
   },
   {
    "duration": 57,
    "start_time": "2022-02-06T17:10:45.974Z"
   },
   {
    "duration": 73,
    "start_time": "2022-02-06T17:10:46.033Z"
   },
   {
    "duration": 34,
    "start_time": "2022-02-06T17:10:46.108Z"
   },
   {
    "duration": 77,
    "start_time": "2022-02-06T17:10:46.144Z"
   },
   {
    "duration": 36,
    "start_time": "2022-02-06T17:10:46.223Z"
   },
   {
    "duration": 80,
    "start_time": "2022-02-06T17:10:46.262Z"
   },
   {
    "duration": 42,
    "start_time": "2022-02-06T17:10:46.344Z"
   },
   {
    "duration": 6,
    "start_time": "2022-02-06T17:10:46.398Z"
   },
   {
    "duration": 38,
    "start_time": "2022-02-06T17:10:46.405Z"
   },
   {
    "duration": 70,
    "start_time": "2022-02-06T17:10:46.445Z"
   },
   {
    "duration": 19,
    "start_time": "2022-02-06T17:10:46.516Z"
   },
   {
    "duration": 7,
    "start_time": "2022-02-06T17:10:46.537Z"
   },
   {
    "duration": 15,
    "start_time": "2022-02-06T17:10:46.546Z"
   },
   {
    "duration": 38,
    "start_time": "2022-02-06T17:10:46.563Z"
   },
   {
    "duration": 10,
    "start_time": "2022-02-06T17:10:46.603Z"
   },
   {
    "duration": 6,
    "start_time": "2022-02-06T17:10:46.614Z"
   },
   {
    "duration": 7,
    "start_time": "2022-02-06T17:10:46.622Z"
   },
   {
    "duration": 9,
    "start_time": "2022-02-06T17:10:46.631Z"
   },
   {
    "duration": 33,
    "start_time": "2022-02-06T17:10:46.641Z"
   },
   {
    "duration": 31,
    "start_time": "2022-02-06T17:10:46.676Z"
   },
   {
    "duration": 33,
    "start_time": "2022-02-06T17:10:46.712Z"
   },
   {
    "duration": 18,
    "start_time": "2022-02-06T17:10:46.748Z"
   },
   {
    "duration": 44,
    "start_time": "2022-02-06T17:10:46.768Z"
   },
   {
    "duration": 27,
    "start_time": "2022-02-06T17:10:46.814Z"
   },
   {
    "duration": 22,
    "start_time": "2022-02-06T17:10:46.844Z"
   },
   {
    "duration": 44,
    "start_time": "2022-02-06T17:10:46.868Z"
   },
   {
    "duration": 6,
    "start_time": "2022-02-06T17:10:46.914Z"
   },
   {
    "duration": 17,
    "start_time": "2022-02-06T17:10:46.922Z"
   },
   {
    "duration": 30,
    "start_time": "2022-02-06T17:10:46.941Z"
   },
   {
    "duration": 20,
    "start_time": "2022-02-06T17:10:46.973Z"
   },
   {
    "duration": 58,
    "start_time": "2022-02-06T17:10:46.995Z"
   },
   {
    "duration": 6,
    "start_time": "2022-02-06T17:10:47.055Z"
   },
   {
    "duration": 8,
    "start_time": "2022-02-06T17:10:47.063Z"
   },
   {
    "duration": 29,
    "start_time": "2022-02-06T17:10:47.073Z"
   },
   {
    "duration": 10,
    "start_time": "2022-02-06T17:10:47.104Z"
   },
   {
    "duration": 6,
    "start_time": "2022-02-06T17:10:47.116Z"
   },
   {
    "duration": 98,
    "start_time": "2022-02-06T17:10:47.124Z"
   },
   {
    "duration": 7,
    "start_time": "2022-02-06T17:10:47.223Z"
   },
   {
    "duration": 39,
    "start_time": "2022-02-06T17:10:47.231Z"
   },
   {
    "duration": 1085,
    "start_time": "2022-02-06T17:10:47.272Z"
   },
   {
    "duration": 1223,
    "start_time": "2022-02-06T17:12:17.947Z"
   },
   {
    "duration": 910,
    "start_time": "2022-02-06T17:12:19.172Z"
   },
   {
    "duration": 56,
    "start_time": "2022-02-06T17:12:20.084Z"
   },
   {
    "duration": 74,
    "start_time": "2022-02-06T17:12:20.142Z"
   },
   {
    "duration": 34,
    "start_time": "2022-02-06T17:12:20.218Z"
   },
   {
    "duration": 75,
    "start_time": "2022-02-06T17:12:20.254Z"
   },
   {
    "duration": 35,
    "start_time": "2022-02-06T17:12:20.332Z"
   },
   {
    "duration": 51,
    "start_time": "2022-02-06T17:12:20.399Z"
   },
   {
    "duration": 53,
    "start_time": "2022-02-06T17:12:20.453Z"
   },
   {
    "duration": 6,
    "start_time": "2022-02-06T17:12:20.508Z"
   },
   {
    "duration": 45,
    "start_time": "2022-02-06T17:12:20.515Z"
   },
   {
    "duration": 65,
    "start_time": "2022-02-06T17:12:20.562Z"
   },
   {
    "duration": 21,
    "start_time": "2022-02-06T17:12:20.629Z"
   },
   {
    "duration": 8,
    "start_time": "2022-02-06T17:12:20.651Z"
   },
   {
    "duration": 39,
    "start_time": "2022-02-06T17:12:20.661Z"
   },
   {
    "duration": 13,
    "start_time": "2022-02-06T17:12:20.702Z"
   },
   {
    "duration": 10,
    "start_time": "2022-02-06T17:12:20.717Z"
   },
   {
    "duration": 6,
    "start_time": "2022-02-06T17:12:20.729Z"
   },
   {
    "duration": 7,
    "start_time": "2022-02-06T17:12:20.736Z"
   },
   {
    "duration": 9,
    "start_time": "2022-02-06T17:12:20.744Z"
   },
   {
    "duration": 48,
    "start_time": "2022-02-06T17:12:20.754Z"
   },
   {
    "duration": 11,
    "start_time": "2022-02-06T17:12:20.804Z"
   },
   {
    "duration": 23,
    "start_time": "2022-02-06T17:12:20.817Z"
   },
   {
    "duration": 16,
    "start_time": "2022-02-06T17:12:20.842Z"
   },
   {
    "duration": 63,
    "start_time": "2022-02-06T17:12:20.860Z"
   },
   {
    "duration": 29,
    "start_time": "2022-02-06T17:12:20.925Z"
   },
   {
    "duration": 46,
    "start_time": "2022-02-06T17:12:20.958Z"
   },
   {
    "duration": 21,
    "start_time": "2022-02-06T17:12:21.006Z"
   },
   {
    "duration": 5,
    "start_time": "2022-02-06T17:12:21.029Z"
   },
   {
    "duration": 9,
    "start_time": "2022-02-06T17:12:21.036Z"
   },
   {
    "duration": 17,
    "start_time": "2022-02-06T17:12:21.047Z"
   },
   {
    "duration": 42,
    "start_time": "2022-02-06T17:12:21.066Z"
   },
   {
    "duration": 63,
    "start_time": "2022-02-06T17:12:21.110Z"
   },
   {
    "duration": 6,
    "start_time": "2022-02-06T17:12:21.175Z"
   },
   {
    "duration": 18,
    "start_time": "2022-02-06T17:12:21.183Z"
   },
   {
    "duration": 15,
    "start_time": "2022-02-06T17:12:21.202Z"
   },
   {
    "duration": 16,
    "start_time": "2022-02-06T17:12:21.219Z"
   },
   {
    "duration": 7,
    "start_time": "2022-02-06T17:12:21.237Z"
   },
   {
    "duration": 107,
    "start_time": "2022-02-06T17:12:21.246Z"
   },
   {
    "duration": 7,
    "start_time": "2022-02-06T17:12:21.355Z"
   },
   {
    "duration": 53,
    "start_time": "2022-02-06T17:12:21.364Z"
   },
   {
    "duration": 1098,
    "start_time": "2022-02-06T17:12:21.419Z"
   },
   {
    "duration": 1263,
    "start_time": "2022-02-06T17:19:19.588Z"
   },
   {
    "duration": 1027,
    "start_time": "2022-02-06T17:19:20.854Z"
   },
   {
    "duration": 58,
    "start_time": "2022-02-06T17:19:21.883Z"
   },
   {
    "duration": 75,
    "start_time": "2022-02-06T17:19:21.944Z"
   },
   {
    "duration": 37,
    "start_time": "2022-02-06T17:19:22.021Z"
   },
   {
    "duration": 84,
    "start_time": "2022-02-06T17:19:22.061Z"
   },
   {
    "duration": 67,
    "start_time": "2022-02-06T17:19:22.147Z"
   },
   {
    "duration": 52,
    "start_time": "2022-02-06T17:19:22.219Z"
   },
   {
    "duration": 63,
    "start_time": "2022-02-06T17:19:22.273Z"
   },
   {
    "duration": 7,
    "start_time": "2022-02-06T17:19:22.338Z"
   },
   {
    "duration": 63,
    "start_time": "2022-02-06T17:19:22.347Z"
   },
   {
    "duration": 51,
    "start_time": "2022-02-06T17:19:22.412Z"
   },
   {
    "duration": 40,
    "start_time": "2022-02-06T17:19:22.465Z"
   },
   {
    "duration": 7,
    "start_time": "2022-02-06T17:19:22.507Z"
   },
   {
    "duration": 13,
    "start_time": "2022-02-06T17:19:22.516Z"
   },
   {
    "duration": 12,
    "start_time": "2022-02-06T17:19:22.530Z"
   },
   {
    "duration": 10,
    "start_time": "2022-02-06T17:19:22.543Z"
   },
   {
    "duration": 44,
    "start_time": "2022-02-06T17:19:22.554Z"
   },
   {
    "duration": 5,
    "start_time": "2022-02-06T17:19:22.600Z"
   },
   {
    "duration": 8,
    "start_time": "2022-02-06T17:19:22.606Z"
   },
   {
    "duration": 14,
    "start_time": "2022-02-06T17:19:22.616Z"
   },
   {
    "duration": 9,
    "start_time": "2022-02-06T17:19:22.632Z"
   },
   {
    "duration": 22,
    "start_time": "2022-02-06T17:19:22.645Z"
   },
   {
    "duration": 15,
    "start_time": "2022-02-06T17:19:22.699Z"
   },
   {
    "duration": 31,
    "start_time": "2022-02-06T17:19:22.715Z"
   },
   {
    "duration": 50,
    "start_time": "2022-02-06T17:19:22.748Z"
   },
   {
    "duration": 23,
    "start_time": "2022-02-06T17:19:22.800Z"
   },
   {
    "duration": 22,
    "start_time": "2022-02-06T17:19:22.825Z"
   },
   {
    "duration": 5,
    "start_time": "2022-02-06T17:19:22.848Z"
   },
   {
    "duration": 6,
    "start_time": "2022-02-06T17:19:22.855Z"
   },
   {
    "duration": 46,
    "start_time": "2022-02-06T17:19:22.863Z"
   },
   {
    "duration": 12,
    "start_time": "2022-02-06T17:19:22.911Z"
   },
   {
    "duration": 79,
    "start_time": "2022-02-06T17:19:22.925Z"
   },
   {
    "duration": 6,
    "start_time": "2022-02-06T17:19:23.006Z"
   },
   {
    "duration": 8,
    "start_time": "2022-02-06T17:19:23.014Z"
   },
   {
    "duration": 15,
    "start_time": "2022-02-06T17:19:23.024Z"
   },
   {
    "duration": 13,
    "start_time": "2022-02-06T17:19:23.041Z"
   },
   {
    "duration": 9,
    "start_time": "2022-02-06T17:19:23.056Z"
   },
   {
    "duration": 98,
    "start_time": "2022-02-06T17:19:23.067Z"
   },
   {
    "duration": 7,
    "start_time": "2022-02-06T17:19:23.167Z"
   },
   {
    "duration": 53,
    "start_time": "2022-02-06T17:19:23.176Z"
   },
   {
    "duration": 1058,
    "start_time": "2022-02-06T17:19:23.231Z"
   },
   {
    "duration": 1192,
    "start_time": "2022-02-06T17:20:14.347Z"
   },
   {
    "duration": 1145,
    "start_time": "2022-02-06T17:21:03.882Z"
   },
   {
    "duration": 1105,
    "start_time": "2022-02-06T17:21:20.481Z"
   },
   {
    "duration": 1282,
    "start_time": "2022-02-06T17:21:40.675Z"
   },
   {
    "duration": 840,
    "start_time": "2022-02-06T17:21:41.960Z"
   },
   {
    "duration": 58,
    "start_time": "2022-02-06T17:21:42.803Z"
   },
   {
    "duration": 69,
    "start_time": "2022-02-06T17:21:42.863Z"
   },
   {
    "duration": 33,
    "start_time": "2022-02-06T17:21:42.934Z"
   },
   {
    "duration": 78,
    "start_time": "2022-02-06T17:21:42.968Z"
   },
   {
    "duration": 62,
    "start_time": "2022-02-06T17:21:43.047Z"
   },
   {
    "duration": 49,
    "start_time": "2022-02-06T17:21:43.111Z"
   },
   {
    "duration": 63,
    "start_time": "2022-02-06T17:21:43.163Z"
   },
   {
    "duration": 5,
    "start_time": "2022-02-06T17:21:43.228Z"
   },
   {
    "duration": 48,
    "start_time": "2022-02-06T17:21:43.235Z"
   },
   {
    "duration": 58,
    "start_time": "2022-02-06T17:21:43.284Z"
   },
   {
    "duration": 21,
    "start_time": "2022-02-06T17:21:43.343Z"
   },
   {
    "duration": 34,
    "start_time": "2022-02-06T17:21:43.366Z"
   },
   {
    "duration": 15,
    "start_time": "2022-02-06T17:21:43.402Z"
   },
   {
    "duration": 12,
    "start_time": "2022-02-06T17:21:43.419Z"
   },
   {
    "duration": 10,
    "start_time": "2022-02-06T17:21:43.433Z"
   },
   {
    "duration": 7,
    "start_time": "2022-02-06T17:21:43.445Z"
   },
   {
    "duration": 5,
    "start_time": "2022-02-06T17:21:43.453Z"
   },
   {
    "duration": 41,
    "start_time": "2022-02-06T17:21:43.459Z"
   },
   {
    "duration": 13,
    "start_time": "2022-02-06T17:21:43.501Z"
   },
   {
    "duration": 11,
    "start_time": "2022-02-06T17:21:43.515Z"
   },
   {
    "duration": 23,
    "start_time": "2022-02-06T17:21:43.529Z"
   },
   {
    "duration": 46,
    "start_time": "2022-02-06T17:21:43.554Z"
   },
   {
    "duration": 32,
    "start_time": "2022-02-06T17:21:43.602Z"
   },
   {
    "duration": 27,
    "start_time": "2022-02-06T17:21:43.636Z"
   },
   {
    "duration": 45,
    "start_time": "2022-02-06T17:21:43.664Z"
   },
   {
    "duration": 21,
    "start_time": "2022-02-06T17:21:43.710Z"
   },
   {
    "duration": 6,
    "start_time": "2022-02-06T17:21:43.732Z"
   },
   {
    "duration": 5,
    "start_time": "2022-02-06T17:21:43.740Z"
   },
   {
    "duration": 16,
    "start_time": "2022-02-06T17:21:43.747Z"
   },
   {
    "duration": 42,
    "start_time": "2022-02-06T17:21:43.765Z"
   },
   {
    "duration": 59,
    "start_time": "2022-02-06T17:21:43.809Z"
   },
   {
    "duration": 6,
    "start_time": "2022-02-06T17:21:43.870Z"
   },
   {
    "duration": 6,
    "start_time": "2022-02-06T17:21:43.899Z"
   },
   {
    "duration": 13,
    "start_time": "2022-02-06T17:21:43.907Z"
   },
   {
    "duration": 10,
    "start_time": "2022-02-06T17:21:43.923Z"
   },
   {
    "duration": 8,
    "start_time": "2022-02-06T17:21:43.935Z"
   },
   {
    "duration": 107,
    "start_time": "2022-02-06T17:21:43.945Z"
   },
   {
    "duration": 7,
    "start_time": "2022-02-06T17:21:44.054Z"
   },
   {
    "duration": 49,
    "start_time": "2022-02-06T17:21:44.062Z"
   },
   {
    "duration": 1159,
    "start_time": "2022-02-06T17:21:44.113Z"
   },
   {
    "duration": 1268,
    "start_time": "2022-02-06T17:26:18.148Z"
   },
   {
    "duration": 1126,
    "start_time": "2022-02-06T17:26:36.791Z"
   },
   {
    "duration": 1124,
    "start_time": "2022-02-06T18:58:40.648Z"
   },
   {
    "duration": 1220,
    "start_time": "2022-02-06T18:58:41.774Z"
   },
   {
    "duration": 57,
    "start_time": "2022-02-06T18:58:42.996Z"
   },
   {
    "duration": 67,
    "start_time": "2022-02-06T18:58:43.056Z"
   },
   {
    "duration": 33,
    "start_time": "2022-02-06T18:58:43.125Z"
   },
   {
    "duration": 74,
    "start_time": "2022-02-06T18:58:43.160Z"
   },
   {
    "duration": 64,
    "start_time": "2022-02-06T18:58:43.236Z"
   },
   {
    "duration": 58,
    "start_time": "2022-02-06T18:58:43.303Z"
   },
   {
    "duration": 58,
    "start_time": "2022-02-06T18:58:43.363Z"
   },
   {
    "duration": 5,
    "start_time": "2022-02-06T18:58:43.423Z"
   },
   {
    "duration": 42,
    "start_time": "2022-02-06T18:58:43.429Z"
   },
   {
    "duration": 67,
    "start_time": "2022-02-06T18:58:43.472Z"
   },
   {
    "duration": 20,
    "start_time": "2022-02-06T18:58:43.541Z"
   },
   {
    "duration": 8,
    "start_time": "2022-02-06T18:58:43.562Z"
   },
   {
    "duration": 36,
    "start_time": "2022-02-06T18:58:43.571Z"
   },
   {
    "duration": 12,
    "start_time": "2022-02-06T18:58:43.609Z"
   },
   {
    "duration": 11,
    "start_time": "2022-02-06T18:58:43.623Z"
   },
   {
    "duration": 7,
    "start_time": "2022-02-06T18:58:43.636Z"
   },
   {
    "duration": 6,
    "start_time": "2022-02-06T18:58:43.645Z"
   },
   {
    "duration": 7,
    "start_time": "2022-02-06T18:58:43.653Z"
   },
   {
    "duration": 14,
    "start_time": "2022-02-06T18:58:43.699Z"
   },
   {
    "duration": 11,
    "start_time": "2022-02-06T18:58:43.714Z"
   },
   {
    "duration": 29,
    "start_time": "2022-02-06T18:58:43.729Z"
   },
   {
    "duration": 43,
    "start_time": "2022-02-06T18:58:43.761Z"
   },
   {
    "duration": 36,
    "start_time": "2022-02-06T18:58:43.807Z"
   },
   {
    "duration": 28,
    "start_time": "2022-02-06T18:58:43.845Z"
   },
   {
    "duration": 26,
    "start_time": "2022-02-06T18:58:43.899Z"
   },
   {
    "duration": 21,
    "start_time": "2022-02-06T18:58:43.927Z"
   },
   {
    "duration": 6,
    "start_time": "2022-02-06T18:58:43.950Z"
   },
   {
    "duration": 4,
    "start_time": "2022-02-06T18:58:43.958Z"
   },
   {
    "duration": 45,
    "start_time": "2022-02-06T18:58:43.963Z"
   },
   {
    "duration": 13,
    "start_time": "2022-02-06T18:58:44.010Z"
   },
   {
    "duration": 85,
    "start_time": "2022-02-06T18:58:44.025Z"
   },
   {
    "duration": 7,
    "start_time": "2022-02-06T18:58:44.112Z"
   },
   {
    "duration": 5,
    "start_time": "2022-02-06T18:58:44.121Z"
   },
   {
    "duration": 11,
    "start_time": "2022-02-06T18:58:44.128Z"
   },
   {
    "duration": 10,
    "start_time": "2022-02-06T18:58:44.141Z"
   },
   {
    "duration": 7,
    "start_time": "2022-02-06T18:58:44.153Z"
   },
   {
    "duration": 82,
    "start_time": "2022-02-06T18:58:44.199Z"
   },
   {
    "duration": 20,
    "start_time": "2022-02-06T18:58:44.283Z"
   },
   {
    "duration": 51,
    "start_time": "2022-02-06T18:58:44.305Z"
   },
   {
    "duration": 1199,
    "start_time": "2022-02-06T18:58:44.358Z"
   },
   {
    "duration": 1728,
    "start_time": "2022-02-07T12:41:28.775Z"
   },
   {
    "duration": 1973,
    "start_time": "2022-02-07T12:41:30.507Z"
   },
   {
    "duration": 88,
    "start_time": "2022-02-07T12:41:32.484Z"
   },
   {
    "duration": 62,
    "start_time": "2022-02-07T12:41:32.575Z"
   },
   {
    "duration": 67,
    "start_time": "2022-02-07T12:41:32.639Z"
   },
   {
    "duration": 107,
    "start_time": "2022-02-07T12:41:32.709Z"
   },
   {
    "duration": 80,
    "start_time": "2022-02-07T12:41:32.819Z"
   },
   {
    "duration": 96,
    "start_time": "2022-02-07T12:41:32.901Z"
   },
   {
    "duration": 52,
    "start_time": "2022-02-07T12:41:33.001Z"
   },
   {
    "duration": 7,
    "start_time": "2022-02-07T12:41:33.068Z"
   },
   {
    "duration": 51,
    "start_time": "2022-02-07T12:41:33.077Z"
   },
   {
    "duration": 84,
    "start_time": "2022-02-07T12:41:33.131Z"
   },
   {
    "duration": 29,
    "start_time": "2022-02-07T12:41:33.217Z"
   },
   {
    "duration": 28,
    "start_time": "2022-02-07T12:41:33.249Z"
   },
   {
    "duration": 18,
    "start_time": "2022-02-07T12:41:33.280Z"
   },
   {
    "duration": 15,
    "start_time": "2022-02-07T12:41:33.301Z"
   },
   {
    "duration": 58,
    "start_time": "2022-02-07T12:41:33.318Z"
   },
   {
    "duration": 9,
    "start_time": "2022-02-07T12:41:33.379Z"
   },
   {
    "duration": 7,
    "start_time": "2022-02-07T12:41:33.391Z"
   },
   {
    "duration": 9,
    "start_time": "2022-02-07T12:41:33.401Z"
   },
   {
    "duration": 21,
    "start_time": "2022-02-07T12:41:33.412Z"
   },
   {
    "duration": 49,
    "start_time": "2022-02-07T12:41:33.436Z"
   },
   {
    "duration": 38,
    "start_time": "2022-02-07T12:41:33.488Z"
   },
   {
    "duration": 50,
    "start_time": "2022-02-07T12:41:33.529Z"
   },
   {
    "duration": 47,
    "start_time": "2022-02-07T12:41:33.582Z"
   },
   {
    "duration": 65,
    "start_time": "2022-02-07T12:41:33.632Z"
   },
   {
    "duration": 30,
    "start_time": "2022-02-07T12:41:33.703Z"
   },
   {
    "duration": 59,
    "start_time": "2022-02-07T12:41:33.736Z"
   },
   {
    "duration": 22,
    "start_time": "2022-02-07T12:41:33.798Z"
   },
   {
    "duration": 6,
    "start_time": "2022-02-07T12:41:33.822Z"
   },
   {
    "duration": 22,
    "start_time": "2022-02-07T12:41:33.830Z"
   },
   {
    "duration": 19,
    "start_time": "2022-02-07T12:41:33.870Z"
   },
   {
    "duration": 103,
    "start_time": "2022-02-07T12:41:33.891Z"
   },
   {
    "duration": 8,
    "start_time": "2022-02-07T12:41:33.997Z"
   },
   {
    "duration": 6,
    "start_time": "2022-02-07T12:41:34.007Z"
   },
   {
    "duration": 13,
    "start_time": "2022-02-07T12:41:34.015Z"
   },
   {
    "duration": 50,
    "start_time": "2022-02-07T12:41:34.031Z"
   },
   {
    "duration": 9,
    "start_time": "2022-02-07T12:41:34.084Z"
   },
   {
    "duration": 144,
    "start_time": "2022-02-07T12:41:34.096Z"
   },
   {
    "duration": 8,
    "start_time": "2022-02-07T12:41:34.243Z"
   },
   {
    "duration": 64,
    "start_time": "2022-02-07T12:41:34.253Z"
   },
   {
    "duration": 1731,
    "start_time": "2022-02-07T12:41:34.320Z"
   },
   {
    "duration": 1471,
    "start_time": "2022-02-07T13:13:44.693Z"
   },
   {
    "duration": 2575,
    "start_time": "2022-02-07T13:13:46.167Z"
   },
   {
    "duration": 69,
    "start_time": "2022-02-07T13:13:48.745Z"
   },
   {
    "duration": 79,
    "start_time": "2022-02-07T13:13:48.816Z"
   },
   {
    "duration": 71,
    "start_time": "2022-02-07T13:13:48.898Z"
   },
   {
    "duration": 97,
    "start_time": "2022-02-07T13:13:48.972Z"
   },
   {
    "duration": 54,
    "start_time": "2022-02-07T13:13:49.073Z"
   },
   {
    "duration": 69,
    "start_time": "2022-02-07T13:13:49.169Z"
   },
   {
    "duration": 71,
    "start_time": "2022-02-07T13:13:49.242Z"
   },
   {
    "duration": 7,
    "start_time": "2022-02-07T13:13:49.316Z"
   },
   {
    "duration": 80,
    "start_time": "2022-02-07T13:13:49.326Z"
   },
   {
    "duration": 72,
    "start_time": "2022-02-07T13:13:49.408Z"
   },
   {
    "duration": 28,
    "start_time": "2022-02-07T13:13:49.482Z"
   },
   {
    "duration": 10,
    "start_time": "2022-02-07T13:13:49.512Z"
   },
   {
    "duration": 46,
    "start_time": "2022-02-07T13:13:49.525Z"
   },
   {
    "duration": 16,
    "start_time": "2022-02-07T13:13:49.574Z"
   },
   {
    "duration": 12,
    "start_time": "2022-02-07T13:13:49.593Z"
   },
   {
    "duration": 9,
    "start_time": "2022-02-07T13:13:49.609Z"
   },
   {
    "duration": 5,
    "start_time": "2022-02-07T13:13:49.620Z"
   },
   {
    "duration": 47,
    "start_time": "2022-02-07T13:13:49.627Z"
   },
   {
    "duration": 21,
    "start_time": "2022-02-07T13:13:49.676Z"
   },
   {
    "duration": 12,
    "start_time": "2022-02-07T13:13:49.699Z"
   },
   {
    "duration": 69,
    "start_time": "2022-02-07T13:13:49.716Z"
   },
   {
    "duration": 21,
    "start_time": "2022-02-07T13:13:49.788Z"
   },
   {
    "duration": 65,
    "start_time": "2022-02-07T13:13:49.812Z"
   },
   {
    "duration": 42,
    "start_time": "2022-02-07T13:13:49.880Z"
   },
   {
    "duration": 55,
    "start_time": "2022-02-07T13:13:49.924Z"
   },
   {
    "duration": 28,
    "start_time": "2022-02-07T13:13:49.981Z"
   },
   {
    "duration": 10,
    "start_time": "2022-02-07T13:13:50.011Z"
   },
   {
    "duration": 11,
    "start_time": "2022-02-07T13:13:50.023Z"
   },
   {
    "duration": 45,
    "start_time": "2022-02-07T13:13:50.036Z"
   },
   {
    "duration": 17,
    "start_time": "2022-02-07T13:13:50.083Z"
   },
   {
    "duration": 102,
    "start_time": "2022-02-07T13:13:50.103Z"
   },
   {
    "duration": 7,
    "start_time": "2022-02-07T13:13:50.208Z"
   },
   {
    "duration": 5,
    "start_time": "2022-02-07T13:13:50.218Z"
   },
   {
    "duration": 15,
    "start_time": "2022-02-07T13:13:50.225Z"
   },
   {
    "duration": 34,
    "start_time": "2022-02-07T13:13:50.243Z"
   },
   {
    "duration": 8,
    "start_time": "2022-02-07T13:13:50.279Z"
   },
   {
    "duration": 148,
    "start_time": "2022-02-07T13:13:50.290Z"
   },
   {
    "duration": 7,
    "start_time": "2022-02-07T13:13:50.441Z"
   },
   {
    "duration": 61,
    "start_time": "2022-02-07T13:13:50.450Z"
   },
   {
    "duration": 1669,
    "start_time": "2022-02-07T13:13:50.513Z"
   },
   {
    "duration": 428,
    "start_time": "2022-02-07T13:24:09.989Z"
   },
   {
    "duration": 272,
    "start_time": "2022-02-07T13:24:36.780Z"
   },
   {
    "duration": 133,
    "start_time": "2022-02-07T13:26:25.527Z"
   },
   {
    "duration": 54,
    "start_time": "2022-02-07T13:29:12.951Z"
   },
   {
    "duration": 57,
    "start_time": "2022-02-07T13:29:45.748Z"
   },
   {
    "duration": 410,
    "start_time": "2022-02-07T13:31:15.270Z"
   },
   {
    "duration": 52,
    "start_time": "2022-02-07T13:31:38.347Z"
   },
   {
    "duration": 53,
    "start_time": "2022-02-07T13:32:30.688Z"
   },
   {
    "duration": 5,
    "start_time": "2022-02-07T13:33:17.455Z"
   },
   {
    "duration": 318,
    "start_time": "2022-02-07T13:36:41.723Z"
   },
   {
    "duration": 15,
    "start_time": "2022-02-07T13:37:12.591Z"
   },
   {
    "duration": 354,
    "start_time": "2022-02-07T13:41:18.618Z"
   },
   {
    "duration": 308,
    "start_time": "2022-02-07T13:44:10.796Z"
   },
   {
    "duration": 431,
    "start_time": "2022-02-07T13:47:15.586Z"
   },
   {
    "duration": 394,
    "start_time": "2022-02-07T13:47:28.149Z"
   },
   {
    "duration": 718,
    "start_time": "2022-02-07T13:49:50.854Z"
   },
   {
    "duration": 656,
    "start_time": "2022-02-07T13:50:48.816Z"
   },
   {
    "duration": 690,
    "start_time": "2022-02-07T13:50:59.582Z"
   },
   {
    "duration": 689,
    "start_time": "2022-02-07T13:51:35.084Z"
   },
   {
    "duration": 346,
    "start_time": "2022-02-07T13:53:43.162Z"
   },
   {
    "duration": 321,
    "start_time": "2022-02-07T13:54:46.698Z"
   },
   {
    "duration": 792,
    "start_time": "2022-02-07T13:55:14.488Z"
   },
   {
    "duration": 814,
    "start_time": "2022-02-07T13:55:29.011Z"
   },
   {
    "duration": 54,
    "start_time": "2022-02-07T14:02:21.176Z"
   },
   {
    "duration": 57,
    "start_time": "2022-02-07T14:03:06.789Z"
   },
   {
    "duration": 55,
    "start_time": "2022-02-07T14:03:11.380Z"
   },
   {
    "duration": 56,
    "start_time": "2022-02-07T14:03:19.225Z"
   },
   {
    "duration": 5,
    "start_time": "2022-02-07T14:03:25.578Z"
   },
   {
    "duration": 13,
    "start_time": "2022-02-07T14:03:26.429Z"
   },
   {
    "duration": 394,
    "start_time": "2022-02-07T14:03:28.597Z"
   },
   {
    "duration": 329,
    "start_time": "2022-02-07T14:03:29.953Z"
   },
   {
    "duration": 687,
    "start_time": "2022-02-07T14:03:32.989Z"
   },
   {
    "duration": 53,
    "start_time": "2022-02-07T14:04:31.902Z"
   },
   {
    "duration": 50,
    "start_time": "2022-02-07T14:07:51.582Z"
   },
   {
    "duration": 51,
    "start_time": "2022-02-07T14:08:53.118Z"
   },
   {
    "duration": 12,
    "start_time": "2022-02-07T14:16:35.489Z"
   },
   {
    "duration": 2316,
    "start_time": "2022-02-07T14:20:42.049Z"
   },
   {
    "duration": 461,
    "start_time": "2022-02-07T14:20:47.785Z"
   },
   {
    "duration": 771,
    "start_time": "2022-02-07T14:21:31.820Z"
   },
   {
    "duration": 646,
    "start_time": "2022-02-07T14:21:49.584Z"
   },
   {
    "duration": 1552,
    "start_time": "2022-02-07T14:24:31.311Z"
   },
   {
    "duration": 1063,
    "start_time": "2022-02-07T14:24:32.865Z"
   },
   {
    "duration": 93,
    "start_time": "2022-02-07T14:24:33.932Z"
   },
   {
    "duration": 83,
    "start_time": "2022-02-07T14:24:34.029Z"
   },
   {
    "duration": 82,
    "start_time": "2022-02-07T14:24:34.115Z"
   },
   {
    "duration": 105,
    "start_time": "2022-02-07T14:24:34.200Z"
   },
   {
    "duration": 76,
    "start_time": "2022-02-07T14:24:34.308Z"
   },
   {
    "duration": 89,
    "start_time": "2022-02-07T14:24:34.386Z"
   },
   {
    "duration": 54,
    "start_time": "2022-02-07T14:24:34.480Z"
   },
   {
    "duration": 7,
    "start_time": "2022-02-07T14:24:34.538Z"
   },
   {
    "duration": 52,
    "start_time": "2022-02-07T14:24:34.570Z"
   },
   {
    "duration": 80,
    "start_time": "2022-02-07T14:24:34.624Z"
   },
   {
    "duration": 36,
    "start_time": "2022-02-07T14:24:34.706Z"
   },
   {
    "duration": 27,
    "start_time": "2022-02-07T14:24:34.744Z"
   },
   {
    "duration": 18,
    "start_time": "2022-02-07T14:24:34.773Z"
   },
   {
    "duration": 17,
    "start_time": "2022-02-07T14:24:34.794Z"
   },
   {
    "duration": 13,
    "start_time": "2022-02-07T14:24:34.814Z"
   },
   {
    "duration": 47,
    "start_time": "2022-02-07T14:24:34.829Z"
   },
   {
    "duration": 6,
    "start_time": "2022-02-07T14:24:34.878Z"
   },
   {
    "duration": 8,
    "start_time": "2022-02-07T14:24:34.886Z"
   },
   {
    "duration": 16,
    "start_time": "2022-02-07T14:24:34.896Z"
   },
   {
    "duration": 56,
    "start_time": "2022-02-07T14:24:34.914Z"
   },
   {
    "duration": 28,
    "start_time": "2022-02-07T14:24:34.973Z"
   },
   {
    "duration": 19,
    "start_time": "2022-02-07T14:24:35.003Z"
   },
   {
    "duration": 66,
    "start_time": "2022-02-07T14:24:35.025Z"
   },
   {
    "duration": 41,
    "start_time": "2022-02-07T14:24:35.094Z"
   },
   {
    "duration": 52,
    "start_time": "2022-02-07T14:24:35.142Z"
   },
   {
    "duration": 30,
    "start_time": "2022-02-07T14:24:35.198Z"
   },
   {
    "duration": 43,
    "start_time": "2022-02-07T14:24:35.230Z"
   },
   {
    "duration": 6,
    "start_time": "2022-02-07T14:24:35.276Z"
   },
   {
    "duration": 22,
    "start_time": "2022-02-07T14:24:35.285Z"
   },
   {
    "duration": 22,
    "start_time": "2022-02-07T14:24:35.310Z"
   },
   {
    "duration": 109,
    "start_time": "2022-02-07T14:24:35.335Z"
   },
   {
    "duration": 10,
    "start_time": "2022-02-07T14:24:35.470Z"
   },
   {
    "duration": 20,
    "start_time": "2022-02-07T14:24:35.482Z"
   },
   {
    "duration": 13,
    "start_time": "2022-02-07T14:24:35.505Z"
   },
   {
    "duration": 13,
    "start_time": "2022-02-07T14:24:35.521Z"
   },
   {
    "duration": 35,
    "start_time": "2022-02-07T14:24:35.537Z"
   },
   {
    "duration": 135,
    "start_time": "2022-02-07T14:24:35.574Z"
   },
   {
    "duration": 9,
    "start_time": "2022-02-07T14:24:35.712Z"
   },
   {
    "duration": 68,
    "start_time": "2022-02-07T14:24:35.723Z"
   },
   {
    "duration": 1649,
    "start_time": "2022-02-07T14:24:35.794Z"
   },
   {
    "duration": 142,
    "start_time": "2022-02-07T14:24:37.445Z"
   },
   {
    "duration": 80,
    "start_time": "2022-02-07T14:24:37.591Z"
   },
   {
    "duration": 6,
    "start_time": "2022-02-07T14:24:37.675Z"
   },
   {
    "duration": 31,
    "start_time": "2022-02-07T14:24:37.684Z"
   },
   {
    "duration": 494,
    "start_time": "2022-02-07T14:24:37.718Z"
   },
   {
    "duration": 367,
    "start_time": "2022-02-07T14:24:38.214Z"
   },
   {
    "duration": 898,
    "start_time": "2022-02-07T14:24:38.583Z"
   },
   {
    "duration": 50,
    "start_time": "2022-02-07T14:24:39.483Z"
   },
   {
    "duration": 75,
    "start_time": "2022-02-07T14:24:39.535Z"
   },
   {
    "duration": 15,
    "start_time": "2022-02-07T14:24:39.613Z"
   },
   {
    "duration": 362,
    "start_time": "2022-02-07T14:24:39.632Z"
   },
   {
    "duration": 323,
    "start_time": "2022-02-07T14:24:39.997Z"
   },
   {
    "duration": 674,
    "start_time": "2022-02-07T14:24:40.323Z"
   },
   {
    "duration": 12,
    "start_time": "2022-02-07T14:33:50.805Z"
   },
   {
    "duration": 508,
    "start_time": "2022-02-07T14:36:07.935Z"
   },
   {
    "duration": 407,
    "start_time": "2022-02-07T14:36:11.845Z"
   },
   {
    "duration": 731,
    "start_time": "2022-02-07T14:36:14.552Z"
   },
   {
    "duration": 51,
    "start_time": "2022-02-07T14:37:30.628Z"
   },
   {
    "duration": 12,
    "start_time": "2022-02-07T14:39:54.192Z"
   },
   {
    "duration": 335,
    "start_time": "2022-02-07T14:43:50.060Z"
   },
   {
    "duration": 312,
    "start_time": "2022-02-07T14:47:16.289Z"
   },
   {
    "duration": 12,
    "start_time": "2022-02-07T14:47:50.087Z"
   },
   {
    "duration": 380,
    "start_time": "2022-02-07T14:47:50.970Z"
   },
   {
    "duration": 419,
    "start_time": "2022-02-07T14:54:00.914Z"
   },
   {
    "duration": 740,
    "start_time": "2022-02-07T14:54:03.741Z"
   },
   {
    "duration": 624,
    "start_time": "2022-02-07T14:55:50.423Z"
   },
   {
    "duration": 406,
    "start_time": "2022-02-07T14:55:52.261Z"
   },
   {
    "duration": 321,
    "start_time": "2022-02-07T14:56:04.276Z"
   },
   {
    "duration": 324,
    "start_time": "2022-02-07T14:58:23.511Z"
   },
   {
    "duration": 308,
    "start_time": "2022-02-07T14:58:26.706Z"
   },
   {
    "duration": 969,
    "start_time": "2022-02-07T14:58:50.709Z"
   },
   {
    "duration": 1456,
    "start_time": "2022-02-07T15:01:27.412Z"
   },
   {
    "duration": 913,
    "start_time": "2022-02-07T15:01:28.871Z"
   },
   {
    "duration": 98,
    "start_time": "2022-02-07T15:01:29.787Z"
   },
   {
    "duration": 88,
    "start_time": "2022-02-07T15:01:29.889Z"
   },
   {
    "duration": 49,
    "start_time": "2022-02-07T15:01:29.980Z"
   },
   {
    "duration": 104,
    "start_time": "2022-02-07T15:01:30.069Z"
   },
   {
    "duration": 53,
    "start_time": "2022-02-07T15:01:30.175Z"
   },
   {
    "duration": 100,
    "start_time": "2022-02-07T15:01:30.231Z"
   },
   {
    "duration": 69,
    "start_time": "2022-02-07T15:01:30.334Z"
   },
   {
    "duration": 6,
    "start_time": "2022-02-07T15:01:30.406Z"
   },
   {
    "duration": 82,
    "start_time": "2022-02-07T15:01:30.414Z"
   },
   {
    "duration": 62,
    "start_time": "2022-02-07T15:01:30.499Z"
   },
   {
    "duration": 33,
    "start_time": "2022-02-07T15:01:30.563Z"
   },
   {
    "duration": 10,
    "start_time": "2022-02-07T15:01:30.598Z"
   },
   {
    "duration": 23,
    "start_time": "2022-02-07T15:01:30.610Z"
   },
   {
    "duration": 47,
    "start_time": "2022-02-07T15:01:30.636Z"
   },
   {
    "duration": 13,
    "start_time": "2022-02-07T15:01:30.686Z"
   },
   {
    "duration": 17,
    "start_time": "2022-02-07T15:01:30.701Z"
   },
   {
    "duration": 27,
    "start_time": "2022-02-07T15:01:30.720Z"
   },
   {
    "duration": 20,
    "start_time": "2022-02-07T15:01:30.750Z"
   },
   {
    "duration": 29,
    "start_time": "2022-02-07T15:01:30.772Z"
   },
   {
    "duration": 25,
    "start_time": "2022-02-07T15:01:30.803Z"
   },
   {
    "duration": 44,
    "start_time": "2022-02-07T15:01:30.834Z"
   },
   {
    "duration": 20,
    "start_time": "2022-02-07T15:01:30.881Z"
   },
   {
    "duration": 66,
    "start_time": "2022-02-07T15:01:30.904Z"
   },
   {
    "duration": 45,
    "start_time": "2022-02-07T15:01:30.973Z"
   },
   {
    "duration": 57,
    "start_time": "2022-02-07T15:01:31.021Z"
   },
   {
    "duration": 28,
    "start_time": "2022-02-07T15:01:31.080Z"
   },
   {
    "duration": 10,
    "start_time": "2022-02-07T15:01:31.111Z"
   },
   {
    "duration": 17,
    "start_time": "2022-02-07T15:01:31.124Z"
   },
   {
    "duration": 39,
    "start_time": "2022-02-07T15:01:31.143Z"
   },
   {
    "duration": 24,
    "start_time": "2022-02-07T15:01:31.185Z"
   },
   {
    "duration": 108,
    "start_time": "2022-02-07T15:01:31.212Z"
   },
   {
    "duration": 8,
    "start_time": "2022-02-07T15:01:31.322Z"
   },
   {
    "duration": 17,
    "start_time": "2022-02-07T15:01:31.332Z"
   },
   {
    "duration": 26,
    "start_time": "2022-02-07T15:01:31.351Z"
   },
   {
    "duration": 14,
    "start_time": "2022-02-07T15:01:31.380Z"
   },
   {
    "duration": 9,
    "start_time": "2022-02-07T15:01:31.396Z"
   },
   {
    "duration": 164,
    "start_time": "2022-02-07T15:01:31.408Z"
   },
   {
    "duration": 10,
    "start_time": "2022-02-07T15:01:31.574Z"
   },
   {
    "duration": 53,
    "start_time": "2022-02-07T15:01:31.587Z"
   },
   {
    "duration": 1608,
    "start_time": "2022-02-07T15:01:31.643Z"
   },
   {
    "duration": 147,
    "start_time": "2022-02-07T15:01:33.254Z"
   },
   {
    "duration": 77,
    "start_time": "2022-02-07T15:01:33.404Z"
   },
   {
    "duration": 7,
    "start_time": "2022-02-07T15:01:33.484Z"
   },
   {
    "duration": 25,
    "start_time": "2022-02-07T15:01:33.494Z"
   },
   {
    "duration": 477,
    "start_time": "2022-02-07T15:01:33.522Z"
   },
   {
    "duration": 310,
    "start_time": "2022-02-07T15:01:34.002Z"
   },
   {
    "duration": 796,
    "start_time": "2022-02-07T15:01:34.314Z"
   },
   {
    "duration": 14,
    "start_time": "2022-02-07T15:01:35.112Z"
   },
   {
    "duration": 422,
    "start_time": "2022-02-07T15:01:35.128Z"
   },
   {
    "duration": 420,
    "start_time": "2022-02-07T15:01:35.554Z"
   },
   {
    "duration": 681,
    "start_time": "2022-02-07T15:01:35.977Z"
   },
   {
    "duration": 17,
    "start_time": "2022-02-07T15:01:36.660Z"
   },
   {
    "duration": 760,
    "start_time": "2022-02-07T15:01:36.679Z"
   },
   {
    "duration": -2261,
    "start_time": "2022-02-07T15:01:39.702Z"
   },
   {
    "duration": 306,
    "start_time": "2022-02-07T15:01:50.450Z"
   },
   {
    "duration": 405,
    "start_time": "2022-02-07T15:05:15.665Z"
   },
   {
    "duration": 1650,
    "start_time": "2022-02-07T15:06:23.531Z"
   },
   {
    "duration": 3085,
    "start_time": "2022-02-07T15:06:25.184Z"
   },
   {
    "duration": 74,
    "start_time": "2022-02-07T15:06:28.272Z"
   },
   {
    "duration": 62,
    "start_time": "2022-02-07T15:06:28.369Z"
   },
   {
    "duration": 70,
    "start_time": "2022-02-07T15:06:28.434Z"
   },
   {
    "duration": 101,
    "start_time": "2022-02-07T15:06:28.507Z"
   },
   {
    "duration": 76,
    "start_time": "2022-02-07T15:06:28.611Z"
   },
   {
    "duration": 87,
    "start_time": "2022-02-07T15:06:28.691Z"
   },
   {
    "duration": 52,
    "start_time": "2022-02-07T15:06:28.781Z"
   },
   {
    "duration": 6,
    "start_time": "2022-02-07T15:06:28.836Z"
   },
   {
    "duration": 77,
    "start_time": "2022-02-07T15:06:28.844Z"
   },
   {
    "duration": 81,
    "start_time": "2022-02-07T15:06:28.923Z"
   },
   {
    "duration": 30,
    "start_time": "2022-02-07T15:06:29.006Z"
   },
   {
    "duration": 10,
    "start_time": "2022-02-07T15:06:29.038Z"
   },
   {
    "duration": 18,
    "start_time": "2022-02-07T15:06:29.070Z"
   },
   {
    "duration": 15,
    "start_time": "2022-02-07T15:06:29.090Z"
   },
   {
    "duration": 13,
    "start_time": "2022-02-07T15:06:29.107Z"
   },
   {
    "duration": 48,
    "start_time": "2022-02-07T15:06:29.122Z"
   },
   {
    "duration": 6,
    "start_time": "2022-02-07T15:06:29.172Z"
   },
   {
    "duration": 10,
    "start_time": "2022-02-07T15:06:29.181Z"
   },
   {
    "duration": 21,
    "start_time": "2022-02-07T15:06:29.193Z"
   },
   {
    "duration": 14,
    "start_time": "2022-02-07T15:06:29.216Z"
   },
   {
    "duration": 30,
    "start_time": "2022-02-07T15:06:29.273Z"
   },
   {
    "duration": 21,
    "start_time": "2022-02-07T15:06:29.306Z"
   },
   {
    "duration": 69,
    "start_time": "2022-02-07T15:06:29.329Z"
   },
   {
    "duration": 44,
    "start_time": "2022-02-07T15:06:29.401Z"
   },
   {
    "duration": 36,
    "start_time": "2022-02-07T15:06:29.470Z"
   },
   {
    "duration": 30,
    "start_time": "2022-02-07T15:06:29.509Z"
   },
   {
    "duration": 10,
    "start_time": "2022-02-07T15:06:29.571Z"
   },
   {
    "duration": 6,
    "start_time": "2022-02-07T15:06:29.583Z"
   },
   {
    "duration": 26,
    "start_time": "2022-02-07T15:06:29.592Z"
   },
   {
    "duration": 17,
    "start_time": "2022-02-07T15:06:29.621Z"
   },
   {
    "duration": 105,
    "start_time": "2022-02-07T15:06:29.641Z"
   },
   {
    "duration": 9,
    "start_time": "2022-02-07T15:06:29.768Z"
   },
   {
    "duration": 5,
    "start_time": "2022-02-07T15:06:29.780Z"
   },
   {
    "duration": 15,
    "start_time": "2022-02-07T15:06:29.788Z"
   },
   {
    "duration": 13,
    "start_time": "2022-02-07T15:06:29.806Z"
   },
   {
    "duration": 47,
    "start_time": "2022-02-07T15:06:29.822Z"
   },
   {
    "duration": 137,
    "start_time": "2022-02-07T15:06:29.872Z"
   },
   {
    "duration": 8,
    "start_time": "2022-02-07T15:06:30.012Z"
   },
   {
    "duration": 64,
    "start_time": "2022-02-07T15:06:30.022Z"
   },
   {
    "duration": 1697,
    "start_time": "2022-02-07T15:06:30.088Z"
   },
   {
    "duration": 149,
    "start_time": "2022-02-07T15:06:31.788Z"
   },
   {
    "duration": 64,
    "start_time": "2022-02-07T15:06:31.940Z"
   },
   {
    "duration": 5,
    "start_time": "2022-02-07T15:06:32.006Z"
   },
   {
    "duration": 14,
    "start_time": "2022-02-07T15:06:32.014Z"
   },
   {
    "duration": 523,
    "start_time": "2022-02-07T15:06:32.030Z"
   },
   {
    "duration": 316,
    "start_time": "2022-02-07T15:06:32.555Z"
   },
   {
    "duration": 709,
    "start_time": "2022-02-07T15:06:32.873Z"
   },
   {
    "duration": 13,
    "start_time": "2022-02-07T15:06:33.584Z"
   },
   {
    "duration": 323,
    "start_time": "2022-02-07T15:06:33.600Z"
   },
   {
    "duration": 314,
    "start_time": "2022-02-07T15:06:33.927Z"
   },
   {
    "duration": 703,
    "start_time": "2022-02-07T15:06:34.244Z"
   },
   {
    "duration": 20,
    "start_time": "2022-02-07T15:06:34.949Z"
   },
   {
    "duration": 309,
    "start_time": "2022-02-07T15:06:34.971Z"
   },
   {
    "duration": -2138,
    "start_time": "2022-02-07T15:06:37.422Z"
   },
   {
    "duration": 1476,
    "start_time": "2022-02-07T15:17:55.098Z"
   },
   {
    "duration": 855,
    "start_time": "2022-02-07T15:17:56.577Z"
   },
   {
    "duration": 85,
    "start_time": "2022-02-07T15:17:57.435Z"
   },
   {
    "duration": 76,
    "start_time": "2022-02-07T15:17:57.523Z"
   },
   {
    "duration": 80,
    "start_time": "2022-02-07T15:17:57.602Z"
   },
   {
    "duration": 94,
    "start_time": "2022-02-07T15:17:57.684Z"
   },
   {
    "duration": 52,
    "start_time": "2022-02-07T15:17:57.780Z"
   },
   {
    "duration": 95,
    "start_time": "2022-02-07T15:17:57.834Z"
   },
   {
    "duration": 64,
    "start_time": "2022-02-07T15:17:57.933Z"
   },
   {
    "duration": 6,
    "start_time": "2022-02-07T15:17:58.000Z"
   },
   {
    "duration": 69,
    "start_time": "2022-02-07T15:17:58.009Z"
   },
   {
    "duration": 65,
    "start_time": "2022-02-07T15:17:58.080Z"
   },
   {
    "duration": 41,
    "start_time": "2022-02-07T15:17:58.147Z"
   },
   {
    "duration": 13,
    "start_time": "2022-02-07T15:17:58.190Z"
   },
   {
    "duration": 16,
    "start_time": "2022-02-07T15:17:58.205Z"
   },
   {
    "duration": 63,
    "start_time": "2022-02-07T15:17:58.223Z"
   },
   {
    "duration": 19,
    "start_time": "2022-02-07T15:17:58.289Z"
   },
   {
    "duration": 12,
    "start_time": "2022-02-07T15:17:58.311Z"
   },
   {
    "duration": 6,
    "start_time": "2022-02-07T15:17:58.326Z"
   },
   {
    "duration": 7,
    "start_time": "2022-02-07T15:17:58.370Z"
   },
   {
    "duration": 16,
    "start_time": "2022-02-07T15:17:58.379Z"
   },
   {
    "duration": 12,
    "start_time": "2022-02-07T15:17:58.398Z"
   },
   {
    "duration": 78,
    "start_time": "2022-02-07T15:17:58.413Z"
   },
   {
    "duration": 19,
    "start_time": "2022-02-07T15:17:58.494Z"
   },
   {
    "duration": 65,
    "start_time": "2022-02-07T15:17:58.516Z"
   },
   {
    "duration": 41,
    "start_time": "2022-02-07T15:17:58.583Z"
   },
   {
    "duration": 56,
    "start_time": "2022-02-07T15:17:58.630Z"
   },
   {
    "duration": 40,
    "start_time": "2022-02-07T15:17:58.690Z"
   },
   {
    "duration": 38,
    "start_time": "2022-02-07T15:17:58.733Z"
   },
   {
    "duration": 19,
    "start_time": "2022-02-07T15:17:58.774Z"
   },
   {
    "duration": 19,
    "start_time": "2022-02-07T15:17:58.795Z"
   },
   {
    "duration": 26,
    "start_time": "2022-02-07T15:17:58.816Z"
   },
   {
    "duration": 99,
    "start_time": "2022-02-07T15:17:58.844Z"
   },
   {
    "duration": 10,
    "start_time": "2022-02-07T15:17:58.945Z"
   },
   {
    "duration": 7,
    "start_time": "2022-02-07T15:17:58.970Z"
   },
   {
    "duration": 12,
    "start_time": "2022-02-07T15:17:58.981Z"
   },
   {
    "duration": 16,
    "start_time": "2022-02-07T15:17:58.996Z"
   },
   {
    "duration": 57,
    "start_time": "2022-02-07T15:17:59.015Z"
   },
   {
    "duration": 131,
    "start_time": "2022-02-07T15:17:59.075Z"
   },
   {
    "duration": 9,
    "start_time": "2022-02-07T15:17:59.209Z"
   },
   {
    "duration": 76,
    "start_time": "2022-02-07T15:17:59.221Z"
   },
   {
    "duration": 1648,
    "start_time": "2022-02-07T15:17:59.300Z"
   },
   {
    "duration": 149,
    "start_time": "2022-02-07T15:18:00.952Z"
   },
   {
    "duration": 72,
    "start_time": "2022-02-07T15:18:01.103Z"
   },
   {
    "duration": 5,
    "start_time": "2022-02-07T15:18:01.178Z"
   },
   {
    "duration": 16,
    "start_time": "2022-02-07T15:18:01.185Z"
   },
   {
    "duration": 497,
    "start_time": "2022-02-07T15:18:01.204Z"
   },
   {
    "duration": 317,
    "start_time": "2022-02-07T15:18:01.703Z"
   },
   {
    "duration": 726,
    "start_time": "2022-02-07T15:18:02.023Z"
   },
   {
    "duration": 24,
    "start_time": "2022-02-07T15:18:02.752Z"
   },
   {
    "duration": 327,
    "start_time": "2022-02-07T15:18:02.778Z"
   },
   {
    "duration": 310,
    "start_time": "2022-02-07T15:18:03.108Z"
   },
   {
    "duration": 688,
    "start_time": "2022-02-07T15:18:03.420Z"
   },
   {
    "duration": 12,
    "start_time": "2022-02-07T15:18:04.110Z"
   },
   {
    "duration": 334,
    "start_time": "2022-02-07T15:18:04.124Z"
   },
   {
    "duration": -2394,
    "start_time": "2022-02-07T15:18:06.854Z"
   },
   {
    "duration": 319,
    "start_time": "2022-02-07T15:23:40.019Z"
   },
   {
    "duration": 503,
    "start_time": "2022-02-07T15:25:25.777Z"
   },
   {
    "duration": 432,
    "start_time": "2022-02-07T15:32:37.771Z"
   },
   {
    "duration": 679,
    "start_time": "2022-02-07T15:32:42.154Z"
   },
   {
    "duration": 580,
    "start_time": "2022-02-07T15:34:18.004Z"
   },
   {
    "duration": 9,
    "start_time": "2022-02-07T15:35:33.211Z"
   },
   {
    "duration": 1538,
    "start_time": "2022-02-07T15:35:39.440Z"
   },
   {
    "duration": 1024,
    "start_time": "2022-02-07T15:35:40.981Z"
   },
   {
    "duration": 79,
    "start_time": "2022-02-07T15:35:42.008Z"
   },
   {
    "duration": 62,
    "start_time": "2022-02-07T15:35:42.090Z"
   },
   {
    "duration": 44,
    "start_time": "2022-02-07T15:35:42.170Z"
   },
   {
    "duration": 99,
    "start_time": "2022-02-07T15:35:42.216Z"
   },
   {
    "duration": 79,
    "start_time": "2022-02-07T15:35:42.318Z"
   },
   {
    "duration": 87,
    "start_time": "2022-02-07T15:35:42.401Z"
   },
   {
    "duration": 54,
    "start_time": "2022-02-07T15:35:42.492Z"
   },
   {
    "duration": 23,
    "start_time": "2022-02-07T15:35:42.549Z"
   },
   {
    "duration": 59,
    "start_time": "2022-02-07T15:35:42.575Z"
   },
   {
    "duration": 77,
    "start_time": "2022-02-07T15:35:42.637Z"
   },
   {
    "duration": 30,
    "start_time": "2022-02-07T15:35:42.717Z"
   },
   {
    "duration": 12,
    "start_time": "2022-02-07T15:35:42.769Z"
   },
   {
    "duration": 19,
    "start_time": "2022-02-07T15:35:42.784Z"
   },
   {
    "duration": 14,
    "start_time": "2022-02-07T15:35:42.806Z"
   },
   {
    "duration": 50,
    "start_time": "2022-02-07T15:35:42.822Z"
   },
   {
    "duration": 10,
    "start_time": "2022-02-07T15:35:42.874Z"
   },
   {
    "duration": 7,
    "start_time": "2022-02-07T15:35:42.886Z"
   },
   {
    "duration": 9,
    "start_time": "2022-02-07T15:35:42.895Z"
   },
   {
    "duration": 17,
    "start_time": "2022-02-07T15:35:42.906Z"
   },
   {
    "duration": 53,
    "start_time": "2022-02-07T15:35:42.925Z"
   },
   {
    "duration": 28,
    "start_time": "2022-02-07T15:35:42.984Z"
   },
   {
    "duration": 19,
    "start_time": "2022-02-07T15:35:43.016Z"
   },
   {
    "duration": 70,
    "start_time": "2022-02-07T15:35:43.037Z"
   },
   {
    "duration": 58,
    "start_time": "2022-02-07T15:35:43.111Z"
   },
   {
    "duration": 29,
    "start_time": "2022-02-07T15:35:43.172Z"
   },
   {
    "duration": 28,
    "start_time": "2022-02-07T15:35:43.204Z"
   },
   {
    "duration": 42,
    "start_time": "2022-02-07T15:35:43.235Z"
   },
   {
    "duration": 7,
    "start_time": "2022-02-07T15:35:43.280Z"
   },
   {
    "duration": 23,
    "start_time": "2022-02-07T15:35:43.289Z"
   },
   {
    "duration": 54,
    "start_time": "2022-02-07T15:35:43.315Z"
   },
   {
    "duration": 103,
    "start_time": "2022-02-07T15:35:43.372Z"
   },
   {
    "duration": 9,
    "start_time": "2022-02-07T15:35:43.479Z"
   },
   {
    "duration": 7,
    "start_time": "2022-02-07T15:35:43.490Z"
   },
   {
    "duration": 15,
    "start_time": "2022-02-07T15:35:43.499Z"
   },
   {
    "duration": 13,
    "start_time": "2022-02-07T15:35:43.516Z"
   },
   {
    "duration": 40,
    "start_time": "2022-02-07T15:35:43.532Z"
   },
   {
    "duration": 9315,
    "start_time": "2022-02-07T15:35:43.575Z"
   },
   {
    "duration": -2167,
    "start_time": "2022-02-07T15:35:55.060Z"
   },
   {
    "duration": -2170,
    "start_time": "2022-02-07T15:35:55.064Z"
   },
   {
    "duration": -2174,
    "start_time": "2022-02-07T15:35:55.069Z"
   },
   {
    "duration": -2188,
    "start_time": "2022-02-07T15:35:55.084Z"
   },
   {
    "duration": -2198,
    "start_time": "2022-02-07T15:35:55.096Z"
   },
   {
    "duration": -2203,
    "start_time": "2022-02-07T15:35:55.102Z"
   },
   {
    "duration": -2209,
    "start_time": "2022-02-07T15:35:55.110Z"
   },
   {
    "duration": -2218,
    "start_time": "2022-02-07T15:35:55.120Z"
   },
   {
    "duration": -2359,
    "start_time": "2022-02-07T15:35:55.262Z"
   },
   {
    "duration": -2360,
    "start_time": "2022-02-07T15:35:55.265Z"
   },
   {
    "duration": -2366,
    "start_time": "2022-02-07T15:35:55.272Z"
   },
   {
    "duration": -2371,
    "start_time": "2022-02-07T15:35:55.279Z"
   },
   {
    "duration": -2373,
    "start_time": "2022-02-07T15:35:55.282Z"
   },
   {
    "duration": -2373,
    "start_time": "2022-02-07T15:35:55.284Z"
   },
   {
    "duration": -2380,
    "start_time": "2022-02-07T15:35:55.293Z"
   },
   {
    "duration": -2382,
    "start_time": "2022-02-07T15:35:55.296Z"
   },
   {
    "duration": -2385,
    "start_time": "2022-02-07T15:35:55.300Z"
   },
   {
    "duration": 1518,
    "start_time": "2022-02-07T15:36:34.805Z"
   },
   {
    "duration": 2273,
    "start_time": "2022-02-07T15:36:36.326Z"
   },
   {
    "duration": 74,
    "start_time": "2022-02-07T15:36:38.602Z"
   },
   {
    "duration": 60,
    "start_time": "2022-02-07T15:36:38.679Z"
   },
   {
    "duration": 68,
    "start_time": "2022-02-07T15:36:38.742Z"
   },
   {
    "duration": 99,
    "start_time": "2022-02-07T15:36:38.813Z"
   },
   {
    "duration": 76,
    "start_time": "2022-02-07T15:36:38.915Z"
   },
   {
    "duration": 87,
    "start_time": "2022-02-07T15:36:38.994Z"
   },
   {
    "duration": 58,
    "start_time": "2022-02-07T15:36:39.086Z"
   },
   {
    "duration": 23,
    "start_time": "2022-02-07T15:36:39.148Z"
   },
   {
    "duration": 57,
    "start_time": "2022-02-07T15:36:39.173Z"
   },
   {
    "duration": 82,
    "start_time": "2022-02-07T15:36:39.233Z"
   },
   {
    "duration": 29,
    "start_time": "2022-02-07T15:36:39.318Z"
   },
   {
    "duration": 28,
    "start_time": "2022-02-07T15:36:39.349Z"
   },
   {
    "duration": 19,
    "start_time": "2022-02-07T15:36:39.380Z"
   },
   {
    "duration": 17,
    "start_time": "2022-02-07T15:36:39.402Z"
   },
   {
    "duration": 48,
    "start_time": "2022-02-07T15:36:39.422Z"
   },
   {
    "duration": 9,
    "start_time": "2022-02-07T15:36:39.473Z"
   },
   {
    "duration": 30,
    "start_time": "2022-02-07T15:36:39.485Z"
   },
   {
    "duration": 20,
    "start_time": "2022-02-07T15:36:39.518Z"
   },
   {
    "duration": 34,
    "start_time": "2022-02-07T15:36:39.541Z"
   },
   {
    "duration": 14,
    "start_time": "2022-02-07T15:36:39.577Z"
   },
   {
    "duration": 34,
    "start_time": "2022-02-07T15:36:39.593Z"
   },
   {
    "duration": 39,
    "start_time": "2022-02-07T15:36:39.630Z"
   },
   {
    "duration": 46,
    "start_time": "2022-02-07T15:36:39.672Z"
   },
   {
    "duration": 66,
    "start_time": "2022-02-07T15:36:39.720Z"
   },
   {
    "duration": 31,
    "start_time": "2022-02-07T15:36:39.791Z"
   },
   {
    "duration": 52,
    "start_time": "2022-02-07T15:36:39.825Z"
   },
   {
    "duration": 12,
    "start_time": "2022-02-07T15:36:39.879Z"
   },
   {
    "duration": 5,
    "start_time": "2022-02-07T15:36:39.894Z"
   },
   {
    "duration": 22,
    "start_time": "2022-02-07T15:36:39.901Z"
   },
   {
    "duration": 47,
    "start_time": "2022-02-07T15:36:39.925Z"
   },
   {
    "duration": 104,
    "start_time": "2022-02-07T15:36:39.975Z"
   },
   {
    "duration": 10,
    "start_time": "2022-02-07T15:36:40.082Z"
   },
   {
    "duration": 8,
    "start_time": "2022-02-07T15:36:40.095Z"
   },
   {
    "duration": 14,
    "start_time": "2022-02-07T15:36:40.106Z"
   },
   {
    "duration": 51,
    "start_time": "2022-02-07T15:36:40.122Z"
   },
   {
    "duration": 13,
    "start_time": "2022-02-07T15:36:40.175Z"
   },
   {
    "duration": 139,
    "start_time": "2022-02-07T15:36:40.190Z"
   },
   {
    "duration": 8,
    "start_time": "2022-02-07T15:36:40.332Z"
   },
   {
    "duration": 65,
    "start_time": "2022-02-07T15:36:40.342Z"
   },
   {
    "duration": 1598,
    "start_time": "2022-02-07T15:36:40.410Z"
   },
   {
    "duration": 146,
    "start_time": "2022-02-07T15:36:42.010Z"
   },
   {
    "duration": 62,
    "start_time": "2022-02-07T15:36:42.159Z"
   },
   {
    "duration": 5,
    "start_time": "2022-02-07T15:36:42.224Z"
   },
   {
    "duration": 39,
    "start_time": "2022-02-07T15:36:42.231Z"
   },
   {
    "duration": 479,
    "start_time": "2022-02-07T15:36:42.272Z"
   },
   {
    "duration": 329,
    "start_time": "2022-02-07T15:36:42.753Z"
   },
   {
    "duration": 716,
    "start_time": "2022-02-07T15:36:43.084Z"
   },
   {
    "duration": 14,
    "start_time": "2022-02-07T15:36:43.803Z"
   },
   {
    "duration": 326,
    "start_time": "2022-02-07T15:36:43.820Z"
   },
   {
    "duration": 330,
    "start_time": "2022-02-07T15:36:44.148Z"
   },
   {
    "duration": 716,
    "start_time": "2022-02-07T15:36:44.481Z"
   },
   {
    "duration": 7023,
    "start_time": "2022-02-07T15:36:45.201Z"
   },
   {
    "duration": -2424,
    "start_time": "2022-02-07T15:36:54.650Z"
   },
   {
    "duration": -2425,
    "start_time": "2022-02-07T15:36:54.652Z"
   },
   {
    "duration": 12,
    "start_time": "2022-02-07T15:37:03.937Z"
   },
   {
    "duration": 590,
    "start_time": "2022-02-07T15:37:16.022Z"
   },
   {
    "duration": 591,
    "start_time": "2022-02-07T15:37:26.212Z"
   },
   {
    "duration": 1567,
    "start_time": "2022-02-07T15:37:58.977Z"
   },
   {
    "duration": 951,
    "start_time": "2022-02-07T15:38:00.547Z"
   },
   {
    "duration": 75,
    "start_time": "2022-02-07T15:38:01.501Z"
   },
   {
    "duration": 60,
    "start_time": "2022-02-07T15:38:01.579Z"
   },
   {
    "duration": 69,
    "start_time": "2022-02-07T15:38:01.641Z"
   },
   {
    "duration": 105,
    "start_time": "2022-02-07T15:38:01.713Z"
   },
   {
    "duration": 81,
    "start_time": "2022-02-07T15:38:01.821Z"
   },
   {
    "duration": 99,
    "start_time": "2022-02-07T15:38:01.906Z"
   },
   {
    "duration": 62,
    "start_time": "2022-02-07T15:38:02.008Z"
   },
   {
    "duration": 6,
    "start_time": "2022-02-07T15:38:02.073Z"
   },
   {
    "duration": 68,
    "start_time": "2022-02-07T15:38:02.081Z"
   },
   {
    "duration": 80,
    "start_time": "2022-02-07T15:38:02.151Z"
   },
   {
    "duration": 47,
    "start_time": "2022-02-07T15:38:02.234Z"
   },
   {
    "duration": 13,
    "start_time": "2022-02-07T15:38:02.283Z"
   },
   {
    "duration": 20,
    "start_time": "2022-02-07T15:38:02.299Z"
   },
   {
    "duration": 58,
    "start_time": "2022-02-07T15:38:02.322Z"
   },
   {
    "duration": 16,
    "start_time": "2022-02-07T15:38:02.383Z"
   },
   {
    "duration": 10,
    "start_time": "2022-02-07T15:38:02.402Z"
   },
   {
    "duration": 9,
    "start_time": "2022-02-07T15:38:02.414Z"
   },
   {
    "duration": 45,
    "start_time": "2022-02-07T15:38:02.426Z"
   },
   {
    "duration": 19,
    "start_time": "2022-02-07T15:38:02.474Z"
   },
   {
    "duration": 25,
    "start_time": "2022-02-07T15:38:02.495Z"
   },
   {
    "duration": 46,
    "start_time": "2022-02-07T15:38:02.526Z"
   },
   {
    "duration": 21,
    "start_time": "2022-02-07T15:38:02.575Z"
   },
   {
    "duration": 46,
    "start_time": "2022-02-07T15:38:02.598Z"
   },
   {
    "duration": 64,
    "start_time": "2022-02-07T15:38:02.647Z"
   },
   {
    "duration": 30,
    "start_time": "2022-02-07T15:38:02.714Z"
   },
   {
    "duration": 27,
    "start_time": "2022-02-07T15:38:02.770Z"
   },
   {
    "duration": 10,
    "start_time": "2022-02-07T15:38:02.799Z"
   },
   {
    "duration": 6,
    "start_time": "2022-02-07T15:38:02.811Z"
   },
   {
    "duration": 50,
    "start_time": "2022-02-07T15:38:02.819Z"
   },
   {
    "duration": 18,
    "start_time": "2022-02-07T15:38:02.872Z"
   },
   {
    "duration": 106,
    "start_time": "2022-02-07T15:38:02.893Z"
   },
   {
    "duration": 9,
    "start_time": "2022-02-07T15:38:03.002Z"
   },
   {
    "duration": 12,
    "start_time": "2022-02-07T15:38:03.013Z"
   },
   {
    "duration": 29,
    "start_time": "2022-02-07T15:38:03.027Z"
   },
   {
    "duration": 19,
    "start_time": "2022-02-07T15:38:03.058Z"
   },
   {
    "duration": 18,
    "start_time": "2022-02-07T15:38:03.080Z"
   },
   {
    "duration": 135,
    "start_time": "2022-02-07T15:38:03.100Z"
   },
   {
    "duration": 8,
    "start_time": "2022-02-07T15:38:03.237Z"
   },
   {
    "duration": 67,
    "start_time": "2022-02-07T15:38:03.247Z"
   },
   {
    "duration": 1702,
    "start_time": "2022-02-07T15:38:03.317Z"
   },
   {
    "duration": 164,
    "start_time": "2022-02-07T15:38:05.021Z"
   },
   {
    "duration": 105,
    "start_time": "2022-02-07T15:38:05.188Z"
   },
   {
    "duration": 13,
    "start_time": "2022-02-07T15:38:05.299Z"
   },
   {
    "duration": 53,
    "start_time": "2022-02-07T15:38:05.315Z"
   },
   {
    "duration": 480,
    "start_time": "2022-02-07T15:38:05.371Z"
   },
   {
    "duration": 365,
    "start_time": "2022-02-07T15:38:05.854Z"
   },
   {
    "duration": 704,
    "start_time": "2022-02-07T15:38:06.223Z"
   },
   {
    "duration": 13,
    "start_time": "2022-02-07T15:38:06.930Z"
   },
   {
    "duration": 376,
    "start_time": "2022-02-07T15:38:06.946Z"
   },
   {
    "duration": 312,
    "start_time": "2022-02-07T15:38:07.325Z"
   },
   {
    "duration": 737,
    "start_time": "2022-02-07T15:38:07.641Z"
   },
   {
    "duration": 11,
    "start_time": "2022-02-07T15:38:08.380Z"
   },
   {
    "duration": 594,
    "start_time": "2022-02-07T15:38:08.393Z"
   },
   {
    "duration": 573,
    "start_time": "2022-02-07T15:38:08.990Z"
   },
   {
    "duration": 796,
    "start_time": "2022-02-07T15:39:21.668Z"
   },
   {
    "duration": 698,
    "start_time": "2022-02-07T15:39:32.814Z"
   },
   {
    "duration": 1568,
    "start_time": "2022-02-07T15:47:09.291Z"
   },
   {
    "duration": 1640,
    "start_time": "2022-02-07T15:47:45.624Z"
   },
   {
    "duration": 1575,
    "start_time": "2022-02-07T15:48:00.251Z"
   },
   {
    "duration": 263,
    "start_time": "2022-02-07T15:50:21.078Z"
   },
   {
    "duration": 824,
    "start_time": "2022-02-07T15:52:41.504Z"
   },
   {
    "duration": 2119,
    "start_time": "2022-02-07T15:55:12.812Z"
   },
   {
    "duration": 672,
    "start_time": "2022-02-07T15:55:34.659Z"
   },
   {
    "duration": 1171,
    "start_time": "2022-02-07T15:55:51.788Z"
   },
   {
    "duration": 1339,
    "start_time": "2022-02-07T15:56:47.165Z"
   },
   {
    "duration": 1093,
    "start_time": "2022-02-07T15:57:01.427Z"
   },
   {
    "duration": 660,
    "start_time": "2022-02-07T15:57:22.093Z"
   },
   {
    "duration": 568,
    "start_time": "2022-02-07T15:58:37.160Z"
   },
   {
    "duration": 529,
    "start_time": "2022-02-07T15:59:21.932Z"
   },
   {
    "duration": 541,
    "start_time": "2022-02-07T15:59:42.735Z"
   },
   {
    "duration": 1105,
    "start_time": "2022-02-07T16:00:07.913Z"
   },
   {
    "duration": 1502,
    "start_time": "2022-02-07T16:01:17.378Z"
   },
   {
    "duration": 920,
    "start_time": "2022-02-07T16:01:18.883Z"
   },
   {
    "duration": 75,
    "start_time": "2022-02-07T16:01:19.806Z"
   },
   {
    "duration": 88,
    "start_time": "2022-02-07T16:01:19.884Z"
   },
   {
    "duration": 44,
    "start_time": "2022-02-07T16:01:19.974Z"
   },
   {
    "duration": 100,
    "start_time": "2022-02-07T16:01:20.020Z"
   },
   {
    "duration": 75,
    "start_time": "2022-02-07T16:01:20.123Z"
   },
   {
    "duration": 102,
    "start_time": "2022-02-07T16:01:20.201Z"
   },
   {
    "duration": 62,
    "start_time": "2022-02-07T16:01:20.307Z"
   },
   {
    "duration": 6,
    "start_time": "2022-02-07T16:01:20.373Z"
   },
   {
    "duration": 56,
    "start_time": "2022-02-07T16:01:20.382Z"
   },
   {
    "duration": 83,
    "start_time": "2022-02-07T16:01:20.440Z"
   },
   {
    "duration": 46,
    "start_time": "2022-02-07T16:01:20.525Z"
   },
   {
    "duration": 11,
    "start_time": "2022-02-07T16:01:20.574Z"
   },
   {
    "duration": 20,
    "start_time": "2022-02-07T16:01:20.588Z"
   },
   {
    "duration": 16,
    "start_time": "2022-02-07T16:01:20.611Z"
   },
   {
    "duration": 46,
    "start_time": "2022-02-07T16:01:20.630Z"
   },
   {
    "duration": 12,
    "start_time": "2022-02-07T16:01:20.679Z"
   },
   {
    "duration": 9,
    "start_time": "2022-02-07T16:01:20.694Z"
   },
   {
    "duration": 7,
    "start_time": "2022-02-07T16:01:20.706Z"
   },
   {
    "duration": 57,
    "start_time": "2022-02-07T16:01:20.715Z"
   },
   {
    "duration": 13,
    "start_time": "2022-02-07T16:01:20.775Z"
   },
   {
    "duration": 29,
    "start_time": "2022-02-07T16:01:20.791Z"
   },
   {
    "duration": 56,
    "start_time": "2022-02-07T16:01:20.822Z"
   },
   {
    "duration": 45,
    "start_time": "2022-02-07T16:01:20.880Z"
   },
   {
    "duration": 69,
    "start_time": "2022-02-07T16:01:20.927Z"
   },
   {
    "duration": 32,
    "start_time": "2022-02-07T16:01:21.003Z"
   },
   {
    "duration": 52,
    "start_time": "2022-02-07T16:01:21.039Z"
   },
   {
    "duration": 10,
    "start_time": "2022-02-07T16:01:21.094Z"
   },
   {
    "duration": 6,
    "start_time": "2022-02-07T16:01:21.106Z"
   },
   {
    "duration": 22,
    "start_time": "2022-02-07T16:01:21.114Z"
   },
   {
    "duration": 46,
    "start_time": "2022-02-07T16:01:21.139Z"
   },
   {
    "duration": 104,
    "start_time": "2022-02-07T16:01:21.188Z"
   },
   {
    "duration": 8,
    "start_time": "2022-02-07T16:01:21.295Z"
   },
   {
    "duration": 4,
    "start_time": "2022-02-07T16:01:21.306Z"
   },
   {
    "duration": 11,
    "start_time": "2022-02-07T16:01:21.313Z"
   },
   {
    "duration": 50,
    "start_time": "2022-02-07T16:01:21.327Z"
   },
   {
    "duration": 8,
    "start_time": "2022-02-07T16:01:21.379Z"
   },
   {
    "duration": 137,
    "start_time": "2022-02-07T16:01:21.389Z"
   },
   {
    "duration": 8,
    "start_time": "2022-02-07T16:01:21.528Z"
   },
   {
    "duration": 66,
    "start_time": "2022-02-07T16:01:21.538Z"
   },
   {
    "duration": 1588,
    "start_time": "2022-02-07T16:01:21.606Z"
   },
   {
    "duration": 153,
    "start_time": "2022-02-07T16:01:23.197Z"
   },
   {
    "duration": 64,
    "start_time": "2022-02-07T16:01:23.353Z"
   },
   {
    "duration": 5,
    "start_time": "2022-02-07T16:01:23.419Z"
   },
   {
    "duration": 12,
    "start_time": "2022-02-07T16:01:23.427Z"
   },
   {
    "duration": 470,
    "start_time": "2022-02-07T16:01:23.471Z"
   },
   {
    "duration": 318,
    "start_time": "2022-02-07T16:01:23.944Z"
   },
   {
    "duration": 704,
    "start_time": "2022-02-07T16:01:24.264Z"
   },
   {
    "duration": 13,
    "start_time": "2022-02-07T16:01:24.970Z"
   },
   {
    "duration": 328,
    "start_time": "2022-02-07T16:01:24.986Z"
   },
   {
    "duration": 327,
    "start_time": "2022-02-07T16:01:25.317Z"
   },
   {
    "duration": 661,
    "start_time": "2022-02-07T16:01:25.646Z"
   },
   {
    "duration": 12,
    "start_time": "2022-02-07T16:01:26.309Z"
   },
   {
    "duration": 639,
    "start_time": "2022-02-07T16:01:26.324Z"
   },
   {
    "duration": 606,
    "start_time": "2022-02-07T16:01:26.966Z"
   },
   {
    "duration": 709,
    "start_time": "2022-02-07T16:01:27.574Z"
   },
   {
    "duration": 775,
    "start_time": "2022-02-07T16:02:26.773Z"
   },
   {
    "duration": 524,
    "start_time": "2022-02-07T16:03:40.187Z"
   },
   {
    "duration": 567,
    "start_time": "2022-02-07T16:04:57.702Z"
   },
   {
    "duration": 572,
    "start_time": "2022-02-07T16:05:12.272Z"
   },
   {
    "duration": 567,
    "start_time": "2022-02-07T16:05:51.305Z"
   },
   {
    "duration": 1084,
    "start_time": "2022-02-07T16:06:31.869Z"
   },
   {
    "duration": 907,
    "start_time": "2022-02-07T16:06:38.774Z"
   },
   {
    "duration": 1009,
    "start_time": "2022-02-07T16:06:55.560Z"
   },
   {
    "duration": 531,
    "start_time": "2022-02-07T16:07:24.199Z"
   },
   {
    "duration": 523,
    "start_time": "2022-02-07T16:07:40.594Z"
   },
   {
    "duration": 816,
    "start_time": "2022-02-07T16:09:36.249Z"
   },
   {
    "duration": 1517,
    "start_time": "2022-02-07T16:09:53.356Z"
   },
   {
    "duration": 916,
    "start_time": "2022-02-07T16:09:54.875Z"
   },
   {
    "duration": 76,
    "start_time": "2022-02-07T16:09:55.795Z"
   },
   {
    "duration": 65,
    "start_time": "2022-02-07T16:09:55.875Z"
   },
   {
    "duration": 46,
    "start_time": "2022-02-07T16:09:55.970Z"
   },
   {
    "duration": 107,
    "start_time": "2022-02-07T16:09:56.018Z"
   },
   {
    "duration": 79,
    "start_time": "2022-02-07T16:09:56.128Z"
   },
   {
    "duration": 95,
    "start_time": "2022-02-07T16:09:56.210Z"
   },
   {
    "duration": 60,
    "start_time": "2022-02-07T16:09:56.309Z"
   },
   {
    "duration": 6,
    "start_time": "2022-02-07T16:09:56.373Z"
   },
   {
    "duration": 60,
    "start_time": "2022-02-07T16:09:56.382Z"
   },
   {
    "duration": 85,
    "start_time": "2022-02-07T16:09:56.445Z"
   },
   {
    "duration": 55,
    "start_time": "2022-02-07T16:09:56.533Z"
   },
   {
    "duration": 13,
    "start_time": "2022-02-07T16:09:56.591Z"
   },
   {
    "duration": 20,
    "start_time": "2022-02-07T16:09:56.608Z"
   },
   {
    "duration": 49,
    "start_time": "2022-02-07T16:09:56.630Z"
   },
   {
    "duration": 14,
    "start_time": "2022-02-07T16:09:56.681Z"
   },
   {
    "duration": 9,
    "start_time": "2022-02-07T16:09:56.698Z"
   },
   {
    "duration": 6,
    "start_time": "2022-02-07T16:09:56.709Z"
   },
   {
    "duration": 10,
    "start_time": "2022-02-07T16:09:56.718Z"
   },
   {
    "duration": 16,
    "start_time": "2022-02-07T16:09:56.769Z"
   },
   {
    "duration": 13,
    "start_time": "2022-02-07T16:09:56.788Z"
   },
   {
    "duration": 28,
    "start_time": "2022-02-07T16:09:56.803Z"
   },
   {
    "duration": 54,
    "start_time": "2022-02-07T16:09:56.834Z"
   },
   {
    "duration": 47,
    "start_time": "2022-02-07T16:09:56.891Z"
   },
   {
    "duration": 68,
    "start_time": "2022-02-07T16:09:56.941Z"
   },
   {
    "duration": 56,
    "start_time": "2022-02-07T16:09:57.015Z"
   },
   {
    "duration": 29,
    "start_time": "2022-02-07T16:09:57.074Z"
   },
   {
    "duration": 9,
    "start_time": "2022-02-07T16:09:57.105Z"
   },
   {
    "duration": 7,
    "start_time": "2022-02-07T16:09:57.117Z"
   },
   {
    "duration": 51,
    "start_time": "2022-02-07T16:09:57.126Z"
   },
   {
    "duration": 18,
    "start_time": "2022-02-07T16:09:57.179Z"
   },
   {
    "duration": 100,
    "start_time": "2022-02-07T16:09:57.199Z"
   },
   {
    "duration": 8,
    "start_time": "2022-02-07T16:09:57.302Z"
   },
   {
    "duration": 10,
    "start_time": "2022-02-07T16:09:57.312Z"
   },
   {
    "duration": 22,
    "start_time": "2022-02-07T16:09:57.324Z"
   },
   {
    "duration": 31,
    "start_time": "2022-02-07T16:09:57.349Z"
   },
   {
    "duration": 8,
    "start_time": "2022-02-07T16:09:57.383Z"
   },
   {
    "duration": 145,
    "start_time": "2022-02-07T16:09:57.394Z"
   },
   {
    "duration": 8,
    "start_time": "2022-02-07T16:09:57.542Z"
   },
   {
    "duration": 61,
    "start_time": "2022-02-07T16:09:57.552Z"
   },
   {
    "duration": 1609,
    "start_time": "2022-02-07T16:09:57.615Z"
   },
   {
    "duration": 145,
    "start_time": "2022-02-07T16:09:59.227Z"
   },
   {
    "duration": 63,
    "start_time": "2022-02-07T16:09:59.375Z"
   },
   {
    "duration": 32,
    "start_time": "2022-02-07T16:09:59.441Z"
   },
   {
    "duration": 21,
    "start_time": "2022-02-07T16:09:59.476Z"
   },
   {
    "duration": 465,
    "start_time": "2022-02-07T16:09:59.500Z"
   },
   {
    "duration": 335,
    "start_time": "2022-02-07T16:09:59.968Z"
   },
   {
    "duration": 708,
    "start_time": "2022-02-07T16:10:00.306Z"
   },
   {
    "duration": 13,
    "start_time": "2022-02-07T16:10:01.016Z"
   },
   {
    "duration": 382,
    "start_time": "2022-02-07T16:10:01.031Z"
   },
   {
    "duration": 346,
    "start_time": "2022-02-07T16:10:01.416Z"
   },
   {
    "duration": 690,
    "start_time": "2022-02-07T16:10:01.764Z"
   },
   {
    "duration": 23,
    "start_time": "2022-02-07T16:10:02.457Z"
   },
   {
    "duration": 620,
    "start_time": "2022-02-07T16:10:02.483Z"
   },
   {
    "duration": 577,
    "start_time": "2022-02-07T16:10:03.105Z"
   },
   {
    "duration": 706,
    "start_time": "2022-02-07T16:10:03.684Z"
   },
   {
    "duration": 307,
    "start_time": "2022-02-07T16:20:53.553Z"
   },
   {
    "duration": 331,
    "start_time": "2022-02-07T16:21:11.930Z"
   },
   {
    "duration": 383,
    "start_time": "2022-02-07T16:21:14.957Z"
   },
   {
    "duration": 12,
    "start_time": "2022-02-07T16:21:49.165Z"
   },
   {
    "duration": 534,
    "start_time": "2022-02-07T16:21:50.329Z"
   },
   {
    "duration": 373,
    "start_time": "2022-02-07T16:21:53.182Z"
   },
   {
    "duration": 9,
    "start_time": "2022-02-07T16:46:40.581Z"
   },
   {
    "duration": 10,
    "start_time": "2022-02-07T16:46:59.166Z"
   },
   {
    "duration": 703,
    "start_time": "2022-02-07T16:47:10.720Z"
   },
   {
    "duration": 10,
    "start_time": "2022-02-07T16:47:15.733Z"
   },
   {
    "duration": 8,
    "start_time": "2022-02-07T16:48:20.104Z"
   },
   {
    "duration": 803,
    "start_time": "2022-02-07T16:52:40.777Z"
   },
   {
    "duration": 589,
    "start_time": "2022-02-07T16:52:52.759Z"
   },
   {
    "duration": 759,
    "start_time": "2022-02-07T16:53:01.113Z"
   },
   {
    "duration": 1257,
    "start_time": "2022-02-07T16:54:47.783Z"
   },
   {
    "duration": 1238,
    "start_time": "2022-02-07T16:55:27.341Z"
   },
   {
    "duration": 195,
    "start_time": "2022-02-07T16:56:02.324Z"
   },
   {
    "duration": 8,
    "start_time": "2022-02-07T17:26:21.506Z"
   },
   {
    "duration": 8,
    "start_time": "2022-02-07T17:26:56.800Z"
   },
   {
    "duration": 9,
    "start_time": "2022-02-07T17:27:27.990Z"
   },
   {
    "duration": 1368,
    "start_time": "2022-02-07T17:27:43.835Z"
   },
   {
    "duration": 6643,
    "start_time": "2022-02-07T17:52:50.506Z"
   },
   {
    "duration": 6855,
    "start_time": "2022-02-07T17:53:21.892Z"
   },
   {
    "duration": 40,
    "start_time": "2022-02-07T17:53:51.611Z"
   },
   {
    "duration": 4151,
    "start_time": "2022-02-07T17:54:22.739Z"
   },
   {
    "duration": 42,
    "start_time": "2022-02-07T17:54:35.436Z"
   },
   {
    "duration": 42,
    "start_time": "2022-02-07T17:54:59.981Z"
   },
   {
    "duration": 42,
    "start_time": "2022-02-07T17:56:06.069Z"
   },
   {
    "duration": 283,
    "start_time": "2022-02-07T18:10:11.681Z"
   },
   {
    "duration": 371,
    "start_time": "2022-02-07T18:11:16.288Z"
   },
   {
    "duration": 276,
    "start_time": "2022-02-07T18:22:19.306Z"
   },
   {
    "duration": 8313,
    "start_time": "2022-02-07T18:23:10.332Z"
   },
   {
    "duration": 8732,
    "start_time": "2022-02-07T18:23:52.043Z"
   },
   {
    "duration": 568,
    "start_time": "2022-02-07T18:24:29.439Z"
   },
   {
    "duration": 463,
    "start_time": "2022-02-07T18:25:33.921Z"
   },
   {
    "duration": 1054,
    "start_time": "2022-02-07T18:26:22.450Z"
   },
   {
    "duration": 716,
    "start_time": "2022-02-07T18:26:36.110Z"
   },
   {
    "duration": 765,
    "start_time": "2022-02-07T18:27:33.315Z"
   },
   {
    "duration": 562,
    "start_time": "2022-02-07T18:27:51.109Z"
   },
   {
    "duration": 701,
    "start_time": "2022-02-07T18:29:45.897Z"
   },
   {
    "duration": 796,
    "start_time": "2022-02-07T18:29:56.176Z"
   },
   {
    "duration": 696,
    "start_time": "2022-02-07T18:30:49.098Z"
   },
   {
    "duration": 913,
    "start_time": "2022-02-07T18:31:11.903Z"
   },
   {
    "duration": 1452,
    "start_time": "2022-02-07T18:33:35.621Z"
   },
   {
    "duration": 2560,
    "start_time": "2022-02-07T18:33:37.076Z"
   },
   {
    "duration": 72,
    "start_time": "2022-02-07T18:33:39.639Z"
   },
   {
    "duration": 84,
    "start_time": "2022-02-07T18:33:39.713Z"
   },
   {
    "duration": 73,
    "start_time": "2022-02-07T18:33:39.799Z"
   },
   {
    "duration": 65,
    "start_time": "2022-02-07T18:33:39.874Z"
   },
   {
    "duration": 51,
    "start_time": "2022-02-07T18:33:39.972Z"
   },
   {
    "duration": 96,
    "start_time": "2022-02-07T18:33:40.026Z"
   },
   {
    "duration": 61,
    "start_time": "2022-02-07T18:33:40.125Z"
   },
   {
    "duration": 5,
    "start_time": "2022-02-07T18:33:40.189Z"
   },
   {
    "duration": 72,
    "start_time": "2022-02-07T18:33:40.197Z"
   },
   {
    "duration": 62,
    "start_time": "2022-02-07T18:33:40.271Z"
   },
   {
    "duration": 46,
    "start_time": "2022-02-07T18:33:40.335Z"
   },
   {
    "duration": 11,
    "start_time": "2022-02-07T18:33:40.383Z"
   },
   {
    "duration": 18,
    "start_time": "2022-02-07T18:33:40.396Z"
   },
   {
    "duration": 16,
    "start_time": "2022-02-07T18:33:40.416Z"
   },
   {
    "duration": 46,
    "start_time": "2022-02-07T18:33:40.434Z"
   },
   {
    "duration": 8,
    "start_time": "2022-02-07T18:33:40.482Z"
   },
   {
    "duration": 6,
    "start_time": "2022-02-07T18:33:40.492Z"
   },
   {
    "duration": 7,
    "start_time": "2022-02-07T18:33:40.501Z"
   },
   {
    "duration": 63,
    "start_time": "2022-02-07T18:33:40.510Z"
   },
   {
    "duration": 13,
    "start_time": "2022-02-07T18:33:40.575Z"
   },
   {
    "duration": 29,
    "start_time": "2022-02-07T18:33:40.594Z"
   },
   {
    "duration": 49,
    "start_time": "2022-02-07T18:33:40.626Z"
   },
   {
    "duration": 45,
    "start_time": "2022-02-07T18:33:40.677Z"
   },
   {
    "duration": 66,
    "start_time": "2022-02-07T18:33:40.724Z"
   },
   {
    "duration": 30,
    "start_time": "2022-02-07T18:33:40.792Z"
   },
   {
    "duration": 57,
    "start_time": "2022-02-07T18:33:40.825Z"
   },
   {
    "duration": 11,
    "start_time": "2022-02-07T18:33:40.884Z"
   },
   {
    "duration": 6,
    "start_time": "2022-02-07T18:33:40.898Z"
   },
   {
    "duration": 20,
    "start_time": "2022-02-07T18:33:40.906Z"
   },
   {
    "duration": 52,
    "start_time": "2022-02-07T18:33:40.929Z"
   },
   {
    "duration": 105,
    "start_time": "2022-02-07T18:33:40.983Z"
   },
   {
    "duration": 8,
    "start_time": "2022-02-07T18:33:41.090Z"
   },
   {
    "duration": 6,
    "start_time": "2022-02-07T18:33:41.100Z"
   },
   {
    "duration": 10,
    "start_time": "2022-02-07T18:33:41.108Z"
   },
   {
    "duration": 12,
    "start_time": "2022-02-07T18:33:41.120Z"
   },
   {
    "duration": 10,
    "start_time": "2022-02-07T18:33:41.170Z"
   },
   {
    "duration": 137,
    "start_time": "2022-02-07T18:33:41.183Z"
   },
   {
    "duration": 10,
    "start_time": "2022-02-07T18:33:41.323Z"
   },
   {
    "duration": 72,
    "start_time": "2022-02-07T18:33:41.335Z"
   },
   {
    "duration": 1582,
    "start_time": "2022-02-07T18:33:41.410Z"
   },
   {
    "duration": 142,
    "start_time": "2022-02-07T18:33:42.994Z"
   },
   {
    "duration": 67,
    "start_time": "2022-02-07T18:33:43.138Z"
   },
   {
    "duration": 5,
    "start_time": "2022-02-07T18:33:43.207Z"
   },
   {
    "duration": 12,
    "start_time": "2022-02-07T18:33:43.214Z"
   },
   {
    "duration": 472,
    "start_time": "2022-02-07T18:33:43.228Z"
   },
   {
    "duration": 336,
    "start_time": "2022-02-07T18:33:43.702Z"
   },
   {
    "duration": 701,
    "start_time": "2022-02-07T18:33:44.040Z"
   },
   {
    "duration": 12,
    "start_time": "2022-02-07T18:33:44.743Z"
   },
   {
    "duration": 326,
    "start_time": "2022-02-07T18:33:44.770Z"
   },
   {
    "duration": 337,
    "start_time": "2022-02-07T18:33:45.099Z"
   },
   {
    "duration": 658,
    "start_time": "2022-02-07T18:33:45.438Z"
   },
   {
    "duration": 13,
    "start_time": "2022-02-07T18:33:46.099Z"
   },
   {
    "duration": 637,
    "start_time": "2022-02-07T18:33:46.115Z"
   },
   {
    "duration": 591,
    "start_time": "2022-02-07T18:33:46.754Z"
   },
   {
    "duration": 693,
    "start_time": "2022-02-07T18:33:47.347Z"
   },
   {
    "duration": 53,
    "start_time": "2022-02-07T18:33:48.042Z"
   },
   {
    "duration": 423,
    "start_time": "2022-02-07T18:36:11.525Z"
   },
   {
    "duration": 402,
    "start_time": "2022-02-07T18:37:18.371Z"
   },
   {
    "duration": 11050,
    "start_time": "2022-02-07T18:37:43.775Z"
   },
   {
    "duration": 1578,
    "start_time": "2022-02-07T18:39:37.359Z"
   },
   {
    "duration": 950,
    "start_time": "2022-02-07T18:39:38.940Z"
   },
   {
    "duration": 80,
    "start_time": "2022-02-07T18:39:39.893Z"
   },
   {
    "duration": 95,
    "start_time": "2022-02-07T18:39:39.977Z"
   },
   {
    "duration": 56,
    "start_time": "2022-02-07T18:39:40.076Z"
   },
   {
    "duration": 103,
    "start_time": "2022-02-07T18:39:40.135Z"
   },
   {
    "duration": 85,
    "start_time": "2022-02-07T18:39:40.241Z"
   },
   {
    "duration": 97,
    "start_time": "2022-02-07T18:39:40.329Z"
   },
   {
    "duration": 69,
    "start_time": "2022-02-07T18:39:40.432Z"
   },
   {
    "duration": 6,
    "start_time": "2022-02-07T18:39:40.505Z"
   },
   {
    "duration": 77,
    "start_time": "2022-02-07T18:39:40.513Z"
   },
   {
    "duration": 60,
    "start_time": "2022-02-07T18:39:40.592Z"
   },
   {
    "duration": 41,
    "start_time": "2022-02-07T18:39:40.654Z"
   },
   {
    "duration": 12,
    "start_time": "2022-02-07T18:39:40.697Z"
   },
   {
    "duration": 19,
    "start_time": "2022-02-07T18:39:40.711Z"
   },
   {
    "duration": 49,
    "start_time": "2022-02-07T18:39:40.732Z"
   },
   {
    "duration": 13,
    "start_time": "2022-02-07T18:39:40.784Z"
   },
   {
    "duration": 8,
    "start_time": "2022-02-07T18:39:40.800Z"
   },
   {
    "duration": 6,
    "start_time": "2022-02-07T18:39:40.811Z"
   },
   {
    "duration": 53,
    "start_time": "2022-02-07T18:39:40.820Z"
   },
   {
    "duration": 18,
    "start_time": "2022-02-07T18:39:40.876Z"
   },
   {
    "duration": 15,
    "start_time": "2022-02-07T18:39:40.897Z"
   },
   {
    "duration": 81,
    "start_time": "2022-02-07T18:39:40.915Z"
   },
   {
    "duration": 21,
    "start_time": "2022-02-07T18:39:40.998Z"
   },
   {
    "duration": 64,
    "start_time": "2022-02-07T18:39:41.021Z"
   },
   {
    "duration": 42,
    "start_time": "2022-02-07T18:39:41.088Z"
   },
   {
    "duration": 49,
    "start_time": "2022-02-07T18:39:41.137Z"
   },
   {
    "duration": 28,
    "start_time": "2022-02-07T18:39:41.189Z"
   },
   {
    "duration": 10,
    "start_time": "2022-02-07T18:39:41.219Z"
   },
   {
    "duration": 6,
    "start_time": "2022-02-07T18:39:41.231Z"
   },
   {
    "duration": 18,
    "start_time": "2022-02-07T18:39:41.270Z"
   },
   {
    "duration": 19,
    "start_time": "2022-02-07T18:39:41.290Z"
   },
   {
    "duration": 120,
    "start_time": "2022-02-07T18:39:41.312Z"
   },
   {
    "duration": 9,
    "start_time": "2022-02-07T18:39:41.434Z"
   },
   {
    "duration": 27,
    "start_time": "2022-02-07T18:39:41.445Z"
   },
   {
    "duration": 11,
    "start_time": "2022-02-07T18:39:41.475Z"
   },
   {
    "duration": 14,
    "start_time": "2022-02-07T18:39:41.489Z"
   },
   {
    "duration": 11,
    "start_time": "2022-02-07T18:39:41.506Z"
   },
   {
    "duration": 168,
    "start_time": "2022-02-07T18:39:41.520Z"
   },
   {
    "duration": 10,
    "start_time": "2022-02-07T18:39:41.690Z"
   },
   {
    "duration": 72,
    "start_time": "2022-02-07T18:39:41.702Z"
   },
   {
    "duration": 1584,
    "start_time": "2022-02-07T18:39:41.778Z"
   },
   {
    "duration": 147,
    "start_time": "2022-02-07T18:39:43.364Z"
   },
   {
    "duration": 70,
    "start_time": "2022-02-07T18:39:43.514Z"
   },
   {
    "duration": 5,
    "start_time": "2022-02-07T18:39:43.587Z"
   },
   {
    "duration": 14,
    "start_time": "2022-02-07T18:39:43.594Z"
   },
   {
    "duration": 675,
    "start_time": "2022-02-07T18:39:43.611Z"
   },
   {
    "duration": 515,
    "start_time": "2022-02-07T18:39:44.288Z"
   },
   {
    "duration": 768,
    "start_time": "2022-02-07T18:39:44.806Z"
   },
   {
    "duration": 448,
    "start_time": "2022-02-07T18:39:45.576Z"
   },
   {
    "duration": 452,
    "start_time": "2022-02-07T18:39:46.027Z"
   },
   {
    "duration": 14,
    "start_time": "2022-02-07T18:39:46.482Z"
   },
   {
    "duration": 632,
    "start_time": "2022-02-07T18:39:46.498Z"
   },
   {
    "duration": 670,
    "start_time": "2022-02-07T18:39:47.133Z"
   },
   {
    "duration": 759,
    "start_time": "2022-02-07T18:39:47.806Z"
   },
   {
    "duration": 14,
    "start_time": "2022-02-07T18:39:48.567Z"
   },
   {
    "duration": 965,
    "start_time": "2022-02-07T18:39:48.584Z"
   },
   {
    "duration": 1704,
    "start_time": "2022-02-07T18:39:49.552Z"
   },
   {
    "duration": 938,
    "start_time": "2022-02-07T18:39:51.259Z"
   },
   {
    "duration": 79,
    "start_time": "2022-02-07T18:39:52.199Z"
   },
   {
    "duration": 409,
    "start_time": "2022-02-07T18:41:03.618Z"
   },
   {
    "duration": 397,
    "start_time": "2022-02-07T18:41:05.448Z"
   },
   {
    "duration": 658,
    "start_time": "2022-02-07T18:42:37.017Z"
   },
   {
    "duration": 516,
    "start_time": "2022-02-07T18:43:33.040Z"
   },
   {
    "duration": 7110,
    "start_time": "2022-02-07T18:44:04.928Z"
   },
   {
    "duration": 352,
    "start_time": "2022-02-07T18:44:44.206Z"
   },
   {
    "duration": 402,
    "start_time": "2022-02-07T18:44:52.973Z"
   },
   {
    "duration": 413,
    "start_time": "2022-02-07T18:45:12.332Z"
   },
   {
    "duration": 402,
    "start_time": "2022-02-07T18:45:44.878Z"
   },
   {
    "duration": 413,
    "start_time": "2022-02-07T18:45:48.157Z"
   },
   {
    "duration": 419,
    "start_time": "2022-02-07T18:46:23.540Z"
   },
   {
    "duration": 400,
    "start_time": "2022-02-07T18:46:26.137Z"
   },
   {
    "duration": 408,
    "start_time": "2022-02-07T18:47:20.052Z"
   },
   {
    "duration": 406,
    "start_time": "2022-02-07T18:47:31.411Z"
   },
   {
    "duration": 406,
    "start_time": "2022-02-07T18:47:58.330Z"
   },
   {
    "duration": 489,
    "start_time": "2022-02-07T18:48:37.444Z"
   },
   {
    "duration": 403,
    "start_time": "2022-02-07T18:49:03.014Z"
   },
   {
    "duration": 413,
    "start_time": "2022-02-07T18:49:29.571Z"
   },
   {
    "duration": 506,
    "start_time": "2022-02-07T18:49:46.407Z"
   },
   {
    "duration": 377,
    "start_time": "2022-02-07T18:49:59.077Z"
   },
   {
    "duration": 363,
    "start_time": "2022-02-07T18:50:08.522Z"
   },
   {
    "duration": 358,
    "start_time": "2022-02-07T18:50:19.285Z"
   },
   {
    "duration": 361,
    "start_time": "2022-02-07T18:50:24.257Z"
   },
   {
    "duration": 381,
    "start_time": "2022-02-07T18:50:33.395Z"
   },
   {
    "duration": 364,
    "start_time": "2022-02-07T18:50:38.351Z"
   },
   {
    "duration": 1461,
    "start_time": "2022-02-07T18:51:12.422Z"
   },
   {
    "duration": 911,
    "start_time": "2022-02-07T18:51:13.886Z"
   },
   {
    "duration": 75,
    "start_time": "2022-02-07T18:51:14.801Z"
   },
   {
    "duration": 67,
    "start_time": "2022-02-07T18:51:14.879Z"
   },
   {
    "duration": 48,
    "start_time": "2022-02-07T18:51:14.970Z"
   },
   {
    "duration": 104,
    "start_time": "2022-02-07T18:51:15.022Z"
   },
   {
    "duration": 73,
    "start_time": "2022-02-07T18:51:15.128Z"
   },
   {
    "duration": 92,
    "start_time": "2022-02-07T18:51:15.203Z"
   },
   {
    "duration": 54,
    "start_time": "2022-02-07T18:51:15.299Z"
   },
   {
    "duration": 18,
    "start_time": "2022-02-07T18:51:15.356Z"
   },
   {
    "duration": 62,
    "start_time": "2022-02-07T18:51:15.377Z"
   },
   {
    "duration": 80,
    "start_time": "2022-02-07T18:51:15.441Z"
   },
   {
    "duration": 27,
    "start_time": "2022-02-07T18:51:15.524Z"
   },
   {
    "duration": 10,
    "start_time": "2022-02-07T18:51:15.569Z"
   },
   {
    "duration": 18,
    "start_time": "2022-02-07T18:51:15.581Z"
   },
   {
    "duration": 14,
    "start_time": "2022-02-07T18:51:15.602Z"
   },
   {
    "duration": 54,
    "start_time": "2022-02-07T18:51:15.618Z"
   },
   {
    "duration": 9,
    "start_time": "2022-02-07T18:51:15.674Z"
   },
   {
    "duration": 5,
    "start_time": "2022-02-07T18:51:15.685Z"
   },
   {
    "duration": 8,
    "start_time": "2022-02-07T18:51:15.692Z"
   },
   {
    "duration": 21,
    "start_time": "2022-02-07T18:51:15.702Z"
   },
   {
    "duration": 50,
    "start_time": "2022-02-07T18:51:15.726Z"
   },
   {
    "duration": 28,
    "start_time": "2022-02-07T18:51:15.779Z"
   },
   {
    "duration": 19,
    "start_time": "2022-02-07T18:51:15.809Z"
   },
   {
    "duration": 69,
    "start_time": "2022-02-07T18:51:15.831Z"
   },
   {
    "duration": 41,
    "start_time": "2022-02-07T18:51:15.903Z"
   },
   {
    "duration": 30,
    "start_time": "2022-02-07T18:51:15.973Z"
   },
   {
    "duration": 29,
    "start_time": "2022-02-07T18:51:16.007Z"
   },
   {
    "duration": 39,
    "start_time": "2022-02-07T18:51:16.038Z"
   },
   {
    "duration": 22,
    "start_time": "2022-02-07T18:51:16.080Z"
   },
   {
    "duration": 37,
    "start_time": "2022-02-07T18:51:16.104Z"
   },
   {
    "duration": 21,
    "start_time": "2022-02-07T18:51:16.143Z"
   },
   {
    "duration": 83,
    "start_time": "2022-02-07T18:51:16.166Z"
   },
   {
    "duration": 9,
    "start_time": "2022-02-07T18:51:16.270Z"
   },
   {
    "duration": 6,
    "start_time": "2022-02-07T18:51:16.282Z"
   },
   {
    "duration": 13,
    "start_time": "2022-02-07T18:51:16.290Z"
   },
   {
    "duration": 13,
    "start_time": "2022-02-07T18:51:16.306Z"
   },
   {
    "duration": 49,
    "start_time": "2022-02-07T18:51:16.322Z"
   },
   {
    "duration": 134,
    "start_time": "2022-02-07T18:51:16.374Z"
   },
   {
    "duration": 8,
    "start_time": "2022-02-07T18:51:16.511Z"
   },
   {
    "duration": 68,
    "start_time": "2022-02-07T18:51:16.521Z"
   },
   {
    "duration": 1744,
    "start_time": "2022-02-07T18:51:16.591Z"
   },
   {
    "duration": 151,
    "start_time": "2022-02-07T18:51:18.339Z"
   },
   {
    "duration": 56,
    "start_time": "2022-02-07T18:51:18.492Z"
   },
   {
    "duration": 5,
    "start_time": "2022-02-07T18:51:18.570Z"
   },
   {
    "duration": 28,
    "start_time": "2022-02-07T18:51:18.577Z"
   },
   {
    "duration": 468,
    "start_time": "2022-02-07T18:51:18.607Z"
   },
   {
    "duration": 397,
    "start_time": "2022-02-07T18:51:19.077Z"
   },
   {
    "duration": 692,
    "start_time": "2022-02-07T18:51:19.477Z"
   },
   {
    "duration": 371,
    "start_time": "2022-02-07T18:51:20.172Z"
   },
   {
    "duration": 383,
    "start_time": "2022-02-07T18:51:20.546Z"
   },
   {
    "duration": 15,
    "start_time": "2022-02-07T18:51:20.933Z"
   },
   {
    "duration": 518,
    "start_time": "2022-02-07T18:51:20.970Z"
   },
   {
    "duration": 792,
    "start_time": "2022-02-07T18:51:21.490Z"
   },
   {
    "duration": 627,
    "start_time": "2022-02-07T18:51:22.284Z"
   },
   {
    "duration": 369,
    "start_time": "2022-02-07T18:51:22.914Z"
   },
   {
    "duration": 377,
    "start_time": "2022-02-07T18:51:23.287Z"
   },
   {
    "duration": 14,
    "start_time": "2022-02-07T18:51:23.670Z"
   },
   {
    "duration": 648,
    "start_time": "2022-02-07T18:51:23.687Z"
   },
   {
    "duration": 701,
    "start_time": "2022-02-07T18:51:24.337Z"
   },
   {
    "duration": 747,
    "start_time": "2022-02-07T18:51:25.040Z"
   },
   {
    "duration": 390,
    "start_time": "2022-02-07T18:51:25.789Z"
   },
   {
    "duration": 493,
    "start_time": "2022-02-07T18:51:26.183Z"
   },
   {
    "duration": 40,
    "start_time": "2022-02-07T18:51:26.679Z"
   },
   {
    "duration": 8,
    "start_time": "2022-02-07T19:02:19.829Z"
   },
   {
    "duration": 289,
    "start_time": "2022-02-07T19:21:59.313Z"
   },
   {
    "duration": 277,
    "start_time": "2022-02-07T19:24:33.811Z"
   },
   {
    "duration": 266,
    "start_time": "2022-02-07T19:24:59.744Z"
   },
   {
    "duration": 404,
    "start_time": "2022-02-07T19:25:37.468Z"
   },
   {
    "duration": 8,
    "start_time": "2022-02-07T19:25:45.972Z"
   },
   {
    "duration": 1507,
    "start_time": "2022-02-07T19:36:46.762Z"
   },
   {
    "duration": 1090,
    "start_time": "2022-02-07T19:36:48.272Z"
   },
   {
    "duration": 72,
    "start_time": "2022-02-07T19:36:49.365Z"
   },
   {
    "duration": 85,
    "start_time": "2022-02-07T19:36:49.440Z"
   },
   {
    "duration": 76,
    "start_time": "2022-02-07T19:36:49.527Z"
   },
   {
    "duration": 94,
    "start_time": "2022-02-07T19:36:49.606Z"
   },
   {
    "duration": 84,
    "start_time": "2022-02-07T19:36:49.702Z"
   },
   {
    "duration": 85,
    "start_time": "2022-02-07T19:36:49.789Z"
   },
   {
    "duration": 52,
    "start_time": "2022-02-07T19:36:49.878Z"
   },
   {
    "duration": 6,
    "start_time": "2022-02-07T19:36:49.933Z"
   },
   {
    "duration": 83,
    "start_time": "2022-02-07T19:36:49.942Z"
   },
   {
    "duration": 89,
    "start_time": "2022-02-07T19:36:50.028Z"
   },
   {
    "duration": 28,
    "start_time": "2022-02-07T19:36:50.119Z"
   },
   {
    "duration": 28,
    "start_time": "2022-02-07T19:36:50.149Z"
   },
   {
    "duration": 29,
    "start_time": "2022-02-07T19:36:50.179Z"
   },
   {
    "duration": 16,
    "start_time": "2022-02-07T19:36:50.210Z"
   },
   {
    "duration": 13,
    "start_time": "2022-02-07T19:36:50.228Z"
   },
   {
    "duration": 35,
    "start_time": "2022-02-07T19:36:50.243Z"
   },
   {
    "duration": 7,
    "start_time": "2022-02-07T19:36:50.282Z"
   },
   {
    "duration": 15,
    "start_time": "2022-02-07T19:36:50.292Z"
   },
   {
    "duration": 18,
    "start_time": "2022-02-07T19:36:50.309Z"
   },
   {
    "duration": 50,
    "start_time": "2022-02-07T19:36:50.330Z"
   },
   {
    "duration": 30,
    "start_time": "2022-02-07T19:36:50.383Z"
   },
   {
    "duration": 21,
    "start_time": "2022-02-07T19:36:50.416Z"
   },
   {
    "duration": 46,
    "start_time": "2022-02-07T19:36:50.468Z"
   },
   {
    "duration": 65,
    "start_time": "2022-02-07T19:36:50.517Z"
   },
   {
    "duration": 30,
    "start_time": "2022-02-07T19:36:50.588Z"
   },
   {
    "duration": 59,
    "start_time": "2022-02-07T19:36:50.621Z"
   },
   {
    "duration": 12,
    "start_time": "2022-02-07T19:36:50.682Z"
   },
   {
    "duration": 7,
    "start_time": "2022-02-07T19:36:50.696Z"
   },
   {
    "duration": 18,
    "start_time": "2022-02-07T19:36:50.706Z"
   },
   {
    "duration": 46,
    "start_time": "2022-02-07T19:36:50.726Z"
   },
   {
    "duration": 95,
    "start_time": "2022-02-07T19:36:50.774Z"
   },
   {
    "duration": 10,
    "start_time": "2022-02-07T19:36:50.872Z"
   },
   {
    "duration": 7,
    "start_time": "2022-02-07T19:36:50.885Z"
   },
   {
    "duration": 12,
    "start_time": "2022-02-07T19:36:50.895Z"
   },
   {
    "duration": 14,
    "start_time": "2022-02-07T19:36:50.910Z"
   },
   {
    "duration": 8,
    "start_time": "2022-02-07T19:36:50.969Z"
   },
   {
    "duration": 140,
    "start_time": "2022-02-07T19:36:50.980Z"
   },
   {
    "duration": 8,
    "start_time": "2022-02-07T19:36:51.122Z"
   },
   {
    "duration": 67,
    "start_time": "2022-02-07T19:36:51.132Z"
   },
   {
    "duration": 1675,
    "start_time": "2022-02-07T19:36:51.201Z"
   },
   {
    "duration": 137,
    "start_time": "2022-02-07T19:36:52.879Z"
   },
   {
    "duration": 74,
    "start_time": "2022-02-07T19:36:53.019Z"
   },
   {
    "duration": 6,
    "start_time": "2022-02-07T19:36:53.095Z"
   },
   {
    "duration": 14,
    "start_time": "2022-02-07T19:36:53.103Z"
   },
   {
    "duration": 503,
    "start_time": "2022-02-07T19:36:53.120Z"
   },
   {
    "duration": 358,
    "start_time": "2022-02-07T19:36:53.625Z"
   },
   {
    "duration": 722,
    "start_time": "2022-02-07T19:36:53.985Z"
   },
   {
    "duration": 369,
    "start_time": "2022-02-07T19:36:54.709Z"
   },
   {
    "duration": 389,
    "start_time": "2022-02-07T19:36:55.080Z"
   },
   {
    "duration": 12,
    "start_time": "2022-02-07T19:36:55.471Z"
   },
   {
    "duration": 339,
    "start_time": "2022-02-07T19:36:55.486Z"
   },
   {
    "duration": 328,
    "start_time": "2022-02-07T19:36:55.829Z"
   },
   {
    "duration": 631,
    "start_time": "2022-02-07T19:36:56.159Z"
   },
   {
    "duration": 365,
    "start_time": "2022-02-07T19:36:56.793Z"
   },
   {
    "duration": 381,
    "start_time": "2022-02-07T19:36:57.160Z"
   },
   {
    "duration": 11,
    "start_time": "2022-02-07T19:36:57.543Z"
   },
   {
    "duration": 569,
    "start_time": "2022-02-07T19:36:57.570Z"
   },
   {
    "duration": 600,
    "start_time": "2022-02-07T19:36:58.142Z"
   },
   {
    "duration": 696,
    "start_time": "2022-02-07T19:36:58.744Z"
   },
   {
    "duration": 382,
    "start_time": "2022-02-07T19:36:59.444Z"
   },
   {
    "duration": 482,
    "start_time": "2022-02-07T19:36:59.828Z"
   },
   {
    "duration": 58,
    "start_time": "2022-02-07T19:37:00.313Z"
   },
   {
    "duration": 40,
    "start_time": "2022-02-07T19:38:25.179Z"
   },
   {
    "duration": 1428,
    "start_time": "2022-02-08T05:13:34.766Z"
   },
   {
    "duration": 1136,
    "start_time": "2022-02-08T05:13:36.197Z"
   },
   {
    "duration": 67,
    "start_time": "2022-02-08T05:13:37.335Z"
   },
   {
    "duration": 71,
    "start_time": "2022-02-08T05:13:37.405Z"
   },
   {
    "duration": 67,
    "start_time": "2022-02-08T05:13:37.478Z"
   },
   {
    "duration": 93,
    "start_time": "2022-02-08T05:13:37.547Z"
   },
   {
    "duration": 50,
    "start_time": "2022-02-08T05:13:37.642Z"
   },
   {
    "duration": 67,
    "start_time": "2022-02-08T05:13:37.723Z"
   },
   {
    "duration": 66,
    "start_time": "2022-02-08T05:13:37.795Z"
   },
   {
    "duration": 7,
    "start_time": "2022-02-08T05:13:37.865Z"
   },
   {
    "duration": 74,
    "start_time": "2022-02-08T05:13:37.874Z"
   },
   {
    "duration": 51,
    "start_time": "2022-02-08T05:13:37.950Z"
   },
   {
    "duration": 43,
    "start_time": "2022-02-08T05:13:38.004Z"
   },
   {
    "duration": 10,
    "start_time": "2022-02-08T05:13:38.049Z"
   },
   {
    "duration": 17,
    "start_time": "2022-02-08T05:13:38.062Z"
   },
   {
    "duration": 50,
    "start_time": "2022-02-08T05:13:38.082Z"
   },
   {
    "duration": 12,
    "start_time": "2022-02-08T05:13:38.134Z"
   },
   {
    "duration": 9,
    "start_time": "2022-02-08T05:13:38.149Z"
   },
   {
    "duration": 6,
    "start_time": "2022-02-08T05:13:38.161Z"
   },
   {
    "duration": 11,
    "start_time": "2022-02-08T05:13:38.169Z"
   },
   {
    "duration": 53,
    "start_time": "2022-02-08T05:13:38.183Z"
   },
   {
    "duration": 13,
    "start_time": "2022-02-08T05:13:38.239Z"
   },
   {
    "duration": 28,
    "start_time": "2022-02-08T05:13:38.254Z"
   },
   {
    "duration": 51,
    "start_time": "2022-02-08T05:13:38.284Z"
   },
   {
    "duration": 40,
    "start_time": "2022-02-08T05:13:38.337Z"
   },
   {
    "duration": 63,
    "start_time": "2022-02-08T05:13:38.379Z"
   },
   {
    "duration": 28,
    "start_time": "2022-02-08T05:13:38.448Z"
   },
   {
    "duration": 50,
    "start_time": "2022-02-08T05:13:38.479Z"
   },
   {
    "duration": 11,
    "start_time": "2022-02-08T05:13:38.531Z"
   },
   {
    "duration": 5,
    "start_time": "2022-02-08T05:13:38.544Z"
   },
   {
    "duration": 18,
    "start_time": "2022-02-08T05:13:38.552Z"
   },
   {
    "duration": 15,
    "start_time": "2022-02-08T05:13:38.572Z"
   },
   {
    "duration": 111,
    "start_time": "2022-02-08T05:13:38.589Z"
   },
   {
    "duration": 26,
    "start_time": "2022-02-08T05:13:38.702Z"
   },
   {
    "duration": 5,
    "start_time": "2022-02-08T05:13:38.730Z"
   },
   {
    "duration": 14,
    "start_time": "2022-02-08T05:13:38.738Z"
   },
   {
    "duration": 13,
    "start_time": "2022-02-08T05:13:38.755Z"
   },
   {
    "duration": 8,
    "start_time": "2022-02-08T05:13:38.771Z"
   },
   {
    "duration": 161,
    "start_time": "2022-02-08T05:13:38.782Z"
   },
   {
    "duration": 8,
    "start_time": "2022-02-08T05:13:38.945Z"
   },
   {
    "duration": 68,
    "start_time": "2022-02-08T05:13:38.955Z"
   },
   {
    "duration": 1542,
    "start_time": "2022-02-08T05:13:39.025Z"
   },
   {
    "duration": 134,
    "start_time": "2022-02-08T05:13:40.569Z"
   },
   {
    "duration": 63,
    "start_time": "2022-02-08T05:13:40.706Z"
   },
   {
    "duration": 5,
    "start_time": "2022-02-08T05:13:40.772Z"
   },
   {
    "duration": 14,
    "start_time": "2022-02-08T05:13:40.779Z"
   },
   {
    "duration": 478,
    "start_time": "2022-02-08T05:13:40.823Z"
   },
   {
    "duration": 358,
    "start_time": "2022-02-08T05:13:41.304Z"
   },
   {
    "duration": 661,
    "start_time": "2022-02-08T05:13:41.665Z"
   },
   {
    "duration": 354,
    "start_time": "2022-02-08T05:13:42.329Z"
   },
   {
    "duration": 357,
    "start_time": "2022-02-08T05:13:42.686Z"
   },
   {
    "duration": 11,
    "start_time": "2022-02-08T05:13:43.046Z"
   },
   {
    "duration": 341,
    "start_time": "2022-02-08T05:13:43.059Z"
   },
   {
    "duration": 326,
    "start_time": "2022-02-08T05:13:43.402Z"
   },
   {
    "duration": 589,
    "start_time": "2022-02-08T05:13:43.730Z"
   },
   {
    "duration": 339,
    "start_time": "2022-02-08T05:13:44.325Z"
   },
   {
    "duration": 348,
    "start_time": "2022-02-08T05:13:44.667Z"
   },
   {
    "duration": 16,
    "start_time": "2022-02-08T05:13:45.017Z"
   },
   {
    "duration": 612,
    "start_time": "2022-02-08T05:13:45.036Z"
   },
   {
    "duration": 597,
    "start_time": "2022-02-08T05:13:45.650Z"
   },
   {
    "duration": 679,
    "start_time": "2022-02-08T05:13:46.250Z"
   },
   {
    "duration": 354,
    "start_time": "2022-02-08T05:13:46.932Z"
   },
   {
    "duration": 455,
    "start_time": "2022-02-08T05:13:47.289Z"
   },
   {
    "duration": 43,
    "start_time": "2022-02-08T05:13:47.747Z"
   },
   {
    "duration": 294,
    "start_time": "2022-02-08T05:15:06.741Z"
   },
   {
    "duration": 295,
    "start_time": "2022-02-08T05:15:31.508Z"
   },
   {
    "duration": 275,
    "start_time": "2022-02-08T05:15:58.703Z"
   },
   {
    "duration": 5,
    "start_time": "2022-02-08T05:17:50.122Z"
   },
   {
    "duration": 5,
    "start_time": "2022-02-08T05:18:10.057Z"
   },
   {
    "duration": 5,
    "start_time": "2022-02-08T05:19:01.413Z"
   },
   {
    "duration": 5,
    "start_time": "2022-02-08T05:19:44.272Z"
   },
   {
    "duration": 6,
    "start_time": "2022-02-08T05:20:30.943Z"
   },
   {
    "duration": 6,
    "start_time": "2022-02-08T05:20:44.670Z"
   },
   {
    "duration": 1450,
    "start_time": "2022-02-08T05:21:14.932Z"
   },
   {
    "duration": 1285,
    "start_time": "2022-02-08T05:21:16.385Z"
   },
   {
    "duration": 76,
    "start_time": "2022-02-08T05:21:17.674Z"
   },
   {
    "duration": 78,
    "start_time": "2022-02-08T05:21:17.753Z"
   },
   {
    "duration": 42,
    "start_time": "2022-02-08T05:21:17.834Z"
   },
   {
    "duration": 99,
    "start_time": "2022-02-08T05:21:17.878Z"
   },
   {
    "duration": 83,
    "start_time": "2022-02-08T05:21:17.979Z"
   },
   {
    "duration": 85,
    "start_time": "2022-02-08T05:21:18.065Z"
   },
   {
    "duration": 52,
    "start_time": "2022-02-08T05:21:18.155Z"
   },
   {
    "duration": 6,
    "start_time": "2022-02-08T05:21:18.224Z"
   },
   {
    "duration": 58,
    "start_time": "2022-02-08T05:21:18.232Z"
   },
   {
    "duration": 82,
    "start_time": "2022-02-08T05:21:18.292Z"
   },
   {
    "duration": 27,
    "start_time": "2022-02-08T05:21:18.376Z"
   },
   {
    "duration": 11,
    "start_time": "2022-02-08T05:21:18.424Z"
   },
   {
    "duration": 18,
    "start_time": "2022-02-08T05:21:18.438Z"
   },
   {
    "duration": 16,
    "start_time": "2022-02-08T05:21:18.458Z"
   },
   {
    "duration": 54,
    "start_time": "2022-02-08T05:21:18.476Z"
   },
   {
    "duration": 9,
    "start_time": "2022-02-08T05:21:18.533Z"
   },
   {
    "duration": 6,
    "start_time": "2022-02-08T05:21:18.544Z"
   },
   {
    "duration": 8,
    "start_time": "2022-02-08T05:21:18.552Z"
   },
   {
    "duration": 18,
    "start_time": "2022-02-08T05:21:18.562Z"
   },
   {
    "duration": 13,
    "start_time": "2022-02-08T05:21:18.622Z"
   },
   {
    "duration": 31,
    "start_time": "2022-02-08T05:21:18.637Z"
   },
   {
    "duration": 19,
    "start_time": "2022-02-08T05:21:18.670Z"
   },
   {
    "duration": 69,
    "start_time": "2022-02-08T05:21:18.691Z"
   },
   {
    "duration": 41,
    "start_time": "2022-02-08T05:21:18.762Z"
   },
   {
    "duration": 28,
    "start_time": "2022-02-08T05:21:18.828Z"
   },
   {
    "duration": 28,
    "start_time": "2022-02-08T05:21:18.860Z"
   },
   {
    "duration": 34,
    "start_time": "2022-02-08T05:21:18.891Z"
   },
   {
    "duration": 6,
    "start_time": "2022-02-08T05:21:18.927Z"
   },
   {
    "duration": 20,
    "start_time": "2022-02-08T05:21:18.936Z"
   },
   {
    "duration": 19,
    "start_time": "2022-02-08T05:21:18.959Z"
   },
   {
    "duration": 116,
    "start_time": "2022-02-08T05:21:18.980Z"
   },
   {
    "duration": 7,
    "start_time": "2022-02-08T05:21:19.098Z"
   },
   {
    "duration": 6,
    "start_time": "2022-02-08T05:21:19.122Z"
   },
   {
    "duration": 10,
    "start_time": "2022-02-08T05:21:19.130Z"
   },
   {
    "duration": 14,
    "start_time": "2022-02-08T05:21:19.143Z"
   },
   {
    "duration": 9,
    "start_time": "2022-02-08T05:21:19.159Z"
   },
   {
    "duration": 164,
    "start_time": "2022-02-08T05:21:19.171Z"
   },
   {
    "duration": 9,
    "start_time": "2022-02-08T05:21:19.338Z"
   },
   {
    "duration": 47,
    "start_time": "2022-02-08T05:21:19.349Z"
   },
   {
    "duration": 1512,
    "start_time": "2022-02-08T05:21:19.399Z"
   },
   {
    "duration": 143,
    "start_time": "2022-02-08T05:21:20.913Z"
   },
   {
    "duration": 67,
    "start_time": "2022-02-08T05:21:21.058Z"
   },
   {
    "duration": 6,
    "start_time": "2022-02-08T05:21:21.127Z"
   },
   {
    "duration": 16,
    "start_time": "2022-02-08T05:21:21.135Z"
   },
   {
    "duration": 8,
    "start_time": "2022-02-08T05:21:21.154Z"
   },
   {
    "duration": 7,
    "start_time": "2022-02-08T05:21:21.165Z"
   },
   {
    "duration": 587,
    "start_time": "2022-02-08T05:21:21.175Z"
   },
   {
    "duration": 480,
    "start_time": "2022-02-08T05:21:21.765Z"
   },
   {
    "duration": 672,
    "start_time": "2022-02-08T05:21:22.247Z"
   },
   {
    "duration": 350,
    "start_time": "2022-02-08T05:21:22.924Z"
   },
   {
    "duration": 369,
    "start_time": "2022-02-08T05:21:23.277Z"
   },
   {
    "duration": 12,
    "start_time": "2022-02-08T05:21:23.648Z"
   },
   {
    "duration": 5,
    "start_time": "2022-02-08T05:21:23.663Z"
   },
   {
    "duration": 5,
    "start_time": "2022-02-08T05:21:23.670Z"
   },
   {
    "duration": 316,
    "start_time": "2022-02-08T05:21:23.677Z"
   },
   {
    "duration": 332,
    "start_time": "2022-02-08T05:21:23.995Z"
   },
   {
    "duration": 608,
    "start_time": "2022-02-08T05:21:24.330Z"
   },
   {
    "duration": 349,
    "start_time": "2022-02-08T05:21:24.941Z"
   },
   {
    "duration": 352,
    "start_time": "2022-02-08T05:21:25.293Z"
   },
   {
    "duration": 14,
    "start_time": "2022-02-08T05:21:25.648Z"
   },
   {
    "duration": 8,
    "start_time": "2022-02-08T05:21:25.664Z"
   },
   {
    "duration": 6,
    "start_time": "2022-02-08T05:21:25.674Z"
   },
   {
    "duration": 629,
    "start_time": "2022-02-08T05:21:25.683Z"
   },
   {
    "duration": 1070,
    "start_time": "2022-02-08T05:21:26.314Z"
   },
   {
    "duration": 773,
    "start_time": "2022-02-08T05:21:27.387Z"
   },
   {
    "duration": 575,
    "start_time": "2022-02-08T05:21:28.163Z"
   },
   {
    "duration": 437,
    "start_time": "2022-02-08T05:21:28.741Z"
   },
   {
    "duration": 59,
    "start_time": "2022-02-08T05:21:29.181Z"
   },
   {
    "duration": 99,
    "start_time": "2022-02-08T05:27:33.182Z"
   },
   {
    "duration": 95,
    "start_time": "2022-02-08T05:27:55.760Z"
   },
   {
    "duration": 99,
    "start_time": "2022-02-08T05:28:01.945Z"
   },
   {
    "duration": 1033,
    "start_time": "2022-02-08T05:29:02.641Z"
   },
   {
    "duration": 1233,
    "start_time": "2022-02-08T05:30:02.814Z"
   },
   {
    "duration": 1202,
    "start_time": "2022-02-08T05:30:21.079Z"
   },
   {
    "duration": 1044,
    "start_time": "2022-02-08T05:30:34.315Z"
   },
   {
    "duration": 1306,
    "start_time": "2022-02-08T05:31:59.810Z"
   },
   {
    "duration": 1174,
    "start_time": "2022-02-08T05:33:18.346Z"
   },
   {
    "duration": 1252,
    "start_time": "2022-02-08T05:33:35.677Z"
   },
   {
    "duration": 1165,
    "start_time": "2022-02-08T05:34:21.754Z"
   },
   {
    "duration": 1209,
    "start_time": "2022-02-08T05:36:39.575Z"
   },
   {
    "duration": 1157,
    "start_time": "2022-02-08T05:42:44.238Z"
   },
   {
    "duration": 1345,
    "start_time": "2022-02-08T05:43:33.238Z"
   },
   {
    "duration": 1176,
    "start_time": "2022-02-08T05:43:50.906Z"
   },
   {
    "duration": 1409,
    "start_time": "2022-02-08T05:44:13.745Z"
   },
   {
    "duration": 7253,
    "start_time": "2022-02-08T05:47:58.793Z"
   },
   {
    "duration": 1429,
    "start_time": "2022-02-08T05:48:19.663Z"
   },
   {
    "duration": 891,
    "start_time": "2022-02-08T05:48:21.095Z"
   },
   {
    "duration": 73,
    "start_time": "2022-02-08T05:48:21.989Z"
   },
   {
    "duration": 80,
    "start_time": "2022-02-08T05:48:22.066Z"
   },
   {
    "duration": 80,
    "start_time": "2022-02-08T05:48:22.149Z"
   },
   {
    "duration": 102,
    "start_time": "2022-02-08T05:48:22.232Z"
   },
   {
    "duration": 86,
    "start_time": "2022-02-08T05:48:22.337Z"
   },
   {
    "duration": 77,
    "start_time": "2022-02-08T05:48:22.429Z"
   },
   {
    "duration": 62,
    "start_time": "2022-02-08T05:48:22.509Z"
   },
   {
    "duration": 5,
    "start_time": "2022-02-08T05:48:22.574Z"
   },
   {
    "duration": 80,
    "start_time": "2022-02-08T05:48:22.581Z"
   },
   {
    "duration": 71,
    "start_time": "2022-02-08T05:48:22.663Z"
   },
   {
    "duration": 25,
    "start_time": "2022-02-08T05:48:22.737Z"
   },
   {
    "duration": 10,
    "start_time": "2022-02-08T05:48:22.764Z"
   },
   {
    "duration": 48,
    "start_time": "2022-02-08T05:48:22.776Z"
   },
   {
    "duration": 15,
    "start_time": "2022-02-08T05:48:22.827Z"
   },
   {
    "duration": 21,
    "start_time": "2022-02-08T05:48:22.844Z"
   },
   {
    "duration": 24,
    "start_time": "2022-02-08T05:48:22.867Z"
   },
   {
    "duration": 6,
    "start_time": "2022-02-08T05:48:22.894Z"
   },
   {
    "duration": 7,
    "start_time": "2022-02-08T05:48:22.902Z"
   },
   {
    "duration": 15,
    "start_time": "2022-02-08T05:48:22.923Z"
   },
   {
    "duration": 12,
    "start_time": "2022-02-08T05:48:22.941Z"
   },
   {
    "duration": 26,
    "start_time": "2022-02-08T05:48:22.959Z"
   },
   {
    "duration": 19,
    "start_time": "2022-02-08T05:48:23.025Z"
   },
   {
    "duration": 39,
    "start_time": "2022-02-08T05:48:23.047Z"
   },
   {
    "duration": 64,
    "start_time": "2022-02-08T05:48:23.088Z"
   },
   {
    "duration": 30,
    "start_time": "2022-02-08T05:48:23.155Z"
   },
   {
    "duration": 48,
    "start_time": "2022-02-08T05:48:23.188Z"
   },
   {
    "duration": 13,
    "start_time": "2022-02-08T05:48:23.238Z"
   },
   {
    "duration": 5,
    "start_time": "2022-02-08T05:48:23.253Z"
   },
   {
    "duration": 20,
    "start_time": "2022-02-08T05:48:23.260Z"
   },
   {
    "duration": 50,
    "start_time": "2022-02-08T05:48:23.282Z"
   },
   {
    "duration": 93,
    "start_time": "2022-02-08T05:48:23.334Z"
   },
   {
    "duration": 8,
    "start_time": "2022-02-08T05:48:23.430Z"
   },
   {
    "duration": 6,
    "start_time": "2022-02-08T05:48:23.440Z"
   },
   {
    "duration": 10,
    "start_time": "2022-02-08T05:48:23.448Z"
   },
   {
    "duration": 12,
    "start_time": "2022-02-08T05:48:23.460Z"
   },
   {
    "duration": 8,
    "start_time": "2022-02-08T05:48:23.475Z"
   },
   {
    "duration": 122,
    "start_time": "2022-02-08T05:48:23.524Z"
   },
   {
    "duration": 8,
    "start_time": "2022-02-08T05:48:23.648Z"
   },
   {
    "duration": 64,
    "start_time": "2022-02-08T05:48:23.659Z"
   },
   {
    "duration": 1521,
    "start_time": "2022-02-08T05:48:23.726Z"
   },
   {
    "duration": 133,
    "start_time": "2022-02-08T05:48:25.249Z"
   },
   {
    "duration": 65,
    "start_time": "2022-02-08T05:48:25.384Z"
   },
   {
    "duration": 4,
    "start_time": "2022-02-08T05:48:25.452Z"
   },
   {
    "duration": 14,
    "start_time": "2022-02-08T05:48:25.459Z"
   },
   {
    "duration": 5,
    "start_time": "2022-02-08T05:48:25.475Z"
   },
   {
    "duration": 5,
    "start_time": "2022-02-08T05:48:25.482Z"
   },
   {
    "duration": 547,
    "start_time": "2022-02-08T05:48:25.489Z"
   },
   {
    "duration": 428,
    "start_time": "2022-02-08T05:48:26.038Z"
   },
   {
    "duration": 658,
    "start_time": "2022-02-08T05:48:26.468Z"
   },
   {
    "duration": 336,
    "start_time": "2022-02-08T05:48:27.128Z"
   },
   {
    "duration": 346,
    "start_time": "2022-02-08T05:48:27.466Z"
   },
   {
    "duration": 15,
    "start_time": "2022-02-08T05:48:27.814Z"
   },
   {
    "duration": 4,
    "start_time": "2022-02-08T05:48:27.832Z"
   },
   {
    "duration": 6,
    "start_time": "2022-02-08T05:48:27.839Z"
   },
   {
    "duration": 331,
    "start_time": "2022-02-08T05:48:27.847Z"
   },
   {
    "duration": 358,
    "start_time": "2022-02-08T05:48:28.180Z"
   },
   {
    "duration": 560,
    "start_time": "2022-02-08T05:48:28.541Z"
   },
   {
    "duration": 342,
    "start_time": "2022-02-08T05:48:29.104Z"
   },
   {
    "duration": 354,
    "start_time": "2022-02-08T05:48:29.449Z"
   },
   {
    "duration": 25,
    "start_time": "2022-02-08T05:48:29.807Z"
   },
   {
    "duration": 14,
    "start_time": "2022-02-08T05:48:29.834Z"
   },
   {
    "duration": 13,
    "start_time": "2022-02-08T05:48:29.850Z"
   },
   {
    "duration": 1007,
    "start_time": "2022-02-08T05:48:29.865Z"
   },
   {
    "duration": 1207,
    "start_time": "2022-02-08T05:48:30.875Z"
   },
   {
    "duration": 657,
    "start_time": "2022-02-08T05:48:32.085Z"
   },
   {
    "duration": 353,
    "start_time": "2022-02-08T05:48:32.749Z"
   },
   {
    "duration": 459,
    "start_time": "2022-02-08T05:48:33.104Z"
   },
   {
    "duration": 63,
    "start_time": "2022-02-08T05:48:33.566Z"
   },
   {
    "duration": 337,
    "start_time": "2022-02-08T05:49:01.830Z"
   },
   {
    "duration": 341,
    "start_time": "2022-02-08T05:49:13.119Z"
   },
   {
    "duration": 348,
    "start_time": "2022-02-08T05:49:27.565Z"
   },
   {
    "duration": 334,
    "start_time": "2022-02-08T05:49:36.589Z"
   },
   {
    "duration": 332,
    "start_time": "2022-02-08T05:49:47.695Z"
   },
   {
    "duration": 328,
    "start_time": "2022-02-08T05:49:57.101Z"
   },
   {
    "duration": 288,
    "start_time": "2022-02-08T05:51:29.619Z"
   },
   {
    "duration": 753,
    "start_time": "2022-02-08T05:51:42.604Z"
   },
   {
    "duration": 1646,
    "start_time": "2022-02-08T05:55:27.317Z"
   },
   {
    "duration": 907,
    "start_time": "2022-02-08T05:55:28.966Z"
   },
   {
    "duration": 71,
    "start_time": "2022-02-08T05:55:29.877Z"
   },
   {
    "duration": 83,
    "start_time": "2022-02-08T05:55:29.951Z"
   },
   {
    "duration": 47,
    "start_time": "2022-02-08T05:55:30.037Z"
   },
   {
    "duration": 70,
    "start_time": "2022-02-08T05:55:30.123Z"
   },
   {
    "duration": 80,
    "start_time": "2022-02-08T05:55:30.196Z"
   },
   {
    "duration": 101,
    "start_time": "2022-02-08T05:55:30.279Z"
   },
   {
    "duration": 63,
    "start_time": "2022-02-08T05:55:30.384Z"
   },
   {
    "duration": 5,
    "start_time": "2022-02-08T05:55:30.451Z"
   },
   {
    "duration": 66,
    "start_time": "2022-02-08T05:55:30.458Z"
   },
   {
    "duration": 58,
    "start_time": "2022-02-08T05:55:30.527Z"
   },
   {
    "duration": 48,
    "start_time": "2022-02-08T05:55:30.587Z"
   },
   {
    "duration": 10,
    "start_time": "2022-02-08T05:55:30.638Z"
   },
   {
    "duration": 26,
    "start_time": "2022-02-08T05:55:30.650Z"
   },
   {
    "duration": 18,
    "start_time": "2022-02-08T05:55:30.679Z"
   },
   {
    "duration": 34,
    "start_time": "2022-02-08T05:55:30.700Z"
   },
   {
    "duration": 8,
    "start_time": "2022-02-08T05:55:30.737Z"
   },
   {
    "duration": 14,
    "start_time": "2022-02-08T05:55:30.747Z"
   },
   {
    "duration": 24,
    "start_time": "2022-02-08T05:55:30.764Z"
   },
   {
    "duration": 35,
    "start_time": "2022-02-08T05:55:30.790Z"
   },
   {
    "duration": 13,
    "start_time": "2022-02-08T05:55:30.827Z"
   },
   {
    "duration": 31,
    "start_time": "2022-02-08T05:55:30.843Z"
   },
   {
    "duration": 19,
    "start_time": "2022-02-08T05:55:30.877Z"
   },
   {
    "duration": 43,
    "start_time": "2022-02-08T05:55:30.922Z"
   },
   {
    "duration": 66,
    "start_time": "2022-02-08T05:55:30.968Z"
   },
   {
    "duration": 30,
    "start_time": "2022-02-08T05:55:31.043Z"
   },
   {
    "duration": 57,
    "start_time": "2022-02-08T05:55:31.077Z"
   },
   {
    "duration": 13,
    "start_time": "2022-02-08T05:55:31.137Z"
   },
   {
    "duration": 11,
    "start_time": "2022-02-08T05:55:31.152Z"
   },
   {
    "duration": 20,
    "start_time": "2022-02-08T05:55:31.166Z"
   },
   {
    "duration": 47,
    "start_time": "2022-02-08T05:55:31.190Z"
   },
   {
    "duration": 94,
    "start_time": "2022-02-08T05:55:31.240Z"
   },
   {
    "duration": 11,
    "start_time": "2022-02-08T05:55:31.337Z"
   },
   {
    "duration": 7,
    "start_time": "2022-02-08T05:55:31.351Z"
   },
   {
    "duration": 16,
    "start_time": "2022-02-08T05:55:31.360Z"
   },
   {
    "duration": 52,
    "start_time": "2022-02-08T05:55:31.379Z"
   },
   {
    "duration": 9,
    "start_time": "2022-02-08T05:55:31.434Z"
   },
   {
    "duration": 138,
    "start_time": "2022-02-08T05:55:31.446Z"
   },
   {
    "duration": 10,
    "start_time": "2022-02-08T05:55:31.586Z"
   },
   {
    "duration": 66,
    "start_time": "2022-02-08T05:55:31.598Z"
   },
   {
    "duration": 1448,
    "start_time": "2022-02-08T05:55:31.667Z"
   },
   {
    "duration": 142,
    "start_time": "2022-02-08T05:55:33.124Z"
   },
   {
    "duration": 72,
    "start_time": "2022-02-08T05:55:33.269Z"
   },
   {
    "duration": 5,
    "start_time": "2022-02-08T05:55:33.343Z"
   },
   {
    "duration": 13,
    "start_time": "2022-02-08T05:55:33.350Z"
   },
   {
    "duration": 6,
    "start_time": "2022-02-08T05:55:33.365Z"
   },
   {
    "duration": 7,
    "start_time": "2022-02-08T05:55:33.374Z"
   },
   {
    "duration": 508,
    "start_time": "2022-02-08T05:55:33.383Z"
   },
   {
    "duration": 331,
    "start_time": "2022-02-08T05:55:33.893Z"
   },
   {
    "duration": 643,
    "start_time": "2022-02-08T05:55:34.226Z"
   },
   {
    "duration": 339,
    "start_time": "2022-02-08T05:55:34.872Z"
   },
   {
    "duration": 337,
    "start_time": "2022-02-08T05:55:35.214Z"
   },
   {
    "duration": 10,
    "start_time": "2022-02-08T05:55:35.554Z"
   },
   {
    "duration": 4,
    "start_time": "2022-02-08T05:55:35.567Z"
   },
   {
    "duration": 7,
    "start_time": "2022-02-08T05:55:35.573Z"
   },
   {
    "duration": 366,
    "start_time": "2022-02-08T05:55:35.583Z"
   },
   {
    "duration": 328,
    "start_time": "2022-02-08T05:55:35.951Z"
   },
   {
    "duration": 570,
    "start_time": "2022-02-08T05:55:36.281Z"
   },
   {
    "duration": 444,
    "start_time": "2022-02-08T05:55:36.853Z"
   },
   {
    "duration": 334,
    "start_time": "2022-02-08T05:55:37.299Z"
   },
   {
    "duration": 11,
    "start_time": "2022-02-08T05:55:37.636Z"
   },
   {
    "duration": 9,
    "start_time": "2022-02-08T05:55:37.649Z"
   },
   {
    "duration": 6,
    "start_time": "2022-02-08T05:55:37.660Z"
   },
   {
    "duration": 628,
    "start_time": "2022-02-08T05:55:37.668Z"
   },
   {
    "duration": 721,
    "start_time": "2022-02-08T05:55:38.298Z"
   },
   {
    "duration": 670,
    "start_time": "2022-02-08T05:55:39.022Z"
   },
   {
    "duration": 367,
    "start_time": "2022-02-08T05:55:39.695Z"
   },
   {
    "duration": 436,
    "start_time": "2022-02-08T05:55:40.064Z"
   },
   {
    "duration": 46,
    "start_time": "2022-02-08T05:55:40.502Z"
   },
   {
    "duration": 7202,
    "start_time": "2022-02-08T06:57:04.440Z"
   },
   {
    "duration": 6701,
    "start_time": "2022-02-08T06:57:50.110Z"
   },
   {
    "duration": 8318,
    "start_time": "2022-02-08T06:58:14.428Z"
   },
   {
    "duration": 279,
    "start_time": "2022-02-08T06:59:10.676Z"
   },
   {
    "duration": 8440,
    "start_time": "2022-02-08T07:00:15.149Z"
   },
   {
    "duration": 9071,
    "start_time": "2022-02-08T07:00:45.217Z"
   },
   {
    "duration": 8853,
    "start_time": "2022-02-08T07:01:12.161Z"
   },
   {
    "duration": 7077,
    "start_time": "2022-02-08T07:01:28.915Z"
   },
   {
    "duration": 316,
    "start_time": "2022-02-08T07:02:27.995Z"
   },
   {
    "duration": 7564,
    "start_time": "2022-02-08T07:02:38.801Z"
   },
   {
    "duration": 291,
    "start_time": "2022-02-08T08:44:49.680Z"
   },
   {
    "duration": 369,
    "start_time": "2022-02-08T08:54:00.027Z"
   },
   {
    "duration": 385,
    "start_time": "2022-02-08T08:54:00.398Z"
   },
   {
    "duration": 23769,
    "start_time": "2022-02-08T08:54:51.030Z"
   },
   {
    "duration": 371,
    "start_time": "2022-02-08T08:55:14.802Z"
   },
   {
    "duration": 344,
    "start_time": "2022-02-08T08:59:16.245Z"
   },
   {
    "duration": 453,
    "start_time": "2022-02-08T08:59:37.540Z"
   },
   {
    "duration": 1203,
    "start_time": "2022-02-08T09:09:13.853Z"
   },
   {
    "duration": 1842,
    "start_time": "2022-02-08T09:10:18.500Z"
   },
   {
    "duration": 1595,
    "start_time": "2022-02-08T09:12:03.395Z"
   },
   {
    "duration": 372,
    "start_time": "2022-02-08T09:13:11.342Z"
   },
   {
    "duration": 304,
    "start_time": "2022-02-08T09:15:03.617Z"
   },
   {
    "duration": 307,
    "start_time": "2022-02-08T09:15:28.952Z"
   },
   {
    "duration": 1717,
    "start_time": "2022-02-08T09:16:18.897Z"
   },
   {
    "duration": 3296,
    "start_time": "2022-02-08T09:16:37.920Z"
   },
   {
    "duration": 1521,
    "start_time": "2022-02-08T09:20:23.619Z"
   },
   {
    "duration": 1516,
    "start_time": "2022-02-08T09:20:37.323Z"
   },
   {
    "duration": 1250,
    "start_time": "2022-02-08T09:20:55.644Z"
   },
   {
    "duration": 1248,
    "start_time": "2022-02-08T09:22:13.610Z"
   },
   {
    "duration": 1238,
    "start_time": "2022-02-08T09:22:48.761Z"
   },
   {
    "duration": 1300,
    "start_time": "2022-02-08T09:23:02.641Z"
   },
   {
    "duration": 1447,
    "start_time": "2022-02-08T09:23:23.234Z"
   },
   {
    "duration": 1690,
    "start_time": "2022-02-08T09:23:39.242Z"
   },
   {
    "duration": 807,
    "start_time": "2022-02-08T09:26:08.262Z"
   },
   {
    "duration": 101,
    "start_time": "2022-02-08T09:27:17.294Z"
   },
   {
    "duration": 1282,
    "start_time": "2022-02-08T09:27:34.603Z"
   },
   {
    "duration": 104,
    "start_time": "2022-02-08T09:27:53.347Z"
   },
   {
    "duration": 1566,
    "start_time": "2022-02-08T09:28:08.857Z"
   },
   {
    "duration": 1704,
    "start_time": "2022-02-08T09:28:58.084Z"
   },
   {
    "duration": 1514,
    "start_time": "2022-02-08T09:29:16.471Z"
   },
   {
    "duration": 1517,
    "start_time": "2022-02-08T09:29:51.963Z"
   },
   {
    "duration": 679,
    "start_time": "2022-02-08T09:31:16.244Z"
   },
   {
    "duration": 678,
    "start_time": "2022-02-08T09:31:24.573Z"
   },
   {
    "duration": 1525,
    "start_time": "2022-02-08T09:32:57.187Z"
   },
   {
    "duration": 3177,
    "start_time": "2022-02-08T09:32:58.715Z"
   },
   {
    "duration": 69,
    "start_time": "2022-02-08T09:33:01.896Z"
   },
   {
    "duration": 75,
    "start_time": "2022-02-08T09:33:01.968Z"
   },
   {
    "duration": 43,
    "start_time": "2022-02-08T09:33:02.045Z"
   },
   {
    "duration": 71,
    "start_time": "2022-02-08T09:33:02.124Z"
   },
   {
    "duration": 69,
    "start_time": "2022-02-08T09:33:02.222Z"
   },
   {
    "duration": 112,
    "start_time": "2022-02-08T09:33:02.294Z"
   },
   {
    "duration": 55,
    "start_time": "2022-02-08T09:33:02.424Z"
   },
   {
    "duration": 8,
    "start_time": "2022-02-08T09:33:02.484Z"
   },
   {
    "duration": 94,
    "start_time": "2022-02-08T09:33:02.495Z"
   },
   {
    "duration": 75,
    "start_time": "2022-02-08T09:33:02.592Z"
   },
   {
    "duration": 28,
    "start_time": "2022-02-08T09:33:02.669Z"
   },
   {
    "duration": 29,
    "start_time": "2022-02-08T09:33:02.699Z"
   },
   {
    "duration": 18,
    "start_time": "2022-02-08T09:33:02.730Z"
   },
   {
    "duration": 16,
    "start_time": "2022-02-08T09:33:02.750Z"
   },
   {
    "duration": 14,
    "start_time": "2022-02-08T09:33:02.768Z"
   },
   {
    "duration": 45,
    "start_time": "2022-02-08T09:33:02.785Z"
   },
   {
    "duration": 7,
    "start_time": "2022-02-08T09:33:02.833Z"
   },
   {
    "duration": 11,
    "start_time": "2022-02-08T09:33:02.843Z"
   },
   {
    "duration": 19,
    "start_time": "2022-02-08T09:33:02.857Z"
   },
   {
    "duration": 46,
    "start_time": "2022-02-08T09:33:02.879Z"
   },
   {
    "duration": 28,
    "start_time": "2022-02-08T09:33:02.927Z"
   },
   {
    "duration": 19,
    "start_time": "2022-02-08T09:33:02.958Z"
   },
   {
    "duration": 73,
    "start_time": "2022-02-08T09:33:02.980Z"
   },
   {
    "duration": 43,
    "start_time": "2022-02-08T09:33:03.056Z"
   },
   {
    "duration": 27,
    "start_time": "2022-02-08T09:33:03.126Z"
   },
   {
    "duration": 27,
    "start_time": "2022-02-08T09:33:03.157Z"
   },
   {
    "duration": 40,
    "start_time": "2022-02-08T09:33:03.186Z"
   },
   {
    "duration": 20,
    "start_time": "2022-02-08T09:33:03.228Z"
   },
   {
    "duration": 25,
    "start_time": "2022-02-08T09:33:03.251Z"
   },
   {
    "duration": 18,
    "start_time": "2022-02-08T09:33:03.279Z"
   },
   {
    "duration": 90,
    "start_time": "2022-02-08T09:33:03.300Z"
   },
   {
    "duration": 7,
    "start_time": "2022-02-08T09:33:03.392Z"
   },
   {
    "duration": 5,
    "start_time": "2022-02-08T09:33:03.424Z"
   },
   {
    "duration": 12,
    "start_time": "2022-02-08T09:33:03.431Z"
   },
   {
    "duration": 12,
    "start_time": "2022-02-08T09:33:03.445Z"
   },
   {
    "duration": 8,
    "start_time": "2022-02-08T09:33:03.460Z"
   },
   {
    "duration": 151,
    "start_time": "2022-02-08T09:33:03.470Z"
   },
   {
    "duration": 7,
    "start_time": "2022-02-08T09:33:03.624Z"
   },
   {
    "duration": 49,
    "start_time": "2022-02-08T09:33:03.633Z"
   },
   {
    "duration": 1527,
    "start_time": "2022-02-08T09:33:03.684Z"
   },
   {
    "duration": 134,
    "start_time": "2022-02-08T09:33:05.214Z"
   },
   {
    "duration": 50,
    "start_time": "2022-02-08T09:33:05.351Z"
   },
   {
    "duration": 6,
    "start_time": "2022-02-08T09:33:05.424Z"
   },
   {
    "duration": 16,
    "start_time": "2022-02-08T09:33:05.433Z"
   },
   {
    "duration": 6,
    "start_time": "2022-02-08T09:33:05.452Z"
   },
   {
    "duration": 4,
    "start_time": "2022-02-08T09:33:05.461Z"
   },
   {
    "duration": 571,
    "start_time": "2022-02-08T09:33:05.468Z"
   },
   {
    "duration": 432,
    "start_time": "2022-02-08T09:33:06.041Z"
   },
   {
    "duration": 709,
    "start_time": "2022-02-08T09:33:06.475Z"
   },
   {
    "duration": 398,
    "start_time": "2022-02-08T09:33:07.187Z"
   },
   {
    "duration": 364,
    "start_time": "2022-02-08T09:33:07.587Z"
   },
   {
    "duration": 12,
    "start_time": "2022-02-08T09:33:07.954Z"
   },
   {
    "duration": 5,
    "start_time": "2022-02-08T09:33:07.969Z"
   },
   {
    "duration": 5,
    "start_time": "2022-02-08T09:33:07.976Z"
   },
   {
    "duration": 374,
    "start_time": "2022-02-08T09:33:07.984Z"
   },
   {
    "duration": 326,
    "start_time": "2022-02-08T09:33:08.361Z"
   },
   {
    "duration": 586,
    "start_time": "2022-02-08T09:33:08.689Z"
   },
   {
    "duration": 372,
    "start_time": "2022-02-08T09:33:09.279Z"
   },
   {
    "duration": 373,
    "start_time": "2022-02-08T09:33:09.654Z"
   },
   {
    "duration": 12,
    "start_time": "2022-02-08T09:33:10.029Z"
   },
   {
    "duration": 5,
    "start_time": "2022-02-08T09:33:10.043Z"
   },
   {
    "duration": 10,
    "start_time": "2022-02-08T09:33:10.051Z"
   },
   {
    "duration": 641,
    "start_time": "2022-02-08T09:33:10.064Z"
   },
   {
    "duration": 738,
    "start_time": "2022-02-08T09:33:10.708Z"
   },
   {
    "duration": 710,
    "start_time": "2022-02-08T09:33:11.448Z"
   },
   {
    "duration": 373,
    "start_time": "2022-02-08T09:33:12.161Z"
   },
   {
    "duration": 488,
    "start_time": "2022-02-08T09:33:12.537Z"
   },
   {
    "duration": 40,
    "start_time": "2022-02-08T09:33:13.028Z"
   },
   {
    "duration": 1611,
    "start_time": "2022-02-08T09:33:13.071Z"
   },
   {
    "duration": 9,
    "start_time": "2022-02-08T09:49:13.914Z"
   },
   {
    "duration": 345,
    "start_time": "2022-02-08T09:51:37.065Z"
   },
   {
    "duration": 22,
    "start_time": "2022-02-08T09:51:53.379Z"
   },
   {
    "duration": 1536,
    "start_time": "2022-02-08T09:52:40.773Z"
   },
   {
    "duration": 2571,
    "start_time": "2022-02-08T09:52:42.312Z"
   },
   {
    "duration": 66,
    "start_time": "2022-02-08T09:52:44.887Z"
   },
   {
    "duration": 85,
    "start_time": "2022-02-08T09:52:44.956Z"
   },
   {
    "duration": 46,
    "start_time": "2022-02-08T09:52:45.044Z"
   },
   {
    "duration": 68,
    "start_time": "2022-02-08T09:52:45.124Z"
   },
   {
    "duration": 78,
    "start_time": "2022-02-08T09:52:45.194Z"
   },
   {
    "duration": 98,
    "start_time": "2022-02-08T09:52:45.275Z"
   },
   {
    "duration": 62,
    "start_time": "2022-02-08T09:52:45.377Z"
   },
   {
    "duration": 6,
    "start_time": "2022-02-08T09:52:45.442Z"
   },
   {
    "duration": 74,
    "start_time": "2022-02-08T09:52:45.451Z"
   },
   {
    "duration": 60,
    "start_time": "2022-02-08T09:52:45.528Z"
   },
   {
    "duration": 50,
    "start_time": "2022-02-08T09:52:45.591Z"
   },
   {
    "duration": 11,
    "start_time": "2022-02-08T09:52:45.643Z"
   },
   {
    "duration": 26,
    "start_time": "2022-02-08T09:52:45.657Z"
   },
   {
    "duration": 39,
    "start_time": "2022-02-08T09:52:45.686Z"
   },
   {
    "duration": 14,
    "start_time": "2022-02-08T09:52:45.727Z"
   },
   {
    "duration": 9,
    "start_time": "2022-02-08T09:52:45.744Z"
   },
   {
    "duration": 12,
    "start_time": "2022-02-08T09:52:45.756Z"
   },
   {
    "duration": 9,
    "start_time": "2022-02-08T09:52:45.770Z"
   },
   {
    "duration": 57,
    "start_time": "2022-02-08T09:52:45.781Z"
   },
   {
    "duration": 13,
    "start_time": "2022-02-08T09:52:45.840Z"
   },
   {
    "duration": 28,
    "start_time": "2022-02-08T09:52:45.857Z"
   },
   {
    "duration": 52,
    "start_time": "2022-02-08T09:52:45.887Z"
   },
   {
    "duration": 40,
    "start_time": "2022-02-08T09:52:45.941Z"
   },
   {
    "duration": 71,
    "start_time": "2022-02-08T09:52:45.983Z"
   },
   {
    "duration": 28,
    "start_time": "2022-02-08T09:52:46.060Z"
   },
   {
    "duration": 46,
    "start_time": "2022-02-08T09:52:46.091Z"
   },
   {
    "duration": 11,
    "start_time": "2022-02-08T09:52:46.139Z"
   },
   {
    "duration": 5,
    "start_time": "2022-02-08T09:52:46.152Z"
   },
   {
    "duration": 21,
    "start_time": "2022-02-08T09:52:46.160Z"
   },
   {
    "duration": 42,
    "start_time": "2022-02-08T09:52:46.183Z"
   },
   {
    "duration": 104,
    "start_time": "2022-02-08T09:52:46.228Z"
   },
   {
    "duration": 8,
    "start_time": "2022-02-08T09:52:46.334Z"
   },
   {
    "duration": 9,
    "start_time": "2022-02-08T09:52:46.344Z"
   },
   {
    "duration": 15,
    "start_time": "2022-02-08T09:52:46.355Z"
   },
   {
    "duration": 13,
    "start_time": "2022-02-08T09:52:46.373Z"
   },
   {
    "duration": 40,
    "start_time": "2022-02-08T09:52:46.389Z"
   },
   {
    "duration": 131,
    "start_time": "2022-02-08T09:52:46.431Z"
   },
   {
    "duration": 8,
    "start_time": "2022-02-08T09:52:46.565Z"
   },
   {
    "duration": 64,
    "start_time": "2022-02-08T09:52:46.575Z"
   },
   {
    "duration": 1515,
    "start_time": "2022-02-08T09:52:46.642Z"
   },
   {
    "duration": 142,
    "start_time": "2022-02-08T09:52:48.159Z"
   },
   {
    "duration": 60,
    "start_time": "2022-02-08T09:52:48.303Z"
   },
   {
    "duration": 5,
    "start_time": "2022-02-08T09:52:48.365Z"
   },
   {
    "duration": 15,
    "start_time": "2022-02-08T09:52:48.373Z"
   },
   {
    "duration": 5,
    "start_time": "2022-02-08T09:52:48.391Z"
   },
   {
    "duration": 28,
    "start_time": "2022-02-08T09:52:48.398Z"
   },
   {
    "duration": 469,
    "start_time": "2022-02-08T09:52:48.429Z"
   },
   {
    "duration": 312,
    "start_time": "2022-02-08T09:52:48.901Z"
   },
   {
    "duration": 663,
    "start_time": "2022-02-08T09:52:49.216Z"
   },
   {
    "duration": 350,
    "start_time": "2022-02-08T09:52:49.881Z"
   },
   {
    "duration": 363,
    "start_time": "2022-02-08T09:52:50.234Z"
   },
   {
    "duration": 23,
    "start_time": "2022-02-08T09:52:50.600Z"
   },
   {
    "duration": 5,
    "start_time": "2022-02-08T09:52:50.626Z"
   },
   {
    "duration": 9,
    "start_time": "2022-02-08T09:52:50.633Z"
   },
   {
    "duration": 327,
    "start_time": "2022-02-08T09:52:50.644Z"
   },
   {
    "duration": 332,
    "start_time": "2022-02-08T09:52:50.973Z"
   },
   {
    "duration": 586,
    "start_time": "2022-02-08T09:52:51.307Z"
   },
   {
    "duration": 350,
    "start_time": "2022-02-08T09:52:51.896Z"
   },
   {
    "duration": 369,
    "start_time": "2022-02-08T09:52:52.249Z"
   },
   {
    "duration": 13,
    "start_time": "2022-02-08T09:52:52.624Z"
   },
   {
    "duration": 6,
    "start_time": "2022-02-08T09:52:52.640Z"
   },
   {
    "duration": 7,
    "start_time": "2022-02-08T09:52:52.649Z"
   },
   {
    "duration": 642,
    "start_time": "2022-02-08T09:52:52.659Z"
   },
   {
    "duration": 614,
    "start_time": "2022-02-08T09:52:53.305Z"
   },
   {
    "duration": 655,
    "start_time": "2022-02-08T09:52:53.922Z"
   },
   {
    "duration": 450,
    "start_time": "2022-02-08T09:52:54.580Z"
   },
   {
    "duration": 539,
    "start_time": "2022-02-08T09:52:55.032Z"
   },
   {
    "duration": 75,
    "start_time": "2022-02-08T09:52:55.574Z"
   },
   {
    "duration": 13,
    "start_time": "2022-02-08T09:52:55.652Z"
   },
   {
    "duration": 22,
    "start_time": "2022-02-08T09:52:55.668Z"
   },
   {
    "duration": 1515,
    "start_time": "2022-02-08T09:52:55.692Z"
   },
   {
    "duration": 1464,
    "start_time": "2022-02-08T10:02:22.563Z"
   },
   {
    "duration": 852,
    "start_time": "2022-02-08T10:02:24.030Z"
   },
   {
    "duration": 71,
    "start_time": "2022-02-08T10:02:24.886Z"
   },
   {
    "duration": 89,
    "start_time": "2022-02-08T10:02:24.960Z"
   },
   {
    "duration": 71,
    "start_time": "2022-02-08T10:02:25.052Z"
   },
   {
    "duration": 64,
    "start_time": "2022-02-08T10:02:25.126Z"
   },
   {
    "duration": 75,
    "start_time": "2022-02-08T10:02:25.193Z"
   },
   {
    "duration": 92,
    "start_time": "2022-02-08T10:02:25.271Z"
   },
   {
    "duration": 57,
    "start_time": "2022-02-08T10:02:25.367Z"
   },
   {
    "duration": 5,
    "start_time": "2022-02-08T10:02:25.428Z"
   },
   {
    "duration": 51,
    "start_time": "2022-02-08T10:02:25.436Z"
   },
   {
    "duration": 77,
    "start_time": "2022-02-08T10:02:25.489Z"
   },
   {
    "duration": 25,
    "start_time": "2022-02-08T10:02:25.568Z"
   },
   {
    "duration": 33,
    "start_time": "2022-02-08T10:02:25.595Z"
   },
   {
    "duration": 18,
    "start_time": "2022-02-08T10:02:25.630Z"
   },
   {
    "duration": 15,
    "start_time": "2022-02-08T10:02:25.650Z"
   },
   {
    "duration": 12,
    "start_time": "2022-02-08T10:02:25.667Z"
   },
   {
    "duration": 42,
    "start_time": "2022-02-08T10:02:25.681Z"
   },
   {
    "duration": 8,
    "start_time": "2022-02-08T10:02:25.726Z"
   },
   {
    "duration": 7,
    "start_time": "2022-02-08T10:02:25.737Z"
   },
   {
    "duration": 15,
    "start_time": "2022-02-08T10:02:25.746Z"
   },
   {
    "duration": 11,
    "start_time": "2022-02-08T10:02:25.763Z"
   },
   {
    "duration": 69,
    "start_time": "2022-02-08T10:02:25.776Z"
   },
   {
    "duration": 20,
    "start_time": "2022-02-08T10:02:25.848Z"
   },
   {
    "duration": 64,
    "start_time": "2022-02-08T10:02:25.871Z"
   },
   {
    "duration": 40,
    "start_time": "2022-02-08T10:02:25.938Z"
   },
   {
    "duration": 51,
    "start_time": "2022-02-08T10:02:25.984Z"
   },
   {
    "duration": 25,
    "start_time": "2022-02-08T10:02:26.039Z"
   },
   {
    "duration": 10,
    "start_time": "2022-02-08T10:02:26.066Z"
   },
   {
    "duration": 5,
    "start_time": "2022-02-08T10:02:26.078Z"
   },
   {
    "duration": 48,
    "start_time": "2022-02-08T10:02:26.085Z"
   },
   {
    "duration": 17,
    "start_time": "2022-02-08T10:02:26.135Z"
   },
   {
    "duration": 93,
    "start_time": "2022-02-08T10:02:26.154Z"
   },
   {
    "duration": 8,
    "start_time": "2022-02-08T10:02:26.249Z"
   },
   {
    "duration": 5,
    "start_time": "2022-02-08T10:02:26.260Z"
   },
   {
    "duration": 10,
    "start_time": "2022-02-08T10:02:26.268Z"
   },
   {
    "duration": 48,
    "start_time": "2022-02-08T10:02:26.280Z"
   },
   {
    "duration": 8,
    "start_time": "2022-02-08T10:02:26.330Z"
   },
   {
    "duration": 125,
    "start_time": "2022-02-08T10:02:26.340Z"
   },
   {
    "duration": 8,
    "start_time": "2022-02-08T10:02:26.467Z"
   },
   {
    "duration": 64,
    "start_time": "2022-02-08T10:02:26.477Z"
   },
   {
    "duration": 1510,
    "start_time": "2022-02-08T10:02:26.544Z"
   },
   {
    "duration": 153,
    "start_time": "2022-02-08T10:02:28.056Z"
   },
   {
    "duration": 85,
    "start_time": "2022-02-08T10:02:28.212Z"
   },
   {
    "duration": 7,
    "start_time": "2022-02-08T10:02:28.300Z"
   },
   {
    "duration": 11,
    "start_time": "2022-02-08T10:02:28.324Z"
   },
   {
    "duration": 7,
    "start_time": "2022-02-08T10:02:28.337Z"
   },
   {
    "duration": 11,
    "start_time": "2022-02-08T10:02:28.346Z"
   },
   {
    "duration": 561,
    "start_time": "2022-02-08T10:02:28.359Z"
   },
   {
    "duration": 312,
    "start_time": "2022-02-08T10:02:28.922Z"
   },
   {
    "duration": 687,
    "start_time": "2022-02-08T10:02:29.236Z"
   },
   {
    "duration": 344,
    "start_time": "2022-02-08T10:02:29.925Z"
   },
   {
    "duration": 372,
    "start_time": "2022-02-08T10:02:30.271Z"
   },
   {
    "duration": 12,
    "start_time": "2022-02-08T10:02:30.645Z"
   },
   {
    "duration": 7,
    "start_time": "2022-02-08T10:02:30.660Z"
   },
   {
    "duration": 12,
    "start_time": "2022-02-08T10:02:30.670Z"
   },
   {
    "duration": 372,
    "start_time": "2022-02-08T10:02:30.685Z"
   },
   {
    "duration": 333,
    "start_time": "2022-02-08T10:02:31.060Z"
   },
   {
    "duration": 601,
    "start_time": "2022-02-08T10:02:31.396Z"
   },
   {
    "duration": 360,
    "start_time": "2022-02-08T10:02:31.999Z"
   },
   {
    "duration": 377,
    "start_time": "2022-02-08T10:02:32.362Z"
   },
   {
    "duration": 11,
    "start_time": "2022-02-08T10:02:32.742Z"
   },
   {
    "duration": 7,
    "start_time": "2022-02-08T10:02:32.755Z"
   },
   {
    "duration": 13,
    "start_time": "2022-02-08T10:02:32.764Z"
   },
   {
    "duration": 834,
    "start_time": "2022-02-08T10:02:32.779Z"
   },
   {
    "duration": 648,
    "start_time": "2022-02-08T10:02:33.616Z"
   },
   {
    "duration": 684,
    "start_time": "2022-02-08T10:02:34.266Z"
   },
   {
    "duration": 360,
    "start_time": "2022-02-08T10:02:34.952Z"
   },
   {
    "duration": 472,
    "start_time": "2022-02-08T10:02:35.314Z"
   },
   {
    "duration": 54,
    "start_time": "2022-02-08T10:02:35.789Z"
   },
   {
    "duration": 10,
    "start_time": "2022-02-08T10:02:35.846Z"
   },
   {
    "duration": 25,
    "start_time": "2022-02-08T10:02:35.858Z"
   },
   {
    "duration": 1543,
    "start_time": "2022-02-08T10:02:35.886Z"
   },
   {
    "duration": 494,
    "start_time": "2022-02-08T10:25:32.910Z"
   },
   {
    "duration": 38,
    "start_time": "2022-02-08T10:26:09.363Z"
   },
   {
    "duration": 28,
    "start_time": "2022-02-08T10:27:10.607Z"
   },
   {
    "duration": 1960,
    "start_time": "2022-02-08T10:28:55.731Z"
   },
   {
    "duration": 2330,
    "start_time": "2022-02-08T10:29:31.020Z"
   },
   {
    "duration": 2300,
    "start_time": "2022-02-08T10:30:17.054Z"
   },
   {
    "duration": 1984,
    "start_time": "2022-02-08T10:31:15.539Z"
   },
   {
    "duration": 2364,
    "start_time": "2022-02-08T10:32:02.914Z"
   },
   {
    "duration": 2160,
    "start_time": "2022-02-08T10:32:22.180Z"
   },
   {
    "duration": 2167,
    "start_time": "2022-02-08T10:33:15.140Z"
   },
   {
    "duration": 2353,
    "start_time": "2022-02-08T10:34:32.796Z"
   },
   {
    "duration": 1439,
    "start_time": "2022-02-08T10:35:16.151Z"
   },
   {
    "duration": 979,
    "start_time": "2022-02-08T10:35:17.593Z"
   },
   {
    "duration": 69,
    "start_time": "2022-02-08T10:35:18.575Z"
   },
   {
    "duration": 79,
    "start_time": "2022-02-08T10:35:18.647Z"
   },
   {
    "duration": 41,
    "start_time": "2022-02-08T10:35:18.729Z"
   },
   {
    "duration": 97,
    "start_time": "2022-02-08T10:35:18.772Z"
   },
   {
    "duration": 80,
    "start_time": "2022-02-08T10:35:18.871Z"
   },
   {
    "duration": 90,
    "start_time": "2022-02-08T10:35:18.955Z"
   },
   {
    "duration": 50,
    "start_time": "2022-02-08T10:35:19.052Z"
   },
   {
    "duration": 24,
    "start_time": "2022-02-08T10:35:19.106Z"
   },
   {
    "duration": 53,
    "start_time": "2022-02-08T10:35:19.132Z"
   },
   {
    "duration": 85,
    "start_time": "2022-02-08T10:35:19.187Z"
   },
   {
    "duration": 26,
    "start_time": "2022-02-08T10:35:19.274Z"
   },
   {
    "duration": 26,
    "start_time": "2022-02-08T10:35:19.302Z"
   },
   {
    "duration": 19,
    "start_time": "2022-02-08T10:35:19.331Z"
   },
   {
    "duration": 16,
    "start_time": "2022-02-08T10:35:19.353Z"
   },
   {
    "duration": 52,
    "start_time": "2022-02-08T10:35:19.372Z"
   },
   {
    "duration": 8,
    "start_time": "2022-02-08T10:35:19.427Z"
   },
   {
    "duration": 7,
    "start_time": "2022-02-08T10:35:19.437Z"
   },
   {
    "duration": 7,
    "start_time": "2022-02-08T10:35:19.446Z"
   },
   {
    "duration": 14,
    "start_time": "2022-02-08T10:35:19.456Z"
   },
   {
    "duration": 58,
    "start_time": "2022-02-08T10:35:19.472Z"
   },
   {
    "duration": 27,
    "start_time": "2022-02-08T10:35:19.533Z"
   },
   {
    "duration": 20,
    "start_time": "2022-02-08T10:35:19.562Z"
   },
   {
    "duration": 67,
    "start_time": "2022-02-08T10:35:19.585Z"
   },
   {
    "duration": 39,
    "start_time": "2022-02-08T10:35:19.655Z"
   },
   {
    "duration": 47,
    "start_time": "2022-02-08T10:35:19.700Z"
   },
   {
    "duration": 25,
    "start_time": "2022-02-08T10:35:19.750Z"
   },
   {
    "duration": 10,
    "start_time": "2022-02-08T10:35:19.777Z"
   },
   {
    "duration": 34,
    "start_time": "2022-02-08T10:35:19.789Z"
   },
   {
    "duration": 30,
    "start_time": "2022-02-08T10:35:19.826Z"
   },
   {
    "duration": 18,
    "start_time": "2022-02-08T10:35:19.859Z"
   },
   {
    "duration": 107,
    "start_time": "2022-02-08T10:35:19.879Z"
   },
   {
    "duration": 10,
    "start_time": "2022-02-08T10:35:19.989Z"
   },
   {
    "duration": 6,
    "start_time": "2022-02-08T10:35:20.024Z"
   },
   {
    "duration": 14,
    "start_time": "2022-02-08T10:35:20.033Z"
   },
   {
    "duration": 15,
    "start_time": "2022-02-08T10:35:20.050Z"
   },
   {
    "duration": 10,
    "start_time": "2022-02-08T10:35:20.067Z"
   },
   {
    "duration": 160,
    "start_time": "2022-02-08T10:35:20.079Z"
   },
   {
    "duration": 8,
    "start_time": "2022-02-08T10:35:20.242Z"
   },
   {
    "duration": 47,
    "start_time": "2022-02-08T10:35:20.252Z"
   },
   {
    "duration": 1517,
    "start_time": "2022-02-08T10:35:20.301Z"
   },
   {
    "duration": 133,
    "start_time": "2022-02-08T10:35:21.824Z"
   },
   {
    "duration": 75,
    "start_time": "2022-02-08T10:35:21.960Z"
   },
   {
    "duration": 5,
    "start_time": "2022-02-08T10:35:22.037Z"
   },
   {
    "duration": 16,
    "start_time": "2022-02-08T10:35:22.044Z"
   },
   {
    "duration": 6,
    "start_time": "2022-02-08T10:35:22.063Z"
   },
   {
    "duration": 8,
    "start_time": "2022-02-08T10:35:22.071Z"
   },
   {
    "duration": 486,
    "start_time": "2022-02-08T10:35:22.082Z"
   },
   {
    "duration": 347,
    "start_time": "2022-02-08T10:35:22.570Z"
   },
   {
    "duration": 676,
    "start_time": "2022-02-08T10:35:22.919Z"
   },
   {
    "duration": 437,
    "start_time": "2022-02-08T10:35:23.597Z"
   },
   {
    "duration": 386,
    "start_time": "2022-02-08T10:35:24.037Z"
   },
   {
    "duration": 12,
    "start_time": "2022-02-08T10:35:24.425Z"
   },
   {
    "duration": 7,
    "start_time": "2022-02-08T10:35:24.439Z"
   },
   {
    "duration": 6,
    "start_time": "2022-02-08T10:35:24.448Z"
   },
   {
    "duration": 376,
    "start_time": "2022-02-08T10:35:24.457Z"
   },
   {
    "duration": 416,
    "start_time": "2022-02-08T10:35:24.836Z"
   },
   {
    "duration": 630,
    "start_time": "2022-02-08T10:35:25.255Z"
   },
   {
    "duration": 351,
    "start_time": "2022-02-08T10:35:25.888Z"
   },
   {
    "duration": 354,
    "start_time": "2022-02-08T10:35:26.241Z"
   },
   {
    "duration": 26,
    "start_time": "2022-02-08T10:35:26.597Z"
   },
   {
    "duration": 4,
    "start_time": "2022-02-08T10:35:26.626Z"
   },
   {
    "duration": 6,
    "start_time": "2022-02-08T10:35:26.633Z"
   },
   {
    "duration": 592,
    "start_time": "2022-02-08T10:35:26.641Z"
   },
   {
    "duration": 638,
    "start_time": "2022-02-08T10:35:27.235Z"
   },
   {
    "duration": 827,
    "start_time": "2022-02-08T10:35:27.876Z"
   },
   {
    "duration": 358,
    "start_time": "2022-02-08T10:35:28.706Z"
   },
   {
    "duration": 478,
    "start_time": "2022-02-08T10:35:29.066Z"
   },
   {
    "duration": 38,
    "start_time": "2022-02-08T10:35:29.547Z"
   },
   {
    "duration": 36,
    "start_time": "2022-02-08T10:35:29.587Z"
   },
   {
    "duration": 26,
    "start_time": "2022-02-08T10:35:29.625Z"
   },
   {
    "duration": 2343,
    "start_time": "2022-02-08T10:35:29.654Z"
   },
   {
    "duration": 2365,
    "start_time": "2022-02-08T10:44:03.837Z"
   },
   {
    "duration": 2521,
    "start_time": "2022-02-08T10:44:30.312Z"
   },
   {
    "duration": 2246,
    "start_time": "2022-02-08T10:45:53.435Z"
   },
   {
    "duration": 2330,
    "start_time": "2022-02-08T10:46:18.716Z"
   },
   {
    "duration": 1470,
    "start_time": "2022-02-08T10:46:45.424Z"
   },
   {
    "duration": 792,
    "start_time": "2022-02-08T10:46:46.896Z"
   },
   {
    "duration": 68,
    "start_time": "2022-02-08T10:46:47.691Z"
   },
   {
    "duration": 83,
    "start_time": "2022-02-08T10:46:47.761Z"
   },
   {
    "duration": 44,
    "start_time": "2022-02-08T10:46:47.846Z"
   },
   {
    "duration": 73,
    "start_time": "2022-02-08T10:46:47.924Z"
   },
   {
    "duration": 76,
    "start_time": "2022-02-08T10:46:48.000Z"
   },
   {
    "duration": 114,
    "start_time": "2022-02-08T10:46:48.079Z"
   },
   {
    "duration": 74,
    "start_time": "2022-02-08T10:46:48.199Z"
   },
   {
    "duration": 8,
    "start_time": "2022-02-08T10:46:48.277Z"
   },
   {
    "duration": 78,
    "start_time": "2022-02-08T10:46:48.288Z"
   },
   {
    "duration": 70,
    "start_time": "2022-02-08T10:46:48.369Z"
   },
   {
    "duration": 27,
    "start_time": "2022-02-08T10:46:48.442Z"
   },
   {
    "duration": 10,
    "start_time": "2022-02-08T10:46:48.472Z"
   },
   {
    "duration": 40,
    "start_time": "2022-02-08T10:46:48.485Z"
   },
   {
    "duration": 14,
    "start_time": "2022-02-08T10:46:48.528Z"
   },
   {
    "duration": 12,
    "start_time": "2022-02-08T10:46:48.545Z"
   },
   {
    "duration": 9,
    "start_time": "2022-02-08T10:46:48.560Z"
   },
   {
    "duration": 53,
    "start_time": "2022-02-08T10:46:48.571Z"
   },
   {
    "duration": 8,
    "start_time": "2022-02-08T10:46:48.627Z"
   },
   {
    "duration": 17,
    "start_time": "2022-02-08T10:46:48.637Z"
   },
   {
    "duration": 12,
    "start_time": "2022-02-08T10:46:48.657Z"
   },
   {
    "duration": 74,
    "start_time": "2022-02-08T10:46:48.672Z"
   },
   {
    "duration": 19,
    "start_time": "2022-02-08T10:46:48.749Z"
   },
   {
    "duration": 61,
    "start_time": "2022-02-08T10:46:48.770Z"
   },
   {
    "duration": 42,
    "start_time": "2022-02-08T10:46:48.833Z"
   },
   {
    "duration": 48,
    "start_time": "2022-02-08T10:46:48.882Z"
   },
   {
    "duration": 26,
    "start_time": "2022-02-08T10:46:48.934Z"
   },
   {
    "duration": 11,
    "start_time": "2022-02-08T10:46:48.962Z"
   },
   {
    "duration": 6,
    "start_time": "2022-02-08T10:46:48.975Z"
   },
   {
    "duration": 52,
    "start_time": "2022-02-08T10:46:48.983Z"
   },
   {
    "duration": 18,
    "start_time": "2022-02-08T10:46:49.038Z"
   },
   {
    "duration": 100,
    "start_time": "2022-02-08T10:46:49.058Z"
   },
   {
    "duration": 8,
    "start_time": "2022-02-08T10:46:49.160Z"
   },
   {
    "duration": 7,
    "start_time": "2022-02-08T10:46:49.170Z"
   },
   {
    "duration": 14,
    "start_time": "2022-02-08T10:46:49.179Z"
   },
   {
    "duration": 13,
    "start_time": "2022-02-08T10:46:49.224Z"
   },
   {
    "duration": 7,
    "start_time": "2022-02-08T10:46:49.240Z"
   },
   {
    "duration": 148,
    "start_time": "2022-02-08T10:46:49.250Z"
   },
   {
    "duration": 8,
    "start_time": "2022-02-08T10:46:49.400Z"
   },
   {
    "duration": 56,
    "start_time": "2022-02-08T10:46:49.410Z"
   },
   {
    "duration": 1634,
    "start_time": "2022-02-08T10:46:49.469Z"
   },
   {
    "duration": 142,
    "start_time": "2022-02-08T10:46:51.106Z"
   },
   {
    "duration": 72,
    "start_time": "2022-02-08T10:46:51.250Z"
   },
   {
    "duration": 5,
    "start_time": "2022-02-08T10:46:51.325Z"
   },
   {
    "duration": 16,
    "start_time": "2022-02-08T10:46:51.332Z"
   },
   {
    "duration": 5,
    "start_time": "2022-02-08T10:46:51.351Z"
   },
   {
    "duration": 6,
    "start_time": "2022-02-08T10:46:51.359Z"
   },
   {
    "duration": 495,
    "start_time": "2022-02-08T10:46:51.368Z"
   },
   {
    "duration": 360,
    "start_time": "2022-02-08T10:46:51.865Z"
   },
   {
    "duration": 690,
    "start_time": "2022-02-08T10:46:52.228Z"
   },
   {
    "duration": 366,
    "start_time": "2022-02-08T10:46:52.921Z"
   },
   {
    "duration": 358,
    "start_time": "2022-02-08T10:46:53.290Z"
   },
   {
    "duration": 13,
    "start_time": "2022-02-08T10:46:53.650Z"
   },
   {
    "duration": 11,
    "start_time": "2022-02-08T10:46:53.666Z"
   },
   {
    "duration": 7,
    "start_time": "2022-02-08T10:46:53.680Z"
   },
   {
    "duration": 436,
    "start_time": "2022-02-08T10:46:53.690Z"
   },
   {
    "duration": 413,
    "start_time": "2022-02-08T10:46:54.130Z"
   },
   {
    "duration": 718,
    "start_time": "2022-02-08T10:46:54.545Z"
   },
   {
    "duration": 352,
    "start_time": "2022-02-08T10:46:55.265Z"
   },
   {
    "duration": 353,
    "start_time": "2022-02-08T10:46:55.624Z"
   },
   {
    "duration": 12,
    "start_time": "2022-02-08T10:46:55.979Z"
   },
   {
    "duration": 5,
    "start_time": "2022-02-08T10:46:55.993Z"
   },
   {
    "duration": 6,
    "start_time": "2022-02-08T10:46:56.024Z"
   },
   {
    "duration": 703,
    "start_time": "2022-02-08T10:46:56.033Z"
   },
   {
    "duration": 621,
    "start_time": "2022-02-08T10:46:56.739Z"
   },
   {
    "duration": 690,
    "start_time": "2022-02-08T10:46:57.364Z"
   },
   {
    "duration": 385,
    "start_time": "2022-02-08T10:46:58.057Z"
   },
   {
    "duration": 482,
    "start_time": "2022-02-08T10:46:58.444Z"
   },
   {
    "duration": 39,
    "start_time": "2022-02-08T10:46:58.928Z"
   },
   {
    "duration": 9,
    "start_time": "2022-02-08T10:46:58.970Z"
   },
   {
    "duration": 57,
    "start_time": "2022-02-08T10:46:58.981Z"
   },
   {
    "duration": 2312,
    "start_time": "2022-02-08T10:46:59.041Z"
   },
   {
    "duration": 1452,
    "start_time": "2022-02-08T11:36:34.039Z"
   },
   {
    "duration": 1938,
    "start_time": "2022-02-08T11:36:35.494Z"
   },
   {
    "duration": 67,
    "start_time": "2022-02-08T11:36:37.435Z"
   },
   {
    "duration": 74,
    "start_time": "2022-02-08T11:36:37.504Z"
   },
   {
    "duration": 65,
    "start_time": "2022-02-08T11:36:37.580Z"
   },
   {
    "duration": 98,
    "start_time": "2022-02-08T11:36:37.647Z"
   },
   {
    "duration": 78,
    "start_time": "2022-02-08T11:36:37.747Z"
   },
   {
    "duration": 63,
    "start_time": "2022-02-08T11:36:37.829Z"
   },
   {
    "duration": 66,
    "start_time": "2022-02-08T11:36:37.895Z"
   },
   {
    "duration": 5,
    "start_time": "2022-02-08T11:36:37.964Z"
   },
   {
    "duration": 72,
    "start_time": "2022-02-08T11:36:37.972Z"
   },
   {
    "duration": 54,
    "start_time": "2022-02-08T11:36:38.046Z"
   },
   {
    "duration": 43,
    "start_time": "2022-02-08T11:36:38.103Z"
   },
   {
    "duration": 11,
    "start_time": "2022-02-08T11:36:38.148Z"
   },
   {
    "duration": 16,
    "start_time": "2022-02-08T11:36:38.162Z"
   },
   {
    "duration": 52,
    "start_time": "2022-02-08T11:36:38.180Z"
   },
   {
    "duration": 17,
    "start_time": "2022-02-08T11:36:38.235Z"
   },
   {
    "duration": 8,
    "start_time": "2022-02-08T11:36:38.254Z"
   },
   {
    "duration": 8,
    "start_time": "2022-02-08T11:36:38.264Z"
   },
   {
    "duration": 7,
    "start_time": "2022-02-08T11:36:38.274Z"
   },
   {
    "duration": 14,
    "start_time": "2022-02-08T11:36:38.324Z"
   },
   {
    "duration": 12,
    "start_time": "2022-02-08T11:36:38.340Z"
   },
   {
    "duration": 25,
    "start_time": "2022-02-08T11:36:38.358Z"
   },
   {
    "duration": 48,
    "start_time": "2022-02-08T11:36:38.387Z"
   },
   {
    "duration": 43,
    "start_time": "2022-02-08T11:36:38.437Z"
   },
   {
    "duration": 69,
    "start_time": "2022-02-08T11:36:38.482Z"
   },
   {
    "duration": 29,
    "start_time": "2022-02-08T11:36:38.554Z"
   },
   {
    "duration": 48,
    "start_time": "2022-02-08T11:36:38.585Z"
   },
   {
    "duration": 12,
    "start_time": "2022-02-08T11:36:38.636Z"
   },
   {
    "duration": 6,
    "start_time": "2022-02-08T11:36:38.650Z"
   },
   {
    "duration": 19,
    "start_time": "2022-02-08T11:36:38.658Z"
   },
   {
    "duration": 46,
    "start_time": "2022-02-08T11:36:38.679Z"
   },
   {
    "duration": 75,
    "start_time": "2022-02-08T11:36:38.727Z"
   },
   {
    "duration": 7,
    "start_time": "2022-02-08T11:36:38.823Z"
   },
   {
    "duration": 4,
    "start_time": "2022-02-08T11:36:38.833Z"
   },
   {
    "duration": 9,
    "start_time": "2022-02-08T11:36:38.839Z"
   },
   {
    "duration": 12,
    "start_time": "2022-02-08T11:36:38.851Z"
   },
   {
    "duration": 8,
    "start_time": "2022-02-08T11:36:38.865Z"
   },
   {
    "duration": 157,
    "start_time": "2022-02-08T11:36:38.875Z"
   },
   {
    "duration": 7,
    "start_time": "2022-02-08T11:36:39.035Z"
   },
   {
    "duration": 47,
    "start_time": "2022-02-08T11:36:39.045Z"
   },
   {
    "duration": 1644,
    "start_time": "2022-02-08T11:36:39.095Z"
   },
   {
    "duration": 136,
    "start_time": "2022-02-08T11:36:40.742Z"
   },
   {
    "duration": 62,
    "start_time": "2022-02-08T11:36:40.881Z"
   },
   {
    "duration": 6,
    "start_time": "2022-02-08T11:36:40.946Z"
   },
   {
    "duration": 13,
    "start_time": "2022-02-08T11:36:40.955Z"
   },
   {
    "duration": 6,
    "start_time": "2022-02-08T11:36:40.971Z"
   },
   {
    "duration": 45,
    "start_time": "2022-02-08T11:36:40.980Z"
   },
   {
    "duration": 1070,
    "start_time": "2022-02-08T11:36:41.028Z"
   },
   {
    "duration": 457,
    "start_time": "2022-02-08T11:36:42.102Z"
   },
   {
    "duration": 671,
    "start_time": "2022-02-08T11:36:42.561Z"
   },
   {
    "duration": 350,
    "start_time": "2022-02-08T11:36:43.234Z"
   },
   {
    "duration": 349,
    "start_time": "2022-02-08T11:36:43.587Z"
   },
   {
    "duration": 13,
    "start_time": "2022-02-08T11:36:43.939Z"
   },
   {
    "duration": 5,
    "start_time": "2022-02-08T11:36:43.955Z"
   },
   {
    "duration": 8,
    "start_time": "2022-02-08T11:36:43.962Z"
   },
   {
    "duration": 327,
    "start_time": "2022-02-08T11:36:43.972Z"
   },
   {
    "duration": 334,
    "start_time": "2022-02-08T11:36:44.301Z"
   },
   {
    "duration": 628,
    "start_time": "2022-02-08T11:36:44.637Z"
   },
   {
    "duration": 356,
    "start_time": "2022-02-08T11:36:45.267Z"
   },
   {
    "duration": 376,
    "start_time": "2022-02-08T11:36:45.625Z"
   },
   {
    "duration": 25,
    "start_time": "2022-02-08T11:36:46.004Z"
   },
   {
    "duration": 7,
    "start_time": "2022-02-08T11:36:46.032Z"
   },
   {
    "duration": 8,
    "start_time": "2022-02-08T11:36:46.042Z"
   },
   {
    "duration": 657,
    "start_time": "2022-02-08T11:36:46.053Z"
   },
   {
    "duration": 627,
    "start_time": "2022-02-08T11:36:46.714Z"
   },
   {
    "duration": 654,
    "start_time": "2022-02-08T11:36:47.344Z"
   },
   {
    "duration": 370,
    "start_time": "2022-02-08T11:36:48.004Z"
   },
   {
    "duration": 446,
    "start_time": "2022-02-08T11:36:48.377Z"
   },
   {
    "duration": 39,
    "start_time": "2022-02-08T11:36:48.825Z"
   },
   {
    "duration": 16,
    "start_time": "2022-02-08T11:36:48.866Z"
   },
   {
    "duration": 52,
    "start_time": "2022-02-08T11:36:48.884Z"
   },
   {
    "duration": 2422,
    "start_time": "2022-02-08T11:36:48.938Z"
   },
   {
    "duration": 40,
    "start_time": "2022-02-08T12:22:51.450Z"
   },
   {
    "duration": 37,
    "start_time": "2022-02-08T12:27:13.816Z"
   },
   {
    "duration": 40,
    "start_time": "2022-02-08T12:29:17.753Z"
   },
   {
    "duration": 36,
    "start_time": "2022-02-08T12:30:10.174Z"
   },
   {
    "duration": 481,
    "start_time": "2022-02-08T12:30:39.360Z"
   },
   {
    "duration": 55,
    "start_time": "2022-02-08T12:31:08.685Z"
   },
   {
    "duration": 41,
    "start_time": "2022-02-08T12:31:58.770Z"
   },
   {
    "duration": 39,
    "start_time": "2022-02-08T12:34:43.432Z"
   },
   {
    "duration": 9,
    "start_time": "2022-02-08T12:34:46.660Z"
   },
   {
    "duration": 29,
    "start_time": "2022-02-08T12:34:48.985Z"
   },
   {
    "duration": 2370,
    "start_time": "2022-02-08T12:34:52.147Z"
   },
   {
    "duration": 1490,
    "start_time": "2022-02-08T12:35:20.024Z"
   },
   {
    "duration": 1847,
    "start_time": "2022-02-08T12:35:21.516Z"
   },
   {
    "duration": 98,
    "start_time": "2022-02-08T12:35:23.367Z"
   },
   {
    "duration": 92,
    "start_time": "2022-02-08T12:35:23.469Z"
   },
   {
    "duration": 76,
    "start_time": "2022-02-08T12:35:23.564Z"
   },
   {
    "duration": 101,
    "start_time": "2022-02-08T12:35:23.644Z"
   },
   {
    "duration": 81,
    "start_time": "2022-02-08T12:35:23.747Z"
   },
   {
    "duration": 66,
    "start_time": "2022-02-08T12:35:23.830Z"
   },
   {
    "duration": 71,
    "start_time": "2022-02-08T12:35:23.900Z"
   },
   {
    "duration": 6,
    "start_time": "2022-02-08T12:35:23.975Z"
   },
   {
    "duration": 71,
    "start_time": "2022-02-08T12:35:23.984Z"
   },
   {
    "duration": 71,
    "start_time": "2022-02-08T12:35:24.057Z"
   },
   {
    "duration": 28,
    "start_time": "2022-02-08T12:35:24.131Z"
   },
   {
    "duration": 11,
    "start_time": "2022-02-08T12:35:24.161Z"
   },
   {
    "duration": 51,
    "start_time": "2022-02-08T12:35:24.175Z"
   },
   {
    "duration": 15,
    "start_time": "2022-02-08T12:35:24.228Z"
   },
   {
    "duration": 13,
    "start_time": "2022-02-08T12:35:24.246Z"
   },
   {
    "duration": 9,
    "start_time": "2022-02-08T12:35:24.261Z"
   },
   {
    "duration": 51,
    "start_time": "2022-02-08T12:35:24.272Z"
   },
   {
    "duration": 6,
    "start_time": "2022-02-08T12:35:24.326Z"
   },
   {
    "duration": 17,
    "start_time": "2022-02-08T12:35:24.335Z"
   },
   {
    "duration": 12,
    "start_time": "2022-02-08T12:35:24.355Z"
   },
   {
    "duration": 70,
    "start_time": "2022-02-08T12:35:24.370Z"
   },
   {
    "duration": 19,
    "start_time": "2022-02-08T12:35:24.443Z"
   },
   {
    "duration": 68,
    "start_time": "2022-02-08T12:35:24.464Z"
   },
   {
    "duration": 46,
    "start_time": "2022-02-08T12:35:24.535Z"
   },
   {
    "duration": 64,
    "start_time": "2022-02-08T12:35:24.591Z"
   },
   {
    "duration": 28,
    "start_time": "2022-02-08T12:35:24.660Z"
   },
   {
    "duration": 32,
    "start_time": "2022-02-08T12:35:24.691Z"
   },
   {
    "duration": 7,
    "start_time": "2022-02-08T12:35:24.726Z"
   },
   {
    "duration": 22,
    "start_time": "2022-02-08T12:35:24.736Z"
   },
   {
    "duration": 17,
    "start_time": "2022-02-08T12:35:24.761Z"
   },
   {
    "duration": 118,
    "start_time": "2022-02-08T12:35:24.780Z"
   },
   {
    "duration": 24,
    "start_time": "2022-02-08T12:35:24.901Z"
   },
   {
    "duration": 5,
    "start_time": "2022-02-08T12:35:24.927Z"
   },
   {
    "duration": 12,
    "start_time": "2022-02-08T12:35:24.935Z"
   },
   {
    "duration": 14,
    "start_time": "2022-02-08T12:35:24.949Z"
   },
   {
    "duration": 8,
    "start_time": "2022-02-08T12:35:24.965Z"
   },
   {
    "duration": 168,
    "start_time": "2022-02-08T12:35:24.976Z"
   },
   {
    "duration": 8,
    "start_time": "2022-02-08T12:35:25.146Z"
   },
   {
    "duration": 67,
    "start_time": "2022-02-08T12:35:25.156Z"
   },
   {
    "duration": 1572,
    "start_time": "2022-02-08T12:35:25.226Z"
   },
   {
    "duration": 128,
    "start_time": "2022-02-08T12:35:26.800Z"
   },
   {
    "duration": 53,
    "start_time": "2022-02-08T12:35:26.930Z"
   },
   {
    "duration": 7,
    "start_time": "2022-02-08T12:35:26.986Z"
   },
   {
    "duration": 42,
    "start_time": "2022-02-08T12:35:26.996Z"
   },
   {
    "duration": 6,
    "start_time": "2022-02-08T12:35:27.042Z"
   },
   {
    "duration": 7,
    "start_time": "2022-02-08T12:35:27.050Z"
   },
   {
    "duration": 511,
    "start_time": "2022-02-08T12:35:27.059Z"
   },
   {
    "duration": 339,
    "start_time": "2022-02-08T12:35:27.572Z"
   },
   {
    "duration": 688,
    "start_time": "2022-02-08T12:35:27.913Z"
   },
   {
    "duration": 378,
    "start_time": "2022-02-08T12:35:28.603Z"
   },
   {
    "duration": 552,
    "start_time": "2022-02-08T12:35:28.984Z"
   },
   {
    "duration": 16,
    "start_time": "2022-02-08T12:35:29.540Z"
   },
   {
    "duration": 6,
    "start_time": "2022-02-08T12:35:29.559Z"
   },
   {
    "duration": 7,
    "start_time": "2022-02-08T12:35:29.568Z"
   },
   {
    "duration": 474,
    "start_time": "2022-02-08T12:35:29.577Z"
   },
   {
    "duration": 417,
    "start_time": "2022-02-08T12:35:30.053Z"
   },
   {
    "duration": 677,
    "start_time": "2022-02-08T12:35:30.473Z"
   },
   {
    "duration": 373,
    "start_time": "2022-02-08T12:35:31.153Z"
   },
   {
    "duration": 379,
    "start_time": "2022-02-08T12:35:31.529Z"
   },
   {
    "duration": 19,
    "start_time": "2022-02-08T12:35:31.911Z"
   },
   {
    "duration": 5,
    "start_time": "2022-02-08T12:35:31.934Z"
   },
   {
    "duration": 13,
    "start_time": "2022-02-08T12:35:31.941Z"
   },
   {
    "duration": 679,
    "start_time": "2022-02-08T12:35:31.957Z"
   },
   {
    "duration": 755,
    "start_time": "2022-02-08T12:35:32.639Z"
   },
   {
    "duration": 692,
    "start_time": "2022-02-08T12:35:33.396Z"
   },
   {
    "duration": 362,
    "start_time": "2022-02-08T12:35:34.090Z"
   },
   {
    "duration": 461,
    "start_time": "2022-02-08T12:35:34.455Z"
   },
   {
    "duration": 40,
    "start_time": "2022-02-08T12:35:34.923Z"
   },
   {
    "duration": 9,
    "start_time": "2022-02-08T12:35:34.965Z"
   },
   {
    "duration": 56,
    "start_time": "2022-02-08T12:35:34.976Z"
   },
   {
    "duration": 2288,
    "start_time": "2022-02-08T12:35:35.035Z"
   },
   {
    "duration": 17,
    "start_time": "2022-02-08T12:57:45.487Z"
   },
   {
    "duration": 17,
    "start_time": "2022-02-08T12:58:38.054Z"
   },
   {
    "duration": 328,
    "start_time": "2022-02-08T13:00:15.681Z"
   },
   {
    "duration": 7023,
    "start_time": "2022-02-08T13:11:22.270Z"
   },
   {
    "duration": 344,
    "start_time": "2022-02-08T13:14:15.315Z"
   },
   {
    "duration": 350,
    "start_time": "2022-02-08T13:14:46.500Z"
   },
   {
    "duration": 30,
    "start_time": "2022-02-08T13:16:45.459Z"
   },
   {
    "duration": 20,
    "start_time": "2022-02-08T13:21:31.674Z"
   },
   {
    "duration": 1763,
    "start_time": "2022-02-08T13:23:58.945Z"
   },
   {
    "duration": 1762,
    "start_time": "2022-02-08T13:24:00.711Z"
   },
   {
    "duration": 68,
    "start_time": "2022-02-08T13:24:02.477Z"
   },
   {
    "duration": 80,
    "start_time": "2022-02-08T13:24:02.548Z"
   },
   {
    "duration": 44,
    "start_time": "2022-02-08T13:24:02.630Z"
   },
   {
    "duration": 102,
    "start_time": "2022-02-08T13:24:02.676Z"
   },
   {
    "duration": 74,
    "start_time": "2022-02-08T13:24:02.781Z"
   },
   {
    "duration": 89,
    "start_time": "2022-02-08T13:24:02.857Z"
   },
   {
    "duration": 51,
    "start_time": "2022-02-08T13:24:02.951Z"
   },
   {
    "duration": 21,
    "start_time": "2022-02-08T13:24:03.005Z"
   },
   {
    "duration": 64,
    "start_time": "2022-02-08T13:24:03.028Z"
   },
   {
    "duration": 70,
    "start_time": "2022-02-08T13:24:03.095Z"
   },
   {
    "duration": 29,
    "start_time": "2022-02-08T13:24:03.167Z"
   },
   {
    "duration": 27,
    "start_time": "2022-02-08T13:24:03.199Z"
   },
   {
    "duration": 28,
    "start_time": "2022-02-08T13:24:03.229Z"
   },
   {
    "duration": 21,
    "start_time": "2022-02-08T13:24:03.259Z"
   },
   {
    "duration": 45,
    "start_time": "2022-02-08T13:24:03.283Z"
   },
   {
    "duration": 9,
    "start_time": "2022-02-08T13:24:03.331Z"
   },
   {
    "duration": 6,
    "start_time": "2022-02-08T13:24:03.342Z"
   },
   {
    "duration": 9,
    "start_time": "2022-02-08T13:24:03.350Z"
   },
   {
    "duration": 15,
    "start_time": "2022-02-08T13:24:03.361Z"
   },
   {
    "duration": 53,
    "start_time": "2022-02-08T13:24:03.379Z"
   },
   {
    "duration": 28,
    "start_time": "2022-02-08T13:24:03.434Z"
   },
   {
    "duration": 18,
    "start_time": "2022-02-08T13:24:03.465Z"
   },
   {
    "duration": 69,
    "start_time": "2022-02-08T13:24:03.486Z"
   },
   {
    "duration": 38,
    "start_time": "2022-02-08T13:24:03.558Z"
   },
   {
    "duration": 28,
    "start_time": "2022-02-08T13:24:03.622Z"
   },
   {
    "duration": 27,
    "start_time": "2022-02-08T13:24:03.654Z"
   },
   {
    "duration": 10,
    "start_time": "2022-02-08T13:24:03.684Z"
   },
   {
    "duration": 31,
    "start_time": "2022-02-08T13:24:03.696Z"
   },
   {
    "duration": 20,
    "start_time": "2022-02-08T13:24:03.729Z"
   },
   {
    "duration": 18,
    "start_time": "2022-02-08T13:24:03.751Z"
   },
   {
    "duration": 119,
    "start_time": "2022-02-08T13:24:03.773Z"
   },
   {
    "duration": 30,
    "start_time": "2022-02-08T13:24:03.895Z"
   },
   {
    "duration": 7,
    "start_time": "2022-02-08T13:24:03.927Z"
   },
   {
    "duration": 12,
    "start_time": "2022-02-08T13:24:03.937Z"
   },
   {
    "duration": 13,
    "start_time": "2022-02-08T13:24:03.952Z"
   },
   {
    "duration": 9,
    "start_time": "2022-02-08T13:24:03.967Z"
   },
   {
    "duration": 160,
    "start_time": "2022-02-08T13:24:03.978Z"
   },
   {
    "duration": 8,
    "start_time": "2022-02-08T13:24:04.141Z"
   },
   {
    "duration": 49,
    "start_time": "2022-02-08T13:24:04.152Z"
   },
   {
    "duration": 1514,
    "start_time": "2022-02-08T13:24:04.224Z"
   },
   {
    "duration": 141,
    "start_time": "2022-02-08T13:24:05.741Z"
   },
   {
    "duration": 66,
    "start_time": "2022-02-08T13:24:05.885Z"
   },
   {
    "duration": 5,
    "start_time": "2022-02-08T13:24:05.954Z"
   },
   {
    "duration": 15,
    "start_time": "2022-02-08T13:24:05.961Z"
   },
   {
    "duration": 8,
    "start_time": "2022-02-08T13:24:05.978Z"
   },
   {
    "duration": 6,
    "start_time": "2022-02-08T13:24:05.989Z"
   },
   {
    "duration": 581,
    "start_time": "2022-02-08T13:24:06.024Z"
   },
   {
    "duration": 407,
    "start_time": "2022-02-08T13:24:06.607Z"
   },
   {
    "duration": 689,
    "start_time": "2022-02-08T13:24:07.016Z"
   },
   {
    "duration": 350,
    "start_time": "2022-02-08T13:24:07.707Z"
   },
   {
    "duration": 374,
    "start_time": "2022-02-08T13:24:08.060Z"
   },
   {
    "duration": 13,
    "start_time": "2022-02-08T13:24:08.437Z"
   },
   {
    "duration": 6,
    "start_time": "2022-02-08T13:24:08.452Z"
   },
   {
    "duration": 7,
    "start_time": "2022-02-08T13:24:08.461Z"
   },
   {
    "duration": 349,
    "start_time": "2022-02-08T13:24:08.470Z"
   },
   {
    "duration": 347,
    "start_time": "2022-02-08T13:24:08.821Z"
   },
   {
    "duration": 673,
    "start_time": "2022-02-08T13:24:09.170Z"
   },
   {
    "duration": 365,
    "start_time": "2022-02-08T13:24:09.846Z"
   },
   {
    "duration": 355,
    "start_time": "2022-02-08T13:24:10.214Z"
   },
   {
    "duration": 11,
    "start_time": "2022-02-08T13:24:10.571Z"
   },
   {
    "duration": 12,
    "start_time": "2022-02-08T13:24:10.584Z"
   },
   {
    "duration": 27,
    "start_time": "2022-02-08T13:24:10.598Z"
   },
   {
    "duration": 632,
    "start_time": "2022-02-08T13:24:10.628Z"
   },
   {
    "duration": 655,
    "start_time": "2022-02-08T13:24:11.263Z"
   },
   {
    "duration": 666,
    "start_time": "2022-02-08T13:24:11.920Z"
   },
   {
    "duration": 355,
    "start_time": "2022-02-08T13:24:12.588Z"
   },
   {
    "duration": 451,
    "start_time": "2022-02-08T13:24:12.946Z"
   },
   {
    "duration": 54,
    "start_time": "2022-02-08T13:24:13.400Z"
   },
   {
    "duration": 11,
    "start_time": "2022-02-08T13:24:13.457Z"
   },
   {
    "duration": 63,
    "start_time": "2022-02-08T13:24:13.470Z"
   },
   {
    "duration": 2323,
    "start_time": "2022-02-08T13:24:13.536Z"
   },
   {
    "duration": 16,
    "start_time": "2022-02-08T13:24:15.862Z"
   },
   {
    "duration": 44,
    "start_time": "2022-02-08T13:24:15.881Z"
   },
   {
    "duration": 325,
    "start_time": "2022-02-08T16:55:07.482Z"
   },
   {
    "duration": 1133,
    "start_time": "2022-02-08T16:55:19.853Z"
   },
   {
    "duration": 1068,
    "start_time": "2022-02-08T16:55:20.988Z"
   },
   {
    "duration": 44,
    "start_time": "2022-02-08T16:55:22.058Z"
   },
   {
    "duration": 142,
    "start_time": "2022-02-08T16:55:22.104Z"
   },
   {
    "duration": 87,
    "start_time": "2022-02-08T16:55:22.248Z"
   },
   {
    "duration": 77,
    "start_time": "2022-02-08T16:55:22.337Z"
   },
   {
    "duration": 92,
    "start_time": "2022-02-08T16:55:22.416Z"
   },
   {
    "duration": 249,
    "start_time": "2022-02-08T16:55:22.511Z"
   },
   {
    "duration": 272,
    "start_time": "2022-02-08T16:55:22.762Z"
   },
   {
    "duration": 61,
    "start_time": "2022-02-08T16:55:23.036Z"
   },
   {
    "duration": 192,
    "start_time": "2022-02-08T16:55:23.099Z"
   },
   {
    "duration": 188,
    "start_time": "2022-02-08T16:55:23.292Z"
   },
   {
    "duration": 105,
    "start_time": "2022-02-08T16:55:23.481Z"
   },
   {
    "duration": 144,
    "start_time": "2022-02-08T16:55:23.588Z"
   },
   {
    "duration": 181,
    "start_time": "2022-02-08T16:55:23.733Z"
   },
   {
    "duration": 165,
    "start_time": "2022-02-08T16:55:23.916Z"
   },
   {
    "duration": 198,
    "start_time": "2022-02-08T16:55:24.083Z"
   },
   {
    "duration": 180,
    "start_time": "2022-02-08T16:55:24.282Z"
   },
   {
    "duration": 196,
    "start_time": "2022-02-08T16:55:24.463Z"
   },
   {
    "duration": 157,
    "start_time": "2022-02-08T16:55:24.660Z"
   },
   {
    "duration": 179,
    "start_time": "2022-02-08T16:55:24.818Z"
   },
   {
    "duration": 179,
    "start_time": "2022-02-08T16:55:24.999Z"
   },
   {
    "duration": 191,
    "start_time": "2022-02-08T16:55:25.182Z"
   },
   {
    "duration": 149,
    "start_time": "2022-02-08T16:55:25.376Z"
   },
   {
    "duration": 180,
    "start_time": "2022-02-08T16:55:25.527Z"
   },
   {
    "duration": 202,
    "start_time": "2022-02-08T16:55:25.709Z"
   },
   {
    "duration": 216,
    "start_time": "2022-02-08T16:55:25.912Z"
   },
   {
    "duration": 270,
    "start_time": "2022-02-08T16:55:26.129Z"
   },
   {
    "duration": 292,
    "start_time": "2022-02-08T16:55:26.400Z"
   },
   {
    "duration": 157,
    "start_time": "2022-02-08T16:55:26.693Z"
   },
   {
    "duration": 149,
    "start_time": "2022-02-08T16:55:26.852Z"
   },
   {
    "duration": 183,
    "start_time": "2022-02-08T16:55:27.002Z"
   },
   {
    "duration": 374,
    "start_time": "2022-02-08T16:55:27.187Z"
   },
   {
    "duration": 276,
    "start_time": "2022-02-08T16:55:27.563Z"
   },
   {
    "duration": 107,
    "start_time": "2022-02-08T16:55:27.840Z"
   },
   {
    "duration": 86,
    "start_time": "2022-02-08T16:55:27.949Z"
   },
   {
    "duration": 123,
    "start_time": "2022-02-08T16:55:28.037Z"
   },
   {
    "duration": 114,
    "start_time": "2022-02-08T16:55:28.162Z"
   },
   {
    "duration": 279,
    "start_time": "2022-02-08T16:55:28.277Z"
   },
   {
    "duration": 124,
    "start_time": "2022-02-08T16:55:28.558Z"
   },
   {
    "duration": 278,
    "start_time": "2022-02-08T16:55:28.684Z"
   },
   {
    "duration": 970,
    "start_time": "2022-02-08T16:55:28.964Z"
   },
   {
    "duration": 97,
    "start_time": "2022-02-08T16:55:29.936Z"
   },
   {
    "duration": 365,
    "start_time": "2022-02-08T16:55:30.035Z"
   },
   {
    "duration": 155,
    "start_time": "2022-02-08T16:55:30.401Z"
   },
   {
    "duration": 147,
    "start_time": "2022-02-08T16:55:30.558Z"
   },
   {
    "duration": 195,
    "start_time": "2022-02-08T16:55:30.707Z"
   },
   {
    "duration": 133,
    "start_time": "2022-02-08T16:55:30.904Z"
   },
   {
    "duration": 875,
    "start_time": "2022-02-08T16:55:31.039Z"
   },
   {
    "duration": 328,
    "start_time": "2022-02-08T16:55:31.916Z"
   },
   {
    "duration": 378,
    "start_time": "2022-02-08T16:55:32.246Z"
   },
   {
    "duration": 201,
    "start_time": "2022-02-08T16:55:32.625Z"
   },
   {
    "duration": 199,
    "start_time": "2022-02-08T16:55:32.827Z"
   },
   {
    "duration": 7,
    "start_time": "2022-02-08T16:55:33.027Z"
   },
   {
    "duration": 107,
    "start_time": "2022-02-08T16:55:33.035Z"
   },
   {
    "duration": 83,
    "start_time": "2022-02-08T16:55:33.144Z"
   },
   {
    "duration": 464,
    "start_time": "2022-02-08T16:55:33.228Z"
   },
   {
    "duration": 372,
    "start_time": "2022-02-08T16:55:33.694Z"
   },
   {
    "duration": 329,
    "start_time": "2022-02-08T16:55:34.068Z"
   },
   {
    "duration": 208,
    "start_time": "2022-02-08T16:55:34.398Z"
   },
   {
    "duration": 230,
    "start_time": "2022-02-08T16:55:34.608Z"
   },
   {
    "duration": 102,
    "start_time": "2022-02-08T16:55:34.840Z"
   },
   {
    "duration": 393,
    "start_time": "2022-02-08T16:55:34.944Z"
   },
   {
    "duration": 268,
    "start_time": "2022-02-08T16:55:35.339Z"
   },
   {
    "duration": 821,
    "start_time": "2022-02-08T16:55:35.609Z"
   },
   {
    "duration": 777,
    "start_time": "2022-02-08T16:55:36.432Z"
   },
   {
    "duration": 377,
    "start_time": "2022-02-08T16:55:37.211Z"
   },
   {
    "duration": 206,
    "start_time": "2022-02-08T16:55:37.594Z"
   },
   {
    "duration": 284,
    "start_time": "2022-02-08T16:55:37.803Z"
   },
   {
    "duration": 23,
    "start_time": "2022-02-08T16:55:38.088Z"
   },
   {
    "duration": 178,
    "start_time": "2022-02-08T16:55:38.112Z"
   },
   {
    "duration": 231,
    "start_time": "2022-02-08T16:55:38.292Z"
   },
   {
    "duration": 1613,
    "start_time": "2022-02-08T16:55:38.525Z"
   },
   {
    "duration": 11,
    "start_time": "2022-02-08T16:55:40.140Z"
   },
   {
    "duration": 411,
    "start_time": "2022-02-08T16:55:40.153Z"
   },
   {
    "duration": 128,
    "start_time": "2022-02-08T17:02:43.580Z"
   },
   {
    "duration": 13,
    "start_time": "2022-02-08T17:21:46.985Z"
   },
   {
    "duration": 13,
    "start_time": "2022-02-08T17:22:46.739Z"
   },
   {
    "duration": 13,
    "start_time": "2022-02-08T17:23:01.293Z"
   },
   {
    "duration": 12,
    "start_time": "2022-02-08T17:23:17.082Z"
   },
   {
    "duration": 15,
    "start_time": "2022-02-08T17:23:43.591Z"
   },
   {
    "duration": 13,
    "start_time": "2022-02-08T17:31:08.443Z"
   },
   {
    "duration": 13,
    "start_time": "2022-02-08T17:33:36.013Z"
   },
   {
    "duration": 14,
    "start_time": "2022-02-08T17:33:58.223Z"
   },
   {
    "duration": 19,
    "start_time": "2022-02-08T17:34:06.372Z"
   },
   {
    "duration": 13,
    "start_time": "2022-02-08T17:35:33.214Z"
   },
   {
    "duration": 12,
    "start_time": "2022-02-08T17:36:20.661Z"
   },
   {
    "duration": 20,
    "start_time": "2022-02-08T17:36:27.268Z"
   },
   {
    "duration": 1247,
    "start_time": "2022-02-08T17:36:58.208Z"
   },
   {
    "duration": 4219,
    "start_time": "2022-02-08T17:36:59.456Z"
   },
   {
    "duration": 2295,
    "start_time": "2022-02-08T17:37:03.677Z"
   },
   {
    "duration": 3520,
    "start_time": "2022-02-08T17:37:05.974Z"
   },
   {
    "duration": 4482,
    "start_time": "2022-02-08T17:37:09.495Z"
   },
   {
    "duration": 3445,
    "start_time": "2022-02-08T17:37:13.979Z"
   },
   {
    "duration": 2270,
    "start_time": "2022-02-08T17:37:17.425Z"
   },
   {
    "duration": 3002,
    "start_time": "2022-02-08T17:37:19.696Z"
   },
   {
    "duration": 1217,
    "start_time": "2022-02-08T17:37:33.689Z"
   },
   {
    "duration": 1240,
    "start_time": "2022-02-08T17:37:34.908Z"
   },
   {
    "duration": 167,
    "start_time": "2022-02-08T17:37:36.150Z"
   },
   {
    "duration": 1920,
    "start_time": "2022-02-08T17:37:36.319Z"
   },
   {
    "duration": 904,
    "start_time": "2022-02-08T17:37:38.240Z"
   },
   {
    "duration": 3726,
    "start_time": "2022-02-08T17:37:39.146Z"
   },
   {
    "duration": 1348,
    "start_time": "2022-02-08T17:37:42.874Z"
   },
   {
    "duration": 1497,
    "start_time": "2022-02-08T17:37:44.224Z"
   },
   {
    "duration": 867,
    "start_time": "2022-02-08T17:37:45.723Z"
   },
   {
    "duration": 1285,
    "start_time": "2022-02-08T17:37:46.592Z"
   },
   {
    "duration": 1602,
    "start_time": "2022-02-08T17:37:47.879Z"
   },
   {
    "duration": 1174,
    "start_time": "2022-02-08T17:37:49.483Z"
   },
   {
    "duration": 1430,
    "start_time": "2022-02-08T17:37:50.659Z"
   },
   {
    "duration": 624,
    "start_time": "2022-02-08T17:37:52.091Z"
   },
   {
    "duration": 1172,
    "start_time": "2022-02-08T17:37:52.717Z"
   },
   {
    "duration": 1369,
    "start_time": "2022-02-08T17:37:53.890Z"
   },
   {
    "duration": 1654,
    "start_time": "2022-02-08T17:37:55.261Z"
   },
   {
    "duration": 1559,
    "start_time": "2022-02-08T17:37:56.917Z"
   },
   {
    "duration": 1358,
    "start_time": "2022-02-08T17:37:58.479Z"
   },
   {
    "duration": 864,
    "start_time": "2022-02-08T17:37:59.839Z"
   },
   {
    "duration": 1391,
    "start_time": "2022-02-08T17:38:00.705Z"
   },
   {
    "duration": 1265,
    "start_time": "2022-02-08T17:38:02.097Z"
   },
   {
    "duration": 2807,
    "start_time": "2022-02-08T17:38:03.366Z"
   },
   {
    "duration": 1621,
    "start_time": "2022-02-08T17:38:06.175Z"
   },
   {
    "duration": 2121,
    "start_time": "2022-02-08T17:38:07.798Z"
   },
   {
    "duration": 1094,
    "start_time": "2022-02-08T17:38:09.921Z"
   },
   {
    "duration": 1658,
    "start_time": "2022-02-08T17:38:11.017Z"
   },
   {
    "duration": 2072,
    "start_time": "2022-02-08T17:38:12.677Z"
   },
   {
    "duration": 4676,
    "start_time": "2022-02-08T17:38:14.751Z"
   },
   {
    "duration": 1029,
    "start_time": "2022-02-08T17:38:19.429Z"
   },
   {
    "duration": 3489,
    "start_time": "2022-02-08T17:38:20.460Z"
   },
   {
    "duration": 2493,
    "start_time": "2022-02-08T17:38:23.951Z"
   },
   {
    "duration": 3276,
    "start_time": "2022-02-08T17:38:26.445Z"
   },
   {
    "duration": 3284,
    "start_time": "2022-02-08T17:38:29.723Z"
   },
   {
    "duration": 2267,
    "start_time": "2022-02-08T17:38:33.009Z"
   },
   {
    "duration": 2667,
    "start_time": "2022-02-08T17:38:35.277Z"
   },
   {
    "duration": 4760,
    "start_time": "2022-02-08T17:38:37.946Z"
   },
   {
    "duration": 1618,
    "start_time": "2022-02-08T17:38:42.707Z"
   },
   {
    "duration": 3321,
    "start_time": "2022-02-08T17:38:44.326Z"
   },
   {
    "duration": 1679,
    "start_time": "2022-02-08T17:38:47.648Z"
   },
   {
    "duration": 1932,
    "start_time": "2022-02-08T17:38:49.328Z"
   },
   {
    "duration": 4188,
    "start_time": "2022-02-08T17:38:51.261Z"
   },
   {
    "duration": 4945,
    "start_time": "2022-02-08T17:38:55.451Z"
   },
   {
    "duration": 7965,
    "start_time": "2022-02-08T17:39:00.399Z"
   },
   {
    "duration": 8220,
    "start_time": "2022-02-08T17:39:08.366Z"
   },
   {
    "duration": 3031,
    "start_time": "2022-02-08T17:39:16.588Z"
   },
   {
    "duration": 3048,
    "start_time": "2022-02-08T17:39:19.621Z"
   },
   {
    "duration": 2526,
    "start_time": "2022-02-08T17:39:22.670Z"
   },
   {
    "duration": 7469,
    "start_time": "2022-02-08T17:39:25.198Z"
   },
   {
    "duration": 2871,
    "start_time": "2022-02-08T17:39:32.669Z"
   },
   {
    "duration": 5115,
    "start_time": "2022-02-08T17:39:35.541Z"
   },
   {
    "duration": 3295,
    "start_time": "2022-02-08T17:39:40.658Z"
   },
   {
    "duration": 4783,
    "start_time": "2022-02-08T17:39:43.955Z"
   },
   {
    "duration": 3439,
    "start_time": "2022-02-08T17:39:48.740Z"
   },
   {
    "duration": 4184,
    "start_time": "2022-02-08T17:39:52.181Z"
   },
   {
    "duration": 5198,
    "start_time": "2022-02-08T17:39:56.367Z"
   },
   {
    "duration": 7419,
    "start_time": "2022-02-08T17:40:01.567Z"
   },
   {
    "duration": 4375,
    "start_time": "2022-02-08T17:40:08.987Z"
   },
   {
    "duration": 5703,
    "start_time": "2022-02-08T17:40:13.364Z"
   },
   {
    "duration": 6795,
    "start_time": "2022-02-08T17:40:19.068Z"
   },
   {
    "duration": 3663,
    "start_time": "2022-02-08T17:40:25.865Z"
   },
   {
    "duration": 3317,
    "start_time": "2022-02-08T17:40:29.529Z"
   },
   {
    "duration": 4896,
    "start_time": "2022-02-08T17:40:32.848Z"
   },
   {
    "duration": 6341,
    "start_time": "2022-02-08T17:40:37.746Z"
   },
   {
    "duration": 4274,
    "start_time": "2022-02-08T17:40:44.088Z"
   },
   {
    "duration": 3391,
    "start_time": "2022-02-08T17:40:48.364Z"
   },
   {
    "duration": 8153,
    "start_time": "2022-02-08T17:40:51.757Z"
   },
   {
    "duration": 3346,
    "start_time": "2022-02-08T17:40:59.916Z"
   },
   {
    "duration": 2925,
    "start_time": "2022-02-08T17:41:03.264Z"
   },
   {
    "duration": 3513,
    "start_time": "2022-02-08T17:41:06.190Z"
   },
   {
    "duration": 6970,
    "start_time": "2022-02-08T17:41:09.704Z"
   },
   {
    "duration": 5156,
    "start_time": "2022-02-08T17:41:16.675Z"
   },
   {
    "duration": 7382,
    "start_time": "2022-02-08T17:41:21.832Z"
   },
   {
    "duration": 5259,
    "start_time": "2022-02-08T17:41:29.215Z"
   },
   {
    "duration": 2674,
    "start_time": "2022-02-08T17:41:34.476Z"
   },
   {
    "duration": 2380,
    "start_time": "2022-02-08T17:44:49.993Z"
   },
   {
    "duration": 883,
    "start_time": "2022-02-08T17:44:52.376Z"
   },
   {
    "duration": 622,
    "start_time": "2022-02-08T17:44:53.261Z"
   },
   {
    "duration": 888,
    "start_time": "2022-02-08T17:44:53.885Z"
   },
   {
    "duration": 1790,
    "start_time": "2022-02-08T17:44:54.775Z"
   },
   {
    "duration": 888,
    "start_time": "2022-02-08T17:44:56.566Z"
   },
   {
    "duration": 1172,
    "start_time": "2022-02-08T17:44:57.456Z"
   },
   {
    "duration": 1375,
    "start_time": "2022-02-08T17:44:58.631Z"
   },
   {
    "duration": 1347,
    "start_time": "2022-02-08T17:45:00.008Z"
   },
   {
    "duration": 1131,
    "start_time": "2022-02-08T17:45:01.356Z"
   },
   {
    "duration": 1596,
    "start_time": "2022-02-08T17:45:02.488Z"
   },
   {
    "duration": 989,
    "start_time": "2022-02-08T17:45:04.086Z"
   },
   {
    "duration": 1359,
    "start_time": "2022-02-08T17:45:05.077Z"
   },
   {
    "duration": 464,
    "start_time": "2022-02-08T17:45:06.438Z"
   },
   {
    "duration": 5129,
    "start_time": "2022-02-08T17:45:06.903Z"
   },
   {
    "duration": 1683,
    "start_time": "2022-02-08T17:45:12.034Z"
   },
   {
    "duration": 1372,
    "start_time": "2022-02-08T17:45:13.719Z"
   },
   {
    "duration": 1027,
    "start_time": "2022-02-08T17:45:15.092Z"
   },
   {
    "duration": 512,
    "start_time": "2022-02-08T17:45:16.120Z"
   },
   {
    "duration": 744,
    "start_time": "2022-02-08T17:45:16.634Z"
   },
   {
    "duration": 2414,
    "start_time": "2022-02-08T17:45:17.379Z"
   },
   {
    "duration": 530,
    "start_time": "2022-02-08T17:45:19.795Z"
   },
   {
    "duration": 835,
    "start_time": "2022-02-08T17:45:20.329Z"
   },
   {
    "duration": 10495,
    "start_time": "2022-02-08T17:45:21.167Z"
   },
   {
    "duration": 2105,
    "start_time": "2022-02-08T17:45:31.664Z"
   },
   {
    "duration": 1159,
    "start_time": "2022-02-08T17:45:33.771Z"
   },
   {
    "duration": 2289,
    "start_time": "2022-02-08T17:45:34.932Z"
   },
   {
    "duration": 763,
    "start_time": "2022-02-08T17:45:37.222Z"
   },
   {
    "duration": 637,
    "start_time": "2022-02-08T17:45:37.987Z"
   },
   {
    "duration": 602,
    "start_time": "2022-02-08T17:45:38.625Z"
   },
   {
    "duration": 449,
    "start_time": "2022-02-08T17:45:39.228Z"
   },
   {
    "duration": 629,
    "start_time": "2022-02-08T17:45:39.679Z"
   },
   {
    "duration": 665,
    "start_time": "2022-02-08T17:45:40.309Z"
   },
   {
    "duration": 710,
    "start_time": "2022-02-08T17:45:40.976Z"
   },
   {
    "duration": 712,
    "start_time": "2022-02-08T17:45:41.688Z"
   },
   {
    "duration": 728,
    "start_time": "2022-02-08T17:45:42.402Z"
   },
   {
    "duration": 721,
    "start_time": "2022-02-08T17:45:43.131Z"
   },
   {
    "duration": 647,
    "start_time": "2022-02-08T17:45:43.853Z"
   },
   {
    "duration": 927,
    "start_time": "2022-02-08T17:45:44.502Z"
   },
   {
    "duration": 143,
    "start_time": "2022-02-08T17:45:45.431Z"
   },
   {
    "duration": 360,
    "start_time": "2022-02-08T17:45:45.575Z"
   },
   {
    "duration": 1807,
    "start_time": "2022-02-08T17:45:45.937Z"
   },
   {
    "duration": 523,
    "start_time": "2022-02-08T17:45:47.746Z"
   },
   {
    "duration": 469,
    "start_time": "2022-02-08T17:45:48.271Z"
   },
   {
    "duration": 1275,
    "start_time": "2022-02-08T17:45:48.741Z"
   },
   {
    "duration": 789,
    "start_time": "2022-02-08T17:45:50.017Z"
   },
   {
    "duration": 925,
    "start_time": "2022-02-08T17:45:50.808Z"
   },
   {
    "duration": 522,
    "start_time": "2022-02-08T17:45:51.735Z"
   },
   {
    "duration": 845,
    "start_time": "2022-02-08T17:45:52.259Z"
   },
   {
    "duration": 331,
    "start_time": "2022-02-08T17:45:53.106Z"
   },
   {
    "duration": 395,
    "start_time": "2022-02-08T17:45:53.439Z"
   },
   {
    "duration": 221,
    "start_time": "2022-02-08T17:45:53.837Z"
   },
   {
    "duration": 203,
    "start_time": "2022-02-08T17:45:54.060Z"
   },
   {
    "duration": 565,
    "start_time": "2022-02-08T17:45:54.271Z"
   },
   {
    "duration": 1829,
    "start_time": "2022-02-08T17:45:54.838Z"
   },
   {
    "duration": 2099,
    "start_time": "2022-02-08T17:45:56.669Z"
   },
   {
    "duration": 1077,
    "start_time": "2022-02-08T17:45:58.770Z"
   },
   {
    "duration": 880,
    "start_time": "2022-02-08T17:45:59.849Z"
   },
   {
    "duration": 885,
    "start_time": "2022-02-08T17:46:00.731Z"
   },
   {
    "duration": 503,
    "start_time": "2022-02-08T17:46:01.617Z"
   },
   {
    "duration": 779,
    "start_time": "2022-02-08T17:46:02.121Z"
   },
   {
    "duration": 697,
    "start_time": "2022-02-08T17:46:02.902Z"
   },
   {
    "duration": 713,
    "start_time": "2022-02-08T17:46:03.600Z"
   },
   {
    "duration": 951,
    "start_time": "2022-02-08T17:46:04.314Z"
   },
   {
    "duration": 1878,
    "start_time": "2022-02-08T17:46:05.267Z"
   },
   {
    "duration": 1616,
    "start_time": "2022-02-08T17:46:07.147Z"
   },
   {
    "duration": 361,
    "start_time": "2022-02-08T17:46:08.764Z"
   },
   {
    "duration": 807,
    "start_time": "2022-02-08T17:46:09.129Z"
   },
   {
    "duration": 408,
    "start_time": "2022-02-08T17:46:09.938Z"
   },
   {
    "duration": 347,
    "start_time": "2022-02-08T17:46:10.348Z"
   },
   {
    "duration": 470,
    "start_time": "2022-02-08T17:46:10.696Z"
   },
   {
    "duration": 502,
    "start_time": "2022-02-08T17:46:11.167Z"
   },
   {
    "duration": 2030,
    "start_time": "2022-02-08T17:46:11.671Z"
   },
   {
    "duration": 13,
    "start_time": "2022-02-08T17:46:13.702Z"
   },
   {
    "duration": 699,
    "start_time": "2022-02-08T17:46:13.717Z"
   },
   {
    "duration": 107,
    "start_time": "2022-02-08T17:48:30.205Z"
   },
   {
    "duration": 304,
    "start_time": "2022-02-08T17:48:45.225Z"
   },
   {
    "duration": 9,
    "start_time": "2022-02-08T17:51:06.860Z"
   },
   {
    "duration": 10,
    "start_time": "2022-02-08T17:51:54.050Z"
   },
   {
    "duration": 298,
    "start_time": "2022-02-08T17:52:52.217Z"
   },
   {
    "duration": 7606,
    "start_time": "2022-02-08T17:53:52.427Z"
   },
   {
    "duration": 24,
    "start_time": "2022-02-08T17:54:34.000Z"
   },
   {
    "duration": 14,
    "start_time": "2022-02-08T18:20:46.506Z"
   },
   {
    "duration": 16238,
    "start_time": "2022-02-08T18:20:54.025Z"
   },
   {
    "duration": 105,
    "start_time": "2022-02-08T18:21:11.239Z"
   },
   {
    "duration": 12,
    "start_time": "2022-02-08T18:23:10.950Z"
   },
   {
    "duration": 19630,
    "start_time": "2022-02-08T18:23:18.522Z"
   },
   {
    "duration": 1159,
    "start_time": "2022-02-08T18:31:11.397Z"
   },
   {
    "duration": 2881,
    "start_time": "2022-02-08T18:31:12.558Z"
   },
   {
    "duration": 43,
    "start_time": "2022-02-08T18:31:15.441Z"
   },
   {
    "duration": 36,
    "start_time": "2022-02-08T18:31:15.485Z"
   },
   {
    "duration": 51,
    "start_time": "2022-02-08T18:31:15.523Z"
   },
   {
    "duration": 45,
    "start_time": "2022-02-08T18:31:15.576Z"
   },
   {
    "duration": 55,
    "start_time": "2022-02-08T18:31:15.623Z"
   },
   {
    "duration": 42,
    "start_time": "2022-02-08T18:31:15.680Z"
   },
   {
    "duration": 51,
    "start_time": "2022-02-08T18:31:15.724Z"
   },
   {
    "duration": 4,
    "start_time": "2022-02-08T18:31:15.777Z"
   },
   {
    "duration": 41,
    "start_time": "2022-02-08T18:31:15.782Z"
   },
   {
    "duration": 48,
    "start_time": "2022-02-08T18:31:15.824Z"
   },
   {
    "duration": 17,
    "start_time": "2022-02-08T18:31:15.874Z"
   },
   {
    "duration": 14,
    "start_time": "2022-02-08T18:31:15.893Z"
   },
   {
    "duration": 23,
    "start_time": "2022-02-08T18:31:15.908Z"
   },
   {
    "duration": 15,
    "start_time": "2022-02-08T18:31:15.933Z"
   },
   {
    "duration": 26,
    "start_time": "2022-02-08T18:31:15.950Z"
   },
   {
    "duration": 27,
    "start_time": "2022-02-08T18:31:15.978Z"
   },
   {
    "duration": 17,
    "start_time": "2022-02-08T18:31:16.007Z"
   },
   {
    "duration": 23,
    "start_time": "2022-02-08T18:31:16.026Z"
   },
   {
    "duration": 15,
    "start_time": "2022-02-08T18:31:16.050Z"
   },
   {
    "duration": 8,
    "start_time": "2022-02-08T18:31:16.067Z"
   },
   {
    "duration": 21,
    "start_time": "2022-02-08T18:31:16.079Z"
   },
   {
    "duration": 13,
    "start_time": "2022-02-08T18:31:16.102Z"
   },
   {
    "duration": 27,
    "start_time": "2022-02-08T18:31:16.116Z"
   },
   {
    "duration": 40,
    "start_time": "2022-02-08T18:31:16.145Z"
   },
   {
    "duration": 18,
    "start_time": "2022-02-08T18:31:16.187Z"
   },
   {
    "duration": 21,
    "start_time": "2022-02-08T18:31:16.207Z"
   },
   {
    "duration": 8,
    "start_time": "2022-02-08T18:31:16.229Z"
   },
   {
    "duration": 4,
    "start_time": "2022-02-08T18:31:16.238Z"
   },
   {
    "duration": 33,
    "start_time": "2022-02-08T18:31:16.244Z"
   },
   {
    "duration": 9,
    "start_time": "2022-02-08T18:31:16.279Z"
   },
   {
    "duration": 46,
    "start_time": "2022-02-08T18:31:16.290Z"
   },
   {
    "duration": 5,
    "start_time": "2022-02-08T18:31:16.337Z"
   },
   {
    "duration": 31,
    "start_time": "2022-02-08T18:31:16.343Z"
   },
   {
    "duration": 9,
    "start_time": "2022-02-08T18:31:16.375Z"
   },
   {
    "duration": 10,
    "start_time": "2022-02-08T18:31:16.385Z"
   },
   {
    "duration": 4,
    "start_time": "2022-02-08T18:31:16.397Z"
   },
   {
    "duration": 87,
    "start_time": "2022-02-08T18:31:16.403Z"
   },
   {
    "duration": 5,
    "start_time": "2022-02-08T18:31:16.491Z"
   },
   {
    "duration": 28,
    "start_time": "2022-02-08T18:31:16.497Z"
   },
   {
    "duration": 857,
    "start_time": "2022-02-08T18:31:16.527Z"
   },
   {
    "duration": 93,
    "start_time": "2022-02-08T18:31:17.386Z"
   },
   {
    "duration": 29,
    "start_time": "2022-02-08T18:31:17.480Z"
   },
   {
    "duration": 3,
    "start_time": "2022-02-08T18:31:17.510Z"
   },
   {
    "duration": 8,
    "start_time": "2022-02-08T18:31:17.514Z"
   },
   {
    "duration": 3,
    "start_time": "2022-02-08T18:31:17.523Z"
   },
   {
    "duration": 4,
    "start_time": "2022-02-08T18:31:17.527Z"
   },
   {
    "duration": 553,
    "start_time": "2022-02-08T18:31:17.532Z"
   },
   {
    "duration": 357,
    "start_time": "2022-02-08T18:31:18.087Z"
   },
   {
    "duration": 387,
    "start_time": "2022-02-08T18:31:18.446Z"
   },
   {
    "duration": 195,
    "start_time": "2022-02-08T18:31:18.835Z"
   },
   {
    "duration": 212,
    "start_time": "2022-02-08T18:31:19.032Z"
   },
   {
    "duration": 9,
    "start_time": "2022-02-08T18:31:19.246Z"
   },
   {
    "duration": 16,
    "start_time": "2022-02-08T18:31:19.257Z"
   },
   {
    "duration": 5,
    "start_time": "2022-02-08T18:31:19.275Z"
   },
   {
    "duration": 372,
    "start_time": "2022-02-08T18:31:19.281Z"
   },
   {
    "duration": 343,
    "start_time": "2022-02-08T18:31:19.654Z"
   },
   {
    "duration": 325,
    "start_time": "2022-02-08T18:31:19.998Z"
   },
   {
    "duration": 202,
    "start_time": "2022-02-08T18:31:20.324Z"
   },
   {
    "duration": 199,
    "start_time": "2022-02-08T18:31:20.528Z"
   },
   {
    "duration": 7,
    "start_time": "2022-02-08T18:31:20.729Z"
   },
   {
    "duration": 3,
    "start_time": "2022-02-08T18:31:20.738Z"
   },
   {
    "duration": 4,
    "start_time": "2022-02-08T18:31:20.742Z"
   },
   {
    "duration": 644,
    "start_time": "2022-02-08T18:31:20.748Z"
   },
   {
    "duration": 633,
    "start_time": "2022-02-08T18:31:21.394Z"
   },
   {
    "duration": 364,
    "start_time": "2022-02-08T18:31:22.029Z"
   },
   {
    "duration": 198,
    "start_time": "2022-02-08T18:31:22.397Z"
   },
   {
    "duration": 296,
    "start_time": "2022-02-08T18:31:22.596Z"
   },
   {
    "duration": 25,
    "start_time": "2022-02-08T18:31:22.894Z"
   },
   {
    "duration": 5,
    "start_time": "2022-02-08T18:31:22.921Z"
   },
   {
    "duration": 15,
    "start_time": "2022-02-08T18:31:22.927Z"
   },
   {
    "duration": 1282,
    "start_time": "2022-02-08T18:31:22.944Z"
   },
   {
    "duration": 13,
    "start_time": "2022-02-08T18:31:24.227Z"
   },
   {
    "duration": 31,
    "start_time": "2022-02-08T18:31:24.241Z"
   },
   {
    "duration": 2894,
    "start_time": "2022-02-08T18:40:28.357Z"
   },
   {
    "duration": 1250,
    "start_time": "2022-02-08T18:41:15.129Z"
   },
   {
    "duration": 1295,
    "start_time": "2022-02-08T18:42:09.079Z"
   },
   {
    "duration": 6,
    "start_time": "2022-02-08T18:42:21.389Z"
   },
   {
    "duration": 1188,
    "start_time": "2022-02-08T18:42:22.668Z"
   },
   {
    "duration": 1288,
    "start_time": "2022-02-08T18:42:36.858Z"
   },
   {
    "duration": 1972,
    "start_time": "2022-02-08T18:42:38.148Z"
   },
   {
    "duration": 44,
    "start_time": "2022-02-08T18:42:40.122Z"
   },
   {
    "duration": 35,
    "start_time": "2022-02-08T18:42:40.168Z"
   },
   {
    "duration": 25,
    "start_time": "2022-02-08T18:42:40.205Z"
   },
   {
    "duration": 64,
    "start_time": "2022-02-08T18:42:40.232Z"
   },
   {
    "duration": 27,
    "start_time": "2022-02-08T18:42:40.298Z"
   },
   {
    "duration": 63,
    "start_time": "2022-02-08T18:42:40.327Z"
   },
   {
    "duration": 34,
    "start_time": "2022-02-08T18:42:40.392Z"
   },
   {
    "duration": 4,
    "start_time": "2022-02-08T18:42:40.428Z"
   },
   {
    "duration": 52,
    "start_time": "2022-02-08T18:42:40.434Z"
   },
   {
    "duration": 36,
    "start_time": "2022-02-08T18:42:40.488Z"
   },
   {
    "duration": 15,
    "start_time": "2022-02-08T18:42:40.526Z"
   },
   {
    "duration": 6,
    "start_time": "2022-02-08T18:42:40.542Z"
   },
   {
    "duration": 30,
    "start_time": "2022-02-08T18:42:40.549Z"
   },
   {
    "duration": 28,
    "start_time": "2022-02-08T18:42:40.581Z"
   },
   {
    "duration": 22,
    "start_time": "2022-02-08T18:42:40.610Z"
   },
   {
    "duration": 8,
    "start_time": "2022-02-08T18:42:40.634Z"
   },
   {
    "duration": 21,
    "start_time": "2022-02-08T18:42:40.643Z"
   },
   {
    "duration": 11,
    "start_time": "2022-02-08T18:42:40.665Z"
   },
   {
    "duration": 22,
    "start_time": "2022-02-08T18:42:40.677Z"
   },
   {
    "duration": 14,
    "start_time": "2022-02-08T18:42:40.701Z"
   },
   {
    "duration": 31,
    "start_time": "2022-02-08T18:42:40.719Z"
   },
   {
    "duration": 17,
    "start_time": "2022-02-08T18:42:40.753Z"
   },
   {
    "duration": 28,
    "start_time": "2022-02-08T18:42:40.772Z"
   },
   {
    "duration": 23,
    "start_time": "2022-02-08T18:42:40.802Z"
   },
   {
    "duration": 20,
    "start_time": "2022-02-08T18:42:40.827Z"
   },
   {
    "duration": 38,
    "start_time": "2022-02-08T18:42:40.848Z"
   },
   {
    "duration": 12,
    "start_time": "2022-02-08T18:42:40.887Z"
   },
   {
    "duration": 9,
    "start_time": "2022-02-08T18:42:40.901Z"
   },
   {
    "duration": 19,
    "start_time": "2022-02-08T18:42:40.911Z"
   },
   {
    "duration": 18,
    "start_time": "2022-02-08T18:42:40.931Z"
   },
   {
    "duration": 57,
    "start_time": "2022-02-08T18:42:40.950Z"
   },
   {
    "duration": 6,
    "start_time": "2022-02-08T18:42:41.008Z"
   },
   {
    "duration": 18,
    "start_time": "2022-02-08T18:42:41.015Z"
   },
   {
    "duration": 17,
    "start_time": "2022-02-08T18:42:41.035Z"
   },
   {
    "duration": 27,
    "start_time": "2022-02-08T18:42:41.054Z"
   },
   {
    "duration": 7,
    "start_time": "2022-02-08T18:42:41.083Z"
   },
   {
    "duration": 89,
    "start_time": "2022-02-08T18:42:41.092Z"
   },
   {
    "duration": 5,
    "start_time": "2022-02-08T18:42:41.182Z"
   },
   {
    "duration": 32,
    "start_time": "2022-02-08T18:42:41.188Z"
   },
   {
    "duration": 839,
    "start_time": "2022-02-08T18:42:41.221Z"
   },
   {
    "duration": 89,
    "start_time": "2022-02-08T18:42:42.062Z"
   },
   {
    "duration": 41,
    "start_time": "2022-02-08T18:42:42.153Z"
   },
   {
    "duration": 3,
    "start_time": "2022-02-08T18:42:42.195Z"
   },
   {
    "duration": 8,
    "start_time": "2022-02-08T18:42:42.200Z"
   },
   {
    "duration": 4,
    "start_time": "2022-02-08T18:42:42.210Z"
   },
   {
    "duration": 5,
    "start_time": "2022-02-08T18:42:42.215Z"
   },
   {
    "duration": 475,
    "start_time": "2022-02-08T18:42:42.221Z"
   },
   {
    "duration": 374,
    "start_time": "2022-02-08T18:42:42.698Z"
   },
   {
    "duration": 369,
    "start_time": "2022-02-08T18:42:43.074Z"
   },
   {
    "duration": 192,
    "start_time": "2022-02-08T18:42:43.445Z"
   },
   {
    "duration": 203,
    "start_time": "2022-02-08T18:42:43.639Z"
   },
   {
    "duration": 7,
    "start_time": "2022-02-08T18:42:43.844Z"
   },
   {
    "duration": 19,
    "start_time": "2022-02-08T18:42:43.853Z"
   },
   {
    "duration": 3,
    "start_time": "2022-02-08T18:42:43.873Z"
   },
   {
    "duration": 332,
    "start_time": "2022-02-08T18:42:43.877Z"
   },
   {
    "duration": 333,
    "start_time": "2022-02-08T18:42:44.211Z"
   },
   {
    "duration": 326,
    "start_time": "2022-02-08T18:42:44.546Z"
   },
   {
    "duration": 197,
    "start_time": "2022-02-08T18:42:44.874Z"
   },
   {
    "duration": 199,
    "start_time": "2022-02-08T18:42:45.073Z"
   },
   {
    "duration": 7,
    "start_time": "2022-02-08T18:42:45.273Z"
   },
   {
    "duration": 3,
    "start_time": "2022-02-08T18:42:45.282Z"
   },
   {
    "duration": 5,
    "start_time": "2022-02-08T18:42:45.287Z"
   },
   {
    "duration": 660,
    "start_time": "2022-02-08T18:42:45.293Z"
   },
   {
    "duration": 688,
    "start_time": "2022-02-08T18:42:45.955Z"
   },
   {
    "duration": 381,
    "start_time": "2022-02-08T18:42:46.645Z"
   },
   {
    "duration": 211,
    "start_time": "2022-02-08T18:42:47.031Z"
   },
   {
    "duration": 313,
    "start_time": "2022-02-08T18:42:47.244Z"
   },
   {
    "duration": 33,
    "start_time": "2022-02-08T18:42:47.559Z"
   },
   {
    "duration": 28,
    "start_time": "2022-02-08T18:42:47.594Z"
   },
   {
    "duration": 25,
    "start_time": "2022-02-08T18:42:47.623Z"
   },
   {
    "duration": 1248,
    "start_time": "2022-02-08T18:42:47.649Z"
   },
   {
    "duration": 13,
    "start_time": "2022-02-08T18:42:48.898Z"
   },
   {
    "duration": 30,
    "start_time": "2022-02-08T18:42:48.912Z"
   },
   {
    "duration": 1111,
    "start_time": "2022-02-08T18:46:07.056Z"
   },
   {
    "duration": 846,
    "start_time": "2022-02-08T18:46:08.169Z"
   },
   {
    "duration": 43,
    "start_time": "2022-02-08T18:46:09.017Z"
   },
   {
    "duration": 36,
    "start_time": "2022-02-08T18:46:09.062Z"
   },
   {
    "duration": 27,
    "start_time": "2022-02-08T18:46:09.100Z"
   },
   {
    "duration": 62,
    "start_time": "2022-02-08T18:46:09.128Z"
   },
   {
    "duration": 27,
    "start_time": "2022-02-08T18:46:09.192Z"
   },
   {
    "duration": 65,
    "start_time": "2022-02-08T18:46:09.221Z"
   },
   {
    "duration": 34,
    "start_time": "2022-02-08T18:46:09.288Z"
   },
   {
    "duration": 4,
    "start_time": "2022-02-08T18:46:09.323Z"
   },
   {
    "duration": 47,
    "start_time": "2022-02-08T18:46:09.329Z"
   },
   {
    "duration": 35,
    "start_time": "2022-02-08T18:46:09.377Z"
   },
   {
    "duration": 15,
    "start_time": "2022-02-08T18:46:09.414Z"
   },
   {
    "duration": 6,
    "start_time": "2022-02-08T18:46:09.431Z"
   },
   {
    "duration": 35,
    "start_time": "2022-02-08T18:46:09.439Z"
   },
   {
    "duration": 10,
    "start_time": "2022-02-08T18:46:09.475Z"
   },
   {
    "duration": 8,
    "start_time": "2022-02-08T18:46:09.486Z"
   },
   {
    "duration": 5,
    "start_time": "2022-02-08T18:46:09.495Z"
   },
   {
    "duration": 5,
    "start_time": "2022-02-08T18:46:09.501Z"
   },
   {
    "duration": 7,
    "start_time": "2022-02-08T18:46:09.507Z"
   },
   {
    "duration": 12,
    "start_time": "2022-02-08T18:46:09.515Z"
   },
   {
    "duration": 9,
    "start_time": "2022-02-08T18:46:09.528Z"
   },
   {
    "duration": 21,
    "start_time": "2022-02-08T18:46:09.573Z"
   },
   {
    "duration": 13,
    "start_time": "2022-02-08T18:46:09.596Z"
   },
   {
    "duration": 26,
    "start_time": "2022-02-08T18:46:09.610Z"
   },
   {
    "duration": 41,
    "start_time": "2022-02-08T18:46:09.638Z"
   },
   {
    "duration": 18,
    "start_time": "2022-02-08T18:46:09.681Z"
   },
   {
    "duration": 16,
    "start_time": "2022-02-08T18:46:09.701Z"
   },
   {
    "duration": 6,
    "start_time": "2022-02-08T18:46:09.719Z"
   },
   {
    "duration": 3,
    "start_time": "2022-02-08T18:46:09.727Z"
   },
   {
    "duration": 41,
    "start_time": "2022-02-08T18:46:09.731Z"
   },
   {
    "duration": 10,
    "start_time": "2022-02-08T18:46:09.774Z"
   },
   {
    "duration": 49,
    "start_time": "2022-02-08T18:46:09.786Z"
   },
   {
    "duration": 5,
    "start_time": "2022-02-08T18:46:09.836Z"
   },
   {
    "duration": 5,
    "start_time": "2022-02-08T18:46:09.843Z"
   },
   {
    "duration": 25,
    "start_time": "2022-02-08T18:46:09.849Z"
   },
   {
    "duration": 7,
    "start_time": "2022-02-08T18:46:09.876Z"
   },
   {
    "duration": 5,
    "start_time": "2022-02-08T18:46:09.884Z"
   },
   {
    "duration": 73,
    "start_time": "2022-02-08T18:46:09.890Z"
   },
   {
    "duration": 10,
    "start_time": "2022-02-08T18:46:09.964Z"
   },
   {
    "duration": 26,
    "start_time": "2022-02-08T18:46:09.975Z"
   },
   {
    "duration": 841,
    "start_time": "2022-02-08T18:46:10.003Z"
   },
   {
    "duration": 94,
    "start_time": "2022-02-08T18:46:10.847Z"
   },
   {
    "duration": 38,
    "start_time": "2022-02-08T18:46:10.943Z"
   },
   {
    "duration": 4,
    "start_time": "2022-02-08T18:46:10.982Z"
   },
   {
    "duration": 29,
    "start_time": "2022-02-08T18:46:10.987Z"
   },
   {
    "duration": 23,
    "start_time": "2022-02-08T18:46:11.017Z"
   },
   {
    "duration": 15,
    "start_time": "2022-02-08T18:46:11.041Z"
   },
   {
    "duration": 424,
    "start_time": "2022-02-08T18:46:11.058Z"
   },
   {
    "duration": 374,
    "start_time": "2022-02-08T18:46:11.484Z"
   },
   {
    "duration": 372,
    "start_time": "2022-02-08T18:46:11.860Z"
   },
   {
    "duration": 197,
    "start_time": "2022-02-08T18:46:12.233Z"
   },
   {
    "duration": 198,
    "start_time": "2022-02-08T18:46:12.432Z"
   },
   {
    "duration": 7,
    "start_time": "2022-02-08T18:46:12.631Z"
   },
   {
    "duration": 14,
    "start_time": "2022-02-08T18:46:12.639Z"
   },
   {
    "duration": 11,
    "start_time": "2022-02-08T18:46:12.654Z"
   },
   {
    "duration": 332,
    "start_time": "2022-02-08T18:46:12.667Z"
   },
   {
    "duration": 417,
    "start_time": "2022-02-08T18:46:13.001Z"
   },
   {
    "duration": 319,
    "start_time": "2022-02-08T18:46:13.420Z"
   },
   {
    "duration": 198,
    "start_time": "2022-02-08T18:46:13.741Z"
   },
   {
    "duration": 203,
    "start_time": "2022-02-08T18:46:13.941Z"
   },
   {
    "duration": 7,
    "start_time": "2022-02-08T18:46:14.146Z"
   },
   {
    "duration": 23,
    "start_time": "2022-02-08T18:46:14.154Z"
   },
   {
    "duration": 20,
    "start_time": "2022-02-08T18:46:14.178Z"
   },
   {
    "duration": 710,
    "start_time": "2022-02-08T18:46:14.199Z"
   },
   {
    "duration": 731,
    "start_time": "2022-02-08T18:46:14.911Z"
   },
   {
    "duration": 368,
    "start_time": "2022-02-08T18:46:15.643Z"
   },
   {
    "duration": 204,
    "start_time": "2022-02-08T18:46:16.016Z"
   },
   {
    "duration": 280,
    "start_time": "2022-02-08T18:46:16.222Z"
   },
   {
    "duration": 23,
    "start_time": "2022-02-08T18:46:16.503Z"
   },
   {
    "duration": 9,
    "start_time": "2022-02-08T18:46:16.528Z"
   },
   {
    "duration": 25,
    "start_time": "2022-02-08T18:46:16.538Z"
   },
   {
    "duration": 1265,
    "start_time": "2022-02-08T18:46:16.572Z"
   },
   {
    "duration": 12,
    "start_time": "2022-02-08T18:46:17.839Z"
   },
   {
    "duration": 26,
    "start_time": "2022-02-08T18:46:17.853Z"
   },
   {
    "duration": 14,
    "start_time": "2022-02-08T18:52:09.277Z"
   },
   {
    "duration": 14,
    "start_time": "2022-02-08T18:52:58.138Z"
   },
   {
    "duration": 1145,
    "start_time": "2022-02-08T18:53:45.934Z"
   },
   {
    "duration": 1308,
    "start_time": "2022-02-08T18:53:47.080Z"
   },
   {
    "duration": 43,
    "start_time": "2022-02-08T18:53:48.390Z"
   },
   {
    "duration": 43,
    "start_time": "2022-02-08T18:53:48.435Z"
   },
   {
    "duration": 25,
    "start_time": "2022-02-08T18:53:48.479Z"
   },
   {
    "duration": 35,
    "start_time": "2022-02-08T18:53:48.505Z"
   },
   {
    "duration": 56,
    "start_time": "2022-02-08T18:53:48.542Z"
   },
   {
    "duration": 40,
    "start_time": "2022-02-08T18:53:48.600Z"
   },
   {
    "duration": 53,
    "start_time": "2022-02-08T18:53:48.642Z"
   },
   {
    "duration": 4,
    "start_time": "2022-02-08T18:53:48.697Z"
   },
   {
    "duration": 36,
    "start_time": "2022-02-08T18:53:48.703Z"
   },
   {
    "duration": 50,
    "start_time": "2022-02-08T18:53:48.741Z"
   },
   {
    "duration": 16,
    "start_time": "2022-02-08T18:53:48.792Z"
   },
   {
    "duration": 6,
    "start_time": "2022-02-08T18:53:48.810Z"
   },
   {
    "duration": 10,
    "start_time": "2022-02-08T18:53:48.817Z"
   },
   {
    "duration": 9,
    "start_time": "2022-02-08T18:53:48.829Z"
   },
   {
    "duration": 37,
    "start_time": "2022-02-08T18:53:48.839Z"
   },
   {
    "duration": 5,
    "start_time": "2022-02-08T18:53:48.877Z"
   },
   {
    "duration": 3,
    "start_time": "2022-02-08T18:53:48.884Z"
   },
   {
    "duration": 5,
    "start_time": "2022-02-08T18:53:48.889Z"
   },
   {
    "duration": 11,
    "start_time": "2022-02-08T18:53:48.896Z"
   },
   {
    "duration": 9,
    "start_time": "2022-02-08T18:53:48.908Z"
   },
   {
    "duration": 18,
    "start_time": "2022-02-08T18:53:48.918Z"
   },
   {
    "duration": 46,
    "start_time": "2022-02-08T18:53:48.938Z"
   },
   {
    "duration": 25,
    "start_time": "2022-02-08T18:53:48.985Z"
   },
   {
    "duration": 21,
    "start_time": "2022-02-08T18:53:49.012Z"
   },
   {
    "duration": 35,
    "start_time": "2022-02-08T18:53:49.037Z"
   },
   {
    "duration": 18,
    "start_time": "2022-02-08T18:53:49.074Z"
   },
   {
    "duration": 8,
    "start_time": "2022-02-08T18:53:49.093Z"
   },
   {
    "duration": 5,
    "start_time": "2022-02-08T18:53:49.102Z"
   },
   {
    "duration": 13,
    "start_time": "2022-02-08T18:53:49.108Z"
   },
   {
    "duration": 10,
    "start_time": "2022-02-08T18:53:49.122Z"
   },
   {
    "duration": 81,
    "start_time": "2022-02-08T18:53:49.134Z"
   },
   {
    "duration": 6,
    "start_time": "2022-02-08T18:53:49.216Z"
   },
   {
    "duration": 3,
    "start_time": "2022-02-08T18:53:49.224Z"
   },
   {
    "duration": 6,
    "start_time": "2022-02-08T18:53:49.229Z"
   },
   {
    "duration": 39,
    "start_time": "2022-02-08T18:53:49.237Z"
   },
   {
    "duration": 5,
    "start_time": "2022-02-08T18:53:49.277Z"
   },
   {
    "duration": 70,
    "start_time": "2022-02-08T18:53:49.283Z"
   },
   {
    "duration": 17,
    "start_time": "2022-02-08T18:53:49.354Z"
   },
   {
    "duration": 26,
    "start_time": "2022-02-08T18:53:49.373Z"
   },
   {
    "duration": 853,
    "start_time": "2022-02-08T18:53:49.401Z"
   },
   {
    "duration": 94,
    "start_time": "2022-02-08T18:53:50.255Z"
   },
   {
    "duration": 39,
    "start_time": "2022-02-08T18:53:50.351Z"
   },
   {
    "duration": 4,
    "start_time": "2022-02-08T18:53:50.391Z"
   },
   {
    "duration": 8,
    "start_time": "2022-02-08T18:53:50.396Z"
   },
   {
    "duration": 4,
    "start_time": "2022-02-08T18:53:50.406Z"
   },
   {
    "duration": 11,
    "start_time": "2022-02-08T18:53:50.412Z"
   },
   {
    "duration": 437,
    "start_time": "2022-02-08T18:53:50.424Z"
   },
   {
    "duration": 353,
    "start_time": "2022-02-08T18:53:50.863Z"
   },
   {
    "duration": 376,
    "start_time": "2022-02-08T18:53:51.217Z"
   },
   {
    "duration": 200,
    "start_time": "2022-02-08T18:53:51.594Z"
   },
   {
    "duration": 203,
    "start_time": "2022-02-08T18:53:51.796Z"
   },
   {
    "duration": 7,
    "start_time": "2022-02-08T18:53:52.001Z"
   },
   {
    "duration": 3,
    "start_time": "2022-02-08T18:53:52.010Z"
   },
   {
    "duration": 4,
    "start_time": "2022-02-08T18:53:52.015Z"
   },
   {
    "duration": 365,
    "start_time": "2022-02-08T18:53:52.020Z"
   },
   {
    "duration": 418,
    "start_time": "2022-02-08T18:53:52.387Z"
   },
   {
    "duration": 333,
    "start_time": "2022-02-08T18:53:52.807Z"
   },
   {
    "duration": 198,
    "start_time": "2022-02-08T18:53:53.141Z"
   },
   {
    "duration": 218,
    "start_time": "2022-02-08T18:53:53.340Z"
   },
   {
    "duration": 12,
    "start_time": "2022-02-08T18:53:53.560Z"
   },
   {
    "duration": 3,
    "start_time": "2022-02-08T18:53:53.573Z"
   },
   {
    "duration": 3,
    "start_time": "2022-02-08T18:53:53.578Z"
   },
   {
    "duration": 640,
    "start_time": "2022-02-08T18:53:53.583Z"
   },
   {
    "duration": 649,
    "start_time": "2022-02-08T18:53:54.225Z"
   },
   {
    "duration": 421,
    "start_time": "2022-02-08T18:53:54.876Z"
   },
   {
    "duration": 214,
    "start_time": "2022-02-08T18:53:55.298Z"
   },
   {
    "duration": 287,
    "start_time": "2022-02-08T18:53:55.513Z"
   },
   {
    "duration": 25,
    "start_time": "2022-02-08T18:53:55.802Z"
   },
   {
    "duration": 5,
    "start_time": "2022-02-08T18:53:55.828Z"
   },
   {
    "duration": 15,
    "start_time": "2022-02-08T18:53:55.835Z"
   },
   {
    "duration": 1145,
    "start_time": "2022-02-08T18:56:41.434Z"
   },
   {
    "duration": 817,
    "start_time": "2022-02-08T18:56:42.580Z"
   },
   {
    "duration": 43,
    "start_time": "2022-02-08T18:56:43.399Z"
   },
   {
    "duration": 34,
    "start_time": "2022-02-08T18:56:43.444Z"
   },
   {
    "duration": 24,
    "start_time": "2022-02-08T18:56:43.479Z"
   },
   {
    "duration": 36,
    "start_time": "2022-02-08T18:56:43.505Z"
   },
   {
    "duration": 49,
    "start_time": "2022-02-08T18:56:43.542Z"
   },
   {
    "duration": 39,
    "start_time": "2022-02-08T18:56:43.593Z"
   },
   {
    "duration": 51,
    "start_time": "2022-02-08T18:56:43.634Z"
   },
   {
    "duration": 4,
    "start_time": "2022-02-08T18:56:43.687Z"
   },
   {
    "duration": 46,
    "start_time": "2022-02-08T18:56:43.692Z"
   },
   {
    "duration": 39,
    "start_time": "2022-02-08T18:56:43.739Z"
   },
   {
    "duration": 16,
    "start_time": "2022-02-08T18:56:43.779Z"
   },
   {
    "duration": 6,
    "start_time": "2022-02-08T18:56:43.797Z"
   },
   {
    "duration": 12,
    "start_time": "2022-02-08T18:56:43.805Z"
   },
   {
    "duration": 15,
    "start_time": "2022-02-08T18:56:43.818Z"
   },
   {
    "duration": 19,
    "start_time": "2022-02-08T18:56:43.834Z"
   },
   {
    "duration": 20,
    "start_time": "2022-02-08T18:56:43.854Z"
   },
   {
    "duration": 4,
    "start_time": "2022-02-08T18:56:43.875Z"
   },
   {
    "duration": 15,
    "start_time": "2022-02-08T18:56:43.880Z"
   },
   {
    "duration": 11,
    "start_time": "2022-02-08T18:56:43.897Z"
   },
   {
    "duration": 22,
    "start_time": "2022-02-08T18:56:43.910Z"
   },
   {
    "duration": 19,
    "start_time": "2022-02-08T18:56:43.935Z"
   },
   {
    "duration": 18,
    "start_time": "2022-02-08T18:56:43.956Z"
   },
   {
    "duration": 27,
    "start_time": "2022-02-08T18:56:43.976Z"
   },
   {
    "duration": 23,
    "start_time": "2022-02-08T18:56:44.004Z"
   },
   {
    "duration": 18,
    "start_time": "2022-02-08T18:56:44.029Z"
   },
   {
    "duration": 36,
    "start_time": "2022-02-08T18:56:44.049Z"
   },
   {
    "duration": 7,
    "start_time": "2022-02-08T18:56:44.086Z"
   },
   {
    "duration": 35,
    "start_time": "2022-02-08T18:56:44.094Z"
   },
   {
    "duration": 12,
    "start_time": "2022-02-08T18:56:44.130Z"
   },
   {
    "duration": 16,
    "start_time": "2022-02-08T18:56:44.143Z"
   },
   {
    "duration": 60,
    "start_time": "2022-02-08T18:56:44.160Z"
   },
   {
    "duration": 4,
    "start_time": "2022-02-08T18:56:44.222Z"
   },
   {
    "duration": 18,
    "start_time": "2022-02-08T18:56:44.228Z"
   },
   {
    "duration": 9,
    "start_time": "2022-02-08T18:56:44.248Z"
   },
   {
    "duration": 21,
    "start_time": "2022-02-08T18:56:44.258Z"
   },
   {
    "duration": 20,
    "start_time": "2022-02-08T18:56:44.280Z"
   },
   {
    "duration": 75,
    "start_time": "2022-02-08T18:56:44.302Z"
   },
   {
    "duration": 5,
    "start_time": "2022-02-08T18:56:44.379Z"
   },
   {
    "duration": 41,
    "start_time": "2022-02-08T18:56:44.385Z"
   },
   {
    "duration": 871,
    "start_time": "2022-02-08T18:56:44.427Z"
   },
   {
    "duration": 94,
    "start_time": "2022-02-08T18:56:45.300Z"
   },
   {
    "duration": 29,
    "start_time": "2022-02-08T18:56:45.395Z"
   },
   {
    "duration": 3,
    "start_time": "2022-02-08T18:56:45.425Z"
   },
   {
    "duration": 11,
    "start_time": "2022-02-08T18:56:45.429Z"
   },
   {
    "duration": 5,
    "start_time": "2022-02-08T18:56:45.441Z"
   },
   {
    "duration": 26,
    "start_time": "2022-02-08T18:56:45.447Z"
   },
   {
    "duration": 426,
    "start_time": "2022-02-08T18:56:45.474Z"
   },
   {
    "duration": 325,
    "start_time": "2022-02-08T18:56:45.901Z"
   },
   {
    "duration": 365,
    "start_time": "2022-02-08T18:56:46.227Z"
   },
   {
    "duration": 202,
    "start_time": "2022-02-08T18:56:46.593Z"
   },
   {
    "duration": 206,
    "start_time": "2022-02-08T18:56:46.796Z"
   },
   {
    "duration": 7,
    "start_time": "2022-02-08T18:56:47.004Z"
   },
   {
    "duration": 3,
    "start_time": "2022-02-08T18:56:47.013Z"
   },
   {
    "duration": 5,
    "start_time": "2022-02-08T18:56:47.018Z"
   },
   {
    "duration": 363,
    "start_time": "2022-02-08T18:56:47.024Z"
   },
   {
    "duration": 392,
    "start_time": "2022-02-08T18:56:47.388Z"
   },
   {
    "duration": 332,
    "start_time": "2022-02-08T18:56:47.782Z"
   },
   {
    "duration": 204,
    "start_time": "2022-02-08T18:56:48.116Z"
   },
   {
    "duration": 201,
    "start_time": "2022-02-08T18:56:48.322Z"
   },
   {
    "duration": 8,
    "start_time": "2022-02-08T18:56:48.525Z"
   },
   {
    "duration": 3,
    "start_time": "2022-02-08T18:56:48.535Z"
   },
   {
    "duration": 4,
    "start_time": "2022-02-08T18:56:48.539Z"
   },
   {
    "duration": 651,
    "start_time": "2022-02-08T18:56:48.545Z"
   },
   {
    "duration": 681,
    "start_time": "2022-02-08T18:56:49.198Z"
   },
   {
    "duration": 374,
    "start_time": "2022-02-08T18:56:49.880Z"
   },
   {
    "duration": 198,
    "start_time": "2022-02-08T18:56:50.259Z"
   },
   {
    "duration": 277,
    "start_time": "2022-02-08T18:56:50.459Z"
   },
   {
    "duration": 39,
    "start_time": "2022-02-08T18:56:50.739Z"
   },
   {
    "duration": 6,
    "start_time": "2022-02-08T18:56:50.779Z"
   },
   {
    "duration": 14,
    "start_time": "2022-02-08T18:56:50.787Z"
   },
   {
    "duration": 1276,
    "start_time": "2022-02-08T18:56:50.803Z"
   },
   {
    "duration": 12,
    "start_time": "2022-02-08T18:56:52.081Z"
   },
   {
    "duration": 19,
    "start_time": "2022-02-08T18:56:52.094Z"
   },
   {
    "duration": 1131,
    "start_time": "2022-02-08T19:34:59.248Z"
   },
   {
    "duration": 1185,
    "start_time": "2022-02-08T19:35:00.381Z"
   },
   {
    "duration": 45,
    "start_time": "2022-02-08T19:35:01.568Z"
   },
   {
    "duration": 58,
    "start_time": "2022-02-08T19:35:01.615Z"
   },
   {
    "duration": 27,
    "start_time": "2022-02-08T19:35:01.675Z"
   },
   {
    "duration": 38,
    "start_time": "2022-02-08T19:35:01.703Z"
   },
   {
    "duration": 32,
    "start_time": "2022-02-08T19:35:01.772Z"
   },
   {
    "duration": 65,
    "start_time": "2022-02-08T19:35:01.807Z"
   },
   {
    "duration": 36,
    "start_time": "2022-02-08T19:35:01.874Z"
   },
   {
    "duration": 5,
    "start_time": "2022-02-08T19:35:01.912Z"
   },
   {
    "duration": 55,
    "start_time": "2022-02-08T19:35:01.919Z"
   },
   {
    "duration": 42,
    "start_time": "2022-02-08T19:35:01.976Z"
   },
   {
    "duration": 17,
    "start_time": "2022-02-08T19:35:02.020Z"
   },
   {
    "duration": 7,
    "start_time": "2022-02-08T19:35:02.039Z"
   },
   {
    "duration": 35,
    "start_time": "2022-02-08T19:35:02.048Z"
   },
   {
    "duration": 10,
    "start_time": "2022-02-08T19:35:02.084Z"
   },
   {
    "duration": 20,
    "start_time": "2022-02-08T19:35:02.095Z"
   },
   {
    "duration": 14,
    "start_time": "2022-02-08T19:35:02.117Z"
   },
   {
    "duration": 20,
    "start_time": "2022-02-08T19:35:02.133Z"
   },
   {
    "duration": 15,
    "start_time": "2022-02-08T19:35:02.155Z"
   },
   {
    "duration": 21,
    "start_time": "2022-02-08T19:35:02.172Z"
   },
   {
    "duration": 12,
    "start_time": "2022-02-08T19:35:02.195Z"
   },
   {
    "duration": 21,
    "start_time": "2022-02-08T19:35:02.211Z"
   },
   {
    "duration": 18,
    "start_time": "2022-02-08T19:35:02.234Z"
   },
   {
    "duration": 29,
    "start_time": "2022-02-08T19:35:02.253Z"
   },
   {
    "duration": 22,
    "start_time": "2022-02-08T19:35:02.283Z"
   },
   {
    "duration": 23,
    "start_time": "2022-02-08T19:35:02.307Z"
   },
   {
    "duration": 16,
    "start_time": "2022-02-08T19:35:02.331Z"
   },
   {
    "duration": 7,
    "start_time": "2022-02-08T19:35:02.349Z"
   },
   {
    "duration": 16,
    "start_time": "2022-02-08T19:35:02.358Z"
   },
   {
    "duration": 30,
    "start_time": "2022-02-08T19:35:02.375Z"
   },
   {
    "duration": 21,
    "start_time": "2022-02-08T19:35:02.406Z"
   },
   {
    "duration": 48,
    "start_time": "2022-02-08T19:35:02.428Z"
   },
   {
    "duration": 5,
    "start_time": "2022-02-08T19:35:02.477Z"
   },
   {
    "duration": 11,
    "start_time": "2022-02-08T19:35:02.483Z"
   },
   {
    "duration": 19,
    "start_time": "2022-02-08T19:35:02.495Z"
   },
   {
    "duration": 25,
    "start_time": "2022-02-08T19:35:02.515Z"
   },
   {
    "duration": 13,
    "start_time": "2022-02-08T19:35:02.542Z"
   },
   {
    "duration": 85,
    "start_time": "2022-02-08T19:35:02.557Z"
   },
   {
    "duration": 6,
    "start_time": "2022-02-08T19:35:02.644Z"
   },
   {
    "duration": 45,
    "start_time": "2022-02-08T19:35:02.652Z"
   },
   {
    "duration": 851,
    "start_time": "2022-02-08T19:35:02.699Z"
   },
   {
    "duration": 111,
    "start_time": "2022-02-08T19:35:03.552Z"
   },
   {
    "duration": 31,
    "start_time": "2022-02-08T19:35:03.672Z"
   },
   {
    "duration": 4,
    "start_time": "2022-02-08T19:35:03.704Z"
   },
   {
    "duration": 15,
    "start_time": "2022-02-08T19:35:03.709Z"
   },
   {
    "duration": 16,
    "start_time": "2022-02-08T19:35:03.725Z"
   },
   {
    "duration": 16,
    "start_time": "2022-02-08T19:35:03.742Z"
   },
   {
    "duration": 2026,
    "start_time": "2022-02-08T19:35:03.759Z"
   },
   {
    "duration": 2196,
    "start_time": "2022-02-08T19:35:05.787Z"
   },
   {
    "duration": 373,
    "start_time": "2022-02-08T19:35:07.985Z"
   },
   {
    "duration": 193,
    "start_time": "2022-02-08T19:35:08.360Z"
   },
   {
    "duration": 205,
    "start_time": "2022-02-08T19:35:08.554Z"
   },
   {
    "duration": 13,
    "start_time": "2022-02-08T19:35:08.761Z"
   },
   {
    "duration": 6,
    "start_time": "2022-02-08T19:35:08.775Z"
   },
   {
    "duration": 11,
    "start_time": "2022-02-08T19:35:08.782Z"
   },
   {
    "duration": 1362,
    "start_time": "2022-02-08T19:35:08.795Z"
   },
   {
    "duration": 755,
    "start_time": "2022-02-08T19:35:10.159Z"
   },
   {
    "duration": 325,
    "start_time": "2022-02-08T19:35:10.915Z"
   },
   {
    "duration": 196,
    "start_time": "2022-02-08T19:35:11.241Z"
   },
   {
    "duration": 200,
    "start_time": "2022-02-08T19:35:11.439Z"
   },
   {
    "duration": 8,
    "start_time": "2022-02-08T19:35:11.640Z"
   },
   {
    "duration": 13,
    "start_time": "2022-02-08T19:35:11.650Z"
   },
   {
    "duration": 15,
    "start_time": "2022-02-08T19:35:11.672Z"
   },
   {
    "duration": 2257,
    "start_time": "2022-02-08T19:35:11.688Z"
   },
   {
    "duration": 3287,
    "start_time": "2022-02-08T19:35:13.947Z"
   },
   {
    "duration": 359,
    "start_time": "2022-02-08T19:35:17.235Z"
   },
   {
    "duration": 195,
    "start_time": "2022-02-08T19:35:17.599Z"
   },
   {
    "duration": 292,
    "start_time": "2022-02-08T19:35:17.796Z"
   },
   {
    "duration": 24,
    "start_time": "2022-02-08T19:35:18.089Z"
   },
   {
    "duration": 5,
    "start_time": "2022-02-08T19:35:18.114Z"
   },
   {
    "duration": 14,
    "start_time": "2022-02-08T19:35:18.120Z"
   },
   {
    "duration": 1245,
    "start_time": "2022-02-08T19:35:18.136Z"
   },
   {
    "duration": 12,
    "start_time": "2022-02-08T19:35:19.382Z"
   },
   {
    "duration": 12,
    "start_time": "2022-02-08T19:35:19.395Z"
   },
   {
    "duration": 1230,
    "start_time": "2022-02-08T19:53:59.097Z"
   },
   {
    "duration": 963,
    "start_time": "2022-02-08T19:54:00.329Z"
   },
   {
    "duration": 55,
    "start_time": "2022-02-08T19:54:01.294Z"
   },
   {
    "duration": 181,
    "start_time": "2022-02-08T19:54:01.351Z"
   },
   {
    "duration": 48,
    "start_time": "2022-02-08T19:54:01.534Z"
   },
   {
    "duration": 56,
    "start_time": "2022-02-08T19:54:01.584Z"
   },
   {
    "duration": 69,
    "start_time": "2022-02-08T19:54:01.642Z"
   },
   {
    "duration": 77,
    "start_time": "2022-02-08T19:54:01.714Z"
   },
   {
    "duration": 44,
    "start_time": "2022-02-08T19:54:01.794Z"
   },
   {
    "duration": 20,
    "start_time": "2022-02-08T19:54:01.840Z"
   },
   {
    "duration": 62,
    "start_time": "2022-02-08T19:54:01.862Z"
   },
   {
    "duration": 63,
    "start_time": "2022-02-08T19:54:01.926Z"
   },
   {
    "duration": 24,
    "start_time": "2022-02-08T19:54:01.991Z"
   },
   {
    "duration": 10,
    "start_time": "2022-02-08T19:54:02.017Z"
   },
   {
    "duration": 16,
    "start_time": "2022-02-08T19:54:02.029Z"
   },
   {
    "duration": 28,
    "start_time": "2022-02-08T19:54:02.073Z"
   },
   {
    "duration": 13,
    "start_time": "2022-02-08T19:54:02.103Z"
   },
   {
    "duration": 9,
    "start_time": "2022-02-08T19:54:02.118Z"
   },
   {
    "duration": 5,
    "start_time": "2022-02-08T19:54:02.129Z"
   },
   {
    "duration": 8,
    "start_time": "2022-02-08T19:54:02.135Z"
   },
   {
    "duration": 34,
    "start_time": "2022-02-08T19:54:02.145Z"
   },
   {
    "duration": 13,
    "start_time": "2022-02-08T19:54:02.181Z"
   },
   {
    "duration": 29,
    "start_time": "2022-02-08T19:54:02.200Z"
   },
   {
    "duration": 45,
    "start_time": "2022-02-08T19:54:02.233Z"
   },
   {
    "duration": 45,
    "start_time": "2022-02-08T19:54:02.281Z"
   },
   {
    "duration": 29,
    "start_time": "2022-02-08T19:54:02.328Z"
   },
   {
    "duration": 28,
    "start_time": "2022-02-08T19:54:02.374Z"
   },
   {
    "duration": 17,
    "start_time": "2022-02-08T19:54:02.404Z"
   },
   {
    "duration": 7,
    "start_time": "2022-02-08T19:54:02.423Z"
   },
   {
    "duration": 5,
    "start_time": "2022-02-08T19:54:02.431Z"
   },
   {
    "duration": 40,
    "start_time": "2022-02-08T19:54:02.438Z"
   },
   {
    "duration": 21,
    "start_time": "2022-02-08T19:54:02.480Z"
   },
   {
    "duration": 77,
    "start_time": "2022-02-08T19:54:02.503Z"
   },
   {
    "duration": 6,
    "start_time": "2022-02-08T19:54:02.582Z"
   },
   {
    "duration": 3,
    "start_time": "2022-02-08T19:54:02.590Z"
   },
   {
    "duration": 15,
    "start_time": "2022-02-08T19:54:02.594Z"
   },
   {
    "duration": 11,
    "start_time": "2022-02-08T19:54:02.611Z"
   },
   {
    "duration": 10,
    "start_time": "2022-02-08T19:54:02.624Z"
   },
   {
    "duration": 98,
    "start_time": "2022-02-08T19:54:02.636Z"
   },
   {
    "duration": 7,
    "start_time": "2022-02-08T19:54:02.736Z"
   },
   {
    "duration": 46,
    "start_time": "2022-02-08T19:54:02.744Z"
   },
   {
    "duration": 963,
    "start_time": "2022-02-08T19:54:02.792Z"
   },
   {
    "duration": 100,
    "start_time": "2022-02-08T19:54:03.757Z"
   },
   {
    "duration": 39,
    "start_time": "2022-02-08T19:54:03.859Z"
   },
   {
    "duration": 4,
    "start_time": "2022-02-08T19:54:03.900Z"
   },
   {
    "duration": 9,
    "start_time": "2022-02-08T19:54:03.906Z"
   },
   {
    "duration": 4,
    "start_time": "2022-02-08T19:54:03.916Z"
   },
   {
    "duration": 6,
    "start_time": "2022-02-08T19:54:03.922Z"
   },
   {
    "duration": 472,
    "start_time": "2022-02-08T19:54:03.930Z"
   },
   {
    "duration": 357,
    "start_time": "2022-02-08T19:54:04.404Z"
   },
   {
    "duration": 408,
    "start_time": "2022-02-08T19:54:04.762Z"
   },
   {
    "duration": 206,
    "start_time": "2022-02-08T19:54:05.172Z"
   },
   {
    "duration": 215,
    "start_time": "2022-02-08T19:54:05.379Z"
   },
   {
    "duration": 9,
    "start_time": "2022-02-08T19:54:05.596Z"
   },
   {
    "duration": 4,
    "start_time": "2022-02-08T19:54:05.607Z"
   },
   {
    "duration": 5,
    "start_time": "2022-02-08T19:54:05.613Z"
   },
   {
    "duration": 345,
    "start_time": "2022-02-08T19:54:05.620Z"
   },
   {
    "duration": 347,
    "start_time": "2022-02-08T19:54:05.967Z"
   },
   {
    "duration": 325,
    "start_time": "2022-02-08T19:54:06.316Z"
   },
   {
    "duration": 209,
    "start_time": "2022-02-08T19:54:06.643Z"
   },
   {
    "duration": 203,
    "start_time": "2022-02-08T19:54:06.854Z"
   },
   {
    "duration": 17,
    "start_time": "2022-02-08T19:54:07.059Z"
   },
   {
    "duration": 4,
    "start_time": "2022-02-08T19:54:07.077Z"
   },
   {
    "duration": 17,
    "start_time": "2022-02-08T19:54:07.083Z"
   },
   {
    "duration": 733,
    "start_time": "2022-02-08T19:54:07.102Z"
   },
   {
    "duration": 634,
    "start_time": "2022-02-08T19:54:07.837Z"
   },
   {
    "duration": 366,
    "start_time": "2022-02-08T19:54:08.473Z"
   },
   {
    "duration": 203,
    "start_time": "2022-02-08T19:54:08.844Z"
   },
   {
    "duration": 286,
    "start_time": "2022-02-08T19:54:09.049Z"
   },
   {
    "duration": 22,
    "start_time": "2022-02-08T19:54:09.337Z"
   },
   {
    "duration": 13,
    "start_time": "2022-02-08T19:54:09.361Z"
   },
   {
    "duration": 13,
    "start_time": "2022-02-08T19:54:09.375Z"
   },
   {
    "duration": 1250,
    "start_time": "2022-02-08T19:54:09.389Z"
   },
   {
    "duration": 12,
    "start_time": "2022-02-08T19:54:10.640Z"
   },
   {
    "duration": 25,
    "start_time": "2022-02-08T19:54:10.653Z"
   },
   {
    "duration": 1221,
    "start_time": "2022-02-08T20:05:13.007Z"
   },
   {
    "duration": 1482,
    "start_time": "2022-02-08T20:05:14.230Z"
   },
   {
    "duration": 47,
    "start_time": "2022-02-08T20:05:15.714Z"
   },
   {
    "duration": 49,
    "start_time": "2022-02-08T20:05:15.763Z"
   },
   {
    "duration": 27,
    "start_time": "2022-02-08T20:05:15.814Z"
   },
   {
    "duration": 60,
    "start_time": "2022-02-08T20:05:15.842Z"
   },
   {
    "duration": 27,
    "start_time": "2022-02-08T20:05:15.904Z"
   },
   {
    "duration": 73,
    "start_time": "2022-02-08T20:05:15.933Z"
   },
   {
    "duration": 33,
    "start_time": "2022-02-08T20:05:16.009Z"
   },
   {
    "duration": 5,
    "start_time": "2022-02-08T20:05:16.044Z"
   },
   {
    "duration": 48,
    "start_time": "2022-02-08T20:05:16.051Z"
   },
   {
    "duration": 38,
    "start_time": "2022-02-08T20:05:16.101Z"
   },
   {
    "duration": 33,
    "start_time": "2022-02-08T20:05:16.141Z"
   },
   {
    "duration": 7,
    "start_time": "2022-02-08T20:05:16.176Z"
   },
   {
    "duration": 11,
    "start_time": "2022-02-08T20:05:16.184Z"
   },
   {
    "duration": 10,
    "start_time": "2022-02-08T20:05:16.197Z"
   },
   {
    "duration": 9,
    "start_time": "2022-02-08T20:05:16.208Z"
   },
   {
    "duration": 7,
    "start_time": "2022-02-08T20:05:16.218Z"
   },
   {
    "duration": 4,
    "start_time": "2022-02-08T20:05:16.227Z"
   },
   {
    "duration": 41,
    "start_time": "2022-02-08T20:05:16.232Z"
   },
   {
    "duration": 10,
    "start_time": "2022-02-08T20:05:16.275Z"
   },
   {
    "duration": 10,
    "start_time": "2022-02-08T20:05:16.287Z"
   },
   {
    "duration": 26,
    "start_time": "2022-02-08T20:05:16.301Z"
   },
   {
    "duration": 42,
    "start_time": "2022-02-08T20:05:16.330Z"
   },
   {
    "duration": 28,
    "start_time": "2022-02-08T20:05:16.373Z"
   },
   {
    "duration": 34,
    "start_time": "2022-02-08T20:05:16.403Z"
   },
   {
    "duration": 45,
    "start_time": "2022-02-08T20:05:16.439Z"
   },
   {
    "duration": 17,
    "start_time": "2022-02-08T20:05:16.485Z"
   },
   {
    "duration": 128,
    "start_time": "2022-02-08T20:05:16.504Z"
   },
   {
    "duration": 4,
    "start_time": "2022-02-08T20:05:16.634Z"
   },
   {
    "duration": 14,
    "start_time": "2022-02-08T20:05:16.640Z"
   },
   {
    "duration": 11,
    "start_time": "2022-02-08T20:05:16.656Z"
   },
   {
    "duration": 47,
    "start_time": "2022-02-08T20:05:16.669Z"
   },
   {
    "duration": 6,
    "start_time": "2022-02-08T20:05:16.718Z"
   },
   {
    "duration": 3,
    "start_time": "2022-02-08T20:05:16.726Z"
   },
   {
    "duration": 7,
    "start_time": "2022-02-08T20:05:16.731Z"
   },
   {
    "duration": 36,
    "start_time": "2022-02-08T20:05:16.739Z"
   },
   {
    "duration": 5,
    "start_time": "2022-02-08T20:05:16.777Z"
   },
   {
    "duration": 107,
    "start_time": "2022-02-08T20:05:16.784Z"
   },
   {
    "duration": 6,
    "start_time": "2022-02-08T20:05:16.893Z"
   },
   {
    "duration": 36,
    "start_time": "2022-02-08T20:05:16.901Z"
   },
   {
    "duration": 902,
    "start_time": "2022-02-08T20:05:16.938Z"
   },
   {
    "duration": 97,
    "start_time": "2022-02-08T20:05:17.842Z"
   },
   {
    "duration": 43,
    "start_time": "2022-02-08T20:05:17.942Z"
   },
   {
    "duration": 3,
    "start_time": "2022-02-08T20:05:17.987Z"
   },
   {
    "duration": 8,
    "start_time": "2022-02-08T20:05:17.992Z"
   },
   {
    "duration": 5,
    "start_time": "2022-02-08T20:05:18.002Z"
   },
   {
    "duration": 5,
    "start_time": "2022-02-08T20:05:18.008Z"
   },
   {
    "duration": 561,
    "start_time": "2022-02-08T20:05:18.015Z"
   },
   {
    "duration": 463,
    "start_time": "2022-02-08T20:05:18.578Z"
   },
   {
    "duration": 385,
    "start_time": "2022-02-08T20:05:19.043Z"
   },
   {
    "duration": 237,
    "start_time": "2022-02-08T20:05:19.430Z"
   },
   {
    "duration": 237,
    "start_time": "2022-02-08T20:05:19.668Z"
   },
   {
    "duration": 9,
    "start_time": "2022-02-08T20:05:19.906Z"
   },
   {
    "duration": 3,
    "start_time": "2022-02-08T20:05:19.917Z"
   },
   {
    "duration": 4,
    "start_time": "2022-02-08T20:05:19.922Z"
   },
   {
    "duration": 552,
    "start_time": "2022-02-08T20:05:19.928Z"
   },
   {
    "duration": 530,
    "start_time": "2022-02-08T20:05:20.482Z"
   },
   {
    "duration": 331,
    "start_time": "2022-02-08T20:05:21.014Z"
   },
   {
    "duration": 220,
    "start_time": "2022-02-08T20:05:21.347Z"
   },
   {
    "duration": 205,
    "start_time": "2022-02-08T20:05:21.572Z"
   },
   {
    "duration": 8,
    "start_time": "2022-02-08T20:05:21.778Z"
   },
   {
    "duration": 11,
    "start_time": "2022-02-08T20:05:21.788Z"
   },
   {
    "duration": 13,
    "start_time": "2022-02-08T20:05:21.801Z"
   },
   {
    "duration": 1084,
    "start_time": "2022-02-08T20:05:21.816Z"
   },
   {
    "duration": 860,
    "start_time": "2022-02-08T20:05:22.902Z"
   },
   {
    "duration": 392,
    "start_time": "2022-02-08T20:05:23.764Z"
   },
   {
    "duration": 232,
    "start_time": "2022-02-08T20:05:24.161Z"
   },
   {
    "duration": 295,
    "start_time": "2022-02-08T20:05:24.396Z"
   },
   {
    "duration": 26,
    "start_time": "2022-02-08T20:05:24.693Z"
   },
   {
    "duration": 7,
    "start_time": "2022-02-08T20:05:24.721Z"
   },
   {
    "duration": 16,
    "start_time": "2022-02-08T20:05:24.729Z"
   },
   {
    "duration": 1331,
    "start_time": "2022-02-08T20:05:24.746Z"
   },
   {
    "duration": 14,
    "start_time": "2022-02-08T20:05:26.079Z"
   },
   {
    "duration": 13,
    "start_time": "2022-02-08T20:05:26.095Z"
   },
   {
    "duration": 1173,
    "start_time": "2022-02-08T21:09:47.206Z"
   },
   {
    "duration": 1173,
    "start_time": "2022-02-08T21:09:48.381Z"
   },
   {
    "duration": 46,
    "start_time": "2022-02-08T21:09:49.556Z"
   },
   {
    "duration": 36,
    "start_time": "2022-02-08T21:09:49.604Z"
   },
   {
    "duration": 47,
    "start_time": "2022-02-08T21:09:49.641Z"
   },
   {
    "duration": 37,
    "start_time": "2022-02-08T21:09:49.689Z"
   },
   {
    "duration": 59,
    "start_time": "2022-02-08T21:09:49.727Z"
   },
   {
    "duration": 42,
    "start_time": "2022-02-08T21:09:49.789Z"
   },
   {
    "duration": 53,
    "start_time": "2022-02-08T21:09:49.833Z"
   },
   {
    "duration": 5,
    "start_time": "2022-02-08T21:09:49.887Z"
   },
   {
    "duration": 35,
    "start_time": "2022-02-08T21:09:49.893Z"
   },
   {
    "duration": 56,
    "start_time": "2022-02-08T21:09:49.930Z"
   },
   {
    "duration": 16,
    "start_time": "2022-02-08T21:09:49.987Z"
   },
   {
    "duration": 7,
    "start_time": "2022-02-08T21:09:50.005Z"
   },
   {
    "duration": 12,
    "start_time": "2022-02-08T21:09:50.013Z"
   },
   {
    "duration": 11,
    "start_time": "2022-02-08T21:09:50.026Z"
   },
   {
    "duration": 37,
    "start_time": "2022-02-08T21:09:50.038Z"
   },
   {
    "duration": 6,
    "start_time": "2022-02-08T21:09:50.076Z"
   },
   {
    "duration": 5,
    "start_time": "2022-02-08T21:09:50.083Z"
   },
   {
    "duration": 7,
    "start_time": "2022-02-08T21:09:50.089Z"
   },
   {
    "duration": 15,
    "start_time": "2022-02-08T21:09:50.098Z"
   },
   {
    "duration": 9,
    "start_time": "2022-02-08T21:09:50.114Z"
   },
   {
    "duration": 19,
    "start_time": "2022-02-08T21:09:50.126Z"
   },
   {
    "duration": 36,
    "start_time": "2022-02-08T21:09:50.147Z"
   },
   {
    "duration": 27,
    "start_time": "2022-02-08T21:09:50.184Z"
   },
   {
    "duration": 22,
    "start_time": "2022-02-08T21:09:50.212Z"
   },
   {
    "duration": 38,
    "start_time": "2022-02-08T21:09:50.236Z"
   },
   {
    "duration": 16,
    "start_time": "2022-02-08T21:09:50.276Z"
   },
   {
    "duration": 7,
    "start_time": "2022-02-08T21:09:50.293Z"
   },
   {
    "duration": 3,
    "start_time": "2022-02-08T21:09:50.302Z"
   },
   {
    "duration": 15,
    "start_time": "2022-02-08T21:09:50.306Z"
   },
   {
    "duration": 11,
    "start_time": "2022-02-08T21:09:50.323Z"
   },
   {
    "duration": 70,
    "start_time": "2022-02-08T21:09:50.335Z"
   },
   {
    "duration": 5,
    "start_time": "2022-02-08T21:09:50.406Z"
   },
   {
    "duration": 7,
    "start_time": "2022-02-08T21:09:50.412Z"
   },
   {
    "duration": 7,
    "start_time": "2022-02-08T21:09:50.420Z"
   },
   {
    "duration": 7,
    "start_time": "2022-02-08T21:09:50.429Z"
   },
   {
    "duration": 8,
    "start_time": "2022-02-08T21:09:50.437Z"
   },
   {
    "duration": 83,
    "start_time": "2022-02-08T21:09:50.446Z"
   },
   {
    "duration": 5,
    "start_time": "2022-02-08T21:09:50.530Z"
   },
   {
    "duration": 38,
    "start_time": "2022-02-08T21:09:50.536Z"
   },
   {
    "duration": 874,
    "start_time": "2022-02-08T21:09:50.576Z"
   },
   {
    "duration": 98,
    "start_time": "2022-02-08T21:09:51.452Z"
   },
   {
    "duration": 39,
    "start_time": "2022-02-08T21:09:51.551Z"
   },
   {
    "duration": 3,
    "start_time": "2022-02-08T21:09:51.591Z"
   },
   {
    "duration": 8,
    "start_time": "2022-02-08T21:09:51.596Z"
   },
   {
    "duration": 5,
    "start_time": "2022-02-08T21:09:51.605Z"
   },
   {
    "duration": 4,
    "start_time": "2022-02-08T21:09:51.612Z"
   },
   {
    "duration": 537,
    "start_time": "2022-02-08T21:09:51.618Z"
   },
   {
    "duration": 517,
    "start_time": "2022-02-08T21:09:52.157Z"
   },
   {
    "duration": 402,
    "start_time": "2022-02-08T21:09:52.676Z"
   },
   {
    "duration": 202,
    "start_time": "2022-02-08T21:09:53.079Z"
   },
   {
    "duration": 211,
    "start_time": "2022-02-08T21:09:53.282Z"
   },
   {
    "duration": 8,
    "start_time": "2022-02-08T21:09:53.494Z"
   },
   {
    "duration": 4,
    "start_time": "2022-02-08T21:09:53.504Z"
   },
   {
    "duration": 6,
    "start_time": "2022-02-08T21:09:53.510Z"
   },
   {
    "duration": 343,
    "start_time": "2022-02-08T21:09:53.517Z"
   },
   {
    "duration": 347,
    "start_time": "2022-02-08T21:09:53.862Z"
   },
   {
    "duration": 319,
    "start_time": "2022-02-08T21:09:54.211Z"
   },
   {
    "duration": 192,
    "start_time": "2022-02-08T21:09:54.531Z"
   },
   {
    "duration": 201,
    "start_time": "2022-02-08T21:09:54.724Z"
   },
   {
    "duration": 8,
    "start_time": "2022-02-08T21:09:54.927Z"
   },
   {
    "duration": 4,
    "start_time": "2022-02-08T21:09:54.936Z"
   },
   {
    "duration": 5,
    "start_time": "2022-02-08T21:09:54.941Z"
   },
   {
    "duration": 1408,
    "start_time": "2022-02-08T21:09:54.948Z"
   },
   {
    "duration": 711,
    "start_time": "2022-02-08T21:09:56.358Z"
   },
   {
    "duration": 366,
    "start_time": "2022-02-08T21:09:57.070Z"
   },
   {
    "duration": 207,
    "start_time": "2022-02-08T21:09:57.441Z"
   },
   {
    "duration": 289,
    "start_time": "2022-02-08T21:09:57.650Z"
   },
   {
    "duration": 31,
    "start_time": "2022-02-08T21:09:57.941Z"
   },
   {
    "duration": 5,
    "start_time": "2022-02-08T21:09:57.974Z"
   },
   {
    "duration": 16,
    "start_time": "2022-02-08T21:09:57.981Z"
   },
   {
    "duration": 1247,
    "start_time": "2022-02-08T21:09:57.999Z"
   },
   {
    "duration": 13,
    "start_time": "2022-02-08T21:09:59.248Z"
   },
   {
    "duration": 13,
    "start_time": "2022-02-08T21:09:59.272Z"
   },
   {
    "duration": 1150,
    "start_time": "2022-02-08T21:11:40.151Z"
   },
   {
    "duration": 1128,
    "start_time": "2022-02-08T21:11:41.303Z"
   },
   {
    "duration": 59,
    "start_time": "2022-02-08T21:11:42.433Z"
   },
   {
    "duration": 58,
    "start_time": "2022-02-08T21:11:42.494Z"
   },
   {
    "duration": 35,
    "start_time": "2022-02-08T21:11:42.554Z"
   },
   {
    "duration": 40,
    "start_time": "2022-02-08T21:11:42.591Z"
   },
   {
    "duration": 62,
    "start_time": "2022-02-08T21:11:42.633Z"
   },
   {
    "duration": 41,
    "start_time": "2022-02-08T21:11:42.697Z"
   },
   {
    "duration": 54,
    "start_time": "2022-02-08T21:11:42.740Z"
   },
   {
    "duration": 5,
    "start_time": "2022-02-08T21:11:42.796Z"
   },
   {
    "duration": 37,
    "start_time": "2022-02-08T21:11:42.803Z"
   },
   {
    "duration": 59,
    "start_time": "2022-02-08T21:11:42.842Z"
   },
   {
    "duration": 17,
    "start_time": "2022-02-08T21:11:42.903Z"
   },
   {
    "duration": 7,
    "start_time": "2022-02-08T21:11:42.922Z"
   },
   {
    "duration": 41,
    "start_time": "2022-02-08T21:11:42.931Z"
   },
   {
    "duration": 11,
    "start_time": "2022-02-08T21:11:42.974Z"
   },
   {
    "duration": 9,
    "start_time": "2022-02-08T21:11:42.987Z"
   },
   {
    "duration": 5,
    "start_time": "2022-02-08T21:11:42.998Z"
   },
   {
    "duration": 4,
    "start_time": "2022-02-08T21:11:43.004Z"
   },
   {
    "duration": 5,
    "start_time": "2022-02-08T21:11:43.009Z"
   },
   {
    "duration": 11,
    "start_time": "2022-02-08T21:11:43.016Z"
   },
   {
    "duration": 47,
    "start_time": "2022-02-08T21:11:43.028Z"
   },
   {
    "duration": 19,
    "start_time": "2022-02-08T21:11:43.079Z"
   },
   {
    "duration": 13,
    "start_time": "2022-02-08T21:11:43.100Z"
   },
   {
    "duration": 26,
    "start_time": "2022-02-08T21:11:43.115Z"
   },
   {
    "duration": 43,
    "start_time": "2022-02-08T21:11:43.143Z"
   },
   {
    "duration": 18,
    "start_time": "2022-02-08T21:11:43.187Z"
   },
   {
    "duration": 16,
    "start_time": "2022-02-08T21:11:43.207Z"
   },
   {
    "duration": 7,
    "start_time": "2022-02-08T21:11:43.225Z"
   },
   {
    "duration": 4,
    "start_time": "2022-02-08T21:11:43.234Z"
   },
   {
    "duration": 41,
    "start_time": "2022-02-08T21:11:43.239Z"
   },
   {
    "duration": 12,
    "start_time": "2022-02-08T21:11:43.282Z"
   },
   {
    "duration": 48,
    "start_time": "2022-02-08T21:11:43.295Z"
   },
   {
    "duration": 5,
    "start_time": "2022-02-08T21:11:43.344Z"
   },
   {
    "duration": 3,
    "start_time": "2022-02-08T21:11:43.372Z"
   },
   {
    "duration": 8,
    "start_time": "2022-02-08T21:11:43.376Z"
   },
   {
    "duration": 8,
    "start_time": "2022-02-08T21:11:43.385Z"
   },
   {
    "duration": 6,
    "start_time": "2022-02-08T21:11:43.395Z"
   },
   {
    "duration": 78,
    "start_time": "2022-02-08T21:11:43.403Z"
   },
   {
    "duration": 5,
    "start_time": "2022-02-08T21:11:43.482Z"
   },
   {
    "duration": 26,
    "start_time": "2022-02-08T21:11:43.488Z"
   },
   {
    "duration": 838,
    "start_time": "2022-02-08T21:11:43.516Z"
   },
   {
    "duration": 94,
    "start_time": "2022-02-08T21:11:44.356Z"
   },
   {
    "duration": 38,
    "start_time": "2022-02-08T21:11:44.452Z"
   },
   {
    "duration": 3,
    "start_time": "2022-02-08T21:11:44.492Z"
   },
   {
    "duration": 8,
    "start_time": "2022-02-08T21:11:44.496Z"
   },
   {
    "duration": 4,
    "start_time": "2022-02-08T21:11:44.505Z"
   },
   {
    "duration": 4,
    "start_time": "2022-02-08T21:11:44.511Z"
   },
   {
    "duration": 447,
    "start_time": "2022-02-08T21:11:44.516Z"
   },
   {
    "duration": 362,
    "start_time": "2022-02-08T21:11:44.964Z"
   },
   {
    "duration": 362,
    "start_time": "2022-02-08T21:11:45.328Z"
   },
   {
    "duration": 195,
    "start_time": "2022-02-08T21:11:45.691Z"
   },
   {
    "duration": 204,
    "start_time": "2022-02-08T21:11:45.887Z"
   },
   {
    "duration": 8,
    "start_time": "2022-02-08T21:11:46.092Z"
   },
   {
    "duration": 3,
    "start_time": "2022-02-08T21:11:46.101Z"
   },
   {
    "duration": 4,
    "start_time": "2022-02-08T21:11:46.106Z"
   },
   {
    "duration": 346,
    "start_time": "2022-02-08T21:11:46.111Z"
   },
   {
    "duration": 340,
    "start_time": "2022-02-08T21:11:46.459Z"
   },
   {
    "duration": 339,
    "start_time": "2022-02-08T21:11:46.801Z"
   },
   {
    "duration": 200,
    "start_time": "2022-02-08T21:11:47.142Z"
   },
   {
    "duration": 205,
    "start_time": "2022-02-08T21:11:47.344Z"
   },
   {
    "duration": 8,
    "start_time": "2022-02-08T21:11:47.550Z"
   },
   {
    "duration": 4,
    "start_time": "2022-02-08T21:11:47.571Z"
   },
   {
    "duration": 13,
    "start_time": "2022-02-08T21:11:47.576Z"
   },
   {
    "duration": 762,
    "start_time": "2022-02-08T21:11:47.590Z"
   },
   {
    "duration": 647,
    "start_time": "2022-02-08T21:11:48.353Z"
   },
   {
    "duration": 381,
    "start_time": "2022-02-08T21:11:49.001Z"
   },
   {
    "duration": 206,
    "start_time": "2022-02-08T21:11:49.387Z"
   },
   {
    "duration": 284,
    "start_time": "2022-02-08T21:11:49.595Z"
   },
   {
    "duration": 25,
    "start_time": "2022-02-08T21:11:49.881Z"
   },
   {
    "duration": 6,
    "start_time": "2022-02-08T21:11:49.907Z"
   },
   {
    "duration": 16,
    "start_time": "2022-02-08T21:11:49.914Z"
   },
   {
    "duration": 1263,
    "start_time": "2022-02-08T21:11:49.931Z"
   },
   {
    "duration": 12,
    "start_time": "2022-02-08T21:11:51.196Z"
   },
   {
    "duration": 15,
    "start_time": "2022-02-08T21:11:51.210Z"
   },
   {
    "duration": 1273,
    "start_time": "2022-02-09T16:46:56.312Z"
   },
   {
    "duration": 951,
    "start_time": "2022-02-09T16:46:57.587Z"
   },
   {
    "duration": 53,
    "start_time": "2022-02-09T16:46:58.541Z"
   },
   {
    "duration": 47,
    "start_time": "2022-02-09T16:46:58.596Z"
   },
   {
    "duration": 55,
    "start_time": "2022-02-09T16:46:58.645Z"
   },
   {
    "duration": 47,
    "start_time": "2022-02-09T16:46:58.702Z"
   },
   {
    "duration": 67,
    "start_time": "2022-02-09T16:46:58.751Z"
   },
   {
    "duration": 50,
    "start_time": "2022-02-09T16:46:58.820Z"
   },
   {
    "duration": 64,
    "start_time": "2022-02-09T16:46:58.872Z"
   },
   {
    "duration": 6,
    "start_time": "2022-02-09T16:46:58.938Z"
   },
   {
    "duration": 63,
    "start_time": "2022-02-09T16:46:58.946Z"
   },
   {
    "duration": 49,
    "start_time": "2022-02-09T16:46:59.012Z"
   },
   {
    "duration": 18,
    "start_time": "2022-02-09T16:46:59.062Z"
   },
   {
    "duration": 10,
    "start_time": "2022-02-09T16:46:59.101Z"
   },
   {
    "duration": 32,
    "start_time": "2022-02-09T16:46:59.114Z"
   },
   {
    "duration": 11,
    "start_time": "2022-02-09T16:46:59.148Z"
   },
   {
    "duration": 23,
    "start_time": "2022-02-09T16:46:59.161Z"
   },
   {
    "duration": 17,
    "start_time": "2022-02-09T16:46:59.186Z"
   },
   {
    "duration": 12,
    "start_time": "2022-02-09T16:46:59.206Z"
   },
   {
    "duration": 14,
    "start_time": "2022-02-09T16:46:59.220Z"
   },
   {
    "duration": 18,
    "start_time": "2022-02-09T16:46:59.235Z"
   },
   {
    "duration": 10,
    "start_time": "2022-02-09T16:46:59.254Z"
   },
   {
    "duration": 47,
    "start_time": "2022-02-09T16:46:59.266Z"
   },
   {
    "duration": 16,
    "start_time": "2022-02-09T16:46:59.315Z"
   },
   {
    "duration": 32,
    "start_time": "2022-02-09T16:46:59.333Z"
   },
   {
    "duration": 50,
    "start_time": "2022-02-09T16:46:59.367Z"
   },
   {
    "duration": 22,
    "start_time": "2022-02-09T16:46:59.422Z"
   },
   {
    "duration": 20,
    "start_time": "2022-02-09T16:46:59.447Z"
   },
   {
    "duration": 6,
    "start_time": "2022-02-09T16:46:59.498Z"
   },
   {
    "duration": 6,
    "start_time": "2022-02-09T16:46:59.506Z"
   },
   {
    "duration": 16,
    "start_time": "2022-02-09T16:46:59.514Z"
   },
   {
    "duration": 13,
    "start_time": "2022-02-09T16:46:59.531Z"
   },
   {
    "duration": 90,
    "start_time": "2022-02-09T16:46:59.546Z"
   },
   {
    "duration": 6,
    "start_time": "2022-02-09T16:46:59.638Z"
   },
   {
    "duration": 8,
    "start_time": "2022-02-09T16:46:59.645Z"
   },
   {
    "duration": 9,
    "start_time": "2022-02-09T16:46:59.655Z"
   },
   {
    "duration": 33,
    "start_time": "2022-02-09T16:46:59.666Z"
   },
   {
    "duration": 6,
    "start_time": "2022-02-09T16:46:59.701Z"
   },
   {
    "duration": 96,
    "start_time": "2022-02-09T16:46:59.709Z"
   },
   {
    "duration": 7,
    "start_time": "2022-02-09T16:46:59.807Z"
   },
   {
    "duration": 41,
    "start_time": "2022-02-09T16:46:59.816Z"
   },
   {
    "duration": 1155,
    "start_time": "2022-02-09T16:46:59.859Z"
   },
   {
    "duration": 109,
    "start_time": "2022-02-09T16:47:01.016Z"
   },
   {
    "duration": 38,
    "start_time": "2022-02-09T16:47:01.126Z"
   },
   {
    "duration": 4,
    "start_time": "2022-02-09T16:47:01.166Z"
   },
   {
    "duration": 33,
    "start_time": "2022-02-09T16:47:01.172Z"
   },
   {
    "duration": 4,
    "start_time": "2022-02-09T16:47:01.207Z"
   },
   {
    "duration": 10,
    "start_time": "2022-02-09T16:47:01.213Z"
   },
   {
    "duration": 464,
    "start_time": "2022-02-09T16:47:01.225Z"
   },
   {
    "duration": 311,
    "start_time": "2022-02-09T16:47:01.691Z"
   },
   {
    "duration": 539,
    "start_time": "2022-02-09T16:47:02.004Z"
   },
   {
    "duration": 277,
    "start_time": "2022-02-09T16:47:02.545Z"
   },
   {
    "duration": 278,
    "start_time": "2022-02-09T16:47:02.825Z"
   },
   {
    "duration": 10,
    "start_time": "2022-02-09T16:47:03.105Z"
   },
   {
    "duration": 25,
    "start_time": "2022-02-09T16:47:03.117Z"
   },
   {
    "duration": 15,
    "start_time": "2022-02-09T16:47:03.144Z"
   },
   {
    "duration": 330,
    "start_time": "2022-02-09T16:47:03.161Z"
   },
   {
    "duration": 309,
    "start_time": "2022-02-09T16:47:03.493Z"
   },
   {
    "duration": 467,
    "start_time": "2022-02-09T16:47:03.804Z"
   },
   {
    "duration": 291,
    "start_time": "2022-02-09T16:47:04.273Z"
   },
   {
    "duration": 284,
    "start_time": "2022-02-09T16:47:04.566Z"
   },
   {
    "duration": 10,
    "start_time": "2022-02-09T16:47:04.852Z"
   },
   {
    "duration": 23,
    "start_time": "2022-02-09T16:47:04.864Z"
   },
   {
    "duration": 13,
    "start_time": "2022-02-09T16:47:04.890Z"
   },
   {
    "duration": 673,
    "start_time": "2022-02-09T16:47:04.905Z"
   },
   {
    "duration": 555,
    "start_time": "2022-02-09T16:47:05.579Z"
   },
   {
    "duration": 521,
    "start_time": "2022-02-09T16:47:06.136Z"
   },
   {
    "duration": 283,
    "start_time": "2022-02-09T16:47:06.659Z"
   },
   {
    "duration": 368,
    "start_time": "2022-02-09T16:47:06.943Z"
   },
   {
    "duration": 30,
    "start_time": "2022-02-09T16:47:07.313Z"
   },
   {
    "duration": 7,
    "start_time": "2022-02-09T16:47:07.345Z"
   },
   {
    "duration": 46,
    "start_time": "2022-02-09T16:47:07.354Z"
   },
   {
    "duration": 1678,
    "start_time": "2022-02-09T16:47:07.402Z"
   },
   {
    "duration": 26,
    "start_time": "2022-02-09T16:47:09.082Z"
   },
   {
    "duration": 21,
    "start_time": "2022-02-09T16:47:09.110Z"
   },
   {
    "duration": 1243,
    "start_time": "2022-02-09T17:18:05.126Z"
   },
   {
    "duration": 2049,
    "start_time": "2022-02-09T17:18:06.371Z"
   },
   {
    "duration": 58,
    "start_time": "2022-02-09T17:18:08.422Z"
   },
   {
    "duration": 54,
    "start_time": "2022-02-09T17:18:08.482Z"
   },
   {
    "duration": 65,
    "start_time": "2022-02-09T17:18:08.538Z"
   },
   {
    "duration": 49,
    "start_time": "2022-02-09T17:18:08.605Z"
   },
   {
    "duration": 65,
    "start_time": "2022-02-09T17:18:08.655Z"
   },
   {
    "duration": 75,
    "start_time": "2022-02-09T17:18:08.723Z"
   },
   {
    "duration": 41,
    "start_time": "2022-02-09T17:18:08.801Z"
   },
   {
    "duration": 5,
    "start_time": "2022-02-09T17:18:08.844Z"
   },
   {
    "duration": 60,
    "start_time": "2022-02-09T17:18:08.850Z"
   },
   {
    "duration": 49,
    "start_time": "2022-02-09T17:18:08.912Z"
   },
   {
    "duration": 41,
    "start_time": "2022-02-09T17:18:08.963Z"
   },
   {
    "duration": 7,
    "start_time": "2022-02-09T17:18:09.006Z"
   },
   {
    "duration": 18,
    "start_time": "2022-02-09T17:18:09.015Z"
   },
   {
    "duration": 11,
    "start_time": "2022-02-09T17:18:09.035Z"
   },
   {
    "duration": 10,
    "start_time": "2022-02-09T17:18:09.048Z"
   },
   {
    "duration": 42,
    "start_time": "2022-02-09T17:18:09.060Z"
   },
   {
    "duration": 11,
    "start_time": "2022-02-09T17:18:09.104Z"
   },
   {
    "duration": 17,
    "start_time": "2022-02-09T17:18:09.116Z"
   },
   {
    "duration": 21,
    "start_time": "2022-02-09T17:18:09.134Z"
   },
   {
    "duration": 13,
    "start_time": "2022-02-09T17:18:09.157Z"
   },
   {
    "duration": 42,
    "start_time": "2022-02-09T17:18:09.175Z"
   },
   {
    "duration": 17,
    "start_time": "2022-02-09T17:18:09.221Z"
   },
   {
    "duration": 36,
    "start_time": "2022-02-09T17:18:09.240Z"
   },
   {
    "duration": 46,
    "start_time": "2022-02-09T17:18:09.278Z"
   },
   {
    "duration": 23,
    "start_time": "2022-02-09T17:18:09.326Z"
   },
   {
    "duration": 51,
    "start_time": "2022-02-09T17:18:09.351Z"
   },
   {
    "duration": 6,
    "start_time": "2022-02-09T17:18:09.403Z"
   },
   {
    "duration": 15,
    "start_time": "2022-02-09T17:18:09.410Z"
   },
   {
    "duration": 25,
    "start_time": "2022-02-09T17:18:09.427Z"
   },
   {
    "duration": 15,
    "start_time": "2022-02-09T17:18:09.454Z"
   },
   {
    "duration": 81,
    "start_time": "2022-02-09T17:18:09.471Z"
   },
   {
    "duration": 5,
    "start_time": "2022-02-09T17:18:09.554Z"
   },
   {
    "duration": 20,
    "start_time": "2022-02-09T17:18:09.561Z"
   },
   {
    "duration": 28,
    "start_time": "2022-02-09T17:18:09.584Z"
   },
   {
    "duration": 19,
    "start_time": "2022-02-09T17:18:09.614Z"
   },
   {
    "duration": 19,
    "start_time": "2022-02-09T17:18:09.635Z"
   },
   {
    "duration": 118,
    "start_time": "2022-02-09T17:18:09.656Z"
   },
   {
    "duration": 8,
    "start_time": "2022-02-09T17:18:09.776Z"
   },
   {
    "duration": 52,
    "start_time": "2022-02-09T17:18:09.786Z"
   },
   {
    "duration": 1145,
    "start_time": "2022-02-09T17:18:09.840Z"
   },
   {
    "duration": 123,
    "start_time": "2022-02-09T17:18:10.987Z"
   },
   {
    "duration": 40,
    "start_time": "2022-02-09T17:18:11.111Z"
   },
   {
    "duration": 3,
    "start_time": "2022-02-09T17:18:11.153Z"
   },
   {
    "duration": 28,
    "start_time": "2022-02-09T17:18:11.158Z"
   },
   {
    "duration": 4,
    "start_time": "2022-02-09T17:18:11.199Z"
   },
   {
    "duration": 6,
    "start_time": "2022-02-09T17:18:11.205Z"
   },
   {
    "duration": 433,
    "start_time": "2022-02-09T17:18:11.212Z"
   },
   {
    "duration": 295,
    "start_time": "2022-02-09T17:18:11.647Z"
   },
   {
    "duration": 513,
    "start_time": "2022-02-09T17:18:11.944Z"
   },
   {
    "duration": 269,
    "start_time": "2022-02-09T17:18:12.459Z"
   },
   {
    "duration": 273,
    "start_time": "2022-02-09T17:18:12.730Z"
   },
   {
    "duration": 8,
    "start_time": "2022-02-09T17:18:13.005Z"
   },
   {
    "duration": 6,
    "start_time": "2022-02-09T17:18:13.015Z"
   },
   {
    "duration": 9,
    "start_time": "2022-02-09T17:18:13.023Z"
   },
   {
    "duration": 294,
    "start_time": "2022-02-09T17:18:13.034Z"
   },
   {
    "duration": 306,
    "start_time": "2022-02-09T17:18:13.330Z"
   },
   {
    "duration": 442,
    "start_time": "2022-02-09T17:18:13.638Z"
   },
   {
    "duration": 254,
    "start_time": "2022-02-09T17:18:14.082Z"
   },
   {
    "duration": 269,
    "start_time": "2022-02-09T17:18:14.338Z"
   },
   {
    "duration": 9,
    "start_time": "2022-02-09T17:18:14.608Z"
   },
   {
    "duration": 5,
    "start_time": "2022-02-09T17:18:14.620Z"
   },
   {
    "duration": 6,
    "start_time": "2022-02-09T17:18:14.627Z"
   },
   {
    "duration": 1445,
    "start_time": "2022-02-09T17:18:14.635Z"
   },
   {
    "duration": 553,
    "start_time": "2022-02-09T17:18:16.082Z"
   },
   {
    "duration": 511,
    "start_time": "2022-02-09T17:18:16.636Z"
   },
   {
    "duration": 267,
    "start_time": "2022-02-09T17:18:17.152Z"
   },
   {
    "duration": 367,
    "start_time": "2022-02-09T17:18:17.421Z"
   },
   {
    "duration": 34,
    "start_time": "2022-02-09T17:18:17.789Z"
   },
   {
    "duration": 7,
    "start_time": "2022-02-09T17:18:17.825Z"
   },
   {
    "duration": 24,
    "start_time": "2022-02-09T17:18:17.833Z"
   },
   {
    "duration": 1667,
    "start_time": "2022-02-09T17:18:17.858Z"
   },
   {
    "duration": 14,
    "start_time": "2022-02-09T17:18:19.526Z"
   },
   {
    "duration": 35,
    "start_time": "2022-02-09T17:18:19.542Z"
   },
   {
    "duration": 1399,
    "start_time": "2022-02-09T17:18:33.195Z"
   },
   {
    "duration": 904,
    "start_time": "2022-02-09T17:18:34.596Z"
   },
   {
    "duration": 58,
    "start_time": "2022-02-09T17:18:35.502Z"
   },
   {
    "duration": 69,
    "start_time": "2022-02-09T17:18:35.562Z"
   },
   {
    "duration": 34,
    "start_time": "2022-02-09T17:18:35.633Z"
   },
   {
    "duration": 79,
    "start_time": "2022-02-09T17:18:35.669Z"
   },
   {
    "duration": 68,
    "start_time": "2022-02-09T17:18:35.750Z"
   },
   {
    "duration": 51,
    "start_time": "2022-02-09T17:18:35.821Z"
   },
   {
    "duration": 60,
    "start_time": "2022-02-09T17:18:35.874Z"
   },
   {
    "duration": 5,
    "start_time": "2022-02-09T17:18:35.936Z"
   },
   {
    "duration": 59,
    "start_time": "2022-02-09T17:18:35.943Z"
   },
   {
    "duration": 51,
    "start_time": "2022-02-09T17:18:36.004Z"
   },
   {
    "duration": 43,
    "start_time": "2022-02-09T17:18:36.057Z"
   },
   {
    "duration": 8,
    "start_time": "2022-02-09T17:18:36.102Z"
   },
   {
    "duration": 45,
    "start_time": "2022-02-09T17:18:36.111Z"
   },
   {
    "duration": 22,
    "start_time": "2022-02-09T17:18:36.157Z"
   },
   {
    "duration": 27,
    "start_time": "2022-02-09T17:18:36.181Z"
   },
   {
    "duration": 11,
    "start_time": "2022-02-09T17:18:36.209Z"
   },
   {
    "duration": 30,
    "start_time": "2022-02-09T17:18:36.222Z"
   },
   {
    "duration": 31,
    "start_time": "2022-02-09T17:18:36.254Z"
   },
   {
    "duration": 28,
    "start_time": "2022-02-09T17:18:36.287Z"
   },
   {
    "duration": 25,
    "start_time": "2022-02-09T17:18:36.317Z"
   },
   {
    "duration": 44,
    "start_time": "2022-02-09T17:18:36.346Z"
   },
   {
    "duration": 18,
    "start_time": "2022-02-09T17:18:36.393Z"
   },
   {
    "duration": 56,
    "start_time": "2022-02-09T17:18:36.413Z"
   },
   {
    "duration": 28,
    "start_time": "2022-02-09T17:18:36.471Z"
   },
   {
    "duration": 27,
    "start_time": "2022-02-09T17:18:36.501Z"
   },
   {
    "duration": 21,
    "start_time": "2022-02-09T17:18:36.531Z"
   },
   {
    "duration": 9,
    "start_time": "2022-02-09T17:18:36.553Z"
   },
   {
    "duration": 20,
    "start_time": "2022-02-09T17:18:36.564Z"
   },
   {
    "duration": 35,
    "start_time": "2022-02-09T17:18:36.586Z"
   },
   {
    "duration": 27,
    "start_time": "2022-02-09T17:18:36.623Z"
   },
   {
    "duration": 73,
    "start_time": "2022-02-09T17:18:36.652Z"
   },
   {
    "duration": 7,
    "start_time": "2022-02-09T17:18:36.727Z"
   },
   {
    "duration": 26,
    "start_time": "2022-02-09T17:18:36.735Z"
   },
   {
    "duration": 19,
    "start_time": "2022-02-09T17:18:36.763Z"
   },
   {
    "duration": 21,
    "start_time": "2022-02-09T17:18:36.784Z"
   },
   {
    "duration": 22,
    "start_time": "2022-02-09T17:18:36.807Z"
   },
   {
    "duration": 101,
    "start_time": "2022-02-09T17:18:36.831Z"
   },
   {
    "duration": 7,
    "start_time": "2022-02-09T17:18:36.934Z"
   },
   {
    "duration": 58,
    "start_time": "2022-02-09T17:18:36.942Z"
   },
   {
    "duration": 1154,
    "start_time": "2022-02-09T17:18:37.002Z"
   },
   {
    "duration": 120,
    "start_time": "2022-02-09T17:18:38.159Z"
   },
   {
    "duration": 49,
    "start_time": "2022-02-09T17:18:38.281Z"
   },
   {
    "duration": 4,
    "start_time": "2022-02-09T17:18:38.332Z"
   },
   {
    "duration": 21,
    "start_time": "2022-02-09T17:18:38.338Z"
   },
   {
    "duration": 21,
    "start_time": "2022-02-09T17:18:38.361Z"
   },
   {
    "duration": 24,
    "start_time": "2022-02-09T17:18:38.384Z"
   },
   {
    "duration": 474,
    "start_time": "2022-02-09T17:18:38.410Z"
   },
   {
    "duration": 323,
    "start_time": "2022-02-09T17:18:38.885Z"
   },
   {
    "duration": 512,
    "start_time": "2022-02-09T17:18:39.210Z"
   },
   {
    "duration": 269,
    "start_time": "2022-02-09T17:18:39.724Z"
   },
   {
    "duration": 273,
    "start_time": "2022-02-09T17:18:39.995Z"
   },
   {
    "duration": 10,
    "start_time": "2022-02-09T17:18:40.270Z"
   },
   {
    "duration": 17,
    "start_time": "2022-02-09T17:18:40.283Z"
   },
   {
    "duration": 8,
    "start_time": "2022-02-09T17:18:40.302Z"
   },
   {
    "duration": 309,
    "start_time": "2022-02-09T17:18:40.312Z"
   },
   {
    "duration": 304,
    "start_time": "2022-02-09T17:18:40.624Z"
   },
   {
    "duration": 453,
    "start_time": "2022-02-09T17:18:40.931Z"
   },
   {
    "duration": 271,
    "start_time": "2022-02-09T17:18:41.387Z"
   },
   {
    "duration": 268,
    "start_time": "2022-02-09T17:18:41.661Z"
   },
   {
    "duration": 10,
    "start_time": "2022-02-09T17:18:41.931Z"
   },
   {
    "duration": 6,
    "start_time": "2022-02-09T17:18:41.943Z"
   },
   {
    "duration": 22,
    "start_time": "2022-02-09T17:18:41.951Z"
   },
   {
    "duration": 571,
    "start_time": "2022-02-09T17:18:41.975Z"
   },
   {
    "duration": 580,
    "start_time": "2022-02-09T17:18:42.548Z"
   },
   {
    "duration": 518,
    "start_time": "2022-02-09T17:18:43.129Z"
   },
   {
    "duration": 298,
    "start_time": "2022-02-09T17:18:43.653Z"
   },
   {
    "duration": 373,
    "start_time": "2022-02-09T17:18:43.953Z"
   },
   {
    "duration": 30,
    "start_time": "2022-02-09T17:18:44.328Z"
   },
   {
    "duration": 6,
    "start_time": "2022-02-09T17:18:44.360Z"
   },
   {
    "duration": 44,
    "start_time": "2022-02-09T17:18:44.368Z"
   },
   {
    "duration": 1729,
    "start_time": "2022-02-09T17:18:44.414Z"
   },
   {
    "duration": 15,
    "start_time": "2022-02-09T17:18:46.145Z"
   },
   {
    "duration": 19,
    "start_time": "2022-02-09T17:18:46.162Z"
   },
   {
    "duration": 1241,
    "start_time": "2022-02-09T17:20:33.155Z"
   },
   {
    "duration": 1023,
    "start_time": "2022-02-09T17:20:34.398Z"
   },
   {
    "duration": 57,
    "start_time": "2022-02-09T17:20:35.423Z"
   },
   {
    "duration": 68,
    "start_time": "2022-02-09T17:20:35.482Z"
   },
   {
    "duration": 61,
    "start_time": "2022-02-09T17:20:35.552Z"
   },
   {
    "duration": 50,
    "start_time": "2022-02-09T17:20:35.615Z"
   },
   {
    "duration": 67,
    "start_time": "2022-02-09T17:20:35.667Z"
   },
   {
    "duration": 77,
    "start_time": "2022-02-09T17:20:35.737Z"
   },
   {
    "duration": 40,
    "start_time": "2022-02-09T17:20:35.816Z"
   },
   {
    "duration": 5,
    "start_time": "2022-02-09T17:20:35.858Z"
   },
   {
    "duration": 64,
    "start_time": "2022-02-09T17:20:35.865Z"
   },
   {
    "duration": 45,
    "start_time": "2022-02-09T17:20:35.931Z"
   },
   {
    "duration": 38,
    "start_time": "2022-02-09T17:20:35.978Z"
   },
   {
    "duration": 8,
    "start_time": "2022-02-09T17:20:36.018Z"
   },
   {
    "duration": 14,
    "start_time": "2022-02-09T17:20:36.028Z"
   },
   {
    "duration": 12,
    "start_time": "2022-02-09T17:20:36.044Z"
   },
   {
    "duration": 42,
    "start_time": "2022-02-09T17:20:36.058Z"
   },
   {
    "duration": 6,
    "start_time": "2022-02-09T17:20:36.102Z"
   },
   {
    "duration": 6,
    "start_time": "2022-02-09T17:20:36.110Z"
   },
   {
    "duration": 9,
    "start_time": "2022-02-09T17:20:36.118Z"
   },
   {
    "duration": 17,
    "start_time": "2022-02-09T17:20:36.129Z"
   },
   {
    "duration": 11,
    "start_time": "2022-02-09T17:20:36.148Z"
   },
   {
    "duration": 54,
    "start_time": "2022-02-09T17:20:36.164Z"
   },
   {
    "duration": 17,
    "start_time": "2022-02-09T17:20:36.220Z"
   },
   {
    "duration": 33,
    "start_time": "2022-02-09T17:20:36.239Z"
   },
   {
    "duration": 29,
    "start_time": "2022-02-09T17:20:36.298Z"
   },
   {
    "duration": 22,
    "start_time": "2022-02-09T17:20:36.329Z"
   },
   {
    "duration": 19,
    "start_time": "2022-02-09T17:20:36.353Z"
   },
   {
    "duration": 6,
    "start_time": "2022-02-09T17:20:36.398Z"
   },
   {
    "duration": 5,
    "start_time": "2022-02-09T17:20:36.406Z"
   },
   {
    "duration": 15,
    "start_time": "2022-02-09T17:20:36.413Z"
   },
   {
    "duration": 14,
    "start_time": "2022-02-09T17:20:36.430Z"
   },
   {
    "duration": 93,
    "start_time": "2022-02-09T17:20:36.446Z"
   },
   {
    "duration": 8,
    "start_time": "2022-02-09T17:20:36.541Z"
   },
   {
    "duration": 15,
    "start_time": "2022-02-09T17:20:36.551Z"
   },
   {
    "duration": 23,
    "start_time": "2022-02-09T17:20:36.568Z"
   },
   {
    "duration": 28,
    "start_time": "2022-02-09T17:20:36.593Z"
   },
   {
    "duration": 17,
    "start_time": "2022-02-09T17:20:36.623Z"
   },
   {
    "duration": 109,
    "start_time": "2022-02-09T17:20:36.642Z"
   },
   {
    "duration": 7,
    "start_time": "2022-02-09T17:20:36.753Z"
   },
   {
    "duration": 51,
    "start_time": "2022-02-09T17:20:36.762Z"
   },
   {
    "duration": 1111,
    "start_time": "2022-02-09T17:20:36.816Z"
   },
   {
    "duration": 115,
    "start_time": "2022-02-09T17:20:37.930Z"
   },
   {
    "duration": 53,
    "start_time": "2022-02-09T17:20:38.047Z"
   },
   {
    "duration": 4,
    "start_time": "2022-02-09T17:20:38.102Z"
   },
   {
    "duration": 12,
    "start_time": "2022-02-09T17:20:38.108Z"
   },
   {
    "duration": 8,
    "start_time": "2022-02-09T17:20:38.123Z"
   },
   {
    "duration": 10,
    "start_time": "2022-02-09T17:20:38.133Z"
   },
   {
    "duration": 417,
    "start_time": "2022-02-09T17:20:38.145Z"
   },
   {
    "duration": 296,
    "start_time": "2022-02-09T17:20:38.564Z"
   },
   {
    "duration": 500,
    "start_time": "2022-02-09T17:20:38.862Z"
   },
   {
    "duration": 262,
    "start_time": "2022-02-09T17:20:39.364Z"
   },
   {
    "duration": 265,
    "start_time": "2022-02-09T17:20:39.628Z"
   },
   {
    "duration": 8,
    "start_time": "2022-02-09T17:20:39.898Z"
   },
   {
    "duration": 8,
    "start_time": "2022-02-09T17:20:39.908Z"
   },
   {
    "duration": 7,
    "start_time": "2022-02-09T17:20:39.918Z"
   },
   {
    "duration": 328,
    "start_time": "2022-02-09T17:20:39.927Z"
   },
   {
    "duration": 302,
    "start_time": "2022-02-09T17:20:40.258Z"
   },
   {
    "duration": 439,
    "start_time": "2022-02-09T17:20:40.562Z"
   },
   {
    "duration": 267,
    "start_time": "2022-02-09T17:20:41.004Z"
   },
   {
    "duration": 267,
    "start_time": "2022-02-09T17:20:41.273Z"
   },
   {
    "duration": 10,
    "start_time": "2022-02-09T17:20:41.542Z"
   },
   {
    "duration": 5,
    "start_time": "2022-02-09T17:20:41.554Z"
   },
   {
    "duration": 6,
    "start_time": "2022-02-09T17:20:41.561Z"
   },
   {
    "duration": 582,
    "start_time": "2022-02-09T17:20:41.569Z"
   },
   {
    "duration": 592,
    "start_time": "2022-02-09T17:20:42.153Z"
   },
   {
    "duration": 494,
    "start_time": "2022-02-09T17:20:42.748Z"
   },
   {
    "duration": 275,
    "start_time": "2022-02-09T17:20:43.249Z"
   },
   {
    "duration": 374,
    "start_time": "2022-02-09T17:20:43.526Z"
   },
   {
    "duration": 30,
    "start_time": "2022-02-09T17:20:43.902Z"
   },
   {
    "duration": 10,
    "start_time": "2022-02-09T17:20:43.935Z"
   },
   {
    "duration": 25,
    "start_time": "2022-02-09T17:20:43.948Z"
   },
   {
    "duration": 1677,
    "start_time": "2022-02-09T17:20:43.999Z"
   },
   {
    "duration": 24,
    "start_time": "2022-02-09T17:20:45.678Z"
   },
   {
    "duration": 16,
    "start_time": "2022-02-09T17:20:45.704Z"
   },
   {
    "duration": 510,
    "start_time": "2022-02-09T17:25:15.234Z"
   },
   {
    "duration": 258,
    "start_time": "2022-02-09T17:25:42.989Z"
   },
   {
    "duration": 266,
    "start_time": "2022-02-09T17:25:50.339Z"
   },
   {
    "duration": 546,
    "start_time": "2022-02-09T17:26:38.428Z"
   },
   {
    "duration": 274,
    "start_time": "2022-02-09T17:27:04.353Z"
   },
   {
    "duration": 264,
    "start_time": "2022-02-09T17:27:10.482Z"
   },
   {
    "duration": 494,
    "start_time": "2022-02-09T17:27:17.074Z"
   },
   {
    "duration": 274,
    "start_time": "2022-02-09T17:27:38.700Z"
   },
   {
    "duration": 268,
    "start_time": "2022-02-09T17:27:44.327Z"
   },
   {
    "duration": 490,
    "start_time": "2022-02-09T17:28:43.011Z"
   },
   {
    "duration": 266,
    "start_time": "2022-02-09T17:28:52.632Z"
   },
   {
    "duration": 283,
    "start_time": "2022-02-09T17:29:00.327Z"
   },
   {
    "duration": 1330,
    "start_time": "2022-02-09T17:33:07.943Z"
   },
   {
    "duration": 2050,
    "start_time": "2022-02-09T17:33:09.275Z"
   },
   {
    "duration": 66,
    "start_time": "2022-02-09T17:33:11.327Z"
   },
   {
    "duration": 65,
    "start_time": "2022-02-09T17:33:11.395Z"
   },
   {
    "duration": 65,
    "start_time": "2022-02-09T17:33:11.462Z"
   },
   {
    "duration": 83,
    "start_time": "2022-02-09T17:33:11.529Z"
   },
   {
    "duration": 41,
    "start_time": "2022-02-09T17:33:11.614Z"
   },
   {
    "duration": 84,
    "start_time": "2022-02-09T17:33:11.659Z"
   },
   {
    "duration": 58,
    "start_time": "2022-02-09T17:33:11.746Z"
   },
   {
    "duration": 6,
    "start_time": "2022-02-09T17:33:11.807Z"
   },
   {
    "duration": 52,
    "start_time": "2022-02-09T17:33:11.815Z"
   },
   {
    "duration": 91,
    "start_time": "2022-02-09T17:33:11.869Z"
   },
   {
    "duration": 43,
    "start_time": "2022-02-09T17:33:11.961Z"
   },
   {
    "duration": 10,
    "start_time": "2022-02-09T17:33:12.006Z"
   },
   {
    "duration": 20,
    "start_time": "2022-02-09T17:33:12.019Z"
   },
   {
    "duration": 18,
    "start_time": "2022-02-09T17:33:12.042Z"
   },
   {
    "duration": 44,
    "start_time": "2022-02-09T17:33:12.062Z"
   },
   {
    "duration": 9,
    "start_time": "2022-02-09T17:33:12.108Z"
   },
   {
    "duration": 10,
    "start_time": "2022-02-09T17:33:12.119Z"
   },
   {
    "duration": 9,
    "start_time": "2022-02-09T17:33:12.132Z"
   },
   {
    "duration": 25,
    "start_time": "2022-02-09T17:33:12.143Z"
   },
   {
    "duration": 40,
    "start_time": "2022-02-09T17:33:12.170Z"
   },
   {
    "duration": 26,
    "start_time": "2022-02-09T17:33:12.215Z"
   },
   {
    "duration": 18,
    "start_time": "2022-02-09T17:33:12.244Z"
   },
   {
    "duration": 66,
    "start_time": "2022-02-09T17:33:12.264Z"
   },
   {
    "duration": 33,
    "start_time": "2022-02-09T17:33:12.332Z"
   },
   {
    "duration": 47,
    "start_time": "2022-02-09T17:33:12.367Z"
   },
   {
    "duration": 32,
    "start_time": "2022-02-09T17:33:12.417Z"
   },
   {
    "duration": 7,
    "start_time": "2022-02-09T17:33:12.452Z"
   },
   {
    "duration": 10,
    "start_time": "2022-02-09T17:33:12.461Z"
   },
   {
    "duration": 37,
    "start_time": "2022-02-09T17:33:12.473Z"
   },
   {
    "duration": 65,
    "start_time": "2022-02-09T17:33:12.512Z"
   },
   {
    "duration": 63,
    "start_time": "2022-02-09T17:33:12.579Z"
   },
   {
    "duration": 7,
    "start_time": "2022-02-09T17:33:12.644Z"
   },
   {
    "duration": 8,
    "start_time": "2022-02-09T17:33:12.653Z"
   },
   {
    "duration": 11,
    "start_time": "2022-02-09T17:33:12.663Z"
   },
   {
    "duration": 32,
    "start_time": "2022-02-09T17:33:12.676Z"
   },
   {
    "duration": 8,
    "start_time": "2022-02-09T17:33:12.711Z"
   },
   {
    "duration": 111,
    "start_time": "2022-02-09T17:33:12.721Z"
   },
   {
    "duration": 6,
    "start_time": "2022-02-09T17:33:12.834Z"
   },
   {
    "duration": 57,
    "start_time": "2022-02-09T17:33:12.842Z"
   },
   {
    "duration": 1186,
    "start_time": "2022-02-09T17:33:12.902Z"
   },
   {
    "duration": 118,
    "start_time": "2022-02-09T17:33:14.090Z"
   },
   {
    "duration": 41,
    "start_time": "2022-02-09T17:33:14.210Z"
   },
   {
    "duration": 4,
    "start_time": "2022-02-09T17:33:14.253Z"
   },
   {
    "duration": 43,
    "start_time": "2022-02-09T17:33:14.259Z"
   },
   {
    "duration": 11,
    "start_time": "2022-02-09T17:33:14.304Z"
   },
   {
    "duration": 17,
    "start_time": "2022-02-09T17:33:14.317Z"
   },
   {
    "duration": 434,
    "start_time": "2022-02-09T17:33:14.335Z"
   },
   {
    "duration": 333,
    "start_time": "2022-02-09T17:33:14.771Z"
   },
   {
    "duration": 547,
    "start_time": "2022-02-09T17:33:15.106Z"
   },
   {
    "duration": 340,
    "start_time": "2022-02-09T17:33:15.655Z"
   },
   {
    "duration": 304,
    "start_time": "2022-02-09T17:33:15.997Z"
   },
   {
    "duration": 9,
    "start_time": "2022-02-09T17:33:16.303Z"
   },
   {
    "duration": 6,
    "start_time": "2022-02-09T17:33:16.314Z"
   },
   {
    "duration": 8,
    "start_time": "2022-02-09T17:33:16.322Z"
   },
   {
    "duration": 341,
    "start_time": "2022-02-09T17:33:16.332Z"
   },
   {
    "duration": 295,
    "start_time": "2022-02-09T17:33:16.675Z"
   },
   {
    "duration": 472,
    "start_time": "2022-02-09T17:33:16.972Z"
   },
   {
    "duration": 274,
    "start_time": "2022-02-09T17:33:17.446Z"
   },
   {
    "duration": 294,
    "start_time": "2022-02-09T17:33:17.722Z"
   },
   {
    "duration": 12,
    "start_time": "2022-02-09T17:33:18.019Z"
   },
   {
    "duration": 3,
    "start_time": "2022-02-09T17:33:18.034Z"
   },
   {
    "duration": 11,
    "start_time": "2022-02-09T17:33:18.039Z"
   },
   {
    "duration": 572,
    "start_time": "2022-02-09T17:33:18.052Z"
   },
   {
    "duration": 595,
    "start_time": "2022-02-09T17:33:18.626Z"
   },
   {
    "duration": 533,
    "start_time": "2022-02-09T17:33:19.223Z"
   },
   {
    "duration": 283,
    "start_time": "2022-02-09T17:33:19.761Z"
   },
   {
    "duration": 390,
    "start_time": "2022-02-09T17:33:20.046Z"
   },
   {
    "duration": 31,
    "start_time": "2022-02-09T17:33:20.438Z"
   },
   {
    "duration": 7,
    "start_time": "2022-02-09T17:33:20.471Z"
   },
   {
    "duration": 19,
    "start_time": "2022-02-09T17:33:20.499Z"
   },
   {
    "duration": 1770,
    "start_time": "2022-02-09T17:33:20.521Z"
   },
   {
    "duration": 15,
    "start_time": "2022-02-09T17:33:22.293Z"
   },
   {
    "duration": 31,
    "start_time": "2022-02-09T17:33:22.310Z"
   },
   {
    "duration": 1125,
    "start_time": "2022-02-09T20:02:39.178Z"
   },
   {
    "duration": 2605,
    "start_time": "2022-02-09T20:02:40.305Z"
   },
   {
    "duration": 49,
    "start_time": "2022-02-09T20:02:42.913Z"
   },
   {
    "duration": 43,
    "start_time": "2022-02-09T20:02:42.964Z"
   },
   {
    "duration": 60,
    "start_time": "2022-02-09T20:02:43.009Z"
   },
   {
    "duration": 43,
    "start_time": "2022-02-09T20:02:43.071Z"
   },
   {
    "duration": 61,
    "start_time": "2022-02-09T20:02:43.116Z"
   },
   {
    "duration": 44,
    "start_time": "2022-02-09T20:02:43.179Z"
   },
   {
    "duration": 58,
    "start_time": "2022-02-09T20:02:43.225Z"
   },
   {
    "duration": 5,
    "start_time": "2022-02-09T20:02:43.285Z"
   },
   {
    "duration": 41,
    "start_time": "2022-02-09T20:02:43.291Z"
   },
   {
    "duration": 65,
    "start_time": "2022-02-09T20:02:43.334Z"
   },
   {
    "duration": 19,
    "start_time": "2022-02-09T20:02:43.401Z"
   },
   {
    "duration": 7,
    "start_time": "2022-02-09T20:02:43.421Z"
   },
   {
    "duration": 36,
    "start_time": "2022-02-09T20:02:43.429Z"
   },
   {
    "duration": 12,
    "start_time": "2022-02-09T20:02:43.467Z"
   },
   {
    "duration": 10,
    "start_time": "2022-02-09T20:02:43.480Z"
   },
   {
    "duration": 7,
    "start_time": "2022-02-09T20:02:43.492Z"
   },
   {
    "duration": 7,
    "start_time": "2022-02-09T20:02:43.501Z"
   },
   {
    "duration": 7,
    "start_time": "2022-02-09T20:02:43.510Z"
   },
   {
    "duration": 42,
    "start_time": "2022-02-09T20:02:43.519Z"
   },
   {
    "duration": 12,
    "start_time": "2022-02-09T20:02:43.562Z"
   },
   {
    "duration": 23,
    "start_time": "2022-02-09T20:02:43.578Z"
   },
   {
    "duration": 15,
    "start_time": "2022-02-09T20:02:43.604Z"
   },
   {
    "duration": 58,
    "start_time": "2022-02-09T20:02:43.621Z"
   },
   {
    "duration": 27,
    "start_time": "2022-02-09T20:02:43.680Z"
   },
   {
    "duration": 20,
    "start_time": "2022-02-09T20:02:43.709Z"
   },
   {
    "duration": 42,
    "start_time": "2022-02-09T20:02:43.731Z"
   },
   {
    "duration": 5,
    "start_time": "2022-02-09T20:02:43.774Z"
   },
   {
    "duration": 5,
    "start_time": "2022-02-09T20:02:43.780Z"
   },
   {
    "duration": 15,
    "start_time": "2022-02-09T20:02:43.787Z"
   },
   {
    "duration": 12,
    "start_time": "2022-02-09T20:02:43.804Z"
   },
   {
    "duration": 67,
    "start_time": "2022-02-09T20:02:43.817Z"
   },
   {
    "duration": 5,
    "start_time": "2022-02-09T20:02:43.885Z"
   },
   {
    "duration": 8,
    "start_time": "2022-02-09T20:02:43.891Z"
   },
   {
    "duration": 12,
    "start_time": "2022-02-09T20:02:43.900Z"
   },
   {
    "duration": 16,
    "start_time": "2022-02-09T20:02:43.913Z"
   },
   {
    "duration": 7,
    "start_time": "2022-02-09T20:02:43.930Z"
   },
   {
    "duration": 77,
    "start_time": "2022-02-09T20:02:43.938Z"
   },
   {
    "duration": 5,
    "start_time": "2022-02-09T20:02:44.016Z"
   },
   {
    "duration": 42,
    "start_time": "2022-02-09T20:02:44.023Z"
   },
   {
    "duration": 922,
    "start_time": "2022-02-09T20:02:44.066Z"
   },
   {
    "duration": 112,
    "start_time": "2022-02-09T20:02:44.990Z"
   },
   {
    "duration": 32,
    "start_time": "2022-02-09T20:02:45.104Z"
   },
   {
    "duration": 3,
    "start_time": "2022-02-09T20:02:45.138Z"
   },
   {
    "duration": 21,
    "start_time": "2022-02-09T20:02:45.143Z"
   },
   {
    "duration": 10,
    "start_time": "2022-02-09T20:02:45.166Z"
   },
   {
    "duration": 9,
    "start_time": "2022-02-09T20:02:45.177Z"
   },
   {
    "duration": 319,
    "start_time": "2022-02-09T20:02:45.187Z"
   },
   {
    "duration": 215,
    "start_time": "2022-02-09T20:02:45.508Z"
   },
   {
    "duration": 416,
    "start_time": "2022-02-09T20:02:45.725Z"
   },
   {
    "duration": 219,
    "start_time": "2022-02-09T20:02:46.142Z"
   },
   {
    "duration": 221,
    "start_time": "2022-02-09T20:02:46.363Z"
   },
   {
    "duration": 8,
    "start_time": "2022-02-09T20:02:46.585Z"
   },
   {
    "duration": 6,
    "start_time": "2022-02-09T20:02:46.594Z"
   },
   {
    "duration": 5,
    "start_time": "2022-02-09T20:02:46.601Z"
   },
   {
    "duration": 209,
    "start_time": "2022-02-09T20:02:46.608Z"
   },
   {
    "duration": 208,
    "start_time": "2022-02-09T20:02:46.819Z"
   },
   {
    "duration": 369,
    "start_time": "2022-02-09T20:02:47.029Z"
   },
   {
    "duration": 219,
    "start_time": "2022-02-09T20:02:47.400Z"
   },
   {
    "duration": 224,
    "start_time": "2022-02-09T20:02:47.620Z"
   },
   {
    "duration": 18,
    "start_time": "2022-02-09T20:02:47.845Z"
   },
   {
    "duration": 4,
    "start_time": "2022-02-09T20:02:47.865Z"
   },
   {
    "duration": 5,
    "start_time": "2022-02-09T20:02:47.871Z"
   },
   {
    "duration": 396,
    "start_time": "2022-02-09T20:02:47.878Z"
   },
   {
    "duration": 378,
    "start_time": "2022-02-09T20:02:48.276Z"
   },
   {
    "duration": 427,
    "start_time": "2022-02-09T20:02:48.656Z"
   },
   {
    "duration": 229,
    "start_time": "2022-02-09T20:02:49.088Z"
   },
   {
    "duration": 336,
    "start_time": "2022-02-09T20:02:49.319Z"
   },
   {
    "duration": 26,
    "start_time": "2022-02-09T20:02:49.656Z"
   },
   {
    "duration": 6,
    "start_time": "2022-02-09T20:02:49.684Z"
   },
   {
    "duration": 35,
    "start_time": "2022-02-09T20:02:49.691Z"
   },
   {
    "duration": 1434,
    "start_time": "2022-02-09T20:02:49.728Z"
   },
   {
    "duration": 14,
    "start_time": "2022-02-09T20:02:51.163Z"
   },
   {
    "duration": 31,
    "start_time": "2022-02-09T20:02:51.179Z"
   },
   {
    "duration": 1507,
    "start_time": "2022-02-10T18:50:34.776Z"
   },
   {
    "duration": 2133,
    "start_time": "2022-02-10T18:50:36.287Z"
   },
   {
    "duration": 98,
    "start_time": "2022-02-10T18:50:38.423Z"
   },
   {
    "duration": 102,
    "start_time": "2022-02-10T18:50:38.524Z"
   },
   {
    "duration": 65,
    "start_time": "2022-02-10T18:50:38.628Z"
   },
   {
    "duration": 99,
    "start_time": "2022-02-10T18:50:38.695Z"
   },
   {
    "duration": 75,
    "start_time": "2022-02-10T18:50:38.796Z"
   },
   {
    "duration": 67,
    "start_time": "2022-02-10T18:50:38.875Z"
   },
   {
    "duration": 433,
    "start_time": "2022-02-10T18:50:38.945Z"
   },
   {
    "duration": -985,
    "start_time": "2022-02-10T18:50:40.368Z"
   },
   {
    "duration": -1097,
    "start_time": "2022-02-10T18:50:40.482Z"
   },
   {
    "duration": -1099,
    "start_time": "2022-02-10T18:50:40.485Z"
   },
   {
    "duration": -1101,
    "start_time": "2022-02-10T18:50:40.488Z"
   },
   {
    "duration": -1102,
    "start_time": "2022-02-10T18:50:40.491Z"
   },
   {
    "duration": -1104,
    "start_time": "2022-02-10T18:50:40.494Z"
   },
   {
    "duration": -1107,
    "start_time": "2022-02-10T18:50:40.498Z"
   },
   {
    "duration": -1109,
    "start_time": "2022-02-10T18:50:40.502Z"
   },
   {
    "duration": -1111,
    "start_time": "2022-02-10T18:50:40.505Z"
   },
   {
    "duration": -1112,
    "start_time": "2022-02-10T18:50:40.508Z"
   },
   {
    "duration": -1114,
    "start_time": "2022-02-10T18:50:40.511Z"
   },
   {
    "duration": -1116,
    "start_time": "2022-02-10T18:50:40.515Z"
   },
   {
    "duration": -1154,
    "start_time": "2022-02-10T18:50:40.554Z"
   },
   {
    "duration": -1156,
    "start_time": "2022-02-10T18:50:40.557Z"
   },
   {
    "duration": -1270,
    "start_time": "2022-02-10T18:50:40.673Z"
   },
   {
    "duration": -1272,
    "start_time": "2022-02-10T18:50:40.676Z"
   },
   {
    "duration": -1273,
    "start_time": "2022-02-10T18:50:40.679Z"
   },
   {
    "duration": -1275,
    "start_time": "2022-02-10T18:50:40.682Z"
   },
   {
    "duration": -1278,
    "start_time": "2022-02-10T18:50:40.686Z"
   },
   {
    "duration": -1280,
    "start_time": "2022-02-10T18:50:40.689Z"
   },
   {
    "duration": -1288,
    "start_time": "2022-02-10T18:50:40.699Z"
   },
   {
    "duration": -1290,
    "start_time": "2022-02-10T18:50:40.702Z"
   },
   {
    "duration": -1291,
    "start_time": "2022-02-10T18:50:40.705Z"
   },
   {
    "duration": -1292,
    "start_time": "2022-02-10T18:50:40.708Z"
   },
   {
    "duration": -1293,
    "start_time": "2022-02-10T18:50:40.711Z"
   },
   {
    "duration": -1295,
    "start_time": "2022-02-10T18:50:40.714Z"
   },
   {
    "duration": -1248,
    "start_time": "2022-02-10T18:50:40.717Z"
   },
   {
    "duration": -1250,
    "start_time": "2022-02-10T18:50:40.720Z"
   },
   {
    "duration": -1274,
    "start_time": "2022-02-10T18:50:40.746Z"
   },
   {
    "duration": -1277,
    "start_time": "2022-02-10T18:50:40.750Z"
   },
   {
    "duration": -1284,
    "start_time": "2022-02-10T18:50:40.759Z"
   },
   {
    "duration": -1285,
    "start_time": "2022-02-10T18:50:40.762Z"
   },
   {
    "duration": -1287,
    "start_time": "2022-02-10T18:50:40.765Z"
   },
   {
    "duration": -1290,
    "start_time": "2022-02-10T18:50:40.769Z"
   },
   {
    "duration": -1292,
    "start_time": "2022-02-10T18:50:40.772Z"
   },
   {
    "duration": -1292,
    "start_time": "2022-02-10T18:50:40.774Z"
   },
   {
    "duration": -1294,
    "start_time": "2022-02-10T18:50:40.777Z"
   },
   {
    "duration": -1295,
    "start_time": "2022-02-10T18:50:40.780Z"
   },
   {
    "duration": -1299,
    "start_time": "2022-02-10T18:50:40.785Z"
   },
   {
    "duration": -1301,
    "start_time": "2022-02-10T18:50:40.788Z"
   },
   {
    "duration": -1302,
    "start_time": "2022-02-10T18:50:40.791Z"
   },
   {
    "duration": -1303,
    "start_time": "2022-02-10T18:50:40.793Z"
   },
   {
    "duration": -1377,
    "start_time": "2022-02-10T18:50:40.868Z"
   },
   {
    "duration": -1394,
    "start_time": "2022-02-10T18:50:40.887Z"
   },
   {
    "duration": -1396,
    "start_time": "2022-02-10T18:50:40.890Z"
   },
   {
    "duration": -1397,
    "start_time": "2022-02-10T18:50:40.893Z"
   },
   {
    "duration": -1399,
    "start_time": "2022-02-10T18:50:40.896Z"
   },
   {
    "duration": -1399,
    "start_time": "2022-02-10T18:50:40.898Z"
   },
   {
    "duration": -1400,
    "start_time": "2022-02-10T18:50:40.901Z"
   },
   {
    "duration": -1402,
    "start_time": "2022-02-10T18:50:40.904Z"
   },
   {
    "duration": -1405,
    "start_time": "2022-02-10T18:50:40.908Z"
   },
   {
    "duration": -1406,
    "start_time": "2022-02-10T18:50:40.910Z"
   },
   {
    "duration": -1408,
    "start_time": "2022-02-10T18:50:40.914Z"
   },
   {
    "duration": -1409,
    "start_time": "2022-02-10T18:50:40.916Z"
   },
   {
    "duration": -1410,
    "start_time": "2022-02-10T18:50:40.919Z"
   },
   {
    "duration": -1348,
    "start_time": "2022-02-10T18:50:40.922Z"
   },
   {
    "duration": -1349,
    "start_time": "2022-02-10T18:50:40.925Z"
   },
   {
    "duration": -1351,
    "start_time": "2022-02-10T18:50:40.928Z"
   },
   {
    "duration": -1404,
    "start_time": "2022-02-10T18:50:40.983Z"
   },
   {
    "duration": -1406,
    "start_time": "2022-02-10T18:50:40.986Z"
   },
   {
    "duration": -1407,
    "start_time": "2022-02-10T18:50:40.989Z"
   },
   {
    "duration": -1408,
    "start_time": "2022-02-10T18:50:40.992Z"
   },
   {
    "duration": -1410,
    "start_time": "2022-02-10T18:50:40.995Z"
   },
   {
    "duration": -1412,
    "start_time": "2022-02-10T18:50:40.998Z"
   },
   {
    "duration": -1414,
    "start_time": "2022-02-10T18:50:41.001Z"
   },
   {
    "duration": -1414,
    "start_time": "2022-02-10T18:50:41.003Z"
   },
   {
    "duration": 1483,
    "start_time": "2022-02-10T18:51:59.499Z"
   },
   {
    "duration": 836,
    "start_time": "2022-02-10T18:52:00.985Z"
   },
   {
    "duration": 79,
    "start_time": "2022-02-10T18:52:01.824Z"
   },
   {
    "duration": 95,
    "start_time": "2022-02-10T18:52:01.907Z"
   },
   {
    "duration": 77,
    "start_time": "2022-02-10T18:52:02.005Z"
   },
   {
    "duration": 104,
    "start_time": "2022-02-10T18:52:02.084Z"
   },
   {
    "duration": 82,
    "start_time": "2022-02-10T18:52:02.191Z"
   },
   {
    "duration": 133,
    "start_time": "2022-02-10T18:52:02.276Z"
   },
   {
    "duration": 79,
    "start_time": "2022-02-10T18:52:02.416Z"
   },
   {
    "duration": 6,
    "start_time": "2022-02-10T18:52:02.499Z"
   },
   {
    "duration": 91,
    "start_time": "2022-02-10T18:52:02.508Z"
   },
   {
    "duration": 95,
    "start_time": "2022-02-10T18:52:02.602Z"
   },
   {
    "duration": 29,
    "start_time": "2022-02-10T18:52:02.700Z"
   },
   {
    "duration": 10,
    "start_time": "2022-02-10T18:52:02.731Z"
   },
   {
    "duration": 43,
    "start_time": "2022-02-10T18:52:02.743Z"
   },
   {
    "duration": 17,
    "start_time": "2022-02-10T18:52:02.789Z"
   },
   {
    "duration": 13,
    "start_time": "2022-02-10T18:52:02.809Z"
   },
   {
    "duration": 51,
    "start_time": "2022-02-10T18:52:02.824Z"
   },
   {
    "duration": 6,
    "start_time": "2022-02-10T18:52:02.878Z"
   },
   {
    "duration": 8,
    "start_time": "2022-02-10T18:52:02.887Z"
   },
   {
    "duration": 16,
    "start_time": "2022-02-10T18:52:02.897Z"
   },
   {
    "duration": 59,
    "start_time": "2022-02-10T18:52:02.915Z"
   },
   {
    "duration": 29,
    "start_time": "2022-02-10T18:52:02.976Z"
   },
   {
    "duration": 20,
    "start_time": "2022-02-10T18:52:03.007Z"
   },
   {
    "duration": 69,
    "start_time": "2022-02-10T18:52:03.030Z"
   },
   {
    "duration": 42,
    "start_time": "2022-02-10T18:52:03.101Z"
   },
   {
    "duration": 31,
    "start_time": "2022-02-10T18:52:03.173Z"
   },
   {
    "duration": 28,
    "start_time": "2022-02-10T18:52:03.207Z"
   },
   {
    "duration": 35,
    "start_time": "2022-02-10T18:52:03.237Z"
   },
   {
    "duration": 5,
    "start_time": "2022-02-10T18:52:03.275Z"
   },
   {
    "duration": 21,
    "start_time": "2022-02-10T18:52:03.282Z"
   },
   {
    "duration": 18,
    "start_time": "2022-02-10T18:52:03.306Z"
   },
   {
    "duration": 116,
    "start_time": "2022-02-10T18:52:03.326Z"
   },
   {
    "duration": 30,
    "start_time": "2022-02-10T18:52:03.445Z"
   },
   {
    "duration": 25,
    "start_time": "2022-02-10T18:52:03.477Z"
   },
   {
    "duration": 29,
    "start_time": "2022-02-10T18:52:03.505Z"
   },
   {
    "duration": 19,
    "start_time": "2022-02-10T18:52:03.537Z"
   },
   {
    "duration": 16,
    "start_time": "2022-02-10T18:52:03.558Z"
   },
   {
    "duration": 135,
    "start_time": "2022-02-10T18:52:03.577Z"
   },
   {
    "duration": 9,
    "start_time": "2022-02-10T18:52:03.715Z"
   },
   {
    "duration": 64,
    "start_time": "2022-02-10T18:52:03.727Z"
   },
   {
    "duration": 1685,
    "start_time": "2022-02-10T18:52:03.794Z"
   },
   {
    "duration": 148,
    "start_time": "2022-02-10T18:52:05.482Z"
   },
   {
    "duration": 71,
    "start_time": "2022-02-10T18:52:05.633Z"
   },
   {
    "duration": 5,
    "start_time": "2022-02-10T18:52:05.707Z"
   },
   {
    "duration": 23,
    "start_time": "2022-02-10T18:52:05.715Z"
   },
   {
    "duration": 9,
    "start_time": "2022-02-10T18:52:05.740Z"
   },
   {
    "duration": 23,
    "start_time": "2022-02-10T18:52:05.751Z"
   },
   {
    "duration": 485,
    "start_time": "2022-02-10T18:52:05.777Z"
   },
   {
    "duration": 291,
    "start_time": "2022-02-10T18:52:06.265Z"
   },
   {
    "duration": 702,
    "start_time": "2022-02-10T18:52:06.559Z"
   },
   {
    "duration": 377,
    "start_time": "2022-02-10T18:52:07.263Z"
   },
   {
    "duration": 381,
    "start_time": "2022-02-10T18:52:07.643Z"
   },
   {
    "duration": 14,
    "start_time": "2022-02-10T18:52:08.027Z"
   },
   {
    "duration": 27,
    "start_time": "2022-02-10T18:52:08.044Z"
   },
   {
    "duration": 7,
    "start_time": "2022-02-10T18:52:08.073Z"
   },
   {
    "duration": 329,
    "start_time": "2022-02-10T18:52:08.082Z"
   },
   {
    "duration": 300,
    "start_time": "2022-02-10T18:52:08.413Z"
   },
   {
    "duration": 641,
    "start_time": "2022-02-10T18:52:08.716Z"
   },
   {
    "duration": 370,
    "start_time": "2022-02-10T18:52:09.360Z"
   },
   {
    "duration": 378,
    "start_time": "2022-02-10T18:52:09.732Z"
   },
   {
    "duration": 12,
    "start_time": "2022-02-10T18:52:10.113Z"
   },
   {
    "duration": 5,
    "start_time": "2022-02-10T18:52:10.128Z"
   },
   {
    "duration": 5,
    "start_time": "2022-02-10T18:52:10.135Z"
   },
   {
    "duration": 605,
    "start_time": "2022-02-10T18:52:10.170Z"
   },
   {
    "duration": 545,
    "start_time": "2022-02-10T18:52:10.777Z"
   },
   {
    "duration": 728,
    "start_time": "2022-02-10T18:52:11.325Z"
   },
   {
    "duration": 383,
    "start_time": "2022-02-10T18:52:12.056Z"
   },
   {
    "duration": 479,
    "start_time": "2022-02-10T18:52:12.442Z"
   },
   {
    "duration": 64,
    "start_time": "2022-02-10T18:52:12.924Z"
   },
   {
    "duration": 11,
    "start_time": "2022-02-10T18:52:12.990Z"
   },
   {
    "duration": 26,
    "start_time": "2022-02-10T18:52:13.003Z"
   },
   {
    "duration": 2489,
    "start_time": "2022-02-10T18:52:13.031Z"
   },
   {
    "duration": 21,
    "start_time": "2022-02-10T18:52:15.523Z"
   },
   {
    "duration": 40,
    "start_time": "2022-02-10T18:52:15.547Z"
   },
   {
    "duration": 84,
    "start_time": "2022-02-10T18:56:32.266Z"
   },
   {
    "duration": 8,
    "start_time": "2022-02-10T18:57:02.469Z"
   },
   {
    "duration": 6,
    "start_time": "2022-02-10T18:57:25.173Z"
   },
   {
    "duration": 254,
    "start_time": "2022-02-10T18:58:35.716Z"
   },
   {
    "duration": 6,
    "start_time": "2022-02-10T19:05:21.386Z"
   },
   {
    "duration": 6623,
    "start_time": "2022-02-10T19:06:27.377Z"
   },
   {
    "duration": 6626,
    "start_time": "2022-02-10T19:07:02.051Z"
   },
   {
    "duration": 6366,
    "start_time": "2022-02-10T19:07:25.899Z"
   },
   {
    "duration": 1658,
    "start_time": "2022-02-10T19:07:44.990Z"
   },
   {
    "duration": 1190,
    "start_time": "2022-02-10T19:07:46.651Z"
   },
   {
    "duration": 95,
    "start_time": "2022-02-10T19:07:47.845Z"
   },
   {
    "duration": 133,
    "start_time": "2022-02-10T19:07:47.943Z"
   },
   {
    "duration": 89,
    "start_time": "2022-02-10T19:07:48.080Z"
   },
   {
    "duration": 67,
    "start_time": "2022-02-10T19:07:48.172Z"
   },
   {
    "duration": 50,
    "start_time": "2022-02-10T19:07:48.270Z"
   },
   {
    "duration": 94,
    "start_time": "2022-02-10T19:07:48.323Z"
   },
   {
    "duration": 61,
    "start_time": "2022-02-10T19:07:48.421Z"
   },
   {
    "duration": 9,
    "start_time": "2022-02-10T19:07:48.486Z"
   },
   {
    "duration": 18,
    "start_time": "2022-02-10T19:07:48.498Z"
   },
   {
    "duration": 73,
    "start_time": "2022-02-10T19:07:48.518Z"
   },
   {
    "duration": 77,
    "start_time": "2022-02-10T19:07:48.593Z"
   },
   {
    "duration": 28,
    "start_time": "2022-02-10T19:07:48.673Z"
   },
   {
    "duration": 11,
    "start_time": "2022-02-10T19:07:48.703Z"
   },
   {
    "duration": 27,
    "start_time": "2022-02-10T19:07:48.716Z"
   },
   {
    "duration": 16,
    "start_time": "2022-02-10T19:07:48.768Z"
   },
   {
    "duration": 14,
    "start_time": "2022-02-10T19:07:48.787Z"
   },
   {
    "duration": 10,
    "start_time": "2022-02-10T19:07:48.803Z"
   },
   {
    "duration": 12,
    "start_time": "2022-02-10T19:07:48.815Z"
   },
   {
    "duration": 41,
    "start_time": "2022-02-10T19:07:48.830Z"
   },
   {
    "duration": 20,
    "start_time": "2022-02-10T19:07:48.873Z"
   },
   {
    "duration": 18,
    "start_time": "2022-02-10T19:07:48.896Z"
   },
   {
    "duration": 59,
    "start_time": "2022-02-10T19:07:48.917Z"
   },
   {
    "duration": 23,
    "start_time": "2022-02-10T19:07:48.978Z"
   },
   {
    "duration": 69,
    "start_time": "2022-02-10T19:07:49.004Z"
   },
   {
    "duration": 42,
    "start_time": "2022-02-10T19:07:49.082Z"
   },
   {
    "duration": 54,
    "start_time": "2022-02-10T19:07:49.128Z"
   },
   {
    "duration": 29,
    "start_time": "2022-02-10T19:07:49.184Z"
   },
   {
    "duration": 10,
    "start_time": "2022-02-10T19:07:49.215Z"
   },
   {
    "duration": 14,
    "start_time": "2022-02-10T19:07:49.227Z"
   },
   {
    "duration": 42,
    "start_time": "2022-02-10T19:07:49.244Z"
   },
   {
    "duration": 32,
    "start_time": "2022-02-10T19:07:49.288Z"
   },
   {
    "duration": 89,
    "start_time": "2022-02-10T19:07:49.322Z"
   },
   {
    "duration": 9,
    "start_time": "2022-02-10T19:07:49.413Z"
   },
   {
    "duration": 22,
    "start_time": "2022-02-10T19:07:49.424Z"
   },
   {
    "duration": 28,
    "start_time": "2022-02-10T19:07:49.448Z"
   },
   {
    "duration": 17,
    "start_time": "2022-02-10T19:07:49.479Z"
   },
   {
    "duration": 17,
    "start_time": "2022-02-10T19:07:49.499Z"
   },
   {
    "duration": 136,
    "start_time": "2022-02-10T19:07:49.519Z"
   },
   {
    "duration": 16,
    "start_time": "2022-02-10T19:07:49.658Z"
   },
   {
    "duration": 71,
    "start_time": "2022-02-10T19:07:49.677Z"
   },
   {
    "duration": 1627,
    "start_time": "2022-02-10T19:07:49.751Z"
   },
   {
    "duration": 137,
    "start_time": "2022-02-10T19:07:51.380Z"
   },
   {
    "duration": 76,
    "start_time": "2022-02-10T19:07:51.519Z"
   },
   {
    "duration": 5,
    "start_time": "2022-02-10T19:07:51.598Z"
   },
   {
    "duration": 12,
    "start_time": "2022-02-10T19:07:51.605Z"
   },
   {
    "duration": 5,
    "start_time": "2022-02-10T19:07:51.620Z"
   },
   {
    "duration": 9,
    "start_time": "2022-02-10T19:07:51.627Z"
   },
   {
    "duration": 484,
    "start_time": "2022-02-10T19:07:51.638Z"
   },
   {
    "duration": 298,
    "start_time": "2022-02-10T19:07:52.124Z"
   },
   {
    "duration": 715,
    "start_time": "2022-02-10T19:07:52.424Z"
   },
   {
    "duration": 375,
    "start_time": "2022-02-10T19:07:53.141Z"
   },
   {
    "duration": 386,
    "start_time": "2022-02-10T19:07:53.518Z"
   },
   {
    "duration": 13,
    "start_time": "2022-02-10T19:07:53.906Z"
   },
   {
    "duration": 7,
    "start_time": "2022-02-10T19:07:53.921Z"
   },
   {
    "duration": 41,
    "start_time": "2022-02-10T19:07:53.930Z"
   },
   {
    "duration": 300,
    "start_time": "2022-02-10T19:07:53.973Z"
   },
   {
    "duration": 322,
    "start_time": "2022-02-10T19:07:54.275Z"
   },
   {
    "duration": 655,
    "start_time": "2022-02-10T19:07:54.601Z"
   },
   {
    "duration": 370,
    "start_time": "2022-02-10T19:07:55.258Z"
   },
   {
    "duration": 401,
    "start_time": "2022-02-10T19:07:55.631Z"
   },
   {
    "duration": 15,
    "start_time": "2022-02-10T19:07:56.036Z"
   },
   {
    "duration": 7,
    "start_time": "2022-02-10T19:07:56.069Z"
   },
   {
    "duration": 8,
    "start_time": "2022-02-10T19:07:56.079Z"
   },
   {
    "duration": 584,
    "start_time": "2022-02-10T19:07:56.089Z"
   },
   {
    "duration": 548,
    "start_time": "2022-02-10T19:07:56.675Z"
   },
   {
    "duration": 726,
    "start_time": "2022-02-10T19:07:57.225Z"
   },
   {
    "duration": 499,
    "start_time": "2022-02-10T19:07:57.954Z"
   },
   {
    "duration": 484,
    "start_time": "2022-02-10T19:07:58.456Z"
   },
   {
    "duration": 58,
    "start_time": "2022-02-10T19:07:58.942Z"
   },
   {
    "duration": 9,
    "start_time": "2022-02-10T19:07:59.002Z"
   },
   {
    "duration": 27,
    "start_time": "2022-02-10T19:07:59.014Z"
   },
   {
    "duration": 2478,
    "start_time": "2022-02-10T19:07:59.070Z"
   },
   {
    "duration": 34,
    "start_time": "2022-02-10T19:08:01.550Z"
   },
   {
    "duration": 26,
    "start_time": "2022-02-10T19:08:01.586Z"
   },
   {
    "duration": 6533,
    "start_time": "2022-02-10T19:11:33.708Z"
   },
   {
    "duration": 277,
    "start_time": "2022-02-10T19:12:18.034Z"
   },
   {
    "duration": 6892,
    "start_time": "2022-02-10T19:12:42.289Z"
   },
   {
    "duration": 1470,
    "start_time": "2022-02-10T19:13:57.308Z"
   },
   {
    "duration": 829,
    "start_time": "2022-02-10T19:13:58.781Z"
   },
   {
    "duration": 71,
    "start_time": "2022-02-10T19:13:59.613Z"
   },
   {
    "duration": 60,
    "start_time": "2022-02-10T19:13:59.687Z"
   },
   {
    "duration": 44,
    "start_time": "2022-02-10T19:13:59.771Z"
   },
   {
    "duration": 100,
    "start_time": "2022-02-10T19:13:59.817Z"
   },
   {
    "duration": 79,
    "start_time": "2022-02-10T19:13:59.919Z"
   },
   {
    "duration": 90,
    "start_time": "2022-02-10T19:14:00.000Z"
   },
   {
    "duration": 53,
    "start_time": "2022-02-10T19:14:00.094Z"
   },
   {
    "duration": 26,
    "start_time": "2022-02-10T19:14:00.150Z"
   },
   {
    "duration": 9,
    "start_time": "2022-02-10T19:14:00.179Z"
   },
   {
    "duration": 61,
    "start_time": "2022-02-10T19:14:00.190Z"
   },
   {
    "duration": 80,
    "start_time": "2022-02-10T19:14:00.253Z"
   },
   {
    "duration": 62,
    "start_time": "2022-02-10T19:14:00.335Z"
   },
   {
    "duration": 14,
    "start_time": "2022-02-10T19:14:00.400Z"
   },
   {
    "duration": 52,
    "start_time": "2022-02-10T19:14:00.417Z"
   },
   {
    "duration": 23,
    "start_time": "2022-02-10T19:14:00.473Z"
   },
   {
    "duration": 19,
    "start_time": "2022-02-10T19:14:00.499Z"
   },
   {
    "duration": 11,
    "start_time": "2022-02-10T19:14:00.522Z"
   },
   {
    "duration": 8,
    "start_time": "2022-02-10T19:14:00.571Z"
   },
   {
    "duration": 16,
    "start_time": "2022-02-10T19:14:00.582Z"
   },
   {
    "duration": 25,
    "start_time": "2022-02-10T19:14:00.601Z"
   },
   {
    "duration": 43,
    "start_time": "2022-02-10T19:14:00.630Z"
   },
   {
    "duration": 30,
    "start_time": "2022-02-10T19:14:00.675Z"
   },
   {
    "duration": 21,
    "start_time": "2022-02-10T19:14:00.707Z"
   },
   {
    "duration": 74,
    "start_time": "2022-02-10T19:14:00.730Z"
   },
   {
    "duration": 73,
    "start_time": "2022-02-10T19:14:00.811Z"
   },
   {
    "duration": 31,
    "start_time": "2022-02-10T19:14:00.889Z"
   },
   {
    "duration": 63,
    "start_time": "2022-02-10T19:14:00.923Z"
   },
   {
    "duration": 12,
    "start_time": "2022-02-10T19:14:00.989Z"
   },
   {
    "duration": 9,
    "start_time": "2022-02-10T19:14:01.003Z"
   },
   {
    "duration": 33,
    "start_time": "2022-02-10T19:14:01.014Z"
   },
   {
    "duration": 25,
    "start_time": "2022-02-10T19:14:01.072Z"
   },
   {
    "duration": 127,
    "start_time": "2022-02-10T19:14:01.100Z"
   },
   {
    "duration": 11,
    "start_time": "2022-02-10T19:14:01.230Z"
   },
   {
    "duration": 30,
    "start_time": "2022-02-10T19:14:01.244Z"
   },
   {
    "duration": 11,
    "start_time": "2022-02-10T19:14:01.278Z"
   },
   {
    "duration": 15,
    "start_time": "2022-02-10T19:14:01.292Z"
   },
   {
    "duration": 11,
    "start_time": "2022-02-10T19:14:01.310Z"
   },
   {
    "duration": 151,
    "start_time": "2022-02-10T19:14:01.323Z"
   },
   {
    "duration": 8,
    "start_time": "2022-02-10T19:14:01.477Z"
   },
   {
    "duration": 53,
    "start_time": "2022-02-10T19:14:01.487Z"
   },
   {
    "duration": 1699,
    "start_time": "2022-02-10T19:14:01.543Z"
   },
   {
    "duration": 137,
    "start_time": "2022-02-10T19:14:03.245Z"
   },
   {
    "duration": 53,
    "start_time": "2022-02-10T19:14:03.384Z"
   },
   {
    "duration": 29,
    "start_time": "2022-02-10T19:14:03.440Z"
   },
   {
    "duration": 16,
    "start_time": "2022-02-10T19:14:03.472Z"
   },
   {
    "duration": 16,
    "start_time": "2022-02-10T19:14:03.490Z"
   },
   {
    "duration": 23,
    "start_time": "2022-02-10T19:14:03.508Z"
   },
   {
    "duration": 468,
    "start_time": "2022-02-10T19:14:03.533Z"
   },
   {
    "duration": 300,
    "start_time": "2022-02-10T19:14:04.004Z"
   },
   {
    "duration": 708,
    "start_time": "2022-02-10T19:14:04.307Z"
   },
   {
    "duration": 375,
    "start_time": "2022-02-10T19:14:05.017Z"
   },
   {
    "duration": 374,
    "start_time": "2022-02-10T19:14:05.395Z"
   },
   {
    "duration": 13,
    "start_time": "2022-02-10T19:14:05.772Z"
   },
   {
    "duration": 5,
    "start_time": "2022-02-10T19:14:05.788Z"
   },
   {
    "duration": 5,
    "start_time": "2022-02-10T19:14:05.795Z"
   },
   {
    "duration": 317,
    "start_time": "2022-02-10T19:14:05.802Z"
   },
   {
    "duration": 306,
    "start_time": "2022-02-10T19:14:06.122Z"
   },
   {
    "duration": 641,
    "start_time": "2022-02-10T19:14:06.431Z"
   },
   {
    "duration": 540,
    "start_time": "2022-02-10T19:14:07.075Z"
   },
   {
    "duration": 551,
    "start_time": "2022-02-10T19:14:07.618Z"
   },
   {
    "duration": 14,
    "start_time": "2022-02-10T19:14:08.172Z"
   },
   {
    "duration": 6,
    "start_time": "2022-02-10T19:14:08.189Z"
   },
   {
    "duration": 7,
    "start_time": "2022-02-10T19:14:08.198Z"
   },
   {
    "duration": 573,
    "start_time": "2022-02-10T19:14:08.209Z"
   },
   {
    "duration": 735,
    "start_time": "2022-02-10T19:14:08.784Z"
   },
   {
    "duration": 740,
    "start_time": "2022-02-10T19:14:09.522Z"
   },
   {
    "duration": 594,
    "start_time": "2022-02-10T19:14:10.265Z"
   },
   {
    "duration": 627,
    "start_time": "2022-02-10T19:14:10.869Z"
   },
   {
    "duration": 41,
    "start_time": "2022-02-10T19:14:11.498Z"
   },
   {
    "duration": 30,
    "start_time": "2022-02-10T19:14:11.541Z"
   },
   {
    "duration": 27,
    "start_time": "2022-02-10T19:14:11.573Z"
   },
   {
    "duration": 3538,
    "start_time": "2022-02-10T19:14:11.604Z"
   },
   {
    "duration": 41,
    "start_time": "2022-02-10T19:14:15.146Z"
   },
   {
    "duration": 28,
    "start_time": "2022-02-10T19:14:15.190Z"
   },
   {
    "duration": 1611,
    "start_time": "2022-02-10T19:33:49.955Z"
   },
   {
    "duration": 893,
    "start_time": "2022-02-10T19:33:51.571Z"
   },
   {
    "duration": 114,
    "start_time": "2022-02-10T19:33:52.469Z"
   },
   {
    "duration": 83,
    "start_time": "2022-02-10T19:33:52.586Z"
   },
   {
    "duration": 45,
    "start_time": "2022-02-10T19:33:52.672Z"
   },
   {
    "duration": 102,
    "start_time": "2022-02-10T19:33:52.719Z"
   },
   {
    "duration": 77,
    "start_time": "2022-02-10T19:33:52.824Z"
   },
   {
    "duration": 95,
    "start_time": "2022-02-10T19:33:52.904Z"
   },
   {
    "duration": 53,
    "start_time": "2022-02-10T19:33:53.003Z"
   },
   {
    "duration": 17,
    "start_time": "2022-02-10T19:33:53.059Z"
   },
   {
    "duration": 5,
    "start_time": "2022-02-10T19:33:53.079Z"
   },
   {
    "duration": 85,
    "start_time": "2022-02-10T19:33:53.086Z"
   },
   {
    "duration": 62,
    "start_time": "2022-02-10T19:33:53.174Z"
   },
   {
    "duration": 46,
    "start_time": "2022-02-10T19:33:53.239Z"
   },
   {
    "duration": 10,
    "start_time": "2022-02-10T19:33:53.287Z"
   },
   {
    "duration": 20,
    "start_time": "2022-02-10T19:33:53.299Z"
   },
   {
    "duration": 47,
    "start_time": "2022-02-10T19:33:53.322Z"
   },
   {
    "duration": 13,
    "start_time": "2022-02-10T19:33:53.372Z"
   },
   {
    "duration": 8,
    "start_time": "2022-02-10T19:33:53.387Z"
   },
   {
    "duration": 7,
    "start_time": "2022-02-10T19:33:53.399Z"
   },
   {
    "duration": 7,
    "start_time": "2022-02-10T19:33:53.408Z"
   },
   {
    "duration": 61,
    "start_time": "2022-02-10T19:33:53.417Z"
   },
   {
    "duration": 14,
    "start_time": "2022-02-10T19:33:53.480Z"
   },
   {
    "duration": 28,
    "start_time": "2022-02-10T19:33:53.496Z"
   },
   {
    "duration": 56,
    "start_time": "2022-02-10T19:33:53.527Z"
   },
   {
    "duration": 42,
    "start_time": "2022-02-10T19:33:53.585Z"
   },
   {
    "duration": 65,
    "start_time": "2022-02-10T19:33:53.634Z"
   },
   {
    "duration": 31,
    "start_time": "2022-02-10T19:33:53.703Z"
   },
   {
    "duration": 52,
    "start_time": "2022-02-10T19:33:53.737Z"
   },
   {
    "duration": 11,
    "start_time": "2022-02-10T19:33:53.791Z"
   },
   {
    "duration": 14,
    "start_time": "2022-02-10T19:33:53.804Z"
   },
   {
    "duration": 21,
    "start_time": "2022-02-10T19:33:53.820Z"
   },
   {
    "duration": 41,
    "start_time": "2022-02-10T19:33:53.843Z"
   },
   {
    "duration": 90,
    "start_time": "2022-02-10T19:33:53.887Z"
   },
   {
    "duration": 8,
    "start_time": "2022-02-10T19:33:53.980Z"
   },
   {
    "duration": 22,
    "start_time": "2022-02-10T19:33:53.990Z"
   },
   {
    "duration": 20,
    "start_time": "2022-02-10T19:33:54.015Z"
   },
   {
    "duration": 29,
    "start_time": "2022-02-10T19:33:54.037Z"
   },
   {
    "duration": 21,
    "start_time": "2022-02-10T19:33:54.069Z"
   },
   {
    "duration": 136,
    "start_time": "2022-02-10T19:33:54.093Z"
   },
   {
    "duration": 8,
    "start_time": "2022-02-10T19:33:54.231Z"
   },
   {
    "duration": 68,
    "start_time": "2022-02-10T19:33:54.241Z"
   },
   {
    "duration": 1690,
    "start_time": "2022-02-10T19:33:54.311Z"
   },
   {
    "duration": 151,
    "start_time": "2022-02-10T19:33:56.003Z"
   },
   {
    "duration": 62,
    "start_time": "2022-02-10T19:33:56.157Z"
   },
   {
    "duration": 4,
    "start_time": "2022-02-10T19:33:56.222Z"
   },
   {
    "duration": 13,
    "start_time": "2022-02-10T19:33:56.229Z"
   },
   {
    "duration": 7,
    "start_time": "2022-02-10T19:33:56.271Z"
   },
   {
    "duration": 7,
    "start_time": "2022-02-10T19:33:56.281Z"
   },
   {
    "duration": 495,
    "start_time": "2022-02-10T19:33:56.291Z"
   },
   {
    "duration": 305,
    "start_time": "2022-02-10T19:33:56.789Z"
   },
   {
    "duration": 723,
    "start_time": "2022-02-10T19:33:57.096Z"
   },
   {
    "duration": 390,
    "start_time": "2022-02-10T19:33:57.822Z"
   },
   {
    "duration": 384,
    "start_time": "2022-02-10T19:33:58.214Z"
   },
   {
    "duration": 12,
    "start_time": "2022-02-10T19:33:58.601Z"
   },
   {
    "duration": 8,
    "start_time": "2022-02-10T19:33:58.616Z"
   },
   {
    "duration": 15,
    "start_time": "2022-02-10T19:33:58.626Z"
   },
   {
    "duration": 344,
    "start_time": "2022-02-10T19:33:58.643Z"
   },
   {
    "duration": 301,
    "start_time": "2022-02-10T19:33:58.990Z"
   },
   {
    "duration": 652,
    "start_time": "2022-02-10T19:33:59.294Z"
   },
   {
    "duration": 387,
    "start_time": "2022-02-10T19:33:59.948Z"
   },
   {
    "duration": 397,
    "start_time": "2022-02-10T19:34:00.337Z"
   },
   {
    "duration": 12,
    "start_time": "2022-02-10T19:34:00.736Z"
   },
   {
    "duration": 22,
    "start_time": "2022-02-10T19:34:00.751Z"
   },
   {
    "duration": 13,
    "start_time": "2022-02-10T19:34:00.776Z"
   },
   {
    "duration": 579,
    "start_time": "2022-02-10T19:34:00.792Z"
   },
   {
    "duration": 565,
    "start_time": "2022-02-10T19:34:01.374Z"
   },
   {
    "duration": 720,
    "start_time": "2022-02-10T19:34:01.941Z"
   },
   {
    "duration": 398,
    "start_time": "2022-02-10T19:34:02.664Z"
   },
   {
    "duration": 484,
    "start_time": "2022-02-10T19:34:03.068Z"
   },
   {
    "duration": 49,
    "start_time": "2022-02-10T19:34:03.554Z"
   },
   {
    "duration": 10,
    "start_time": "2022-02-10T19:34:03.606Z"
   },
   {
    "duration": 60,
    "start_time": "2022-02-10T19:34:03.619Z"
   },
   {
    "duration": 2366,
    "start_time": "2022-02-10T19:34:03.682Z"
   },
   {
    "duration": 32,
    "start_time": "2022-02-10T19:34:06.050Z"
   },
   {
    "duration": 21,
    "start_time": "2022-02-10T19:34:06.084Z"
   },
   {
    "duration": 1532,
    "start_time": "2022-02-10T19:35:53.529Z"
   },
   {
    "duration": 878,
    "start_time": "2022-02-10T19:35:55.064Z"
   },
   {
    "duration": 75,
    "start_time": "2022-02-10T19:35:55.946Z"
   },
   {
    "duration": 82,
    "start_time": "2022-02-10T19:35:56.024Z"
   },
   {
    "duration": 72,
    "start_time": "2022-02-10T19:35:56.109Z"
   },
   {
    "duration": 97,
    "start_time": "2022-02-10T19:35:56.185Z"
   },
   {
    "duration": 51,
    "start_time": "2022-02-10T19:35:56.285Z"
   },
   {
    "duration": 95,
    "start_time": "2022-02-10T19:35:56.338Z"
   },
   {
    "duration": 69,
    "start_time": "2022-02-10T19:35:56.437Z"
   },
   {
    "duration": 8,
    "start_time": "2022-02-10T19:35:56.509Z"
   },
   {
    "duration": 8,
    "start_time": "2022-02-10T19:35:56.519Z"
   },
   {
    "duration": 77,
    "start_time": "2022-02-10T19:35:56.530Z"
   },
   {
    "duration": 74,
    "start_time": "2022-02-10T19:35:56.609Z"
   },
   {
    "duration": 26,
    "start_time": "2022-02-10T19:35:56.685Z"
   },
   {
    "duration": 10,
    "start_time": "2022-02-10T19:35:56.714Z"
   },
   {
    "duration": 45,
    "start_time": "2022-02-10T19:35:56.726Z"
   },
   {
    "duration": 17,
    "start_time": "2022-02-10T19:35:56.773Z"
   },
   {
    "duration": 13,
    "start_time": "2022-02-10T19:35:56.792Z"
   },
   {
    "duration": 9,
    "start_time": "2022-02-10T19:35:56.807Z"
   },
   {
    "duration": 7,
    "start_time": "2022-02-10T19:35:56.818Z"
   },
   {
    "duration": 8,
    "start_time": "2022-02-10T19:35:56.870Z"
   },
   {
    "duration": 18,
    "start_time": "2022-02-10T19:35:56.881Z"
   },
   {
    "duration": 15,
    "start_time": "2022-02-10T19:35:56.902Z"
   },
   {
    "duration": 75,
    "start_time": "2022-02-10T19:35:56.920Z"
   },
   {
    "duration": 21,
    "start_time": "2022-02-10T19:35:56.997Z"
   },
   {
    "duration": 67,
    "start_time": "2022-02-10T19:35:57.020Z"
   },
   {
    "duration": 41,
    "start_time": "2022-02-10T19:35:57.094Z"
   },
   {
    "duration": 49,
    "start_time": "2022-02-10T19:35:57.139Z"
   },
   {
    "duration": 26,
    "start_time": "2022-02-10T19:35:57.191Z"
   },
   {
    "duration": 9,
    "start_time": "2022-02-10T19:35:57.220Z"
   },
   {
    "duration": 5,
    "start_time": "2022-02-10T19:35:57.231Z"
   },
   {
    "duration": 46,
    "start_time": "2022-02-10T19:35:57.239Z"
   },
   {
    "duration": 18,
    "start_time": "2022-02-10T19:35:57.288Z"
   },
   {
    "duration": 113,
    "start_time": "2022-02-10T19:35:57.309Z"
   },
   {
    "duration": 7,
    "start_time": "2022-02-10T19:35:57.424Z"
   },
   {
    "duration": 12,
    "start_time": "2022-02-10T19:35:57.433Z"
   },
   {
    "duration": 27,
    "start_time": "2022-02-10T19:35:57.447Z"
   },
   {
    "duration": 13,
    "start_time": "2022-02-10T19:35:57.476Z"
   },
   {
    "duration": 8,
    "start_time": "2022-02-10T19:35:57.491Z"
   },
   {
    "duration": 148,
    "start_time": "2022-02-10T19:35:57.502Z"
   },
   {
    "duration": 7,
    "start_time": "2022-02-10T19:35:57.653Z"
   },
   {
    "duration": 51,
    "start_time": "2022-02-10T19:35:57.670Z"
   },
   {
    "duration": 1734,
    "start_time": "2022-02-10T19:35:57.723Z"
   },
   {
    "duration": 158,
    "start_time": "2022-02-10T19:35:59.459Z"
   },
   {
    "duration": 74,
    "start_time": "2022-02-10T19:35:59.619Z"
   },
   {
    "duration": 6,
    "start_time": "2022-02-10T19:35:59.695Z"
   },
   {
    "duration": 16,
    "start_time": "2022-02-10T19:35:59.703Z"
   },
   {
    "duration": 20,
    "start_time": "2022-02-10T19:35:59.722Z"
   },
   {
    "duration": 26,
    "start_time": "2022-02-10T19:35:59.745Z"
   },
   {
    "duration": 487,
    "start_time": "2022-02-10T19:35:59.773Z"
   },
   {
    "duration": 767,
    "start_time": "2022-02-10T19:36:00.262Z"
   },
   {
    "duration": 738,
    "start_time": "2022-02-10T19:36:01.031Z"
   },
   {
    "duration": 404,
    "start_time": "2022-02-10T19:36:01.771Z"
   },
   {
    "duration": 393,
    "start_time": "2022-02-10T19:36:02.179Z"
   },
   {
    "duration": 14,
    "start_time": "2022-02-10T19:36:02.576Z"
   },
   {
    "duration": 7,
    "start_time": "2022-02-10T19:36:02.593Z"
   },
   {
    "duration": 10,
    "start_time": "2022-02-10T19:36:02.603Z"
   },
   {
    "duration": 305,
    "start_time": "2022-02-10T19:36:02.616Z"
   },
   {
    "duration": 360,
    "start_time": "2022-02-10T19:36:02.924Z"
   },
   {
    "duration": 734,
    "start_time": "2022-02-10T19:36:03.287Z"
   },
   {
    "duration": 509,
    "start_time": "2022-02-10T19:36:04.024Z"
   },
   {
    "duration": 568,
    "start_time": "2022-02-10T19:36:04.535Z"
   },
   {
    "duration": 17,
    "start_time": "2022-02-10T19:36:05.106Z"
   },
   {
    "duration": 13,
    "start_time": "2022-02-10T19:36:05.126Z"
   },
   {
    "duration": 31,
    "start_time": "2022-02-10T19:36:05.141Z"
   },
   {
    "duration": 673,
    "start_time": "2022-02-10T19:36:05.175Z"
   },
   {
    "duration": 655,
    "start_time": "2022-02-10T19:36:05.851Z"
   },
   {
    "duration": 775,
    "start_time": "2022-02-10T19:36:06.508Z"
   },
   {
    "duration": 390,
    "start_time": "2022-02-10T19:36:07.286Z"
   },
   {
    "duration": 534,
    "start_time": "2022-02-10T19:36:07.679Z"
   },
   {
    "duration": 62,
    "start_time": "2022-02-10T19:36:08.216Z"
   },
   {
    "duration": 11,
    "start_time": "2022-02-10T19:36:08.281Z"
   },
   {
    "duration": 27,
    "start_time": "2022-02-10T19:36:08.295Z"
   },
   {
    "duration": 2445,
    "start_time": "2022-02-10T19:36:08.324Z"
   },
   {
    "duration": 20,
    "start_time": "2022-02-10T19:36:10.772Z"
   },
   {
    "duration": 21,
    "start_time": "2022-02-10T19:36:10.794Z"
   },
   {
    "duration": 5,
    "start_time": "2022-02-10T19:37:41.459Z"
   },
   {
    "duration": 1850,
    "start_time": "2022-02-10T19:37:49.449Z"
   },
   {
    "duration": 1900,
    "start_time": "2022-02-10T19:37:51.302Z"
   },
   {
    "duration": 76,
    "start_time": "2022-02-10T19:37:53.205Z"
   },
   {
    "duration": 95,
    "start_time": "2022-02-10T19:37:53.286Z"
   },
   {
    "duration": 48,
    "start_time": "2022-02-10T19:37:53.384Z"
   },
   {
    "duration": 69,
    "start_time": "2022-02-10T19:37:53.470Z"
   },
   {
    "duration": 57,
    "start_time": "2022-02-10T19:37:53.570Z"
   },
   {
    "duration": 94,
    "start_time": "2022-02-10T19:37:53.630Z"
   },
   {
    "duration": 69,
    "start_time": "2022-02-10T19:37:53.728Z"
   },
   {
    "duration": 8,
    "start_time": "2022-02-10T19:37:53.801Z"
   },
   {
    "duration": 6,
    "start_time": "2022-02-10T19:37:53.812Z"
   },
   {
    "duration": 88,
    "start_time": "2022-02-10T19:37:53.820Z"
   },
   {
    "duration": 72,
    "start_time": "2022-02-10T19:37:53.911Z"
   },
   {
    "duration": 34,
    "start_time": "2022-02-10T19:37:53.985Z"
   },
   {
    "duration": 12,
    "start_time": "2022-02-10T19:37:54.023Z"
   },
   {
    "duration": 45,
    "start_time": "2022-02-10T19:37:54.038Z"
   },
   {
    "duration": 19,
    "start_time": "2022-02-10T19:37:54.086Z"
   },
   {
    "duration": 16,
    "start_time": "2022-02-10T19:37:54.108Z"
   },
   {
    "duration": 49,
    "start_time": "2022-02-10T19:37:54.127Z"
   },
   {
    "duration": 6,
    "start_time": "2022-02-10T19:37:54.179Z"
   },
   {
    "duration": 12,
    "start_time": "2022-02-10T19:37:54.188Z"
   },
   {
    "duration": 19,
    "start_time": "2022-02-10T19:37:54.203Z"
   },
   {
    "duration": 54,
    "start_time": "2022-02-10T19:37:54.225Z"
   },
   {
    "duration": 31,
    "start_time": "2022-02-10T19:37:54.282Z"
   },
   {
    "duration": 26,
    "start_time": "2022-02-10T19:37:54.316Z"
   },
   {
    "duration": 46,
    "start_time": "2022-02-10T19:37:54.370Z"
   },
   {
    "duration": 68,
    "start_time": "2022-02-10T19:37:54.423Z"
   },
   {
    "duration": 38,
    "start_time": "2022-02-10T19:37:54.494Z"
   },
   {
    "duration": 54,
    "start_time": "2022-02-10T19:37:54.535Z"
   },
   {
    "duration": 23,
    "start_time": "2022-02-10T19:37:54.592Z"
   },
   {
    "duration": 8,
    "start_time": "2022-02-10T19:37:54.619Z"
   },
   {
    "duration": 51,
    "start_time": "2022-02-10T19:37:54.630Z"
   },
   {
    "duration": 25,
    "start_time": "2022-02-10T19:37:54.687Z"
   },
   {
    "duration": 111,
    "start_time": "2022-02-10T19:37:54.715Z"
   },
   {
    "duration": 8,
    "start_time": "2022-02-10T19:37:54.828Z"
   },
   {
    "duration": 5,
    "start_time": "2022-02-10T19:37:54.838Z"
   },
   {
    "duration": 11,
    "start_time": "2022-02-10T19:37:54.870Z"
   },
   {
    "duration": 14,
    "start_time": "2022-02-10T19:37:54.885Z"
   },
   {
    "duration": 9,
    "start_time": "2022-02-10T19:37:54.902Z"
   },
   {
    "duration": 171,
    "start_time": "2022-02-10T19:37:54.915Z"
   },
   {
    "duration": 10,
    "start_time": "2022-02-10T19:37:55.090Z"
   },
   {
    "duration": 72,
    "start_time": "2022-02-10T19:37:55.103Z"
   },
   {
    "duration": 2223,
    "start_time": "2022-02-10T19:37:55.179Z"
   },
   {
    "duration": 142,
    "start_time": "2022-02-10T19:37:57.405Z"
   },
   {
    "duration": 74,
    "start_time": "2022-02-10T19:37:57.549Z"
   },
   {
    "duration": 7,
    "start_time": "2022-02-10T19:37:57.627Z"
   },
   {
    "duration": 38,
    "start_time": "2022-02-10T19:37:57.637Z"
   },
   {
    "duration": 8,
    "start_time": "2022-02-10T19:37:57.679Z"
   },
   {
    "duration": 7,
    "start_time": "2022-02-10T19:37:57.690Z"
   },
   {
    "duration": 815,
    "start_time": "2022-02-10T19:37:57.700Z"
   },
   {
    "duration": 524,
    "start_time": "2022-02-10T19:37:58.519Z"
   },
   {
    "duration": 775,
    "start_time": "2022-02-10T19:37:59.046Z"
   },
   {
    "duration": 375,
    "start_time": "2022-02-10T19:37:59.823Z"
   },
   {
    "duration": 389,
    "start_time": "2022-02-10T19:38:00.202Z"
   },
   {
    "duration": 18,
    "start_time": "2022-02-10T19:38:00.593Z"
   },
   {
    "duration": 14,
    "start_time": "2022-02-10T19:38:00.614Z"
   },
   {
    "duration": 15,
    "start_time": "2022-02-10T19:38:00.630Z"
   },
   {
    "duration": 580,
    "start_time": "2022-02-10T19:38:00.648Z"
   },
   {
    "duration": 470,
    "start_time": "2022-02-10T19:38:01.231Z"
   },
   {
    "duration": 669,
    "start_time": "2022-02-10T19:38:01.704Z"
   },
   {
    "duration": 514,
    "start_time": "2022-02-10T19:38:02.376Z"
   },
   {
    "duration": 396,
    "start_time": "2022-02-10T19:38:02.892Z"
   },
   {
    "duration": 17,
    "start_time": "2022-02-10T19:38:03.291Z"
   },
   {
    "duration": 11,
    "start_time": "2022-02-10T19:38:03.311Z"
   },
   {
    "duration": 6,
    "start_time": "2022-02-10T19:38:03.325Z"
   },
   {
    "duration": 792,
    "start_time": "2022-02-10T19:38:03.370Z"
   },
   {
    "duration": 761,
    "start_time": "2022-02-10T19:38:04.164Z"
   },
   {
    "duration": 774,
    "start_time": "2022-02-10T19:38:04.928Z"
   },
   {
    "duration": 418,
    "start_time": "2022-02-10T19:38:05.705Z"
   },
   {
    "duration": 505,
    "start_time": "2022-02-10T19:38:06.126Z"
   },
   {
    "duration": 63,
    "start_time": "2022-02-10T19:38:06.634Z"
   },
   {
    "duration": 23,
    "start_time": "2022-02-10T19:38:06.700Z"
   },
   {
    "duration": 45,
    "start_time": "2022-02-10T19:38:06.726Z"
   },
   {
    "duration": 2590,
    "start_time": "2022-02-10T19:38:06.773Z"
   },
   {
    "duration": 24,
    "start_time": "2022-02-10T19:38:09.369Z"
   },
   {
    "duration": 30,
    "start_time": "2022-02-10T19:38:09.397Z"
   },
   {
    "duration": 1528,
    "start_time": "2022-02-10T19:40:36.058Z"
   },
   {
    "duration": 1025,
    "start_time": "2022-02-10T19:40:37.589Z"
   },
   {
    "duration": 74,
    "start_time": "2022-02-10T19:40:38.617Z"
   },
   {
    "duration": 75,
    "start_time": "2022-02-10T19:40:38.694Z"
   },
   {
    "duration": 46,
    "start_time": "2022-02-10T19:40:38.773Z"
   },
   {
    "duration": 99,
    "start_time": "2022-02-10T19:40:38.821Z"
   },
   {
    "duration": 82,
    "start_time": "2022-02-10T19:40:38.923Z"
   },
   {
    "duration": 94,
    "start_time": "2022-02-10T19:40:39.009Z"
   },
   {
    "duration": 63,
    "start_time": "2022-02-10T19:40:39.107Z"
   },
   {
    "duration": 9,
    "start_time": "2022-02-10T19:40:39.173Z"
   },
   {
    "duration": 8,
    "start_time": "2022-02-10T19:40:39.185Z"
   },
   {
    "duration": 85,
    "start_time": "2022-02-10T19:40:39.195Z"
   },
   {
    "duration": 69,
    "start_time": "2022-02-10T19:40:39.282Z"
   },
   {
    "duration": 28,
    "start_time": "2022-02-10T19:40:39.370Z"
   },
   {
    "duration": 11,
    "start_time": "2022-02-10T19:40:39.401Z"
   },
   {
    "duration": 21,
    "start_time": "2022-02-10T19:40:39.414Z"
   },
   {
    "duration": 17,
    "start_time": "2022-02-10T19:40:39.470Z"
   },
   {
    "duration": 13,
    "start_time": "2022-02-10T19:40:39.490Z"
   },
   {
    "duration": 21,
    "start_time": "2022-02-10T19:40:39.505Z"
   },
   {
    "duration": 24,
    "start_time": "2022-02-10T19:40:39.529Z"
   },
   {
    "duration": 7,
    "start_time": "2022-02-10T19:40:39.570Z"
   },
   {
    "duration": 42,
    "start_time": "2022-02-10T19:40:39.579Z"
   },
   {
    "duration": 18,
    "start_time": "2022-02-10T19:40:39.628Z"
   },
   {
    "duration": 49,
    "start_time": "2022-02-10T19:40:39.649Z"
   },
   {
    "duration": 20,
    "start_time": "2022-02-10T19:40:39.700Z"
   }
  ],
  "kernelspec": {
   "display_name": "Python 3",
   "language": "python",
   "name": "python3"
  },
  "language_info": {
   "codemirror_mode": {
    "name": "ipython",
    "version": 3
   },
   "file_extension": ".py",
   "mimetype": "text/x-python",
   "name": "python",
   "nbconvert_exporter": "python",
   "pygments_lexer": "ipython3",
   "version": "3.7.8"
  },
  "toc": {
   "base_numbering": 1,
   "nav_menu": {},
   "number_sections": true,
   "sideBar": true,
   "skip_h1_title": true,
   "title_cell": "Table of Contents",
   "title_sidebar": "Contents",
   "toc_cell": false,
   "toc_position": {},
   "toc_section_display": true,
   "toc_window_display": false
  }
 },
 "nbformat": 4,
 "nbformat_minor": 2
}
